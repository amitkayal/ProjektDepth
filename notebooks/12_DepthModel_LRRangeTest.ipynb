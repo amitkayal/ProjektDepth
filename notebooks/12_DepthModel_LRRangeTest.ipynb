{
  "nbformat": 4,
  "nbformat_minor": 0,
  "metadata": {
    "colab": {
      "name": "12-DepthModel-LRRangeTest.ipynb",
      "provenance": [],
      "collapsed_sections": [],
      "include_colab_link": true
    },
    "kernelspec": {
      "name": "python3",
      "display_name": "Python 3"
    },
    "accelerator": "GPU",
    "widgets": {
      "application/vnd.jupyter.widget-state+json": {
        "dd6cd180a5d44574aad5b2b815f02af4": {
          "model_module": "@jupyter-widgets/controls",
          "model_name": "HBoxModel",
          "state": {
            "_view_name": "HBoxView",
            "_dom_classes": [],
            "_model_name": "HBoxModel",
            "_view_module": "@jupyter-widgets/controls",
            "_model_module_version": "1.5.0",
            "_view_count": null,
            "_view_module_version": "1.5.0",
            "box_style": "",
            "layout": "IPY_MODEL_14ef31e9a972466e8a1751f907a1c279",
            "_model_module": "@jupyter-widgets/controls",
            "children": [
              "IPY_MODEL_8757f7e490224927a160986e2b5c118d",
              "IPY_MODEL_8ee0d7e18f954a5f811484d3aaea85be"
            ]
          }
        },
        "14ef31e9a972466e8a1751f907a1c279": {
          "model_module": "@jupyter-widgets/base",
          "model_name": "LayoutModel",
          "state": {
            "_view_name": "LayoutView",
            "grid_template_rows": null,
            "right": null,
            "justify_content": null,
            "_view_module": "@jupyter-widgets/base",
            "overflow": null,
            "_model_module_version": "1.2.0",
            "_view_count": null,
            "flex_flow": null,
            "width": null,
            "min_width": null,
            "border": null,
            "align_items": null,
            "bottom": null,
            "_model_module": "@jupyter-widgets/base",
            "top": null,
            "grid_column": null,
            "overflow_y": null,
            "overflow_x": null,
            "grid_auto_flow": null,
            "grid_area": null,
            "grid_template_columns": null,
            "flex": null,
            "_model_name": "LayoutModel",
            "justify_items": null,
            "grid_row": null,
            "max_height": null,
            "align_content": null,
            "visibility": null,
            "align_self": null,
            "height": null,
            "min_height": null,
            "padding": null,
            "grid_auto_rows": null,
            "grid_gap": null,
            "max_width": null,
            "order": null,
            "_view_module_version": "1.2.0",
            "grid_template_areas": null,
            "object_position": null,
            "object_fit": null,
            "grid_auto_columns": null,
            "margin": null,
            "display": null,
            "left": null
          }
        },
        "8757f7e490224927a160986e2b5c118d": {
          "model_module": "@jupyter-widgets/controls",
          "model_name": "FloatProgressModel",
          "state": {
            "_view_name": "ProgressView",
            "style": "IPY_MODEL_72d03c383e7048efa6e3d6ae923a704c",
            "_dom_classes": [],
            "description": "100%",
            "_model_name": "FloatProgressModel",
            "bar_style": "success",
            "max": 4,
            "_view_module": "@jupyter-widgets/controls",
            "_model_module_version": "1.5.0",
            "value": 4,
            "_view_count": null,
            "_view_module_version": "1.5.0",
            "orientation": "horizontal",
            "min": 0,
            "description_tooltip": null,
            "_model_module": "@jupyter-widgets/controls",
            "layout": "IPY_MODEL_74dbcc77fd7243e59276bca107e8f319"
          }
        },
        "8ee0d7e18f954a5f811484d3aaea85be": {
          "model_module": "@jupyter-widgets/controls",
          "model_name": "HTMLModel",
          "state": {
            "_view_name": "HTMLView",
            "style": "IPY_MODEL_908fd1179c544b78b7ae32fa3b8f29ca",
            "_dom_classes": [],
            "description": "",
            "_model_name": "HTMLModel",
            "placeholder": "​",
            "_view_module": "@jupyter-widgets/controls",
            "_model_module_version": "1.5.0",
            "value": " 4/4 [02:53&lt;00:00, 43.28s/it]",
            "_view_count": null,
            "_view_module_version": "1.5.0",
            "description_tooltip": null,
            "_model_module": "@jupyter-widgets/controls",
            "layout": "IPY_MODEL_30b1f6de1b6b49fd8f1850156adec582"
          }
        },
        "72d03c383e7048efa6e3d6ae923a704c": {
          "model_module": "@jupyter-widgets/controls",
          "model_name": "ProgressStyleModel",
          "state": {
            "_view_name": "StyleView",
            "_model_name": "ProgressStyleModel",
            "description_width": "initial",
            "_view_module": "@jupyter-widgets/base",
            "_model_module_version": "1.5.0",
            "_view_count": null,
            "_view_module_version": "1.2.0",
            "bar_color": null,
            "_model_module": "@jupyter-widgets/controls"
          }
        },
        "74dbcc77fd7243e59276bca107e8f319": {
          "model_module": "@jupyter-widgets/base",
          "model_name": "LayoutModel",
          "state": {
            "_view_name": "LayoutView",
            "grid_template_rows": null,
            "right": null,
            "justify_content": null,
            "_view_module": "@jupyter-widgets/base",
            "overflow": null,
            "_model_module_version": "1.2.0",
            "_view_count": null,
            "flex_flow": null,
            "width": null,
            "min_width": null,
            "border": null,
            "align_items": null,
            "bottom": null,
            "_model_module": "@jupyter-widgets/base",
            "top": null,
            "grid_column": null,
            "overflow_y": null,
            "overflow_x": null,
            "grid_auto_flow": null,
            "grid_area": null,
            "grid_template_columns": null,
            "flex": null,
            "_model_name": "LayoutModel",
            "justify_items": null,
            "grid_row": null,
            "max_height": null,
            "align_content": null,
            "visibility": null,
            "align_self": null,
            "height": null,
            "min_height": null,
            "padding": null,
            "grid_auto_rows": null,
            "grid_gap": null,
            "max_width": null,
            "order": null,
            "_view_module_version": "1.2.0",
            "grid_template_areas": null,
            "object_position": null,
            "object_fit": null,
            "grid_auto_columns": null,
            "margin": null,
            "display": null,
            "left": null
          }
        },
        "908fd1179c544b78b7ae32fa3b8f29ca": {
          "model_module": "@jupyter-widgets/controls",
          "model_name": "DescriptionStyleModel",
          "state": {
            "_view_name": "StyleView",
            "_model_name": "DescriptionStyleModel",
            "description_width": "",
            "_view_module": "@jupyter-widgets/base",
            "_model_module_version": "1.5.0",
            "_view_count": null,
            "_view_module_version": "1.2.0",
            "_model_module": "@jupyter-widgets/controls"
          }
        },
        "30b1f6de1b6b49fd8f1850156adec582": {
          "model_module": "@jupyter-widgets/base",
          "model_name": "LayoutModel",
          "state": {
            "_view_name": "LayoutView",
            "grid_template_rows": null,
            "right": null,
            "justify_content": null,
            "_view_module": "@jupyter-widgets/base",
            "overflow": null,
            "_model_module_version": "1.2.0",
            "_view_count": null,
            "flex_flow": null,
            "width": null,
            "min_width": null,
            "border": null,
            "align_items": null,
            "bottom": null,
            "_model_module": "@jupyter-widgets/base",
            "top": null,
            "grid_column": null,
            "overflow_y": null,
            "overflow_x": null,
            "grid_auto_flow": null,
            "grid_area": null,
            "grid_template_columns": null,
            "flex": null,
            "_model_name": "LayoutModel",
            "justify_items": null,
            "grid_row": null,
            "max_height": null,
            "align_content": null,
            "visibility": null,
            "align_self": null,
            "height": null,
            "min_height": null,
            "padding": null,
            "grid_auto_rows": null,
            "grid_gap": null,
            "max_width": null,
            "order": null,
            "_view_module_version": "1.2.0",
            "grid_template_areas": null,
            "object_position": null,
            "object_fit": null,
            "grid_auto_columns": null,
            "margin": null,
            "display": null,
            "left": null
          }
        },
        "3bd835dfcd104575bebafdc488a602f2": {
          "model_module": "@jupyter-widgets/controls",
          "model_name": "HBoxModel",
          "state": {
            "_view_name": "HBoxView",
            "_dom_classes": [],
            "_model_name": "HBoxModel",
            "_view_module": "@jupyter-widgets/controls",
            "_model_module_version": "1.5.0",
            "_view_count": null,
            "_view_module_version": "1.5.0",
            "box_style": "",
            "layout": "IPY_MODEL_93315491f722403694032cca9db3462e",
            "_model_module": "@jupyter-widgets/controls",
            "children": [
              "IPY_MODEL_7abcfab3274549d28bb6995c4543e8c2",
              "IPY_MODEL_78bfd7a079e9401e91ae54e58c180bab"
            ]
          }
        },
        "93315491f722403694032cca9db3462e": {
          "model_module": "@jupyter-widgets/base",
          "model_name": "LayoutModel",
          "state": {
            "_view_name": "LayoutView",
            "grid_template_rows": null,
            "right": null,
            "justify_content": null,
            "_view_module": "@jupyter-widgets/base",
            "overflow": null,
            "_model_module_version": "1.2.0",
            "_view_count": null,
            "flex_flow": null,
            "width": null,
            "min_width": null,
            "border": null,
            "align_items": null,
            "bottom": null,
            "_model_module": "@jupyter-widgets/base",
            "top": null,
            "grid_column": null,
            "overflow_y": null,
            "overflow_x": null,
            "grid_auto_flow": null,
            "grid_area": null,
            "grid_template_columns": null,
            "flex": null,
            "_model_name": "LayoutModel",
            "justify_items": null,
            "grid_row": null,
            "max_height": null,
            "align_content": null,
            "visibility": null,
            "align_self": null,
            "height": null,
            "min_height": null,
            "padding": null,
            "grid_auto_rows": null,
            "grid_gap": null,
            "max_width": null,
            "order": null,
            "_view_module_version": "1.2.0",
            "grid_template_areas": null,
            "object_position": null,
            "object_fit": null,
            "grid_auto_columns": null,
            "margin": null,
            "display": null,
            "left": null
          }
        },
        "7abcfab3274549d28bb6995c4543e8c2": {
          "model_module": "@jupyter-widgets/controls",
          "model_name": "FloatProgressModel",
          "state": {
            "_view_name": "ProgressView",
            "style": "IPY_MODEL_62f6ff89d85e4f0486b87db7c2d72e96",
            "_dom_classes": [],
            "description": " 86%",
            "_model_name": "FloatProgressModel",
            "bar_style": "danger",
            "max": 200,
            "_view_module": "@jupyter-widgets/controls",
            "_model_module_version": "1.5.0",
            "value": 171,
            "_view_count": null,
            "_view_module_version": "1.5.0",
            "orientation": "horizontal",
            "min": 0,
            "description_tooltip": null,
            "_model_module": "@jupyter-widgets/controls",
            "layout": "IPY_MODEL_a50a583fea55421996e954ae2da77558"
          }
        },
        "78bfd7a079e9401e91ae54e58c180bab": {
          "model_module": "@jupyter-widgets/controls",
          "model_name": "HTMLModel",
          "state": {
            "_view_name": "HTMLView",
            "style": "IPY_MODEL_ceadeab4443e451690b7d8b723e14215",
            "_dom_classes": [],
            "description": "",
            "_model_name": "HTMLModel",
            "placeholder": "​",
            "_view_module": "@jupyter-widgets/controls",
            "_model_module_version": "1.5.0",
            "value": " 171/200 [01:31&lt;00:15,  1.90it/s]",
            "_view_count": null,
            "_view_module_version": "1.5.0",
            "description_tooltip": null,
            "_model_module": "@jupyter-widgets/controls",
            "layout": "IPY_MODEL_83510d048233402e9b9da77467fff083"
          }
        },
        "62f6ff89d85e4f0486b87db7c2d72e96": {
          "model_module": "@jupyter-widgets/controls",
          "model_name": "ProgressStyleModel",
          "state": {
            "_view_name": "StyleView",
            "_model_name": "ProgressStyleModel",
            "description_width": "initial",
            "_view_module": "@jupyter-widgets/base",
            "_model_module_version": "1.5.0",
            "_view_count": null,
            "_view_module_version": "1.2.0",
            "bar_color": null,
            "_model_module": "@jupyter-widgets/controls"
          }
        },
        "a50a583fea55421996e954ae2da77558": {
          "model_module": "@jupyter-widgets/base",
          "model_name": "LayoutModel",
          "state": {
            "_view_name": "LayoutView",
            "grid_template_rows": null,
            "right": null,
            "justify_content": null,
            "_view_module": "@jupyter-widgets/base",
            "overflow": null,
            "_model_module_version": "1.2.0",
            "_view_count": null,
            "flex_flow": null,
            "width": null,
            "min_width": null,
            "border": null,
            "align_items": null,
            "bottom": null,
            "_model_module": "@jupyter-widgets/base",
            "top": null,
            "grid_column": null,
            "overflow_y": null,
            "overflow_x": null,
            "grid_auto_flow": null,
            "grid_area": null,
            "grid_template_columns": null,
            "flex": null,
            "_model_name": "LayoutModel",
            "justify_items": null,
            "grid_row": null,
            "max_height": null,
            "align_content": null,
            "visibility": null,
            "align_self": null,
            "height": null,
            "min_height": null,
            "padding": null,
            "grid_auto_rows": null,
            "grid_gap": null,
            "max_width": null,
            "order": null,
            "_view_module_version": "1.2.0",
            "grid_template_areas": null,
            "object_position": null,
            "object_fit": null,
            "grid_auto_columns": null,
            "margin": null,
            "display": null,
            "left": null
          }
        },
        "ceadeab4443e451690b7d8b723e14215": {
          "model_module": "@jupyter-widgets/controls",
          "model_name": "DescriptionStyleModel",
          "state": {
            "_view_name": "StyleView",
            "_model_name": "DescriptionStyleModel",
            "description_width": "",
            "_view_module": "@jupyter-widgets/base",
            "_model_module_version": "1.5.0",
            "_view_count": null,
            "_view_module_version": "1.2.0",
            "_model_module": "@jupyter-widgets/controls"
          }
        },
        "83510d048233402e9b9da77467fff083": {
          "model_module": "@jupyter-widgets/base",
          "model_name": "LayoutModel",
          "state": {
            "_view_name": "LayoutView",
            "grid_template_rows": null,
            "right": null,
            "justify_content": null,
            "_view_module": "@jupyter-widgets/base",
            "overflow": null,
            "_model_module_version": "1.2.0",
            "_view_count": null,
            "flex_flow": null,
            "width": null,
            "min_width": null,
            "border": null,
            "align_items": null,
            "bottom": null,
            "_model_module": "@jupyter-widgets/base",
            "top": null,
            "grid_column": null,
            "overflow_y": null,
            "overflow_x": null,
            "grid_auto_flow": null,
            "grid_area": null,
            "grid_template_columns": null,
            "flex": null,
            "_model_name": "LayoutModel",
            "justify_items": null,
            "grid_row": null,
            "max_height": null,
            "align_content": null,
            "visibility": null,
            "align_self": null,
            "height": null,
            "min_height": null,
            "padding": null,
            "grid_auto_rows": null,
            "grid_gap": null,
            "max_width": null,
            "order": null,
            "_view_module_version": "1.2.0",
            "grid_template_areas": null,
            "object_position": null,
            "object_fit": null,
            "grid_auto_columns": null,
            "margin": null,
            "display": null,
            "left": null
          }
        },
        "d3d8c37de34a4d6ca99ff0913e6758f5": {
          "model_module": "@jupyter-widgets/controls",
          "model_name": "HBoxModel",
          "state": {
            "_view_name": "HBoxView",
            "_dom_classes": [],
            "_model_name": "HBoxModel",
            "_view_module": "@jupyter-widgets/controls",
            "_model_module_version": "1.5.0",
            "_view_count": null,
            "_view_module_version": "1.5.0",
            "box_style": "",
            "layout": "IPY_MODEL_d1685f36e4414b8db4e92153218cd835",
            "_model_module": "@jupyter-widgets/controls",
            "children": [
              "IPY_MODEL_1ccc43aee9634db9a3e1a6295debf63c",
              "IPY_MODEL_f59dfb3a005f4fdc97c2010af1851d4c"
            ]
          }
        },
        "d1685f36e4414b8db4e92153218cd835": {
          "model_module": "@jupyter-widgets/base",
          "model_name": "LayoutModel",
          "state": {
            "_view_name": "LayoutView",
            "grid_template_rows": null,
            "right": null,
            "justify_content": null,
            "_view_module": "@jupyter-widgets/base",
            "overflow": null,
            "_model_module_version": "1.2.0",
            "_view_count": null,
            "flex_flow": "row wrap",
            "width": "100%",
            "min_width": null,
            "border": null,
            "align_items": null,
            "bottom": null,
            "_model_module": "@jupyter-widgets/base",
            "top": null,
            "grid_column": null,
            "overflow_y": null,
            "overflow_x": null,
            "grid_auto_flow": null,
            "grid_area": null,
            "grid_template_columns": null,
            "flex": null,
            "_model_name": "LayoutModel",
            "justify_items": null,
            "grid_row": null,
            "max_height": null,
            "align_content": null,
            "visibility": null,
            "align_self": null,
            "height": null,
            "min_height": null,
            "padding": null,
            "grid_auto_rows": null,
            "grid_gap": null,
            "max_width": null,
            "order": null,
            "_view_module_version": "1.2.0",
            "grid_template_areas": null,
            "object_position": null,
            "object_fit": null,
            "grid_auto_columns": null,
            "margin": null,
            "display": "inline-flex",
            "left": null
          }
        },
        "1ccc43aee9634db9a3e1a6295debf63c": {
          "model_module": "@jupyter-widgets/controls",
          "model_name": "FloatProgressModel",
          "state": {
            "_view_name": "ProgressView",
            "style": "IPY_MODEL_4c150d54d2a4421ba2ef37f43fc31623",
            "_dom_classes": [],
            "description": "loss=5.8537 seg_loss=5.4875 depth_loss=0.1831 batch_id=136: 100%",
            "_model_name": "FloatProgressModel",
            "bar_style": "success",
            "max": 137,
            "_view_module": "@jupyter-widgets/controls",
            "_model_module_version": "1.5.0",
            "value": 137,
            "_view_count": null,
            "_view_module_version": "1.5.0",
            "orientation": "horizontal",
            "min": 0,
            "description_tooltip": null,
            "_model_module": "@jupyter-widgets/controls",
            "layout": "IPY_MODEL_046019a4fcce4d99a5c55ca3c59144a3"
          }
        },
        "f59dfb3a005f4fdc97c2010af1851d4c": {
          "model_module": "@jupyter-widgets/controls",
          "model_name": "HTMLModel",
          "state": {
            "_view_name": "HTMLView",
            "style": "IPY_MODEL_eff672c573b749e0898ca075a962438e",
            "_dom_classes": [],
            "description": "",
            "_model_name": "HTMLModel",
            "placeholder": "​",
            "_view_module": "@jupyter-widgets/controls",
            "_model_module_version": "1.5.0",
            "value": " 137/137 [01:16&lt;00:00,  1.78it/s]",
            "_view_count": null,
            "_view_module_version": "1.5.0",
            "description_tooltip": null,
            "_model_module": "@jupyter-widgets/controls",
            "layout": "IPY_MODEL_2cedae8096044db98e978f19eaff895c"
          }
        },
        "4c150d54d2a4421ba2ef37f43fc31623": {
          "model_module": "@jupyter-widgets/controls",
          "model_name": "ProgressStyleModel",
          "state": {
            "_view_name": "StyleView",
            "_model_name": "ProgressStyleModel",
            "description_width": "initial",
            "_view_module": "@jupyter-widgets/base",
            "_model_module_version": "1.5.0",
            "_view_count": null,
            "_view_module_version": "1.2.0",
            "bar_color": null,
            "_model_module": "@jupyter-widgets/controls"
          }
        },
        "046019a4fcce4d99a5c55ca3c59144a3": {
          "model_module": "@jupyter-widgets/base",
          "model_name": "LayoutModel",
          "state": {
            "_view_name": "LayoutView",
            "grid_template_rows": null,
            "right": null,
            "justify_content": null,
            "_view_module": "@jupyter-widgets/base",
            "overflow": null,
            "_model_module_version": "1.2.0",
            "_view_count": null,
            "flex_flow": null,
            "width": null,
            "min_width": null,
            "border": null,
            "align_items": null,
            "bottom": null,
            "_model_module": "@jupyter-widgets/base",
            "top": null,
            "grid_column": null,
            "overflow_y": null,
            "overflow_x": null,
            "grid_auto_flow": null,
            "grid_area": null,
            "grid_template_columns": null,
            "flex": "2",
            "_model_name": "LayoutModel",
            "justify_items": null,
            "grid_row": null,
            "max_height": null,
            "align_content": null,
            "visibility": null,
            "align_self": null,
            "height": null,
            "min_height": null,
            "padding": null,
            "grid_auto_rows": null,
            "grid_gap": null,
            "max_width": null,
            "order": null,
            "_view_module_version": "1.2.0",
            "grid_template_areas": null,
            "object_position": null,
            "object_fit": null,
            "grid_auto_columns": null,
            "margin": null,
            "display": null,
            "left": null
          }
        },
        "eff672c573b749e0898ca075a962438e": {
          "model_module": "@jupyter-widgets/controls",
          "model_name": "DescriptionStyleModel",
          "state": {
            "_view_name": "StyleView",
            "_model_name": "DescriptionStyleModel",
            "description_width": "",
            "_view_module": "@jupyter-widgets/base",
            "_model_module_version": "1.5.0",
            "_view_count": null,
            "_view_module_version": "1.2.0",
            "_model_module": "@jupyter-widgets/controls"
          }
        },
        "2cedae8096044db98e978f19eaff895c": {
          "model_module": "@jupyter-widgets/base",
          "model_name": "LayoutModel",
          "state": {
            "_view_name": "LayoutView",
            "grid_template_rows": null,
            "right": null,
            "justify_content": null,
            "_view_module": "@jupyter-widgets/base",
            "overflow": null,
            "_model_module_version": "1.2.0",
            "_view_count": null,
            "flex_flow": null,
            "width": null,
            "min_width": null,
            "border": null,
            "align_items": null,
            "bottom": null,
            "_model_module": "@jupyter-widgets/base",
            "top": null,
            "grid_column": null,
            "overflow_y": null,
            "overflow_x": null,
            "grid_auto_flow": null,
            "grid_area": null,
            "grid_template_columns": null,
            "flex": null,
            "_model_name": "LayoutModel",
            "justify_items": null,
            "grid_row": null,
            "max_height": null,
            "align_content": null,
            "visibility": null,
            "align_self": null,
            "height": null,
            "min_height": null,
            "padding": null,
            "grid_auto_rows": null,
            "grid_gap": null,
            "max_width": null,
            "order": null,
            "_view_module_version": "1.2.0",
            "grid_template_areas": null,
            "object_position": null,
            "object_fit": null,
            "grid_auto_columns": null,
            "margin": null,
            "display": null,
            "left": null
          }
        },
        "b5318b670f16474d9fc1f6b9da26dfcf": {
          "model_module": "@jupyter-widgets/controls",
          "model_name": "HBoxModel",
          "state": {
            "_view_name": "HBoxView",
            "_dom_classes": [],
            "_model_name": "HBoxModel",
            "_view_module": "@jupyter-widgets/controls",
            "_model_module_version": "1.5.0",
            "_view_count": null,
            "_view_module_version": "1.5.0",
            "box_style": "",
            "layout": "IPY_MODEL_d72d05780cf54e9ab5fd36c92a6003d9",
            "_model_module": "@jupyter-widgets/controls",
            "children": [
              "IPY_MODEL_e5537d63a37c49b9aa02c9d718344095",
              "IPY_MODEL_643976e14a3f409aa9aae2fffa152dcf"
            ]
          }
        },
        "d72d05780cf54e9ab5fd36c92a6003d9": {
          "model_module": "@jupyter-widgets/base",
          "model_name": "LayoutModel",
          "state": {
            "_view_name": "LayoutView",
            "grid_template_rows": null,
            "right": null,
            "justify_content": null,
            "_view_module": "@jupyter-widgets/base",
            "overflow": null,
            "_model_module_version": "1.2.0",
            "_view_count": null,
            "flex_flow": "row wrap",
            "width": "100%",
            "min_width": null,
            "border": null,
            "align_items": null,
            "bottom": null,
            "_model_module": "@jupyter-widgets/base",
            "top": null,
            "grid_column": null,
            "overflow_y": null,
            "overflow_x": null,
            "grid_auto_flow": null,
            "grid_area": null,
            "grid_template_columns": null,
            "flex": null,
            "_model_name": "LayoutModel",
            "justify_items": null,
            "grid_row": null,
            "max_height": null,
            "align_content": null,
            "visibility": null,
            "align_self": null,
            "height": null,
            "min_height": null,
            "padding": null,
            "grid_auto_rows": null,
            "grid_gap": null,
            "max_width": null,
            "order": null,
            "_view_module_version": "1.2.0",
            "grid_template_areas": null,
            "object_position": null,
            "object_fit": null,
            "grid_auto_columns": null,
            "margin": null,
            "display": "inline-flex",
            "left": null
          }
        },
        "e5537d63a37c49b9aa02c9d718344095": {
          "model_module": "@jupyter-widgets/controls",
          "model_name": "FloatProgressModel",
          "state": {
            "_view_name": "ProgressView",
            "style": "IPY_MODEL_e8f162f76cf5458589ceebcc288425f6",
            "_dom_classes": [],
            "description": "testing batch_id=58: 100%",
            "_model_name": "FloatProgressModel",
            "bar_style": "success",
            "max": 59,
            "_view_module": "@jupyter-widgets/controls",
            "_model_module_version": "1.5.0",
            "value": 59,
            "_view_count": null,
            "_view_module_version": "1.5.0",
            "orientation": "horizontal",
            "min": 0,
            "description_tooltip": null,
            "_model_module": "@jupyter-widgets/controls",
            "layout": "IPY_MODEL_a2c04cf29278455f9f9cbccbc77f7ca1"
          }
        },
        "643976e14a3f409aa9aae2fffa152dcf": {
          "model_module": "@jupyter-widgets/controls",
          "model_name": "HTMLModel",
          "state": {
            "_view_name": "HTMLView",
            "style": "IPY_MODEL_6216a881b2d040c0804a17ccf8d31eb4",
            "_dom_classes": [],
            "description": "",
            "_model_name": "HTMLModel",
            "placeholder": "​",
            "_view_module": "@jupyter-widgets/controls",
            "_model_module_version": "1.5.0",
            "value": " 59/59 [00:14&lt;00:00,  4.13it/s]",
            "_view_count": null,
            "_view_module_version": "1.5.0",
            "description_tooltip": null,
            "_model_module": "@jupyter-widgets/controls",
            "layout": "IPY_MODEL_6f24e310617e4365bf3d2fdbbb157e08"
          }
        },
        "e8f162f76cf5458589ceebcc288425f6": {
          "model_module": "@jupyter-widgets/controls",
          "model_name": "ProgressStyleModel",
          "state": {
            "_view_name": "StyleView",
            "_model_name": "ProgressStyleModel",
            "description_width": "initial",
            "_view_module": "@jupyter-widgets/base",
            "_model_module_version": "1.5.0",
            "_view_count": null,
            "_view_module_version": "1.2.0",
            "bar_color": null,
            "_model_module": "@jupyter-widgets/controls"
          }
        },
        "a2c04cf29278455f9f9cbccbc77f7ca1": {
          "model_module": "@jupyter-widgets/base",
          "model_name": "LayoutModel",
          "state": {
            "_view_name": "LayoutView",
            "grid_template_rows": null,
            "right": null,
            "justify_content": null,
            "_view_module": "@jupyter-widgets/base",
            "overflow": null,
            "_model_module_version": "1.2.0",
            "_view_count": null,
            "flex_flow": null,
            "width": null,
            "min_width": null,
            "border": null,
            "align_items": null,
            "bottom": null,
            "_model_module": "@jupyter-widgets/base",
            "top": null,
            "grid_column": null,
            "overflow_y": null,
            "overflow_x": null,
            "grid_auto_flow": null,
            "grid_area": null,
            "grid_template_columns": null,
            "flex": "2",
            "_model_name": "LayoutModel",
            "justify_items": null,
            "grid_row": null,
            "max_height": null,
            "align_content": null,
            "visibility": null,
            "align_self": null,
            "height": null,
            "min_height": null,
            "padding": null,
            "grid_auto_rows": null,
            "grid_gap": null,
            "max_width": null,
            "order": null,
            "_view_module_version": "1.2.0",
            "grid_template_areas": null,
            "object_position": null,
            "object_fit": null,
            "grid_auto_columns": null,
            "margin": null,
            "display": null,
            "left": null
          }
        },
        "6216a881b2d040c0804a17ccf8d31eb4": {
          "model_module": "@jupyter-widgets/controls",
          "model_name": "DescriptionStyleModel",
          "state": {
            "_view_name": "StyleView",
            "_model_name": "DescriptionStyleModel",
            "description_width": "",
            "_view_module": "@jupyter-widgets/base",
            "_model_module_version": "1.5.0",
            "_view_count": null,
            "_view_module_version": "1.2.0",
            "_model_module": "@jupyter-widgets/controls"
          }
        },
        "6f24e310617e4365bf3d2fdbbb157e08": {
          "model_module": "@jupyter-widgets/base",
          "model_name": "LayoutModel",
          "state": {
            "_view_name": "LayoutView",
            "grid_template_rows": null,
            "right": null,
            "justify_content": null,
            "_view_module": "@jupyter-widgets/base",
            "overflow": null,
            "_model_module_version": "1.2.0",
            "_view_count": null,
            "flex_flow": null,
            "width": null,
            "min_width": null,
            "border": null,
            "align_items": null,
            "bottom": null,
            "_model_module": "@jupyter-widgets/base",
            "top": null,
            "grid_column": null,
            "overflow_y": null,
            "overflow_x": null,
            "grid_auto_flow": null,
            "grid_area": null,
            "grid_template_columns": null,
            "flex": null,
            "_model_name": "LayoutModel",
            "justify_items": null,
            "grid_row": null,
            "max_height": null,
            "align_content": null,
            "visibility": null,
            "align_self": null,
            "height": null,
            "min_height": null,
            "padding": null,
            "grid_auto_rows": null,
            "grid_gap": null,
            "max_width": null,
            "order": null,
            "_view_module_version": "1.2.0",
            "grid_template_areas": null,
            "object_position": null,
            "object_fit": null,
            "grid_auto_columns": null,
            "margin": null,
            "display": null,
            "left": null
          }
        },
        "57150ce5eb9e4cff9cb4a27e31d6228d": {
          "model_module": "@jupyter-widgets/controls",
          "model_name": "HBoxModel",
          "state": {
            "_view_name": "HBoxView",
            "_dom_classes": [],
            "_model_name": "HBoxModel",
            "_view_module": "@jupyter-widgets/controls",
            "_model_module_version": "1.5.0",
            "_view_count": null,
            "_view_module_version": "1.5.0",
            "box_style": "",
            "layout": "IPY_MODEL_18c94e44fcec4aa69328c6b2d2fafa8a",
            "_model_module": "@jupyter-widgets/controls",
            "children": [
              "IPY_MODEL_2a3ef1e1303e467f9812c9d351860e41",
              "IPY_MODEL_c489a0fc86f7499b9e0e0ae3463f2b30"
            ]
          }
        },
        "18c94e44fcec4aa69328c6b2d2fafa8a": {
          "model_module": "@jupyter-widgets/base",
          "model_name": "LayoutModel",
          "state": {
            "_view_name": "LayoutView",
            "grid_template_rows": null,
            "right": null,
            "justify_content": null,
            "_view_module": "@jupyter-widgets/base",
            "overflow": null,
            "_model_module_version": "1.2.0",
            "_view_count": null,
            "flex_flow": "row wrap",
            "width": "100%",
            "min_width": null,
            "border": null,
            "align_items": null,
            "bottom": null,
            "_model_module": "@jupyter-widgets/base",
            "top": null,
            "grid_column": null,
            "overflow_y": null,
            "overflow_x": null,
            "grid_auto_flow": null,
            "grid_area": null,
            "grid_template_columns": null,
            "flex": null,
            "_model_name": "LayoutModel",
            "justify_items": null,
            "grid_row": null,
            "max_height": null,
            "align_content": null,
            "visibility": null,
            "align_self": null,
            "height": null,
            "min_height": null,
            "padding": null,
            "grid_auto_rows": null,
            "grid_gap": null,
            "max_width": null,
            "order": null,
            "_view_module_version": "1.2.0",
            "grid_template_areas": null,
            "object_position": null,
            "object_fit": null,
            "grid_auto_columns": null,
            "margin": null,
            "display": "inline-flex",
            "left": null
          }
        },
        "2a3ef1e1303e467f9812c9d351860e41": {
          "model_module": "@jupyter-widgets/controls",
          "model_name": "FloatProgressModel",
          "state": {
            "_view_name": "ProgressView",
            "style": "IPY_MODEL_f6e14481fd4f481dabf88d23e972f54f",
            "_dom_classes": [],
            "description": "loss=1.4919 seg_loss=0.8436 depth_loss=0.3242 batch_id=136: 100%",
            "_model_name": "FloatProgressModel",
            "bar_style": "success",
            "max": 137,
            "_view_module": "@jupyter-widgets/controls",
            "_model_module_version": "1.5.0",
            "value": 137,
            "_view_count": null,
            "_view_module_version": "1.5.0",
            "orientation": "horizontal",
            "min": 0,
            "description_tooltip": null,
            "_model_module": "@jupyter-widgets/controls",
            "layout": "IPY_MODEL_3dd13aba01d24416b321d64e9573bb17"
          }
        },
        "c489a0fc86f7499b9e0e0ae3463f2b30": {
          "model_module": "@jupyter-widgets/controls",
          "model_name": "HTMLModel",
          "state": {
            "_view_name": "HTMLView",
            "style": "IPY_MODEL_bb4ddd81141747a496e987c7acb9f6af",
            "_dom_classes": [],
            "description": "",
            "_model_name": "HTMLModel",
            "placeholder": "​",
            "_view_module": "@jupyter-widgets/controls",
            "_model_module_version": "1.5.0",
            "value": " 137/137 [01:15&lt;00:00,  1.81it/s]",
            "_view_count": null,
            "_view_module_version": "1.5.0",
            "description_tooltip": null,
            "_model_module": "@jupyter-widgets/controls",
            "layout": "IPY_MODEL_55aae705db854666b8e3ac989304cd49"
          }
        },
        "f6e14481fd4f481dabf88d23e972f54f": {
          "model_module": "@jupyter-widgets/controls",
          "model_name": "ProgressStyleModel",
          "state": {
            "_view_name": "StyleView",
            "_model_name": "ProgressStyleModel",
            "description_width": "initial",
            "_view_module": "@jupyter-widgets/base",
            "_model_module_version": "1.5.0",
            "_view_count": null,
            "_view_module_version": "1.2.0",
            "bar_color": null,
            "_model_module": "@jupyter-widgets/controls"
          }
        },
        "3dd13aba01d24416b321d64e9573bb17": {
          "model_module": "@jupyter-widgets/base",
          "model_name": "LayoutModel",
          "state": {
            "_view_name": "LayoutView",
            "grid_template_rows": null,
            "right": null,
            "justify_content": null,
            "_view_module": "@jupyter-widgets/base",
            "overflow": null,
            "_model_module_version": "1.2.0",
            "_view_count": null,
            "flex_flow": null,
            "width": null,
            "min_width": null,
            "border": null,
            "align_items": null,
            "bottom": null,
            "_model_module": "@jupyter-widgets/base",
            "top": null,
            "grid_column": null,
            "overflow_y": null,
            "overflow_x": null,
            "grid_auto_flow": null,
            "grid_area": null,
            "grid_template_columns": null,
            "flex": "2",
            "_model_name": "LayoutModel",
            "justify_items": null,
            "grid_row": null,
            "max_height": null,
            "align_content": null,
            "visibility": null,
            "align_self": null,
            "height": null,
            "min_height": null,
            "padding": null,
            "grid_auto_rows": null,
            "grid_gap": null,
            "max_width": null,
            "order": null,
            "_view_module_version": "1.2.0",
            "grid_template_areas": null,
            "object_position": null,
            "object_fit": null,
            "grid_auto_columns": null,
            "margin": null,
            "display": null,
            "left": null
          }
        },
        "bb4ddd81141747a496e987c7acb9f6af": {
          "model_module": "@jupyter-widgets/controls",
          "model_name": "DescriptionStyleModel",
          "state": {
            "_view_name": "StyleView",
            "_model_name": "DescriptionStyleModel",
            "description_width": "",
            "_view_module": "@jupyter-widgets/base",
            "_model_module_version": "1.5.0",
            "_view_count": null,
            "_view_module_version": "1.2.0",
            "_model_module": "@jupyter-widgets/controls"
          }
        },
        "55aae705db854666b8e3ac989304cd49": {
          "model_module": "@jupyter-widgets/base",
          "model_name": "LayoutModel",
          "state": {
            "_view_name": "LayoutView",
            "grid_template_rows": null,
            "right": null,
            "justify_content": null,
            "_view_module": "@jupyter-widgets/base",
            "overflow": null,
            "_model_module_version": "1.2.0",
            "_view_count": null,
            "flex_flow": null,
            "width": null,
            "min_width": null,
            "border": null,
            "align_items": null,
            "bottom": null,
            "_model_module": "@jupyter-widgets/base",
            "top": null,
            "grid_column": null,
            "overflow_y": null,
            "overflow_x": null,
            "grid_auto_flow": null,
            "grid_area": null,
            "grid_template_columns": null,
            "flex": null,
            "_model_name": "LayoutModel",
            "justify_items": null,
            "grid_row": null,
            "max_height": null,
            "align_content": null,
            "visibility": null,
            "align_self": null,
            "height": null,
            "min_height": null,
            "padding": null,
            "grid_auto_rows": null,
            "grid_gap": null,
            "max_width": null,
            "order": null,
            "_view_module_version": "1.2.0",
            "grid_template_areas": null,
            "object_position": null,
            "object_fit": null,
            "grid_auto_columns": null,
            "margin": null,
            "display": null,
            "left": null
          }
        },
        "501575a2eebc4642a6b448e7e5db1f9a": {
          "model_module": "@jupyter-widgets/controls",
          "model_name": "HBoxModel",
          "state": {
            "_view_name": "HBoxView",
            "_dom_classes": [],
            "_model_name": "HBoxModel",
            "_view_module": "@jupyter-widgets/controls",
            "_model_module_version": "1.5.0",
            "_view_count": null,
            "_view_module_version": "1.5.0",
            "box_style": "",
            "layout": "IPY_MODEL_244cbdbf339d408490525b43194e7ca9",
            "_model_module": "@jupyter-widgets/controls",
            "children": [
              "IPY_MODEL_4df627c8936e447cbdfb33940c77616b",
              "IPY_MODEL_b4515c7366e14468b83730f8fc8893d6"
            ]
          }
        },
        "244cbdbf339d408490525b43194e7ca9": {
          "model_module": "@jupyter-widgets/base",
          "model_name": "LayoutModel",
          "state": {
            "_view_name": "LayoutView",
            "grid_template_rows": null,
            "right": null,
            "justify_content": null,
            "_view_module": "@jupyter-widgets/base",
            "overflow": null,
            "_model_module_version": "1.2.0",
            "_view_count": null,
            "flex_flow": "row wrap",
            "width": "100%",
            "min_width": null,
            "border": null,
            "align_items": null,
            "bottom": null,
            "_model_module": "@jupyter-widgets/base",
            "top": null,
            "grid_column": null,
            "overflow_y": null,
            "overflow_x": null,
            "grid_auto_flow": null,
            "grid_area": null,
            "grid_template_columns": null,
            "flex": null,
            "_model_name": "LayoutModel",
            "justify_items": null,
            "grid_row": null,
            "max_height": null,
            "align_content": null,
            "visibility": null,
            "align_self": null,
            "height": null,
            "min_height": null,
            "padding": null,
            "grid_auto_rows": null,
            "grid_gap": null,
            "max_width": null,
            "order": null,
            "_view_module_version": "1.2.0",
            "grid_template_areas": null,
            "object_position": null,
            "object_fit": null,
            "grid_auto_columns": null,
            "margin": null,
            "display": "inline-flex",
            "left": null
          }
        },
        "4df627c8936e447cbdfb33940c77616b": {
          "model_module": "@jupyter-widgets/controls",
          "model_name": "FloatProgressModel",
          "state": {
            "_view_name": "ProgressView",
            "style": "IPY_MODEL_e3455d6d1a2d4406b4d8a359b6ca8806",
            "_dom_classes": [],
            "description": "testing batch_id=58: 100%",
            "_model_name": "FloatProgressModel",
            "bar_style": "success",
            "max": 59,
            "_view_module": "@jupyter-widgets/controls",
            "_model_module_version": "1.5.0",
            "value": 59,
            "_view_count": null,
            "_view_module_version": "1.5.0",
            "orientation": "horizontal",
            "min": 0,
            "description_tooltip": null,
            "_model_module": "@jupyter-widgets/controls",
            "layout": "IPY_MODEL_70908c76f39c4ecfa472f2ff20431f5c"
          }
        },
        "b4515c7366e14468b83730f8fc8893d6": {
          "model_module": "@jupyter-widgets/controls",
          "model_name": "HTMLModel",
          "state": {
            "_view_name": "HTMLView",
            "style": "IPY_MODEL_91c4082f778d48aaa9924ed3fd305cdd",
            "_dom_classes": [],
            "description": "",
            "_model_name": "HTMLModel",
            "placeholder": "​",
            "_view_module": "@jupyter-widgets/controls",
            "_model_module_version": "1.5.0",
            "value": " 59/59 [00:14&lt;00:00,  4.09it/s]",
            "_view_count": null,
            "_view_module_version": "1.5.0",
            "description_tooltip": null,
            "_model_module": "@jupyter-widgets/controls",
            "layout": "IPY_MODEL_133d5867d75c48c0b059bc3087d5fee8"
          }
        },
        "e3455d6d1a2d4406b4d8a359b6ca8806": {
          "model_module": "@jupyter-widgets/controls",
          "model_name": "ProgressStyleModel",
          "state": {
            "_view_name": "StyleView",
            "_model_name": "ProgressStyleModel",
            "description_width": "initial",
            "_view_module": "@jupyter-widgets/base",
            "_model_module_version": "1.5.0",
            "_view_count": null,
            "_view_module_version": "1.2.0",
            "bar_color": null,
            "_model_module": "@jupyter-widgets/controls"
          }
        },
        "70908c76f39c4ecfa472f2ff20431f5c": {
          "model_module": "@jupyter-widgets/base",
          "model_name": "LayoutModel",
          "state": {
            "_view_name": "LayoutView",
            "grid_template_rows": null,
            "right": null,
            "justify_content": null,
            "_view_module": "@jupyter-widgets/base",
            "overflow": null,
            "_model_module_version": "1.2.0",
            "_view_count": null,
            "flex_flow": null,
            "width": null,
            "min_width": null,
            "border": null,
            "align_items": null,
            "bottom": null,
            "_model_module": "@jupyter-widgets/base",
            "top": null,
            "grid_column": null,
            "overflow_y": null,
            "overflow_x": null,
            "grid_auto_flow": null,
            "grid_area": null,
            "grid_template_columns": null,
            "flex": "2",
            "_model_name": "LayoutModel",
            "justify_items": null,
            "grid_row": null,
            "max_height": null,
            "align_content": null,
            "visibility": null,
            "align_self": null,
            "height": null,
            "min_height": null,
            "padding": null,
            "grid_auto_rows": null,
            "grid_gap": null,
            "max_width": null,
            "order": null,
            "_view_module_version": "1.2.0",
            "grid_template_areas": null,
            "object_position": null,
            "object_fit": null,
            "grid_auto_columns": null,
            "margin": null,
            "display": null,
            "left": null
          }
        },
        "91c4082f778d48aaa9924ed3fd305cdd": {
          "model_module": "@jupyter-widgets/controls",
          "model_name": "DescriptionStyleModel",
          "state": {
            "_view_name": "StyleView",
            "_model_name": "DescriptionStyleModel",
            "description_width": "",
            "_view_module": "@jupyter-widgets/base",
            "_model_module_version": "1.5.0",
            "_view_count": null,
            "_view_module_version": "1.2.0",
            "_model_module": "@jupyter-widgets/controls"
          }
        },
        "133d5867d75c48c0b059bc3087d5fee8": {
          "model_module": "@jupyter-widgets/base",
          "model_name": "LayoutModel",
          "state": {
            "_view_name": "LayoutView",
            "grid_template_rows": null,
            "right": null,
            "justify_content": null,
            "_view_module": "@jupyter-widgets/base",
            "overflow": null,
            "_model_module_version": "1.2.0",
            "_view_count": null,
            "flex_flow": null,
            "width": null,
            "min_width": null,
            "border": null,
            "align_items": null,
            "bottom": null,
            "_model_module": "@jupyter-widgets/base",
            "top": null,
            "grid_column": null,
            "overflow_y": null,
            "overflow_x": null,
            "grid_auto_flow": null,
            "grid_area": null,
            "grid_template_columns": null,
            "flex": null,
            "_model_name": "LayoutModel",
            "justify_items": null,
            "grid_row": null,
            "max_height": null,
            "align_content": null,
            "visibility": null,
            "align_self": null,
            "height": null,
            "min_height": null,
            "padding": null,
            "grid_auto_rows": null,
            "grid_gap": null,
            "max_width": null,
            "order": null,
            "_view_module_version": "1.2.0",
            "grid_template_areas": null,
            "object_position": null,
            "object_fit": null,
            "grid_auto_columns": null,
            "margin": null,
            "display": null,
            "left": null
          }
        },
        "f819bb8f0d04422a8894cfae9ffcedfa": {
          "model_module": "@jupyter-widgets/controls",
          "model_name": "HBoxModel",
          "state": {
            "_view_name": "HBoxView",
            "_dom_classes": [],
            "_model_name": "HBoxModel",
            "_view_module": "@jupyter-widgets/controls",
            "_model_module_version": "1.5.0",
            "_view_count": null,
            "_view_module_version": "1.5.0",
            "box_style": "",
            "layout": "IPY_MODEL_793afcaec3464f1984d92bc92ecbeb91",
            "_model_module": "@jupyter-widgets/controls",
            "children": [
              "IPY_MODEL_d266c66736084a429d8cc78493b47bd1",
              "IPY_MODEL_a311fa2b6c62438d998249960a4de6a5"
            ]
          }
        },
        "793afcaec3464f1984d92bc92ecbeb91": {
          "model_module": "@jupyter-widgets/base",
          "model_name": "LayoutModel",
          "state": {
            "_view_name": "LayoutView",
            "grid_template_rows": null,
            "right": null,
            "justify_content": null,
            "_view_module": "@jupyter-widgets/base",
            "overflow": null,
            "_model_module_version": "1.2.0",
            "_view_count": null,
            "flex_flow": "row wrap",
            "width": "100%",
            "min_width": null,
            "border": null,
            "align_items": null,
            "bottom": null,
            "_model_module": "@jupyter-widgets/base",
            "top": null,
            "grid_column": null,
            "overflow_y": null,
            "overflow_x": null,
            "grid_auto_flow": null,
            "grid_area": null,
            "grid_template_columns": null,
            "flex": null,
            "_model_name": "LayoutModel",
            "justify_items": null,
            "grid_row": null,
            "max_height": null,
            "align_content": null,
            "visibility": null,
            "align_self": null,
            "height": null,
            "min_height": null,
            "padding": null,
            "grid_auto_rows": null,
            "grid_gap": null,
            "max_width": null,
            "order": null,
            "_view_module_version": "1.2.0",
            "grid_template_areas": null,
            "object_position": null,
            "object_fit": null,
            "grid_auto_columns": null,
            "margin": null,
            "display": "inline-flex",
            "left": null
          }
        },
        "d266c66736084a429d8cc78493b47bd1": {
          "model_module": "@jupyter-widgets/controls",
          "model_name": "FloatProgressModel",
          "state": {
            "_view_name": "ProgressView",
            "style": "IPY_MODEL_024ade4b2aa34b5780162736ff9f9615",
            "_dom_classes": [],
            "description": "loss=1.1187 seg_loss=0.4493 depth_loss=0.3347 batch_id=136: 100%",
            "_model_name": "FloatProgressModel",
            "bar_style": "success",
            "max": 137,
            "_view_module": "@jupyter-widgets/controls",
            "_model_module_version": "1.5.0",
            "value": 137,
            "_view_count": null,
            "_view_module_version": "1.5.0",
            "orientation": "horizontal",
            "min": 0,
            "description_tooltip": null,
            "_model_module": "@jupyter-widgets/controls",
            "layout": "IPY_MODEL_8dec2e5914084c4888980fa36d864c5c"
          }
        },
        "a311fa2b6c62438d998249960a4de6a5": {
          "model_module": "@jupyter-widgets/controls",
          "model_name": "HTMLModel",
          "state": {
            "_view_name": "HTMLView",
            "style": "IPY_MODEL_e4a82e15592b44eab0cf1c58b34094f7",
            "_dom_classes": [],
            "description": "",
            "_model_name": "HTMLModel",
            "placeholder": "​",
            "_view_module": "@jupyter-widgets/controls",
            "_model_module_version": "1.5.0",
            "value": " 137/137 [01:15&lt;00:00,  1.81it/s]",
            "_view_count": null,
            "_view_module_version": "1.5.0",
            "description_tooltip": null,
            "_model_module": "@jupyter-widgets/controls",
            "layout": "IPY_MODEL_5cdad1e56b4b4ec3adc8c38d82bcc357"
          }
        },
        "024ade4b2aa34b5780162736ff9f9615": {
          "model_module": "@jupyter-widgets/controls",
          "model_name": "ProgressStyleModel",
          "state": {
            "_view_name": "StyleView",
            "_model_name": "ProgressStyleModel",
            "description_width": "initial",
            "_view_module": "@jupyter-widgets/base",
            "_model_module_version": "1.5.0",
            "_view_count": null,
            "_view_module_version": "1.2.0",
            "bar_color": null,
            "_model_module": "@jupyter-widgets/controls"
          }
        },
        "8dec2e5914084c4888980fa36d864c5c": {
          "model_module": "@jupyter-widgets/base",
          "model_name": "LayoutModel",
          "state": {
            "_view_name": "LayoutView",
            "grid_template_rows": null,
            "right": null,
            "justify_content": null,
            "_view_module": "@jupyter-widgets/base",
            "overflow": null,
            "_model_module_version": "1.2.0",
            "_view_count": null,
            "flex_flow": null,
            "width": null,
            "min_width": null,
            "border": null,
            "align_items": null,
            "bottom": null,
            "_model_module": "@jupyter-widgets/base",
            "top": null,
            "grid_column": null,
            "overflow_y": null,
            "overflow_x": null,
            "grid_auto_flow": null,
            "grid_area": null,
            "grid_template_columns": null,
            "flex": "2",
            "_model_name": "LayoutModel",
            "justify_items": null,
            "grid_row": null,
            "max_height": null,
            "align_content": null,
            "visibility": null,
            "align_self": null,
            "height": null,
            "min_height": null,
            "padding": null,
            "grid_auto_rows": null,
            "grid_gap": null,
            "max_width": null,
            "order": null,
            "_view_module_version": "1.2.0",
            "grid_template_areas": null,
            "object_position": null,
            "object_fit": null,
            "grid_auto_columns": null,
            "margin": null,
            "display": null,
            "left": null
          }
        },
        "e4a82e15592b44eab0cf1c58b34094f7": {
          "model_module": "@jupyter-widgets/controls",
          "model_name": "DescriptionStyleModel",
          "state": {
            "_view_name": "StyleView",
            "_model_name": "DescriptionStyleModel",
            "description_width": "",
            "_view_module": "@jupyter-widgets/base",
            "_model_module_version": "1.5.0",
            "_view_count": null,
            "_view_module_version": "1.2.0",
            "_model_module": "@jupyter-widgets/controls"
          }
        },
        "5cdad1e56b4b4ec3adc8c38d82bcc357": {
          "model_module": "@jupyter-widgets/base",
          "model_name": "LayoutModel",
          "state": {
            "_view_name": "LayoutView",
            "grid_template_rows": null,
            "right": null,
            "justify_content": null,
            "_view_module": "@jupyter-widgets/base",
            "overflow": null,
            "_model_module_version": "1.2.0",
            "_view_count": null,
            "flex_flow": null,
            "width": null,
            "min_width": null,
            "border": null,
            "align_items": null,
            "bottom": null,
            "_model_module": "@jupyter-widgets/base",
            "top": null,
            "grid_column": null,
            "overflow_y": null,
            "overflow_x": null,
            "grid_auto_flow": null,
            "grid_area": null,
            "grid_template_columns": null,
            "flex": null,
            "_model_name": "LayoutModel",
            "justify_items": null,
            "grid_row": null,
            "max_height": null,
            "align_content": null,
            "visibility": null,
            "align_self": null,
            "height": null,
            "min_height": null,
            "padding": null,
            "grid_auto_rows": null,
            "grid_gap": null,
            "max_width": null,
            "order": null,
            "_view_module_version": "1.2.0",
            "grid_template_areas": null,
            "object_position": null,
            "object_fit": null,
            "grid_auto_columns": null,
            "margin": null,
            "display": null,
            "left": null
          }
        },
        "103b85a00c5743aa90bf998e896ea6cb": {
          "model_module": "@jupyter-widgets/controls",
          "model_name": "HBoxModel",
          "state": {
            "_view_name": "HBoxView",
            "_dom_classes": [],
            "_model_name": "HBoxModel",
            "_view_module": "@jupyter-widgets/controls",
            "_model_module_version": "1.5.0",
            "_view_count": null,
            "_view_module_version": "1.5.0",
            "box_style": "",
            "layout": "IPY_MODEL_0d897ccf515841e08114b0ed5ec8f1bc",
            "_model_module": "@jupyter-widgets/controls",
            "children": [
              "IPY_MODEL_420993d96a484b2ca103deac955d7fca",
              "IPY_MODEL_05c7e572c0f343dfaa1eefd63e2fc78b"
            ]
          }
        },
        "0d897ccf515841e08114b0ed5ec8f1bc": {
          "model_module": "@jupyter-widgets/base",
          "model_name": "LayoutModel",
          "state": {
            "_view_name": "LayoutView",
            "grid_template_rows": null,
            "right": null,
            "justify_content": null,
            "_view_module": "@jupyter-widgets/base",
            "overflow": null,
            "_model_module_version": "1.2.0",
            "_view_count": null,
            "flex_flow": "row wrap",
            "width": "100%",
            "min_width": null,
            "border": null,
            "align_items": null,
            "bottom": null,
            "_model_module": "@jupyter-widgets/base",
            "top": null,
            "grid_column": null,
            "overflow_y": null,
            "overflow_x": null,
            "grid_auto_flow": null,
            "grid_area": null,
            "grid_template_columns": null,
            "flex": null,
            "_model_name": "LayoutModel",
            "justify_items": null,
            "grid_row": null,
            "max_height": null,
            "align_content": null,
            "visibility": null,
            "align_self": null,
            "height": null,
            "min_height": null,
            "padding": null,
            "grid_auto_rows": null,
            "grid_gap": null,
            "max_width": null,
            "order": null,
            "_view_module_version": "1.2.0",
            "grid_template_areas": null,
            "object_position": null,
            "object_fit": null,
            "grid_auto_columns": null,
            "margin": null,
            "display": "inline-flex",
            "left": null
          }
        },
        "420993d96a484b2ca103deac955d7fca": {
          "model_module": "@jupyter-widgets/controls",
          "model_name": "FloatProgressModel",
          "state": {
            "_view_name": "ProgressView",
            "style": "IPY_MODEL_2a3f77561eac4a2d899daf2c586a18dc",
            "_dom_classes": [],
            "description": "testing batch_id=58: 100%",
            "_model_name": "FloatProgressModel",
            "bar_style": "success",
            "max": 59,
            "_view_module": "@jupyter-widgets/controls",
            "_model_module_version": "1.5.0",
            "value": 59,
            "_view_count": null,
            "_view_module_version": "1.5.0",
            "orientation": "horizontal",
            "min": 0,
            "description_tooltip": null,
            "_model_module": "@jupyter-widgets/controls",
            "layout": "IPY_MODEL_01f3d087b72d43e7b64dbcfee06ce587"
          }
        },
        "05c7e572c0f343dfaa1eefd63e2fc78b": {
          "model_module": "@jupyter-widgets/controls",
          "model_name": "HTMLModel",
          "state": {
            "_view_name": "HTMLView",
            "style": "IPY_MODEL_e725a8cbbfbd430f9096640f7f669f3c",
            "_dom_classes": [],
            "description": "",
            "_model_name": "HTMLModel",
            "placeholder": "​",
            "_view_module": "@jupyter-widgets/controls",
            "_model_module_version": "1.5.0",
            "value": " 59/59 [00:14&lt;00:00,  4.16it/s]",
            "_view_count": null,
            "_view_module_version": "1.5.0",
            "description_tooltip": null,
            "_model_module": "@jupyter-widgets/controls",
            "layout": "IPY_MODEL_9773e6da704040539197ddb0a975d0ed"
          }
        },
        "2a3f77561eac4a2d899daf2c586a18dc": {
          "model_module": "@jupyter-widgets/controls",
          "model_name": "ProgressStyleModel",
          "state": {
            "_view_name": "StyleView",
            "_model_name": "ProgressStyleModel",
            "description_width": "initial",
            "_view_module": "@jupyter-widgets/base",
            "_model_module_version": "1.5.0",
            "_view_count": null,
            "_view_module_version": "1.2.0",
            "bar_color": null,
            "_model_module": "@jupyter-widgets/controls"
          }
        },
        "01f3d087b72d43e7b64dbcfee06ce587": {
          "model_module": "@jupyter-widgets/base",
          "model_name": "LayoutModel",
          "state": {
            "_view_name": "LayoutView",
            "grid_template_rows": null,
            "right": null,
            "justify_content": null,
            "_view_module": "@jupyter-widgets/base",
            "overflow": null,
            "_model_module_version": "1.2.0",
            "_view_count": null,
            "flex_flow": null,
            "width": null,
            "min_width": null,
            "border": null,
            "align_items": null,
            "bottom": null,
            "_model_module": "@jupyter-widgets/base",
            "top": null,
            "grid_column": null,
            "overflow_y": null,
            "overflow_x": null,
            "grid_auto_flow": null,
            "grid_area": null,
            "grid_template_columns": null,
            "flex": "2",
            "_model_name": "LayoutModel",
            "justify_items": null,
            "grid_row": null,
            "max_height": null,
            "align_content": null,
            "visibility": null,
            "align_self": null,
            "height": null,
            "min_height": null,
            "padding": null,
            "grid_auto_rows": null,
            "grid_gap": null,
            "max_width": null,
            "order": null,
            "_view_module_version": "1.2.0",
            "grid_template_areas": null,
            "object_position": null,
            "object_fit": null,
            "grid_auto_columns": null,
            "margin": null,
            "display": null,
            "left": null
          }
        },
        "e725a8cbbfbd430f9096640f7f669f3c": {
          "model_module": "@jupyter-widgets/controls",
          "model_name": "DescriptionStyleModel",
          "state": {
            "_view_name": "StyleView",
            "_model_name": "DescriptionStyleModel",
            "description_width": "",
            "_view_module": "@jupyter-widgets/base",
            "_model_module_version": "1.5.0",
            "_view_count": null,
            "_view_module_version": "1.2.0",
            "_model_module": "@jupyter-widgets/controls"
          }
        },
        "9773e6da704040539197ddb0a975d0ed": {
          "model_module": "@jupyter-widgets/base",
          "model_name": "LayoutModel",
          "state": {
            "_view_name": "LayoutView",
            "grid_template_rows": null,
            "right": null,
            "justify_content": null,
            "_view_module": "@jupyter-widgets/base",
            "overflow": null,
            "_model_module_version": "1.2.0",
            "_view_count": null,
            "flex_flow": null,
            "width": null,
            "min_width": null,
            "border": null,
            "align_items": null,
            "bottom": null,
            "_model_module": "@jupyter-widgets/base",
            "top": null,
            "grid_column": null,
            "overflow_y": null,
            "overflow_x": null,
            "grid_auto_flow": null,
            "grid_area": null,
            "grid_template_columns": null,
            "flex": null,
            "_model_name": "LayoutModel",
            "justify_items": null,
            "grid_row": null,
            "max_height": null,
            "align_content": null,
            "visibility": null,
            "align_self": null,
            "height": null,
            "min_height": null,
            "padding": null,
            "grid_auto_rows": null,
            "grid_gap": null,
            "max_width": null,
            "order": null,
            "_view_module_version": "1.2.0",
            "grid_template_areas": null,
            "object_position": null,
            "object_fit": null,
            "grid_auto_columns": null,
            "margin": null,
            "display": null,
            "left": null
          }
        }
      }
    }
  },
  "cells": [
    {
      "cell_type": "markdown",
      "metadata": {
        "id": "view-in-github",
        "colab_type": "text"
      },
      "source": [
        "<a href=\"https://colab.research.google.com/github/satyajitghana/ProjektDepth/blob/master/notebooks/12_DepthModel_LRRangeTest.ipynb\" target=\"_parent\"><img src=\"https://colab.research.google.com/assets/colab-badge.svg\" alt=\"Open In Colab\"/></a>"
      ]
    },
    {
      "cell_type": "code",
      "metadata": {
        "id": "ya8ryKJUikLp",
        "colab_type": "code",
        "outputId": "d6973539-bdad-4ca1-c417-d28136a7ea51",
        "colab": {
          "base_uri": "https://localhost:8080/",
          "height": 326
        }
      },
      "source": [
        "! nvidia-smi"
      ],
      "execution_count": 0,
      "outputs": [
        {
          "output_type": "stream",
          "text": [
            "Sat May 23 21:57:17 2020       \n",
            "+-----------------------------------------------------------------------------+\n",
            "| NVIDIA-SMI 440.82       Driver Version: 418.67       CUDA Version: 10.1     |\n",
            "|-------------------------------+----------------------+----------------------+\n",
            "| GPU  Name        Persistence-M| Bus-Id        Disp.A | Volatile Uncorr. ECC |\n",
            "| Fan  Temp  Perf  Pwr:Usage/Cap|         Memory-Usage | GPU-Util  Compute M. |\n",
            "|===============================+======================+======================|\n",
            "|   0  Tesla P100-PCIE...  Off  | 00000000:00:04.0 Off |                    0 |\n",
            "| N/A   44C    P0    27W / 250W |      0MiB / 16280MiB |      0%      Default |\n",
            "+-------------------------------+----------------------+----------------------+\n",
            "                                                                               \n",
            "+-----------------------------------------------------------------------------+\n",
            "| Processes:                                                       GPU Memory |\n",
            "|  GPU       PID   Type   Process name                             Usage      |\n",
            "|=============================================================================|\n",
            "|  No running processes found                                                 |\n",
            "+-----------------------------------------------------------------------------+\n"
          ],
          "name": "stdout"
        }
      ]
    },
    {
      "cell_type": "code",
      "metadata": {
        "id": "eH3ycUUzqoVs",
        "colab_type": "code",
        "outputId": "a07fdf1d-b6ff-467b-f1bd-4377630b9abf",
        "colab": {
          "base_uri": "https://localhost:8080/",
          "height": 128
        }
      },
      "source": [
        "from google.colab import drive\n",
        "drive.mount('/content/gdrive')"
      ],
      "execution_count": 0,
      "outputs": [
        {
          "output_type": "stream",
          "text": [
            "Go to this URL in a browser: https://accounts.google.com/o/oauth2/auth?client_id=947318989803-6bn6qk8qdgf4n4g3pfee6491hc0brc4i.apps.googleusercontent.com&redirect_uri=urn%3aietf%3awg%3aoauth%3a2.0%3aoob&response_type=code&scope=email%20https%3a%2f%2fwww.googleapis.com%2fauth%2fdocs.test%20https%3a%2f%2fwww.googleapis.com%2fauth%2fdrive%20https%3a%2f%2fwww.googleapis.com%2fauth%2fdrive.photos.readonly%20https%3a%2f%2fwww.googleapis.com%2fauth%2fpeopleapi.readonly\n",
            "\n",
            "Enter your authorization code:\n",
            "··········\n",
            "Mounted at /content/gdrive\n"
          ],
          "name": "stdout"
        }
      ]
    },
    {
      "cell_type": "code",
      "metadata": {
        "id": "w421KpyMqwUu",
        "colab_type": "code",
        "outputId": "3975657a-33ad-46b1-9321-c8570f99a03d",
        "colab": {
          "base_uri": "https://localhost:8080/",
          "height": 835
        }
      },
      "source": [
        "! pip install git+https://github.com/satyajitghana/ProjektDepth --upgrade"
      ],
      "execution_count": 0,
      "outputs": [
        {
          "output_type": "stream",
          "text": [
            "Collecting git+https://github.com/satyajitghana/ProjektDepth\n",
            "  Cloning https://github.com/satyajitghana/ProjektDepth to /tmp/pip-req-build-1brdana6\n",
            "  Running command git clone -q https://github.com/satyajitghana/ProjektDepth /tmp/pip-req-build-1brdana6\n",
            "Requirement already satisfied, skipping upgrade: tqdm in /usr/local/lib/python3.6/dist-packages (from vathos==0.0.1) (4.41.1)\n",
            "Requirement already satisfied, skipping upgrade: numpy in /usr/local/lib/python3.6/dist-packages (from vathos==0.0.1) (1.18.4)\n",
            "Requirement already satisfied, skipping upgrade: torch in /usr/local/lib/python3.6/dist-packages (from vathos==0.0.1) (1.5.0+cu101)\n",
            "Requirement already satisfied, skipping upgrade: torchvision in /usr/local/lib/python3.6/dist-packages (from vathos==0.0.1) (0.6.0+cu101)\n",
            "Requirement already satisfied, skipping upgrade: torchsummary in /usr/local/lib/python3.6/dist-packages (from vathos==0.0.1) (1.5.1)\n",
            "Requirement already satisfied, skipping upgrade: albumentations in /usr/local/lib/python3.6/dist-packages (from vathos==0.0.1) (0.1.12)\n",
            "Collecting kornia\n",
            "\u001b[?25l  Downloading https://files.pythonhosted.org/packages/c2/60/f0c174c4a2a40b10b04b37c43f5afee3701cc145b48441a2dc5cf9286c3c/kornia-0.3.1-py2.py3-none-any.whl (158kB)\n",
            "\u001b[K     |████████████████████████████████| 163kB 3.5MB/s \n",
            "\u001b[?25hCollecting torch_lr_finder\n",
            "  Downloading https://files.pythonhosted.org/packages/f9/42/baaf4556393f8d23e81e522e1e3ed1ab407a1aa79350ecbce8df065d9e12/torch_lr_finder-0.1.5-py3-none-any.whl\n",
            "Requirement already satisfied, skipping upgrade: future in /usr/local/lib/python3.6/dist-packages (from torch->vathos==0.0.1) (0.16.0)\n",
            "Requirement already satisfied, skipping upgrade: pillow>=4.1.1 in /usr/local/lib/python3.6/dist-packages (from torchvision->vathos==0.0.1) (7.0.0)\n",
            "Requirement already satisfied, skipping upgrade: scipy in /usr/local/lib/python3.6/dist-packages (from albumentations->vathos==0.0.1) (1.4.1)\n",
            "Collecting imgaug<0.2.7,>=0.2.5\n",
            "\u001b[?25l  Downloading https://files.pythonhosted.org/packages/ad/2e/748dbb7bb52ec8667098bae9b585f448569ae520031932687761165419a2/imgaug-0.2.6.tar.gz (631kB)\n",
            "\u001b[K     |████████████████████████████████| 634kB 8.8MB/s \n",
            "\u001b[?25hRequirement already satisfied, skipping upgrade: opencv-python in /usr/local/lib/python3.6/dist-packages (from albumentations->vathos==0.0.1) (4.1.2.30)\n",
            "Requirement already satisfied, skipping upgrade: matplotlib in /usr/local/lib/python3.6/dist-packages (from torch_lr_finder->vathos==0.0.1) (3.2.1)\n",
            "Requirement already satisfied, skipping upgrade: scikit-image>=0.11.0 in /usr/local/lib/python3.6/dist-packages (from imgaug<0.2.7,>=0.2.5->albumentations->vathos==0.0.1) (0.16.2)\n",
            "Requirement already satisfied, skipping upgrade: six in /usr/local/lib/python3.6/dist-packages (from imgaug<0.2.7,>=0.2.5->albumentations->vathos==0.0.1) (1.12.0)\n",
            "Requirement already satisfied, skipping upgrade: cycler>=0.10 in /usr/local/lib/python3.6/dist-packages (from matplotlib->torch_lr_finder->vathos==0.0.1) (0.10.0)\n",
            "Requirement already satisfied, skipping upgrade: pyparsing!=2.0.4,!=2.1.2,!=2.1.6,>=2.0.1 in /usr/local/lib/python3.6/dist-packages (from matplotlib->torch_lr_finder->vathos==0.0.1) (2.4.7)\n",
            "Requirement already satisfied, skipping upgrade: python-dateutil>=2.1 in /usr/local/lib/python3.6/dist-packages (from matplotlib->torch_lr_finder->vathos==0.0.1) (2.8.1)\n",
            "Requirement already satisfied, skipping upgrade: kiwisolver>=1.0.1 in /usr/local/lib/python3.6/dist-packages (from matplotlib->torch_lr_finder->vathos==0.0.1) (1.2.0)\n",
            "Requirement already satisfied, skipping upgrade: PyWavelets>=0.4.0 in /usr/local/lib/python3.6/dist-packages (from scikit-image>=0.11.0->imgaug<0.2.7,>=0.2.5->albumentations->vathos==0.0.1) (1.1.1)\n",
            "Requirement already satisfied, skipping upgrade: networkx>=2.0 in /usr/local/lib/python3.6/dist-packages (from scikit-image>=0.11.0->imgaug<0.2.7,>=0.2.5->albumentations->vathos==0.0.1) (2.4)\n",
            "Requirement already satisfied, skipping upgrade: imageio>=2.3.0 in /usr/local/lib/python3.6/dist-packages (from scikit-image>=0.11.0->imgaug<0.2.7,>=0.2.5->albumentations->vathos==0.0.1) (2.4.1)\n",
            "Requirement already satisfied, skipping upgrade: decorator>=4.3.0 in /usr/local/lib/python3.6/dist-packages (from networkx>=2.0->scikit-image>=0.11.0->imgaug<0.2.7,>=0.2.5->albumentations->vathos==0.0.1) (4.4.2)\n",
            "Building wheels for collected packages: vathos, imgaug\n",
            "  Building wheel for vathos (setup.py) ... \u001b[?25l\u001b[?25hdone\n",
            "  Created wheel for vathos: filename=vathos-0.0.1-cp36-none-any.whl size=21103 sha256=7f6f553f5100c0c228389ef8488eb055f0ae482dc267f1a571248ee847d5a333\n",
            "  Stored in directory: /tmp/pip-ephem-wheel-cache-cftte2im/wheels/d2/d5/4d/f81c8b5b555fb477f148552bf512e5e98404e63bd793ab920f\n",
            "  Building wheel for imgaug (setup.py) ... \u001b[?25l\u001b[?25hdone\n",
            "  Created wheel for imgaug: filename=imgaug-0.2.6-cp36-none-any.whl size=654020 sha256=e850b1518b9da6c2db9ec4bba9c629b802f10c972c3420265f6a276a97cc5601\n",
            "  Stored in directory: /root/.cache/pip/wheels/97/ec/48/0d25896c417b715af6236dbcef8f0bed136a1a5e52972fc6d0\n",
            "Successfully built vathos imgaug\n",
            "Installing collected packages: kornia, torch-lr-finder, vathos, imgaug\n",
            "  Found existing installation: imgaug 0.2.9\n",
            "    Uninstalling imgaug-0.2.9:\n",
            "      Successfully uninstalled imgaug-0.2.9\n",
            "Successfully installed imgaug-0.2.6 kornia-0.3.1 torch-lr-finder-0.1.5 vathos-0.0.1\n"
          ],
          "name": "stdout"
        }
      ]
    },
    {
      "cell_type": "code",
      "metadata": {
        "id": "NsgtEcNKZhBk",
        "colab_type": "code",
        "colab": {}
      },
      "source": [
        "import vathos\n",
        "import vathos.runner as vrunner\n",
        "import vathos.utils as vutils\n",
        "import vathos.model as vmodel\n",
        "import vathos.data_loader as vdata_loader\n",
        "import vathos.model.loss as vloss\n",
        "\n",
        "import os\n",
        "from pathlib import Path\n",
        "from zipfile import ZipFile\n",
        "import zipfile\n",
        "from PIL import Image\n",
        "import numpy as np\n",
        "import matplotlib.pyplot as plt\n",
        "import seaborn as sns\n",
        "import io\n",
        "import gc\n",
        "from tqdm.auto import tqdm, trange\n",
        "import torchvision\n",
        "from torchvision import datasets, transforms\n",
        "from torch.utils.data import DataLoader\n",
        "from torch.utils.data import Dataset\n",
        "from torch.utils.data import random_split\n",
        "from torchsummary import summary\n",
        "import torch.nn as nn\n",
        "import torchvision.transforms as T\n",
        "import glob\n",
        "import torch\n",
        "import sys\n",
        "from typing import List, Tuple\n",
        "import yaml\n",
        "import numpy as np\n",
        "import time\n",
        "import torch.nn.functional as F\n",
        "import torch.optim as optim"
      ],
      "execution_count": 0,
      "outputs": []
    },
    {
      "cell_type": "code",
      "metadata": {
        "id": "PitWr7VkaETO",
        "colab_type": "code",
        "outputId": "f1ec0481-2f46-40ab-f4f3-62ab8cdd6471",
        "colab": {
          "base_uri": "https://localhost:8080/",
          "height": 213,
          "referenced_widgets": [
            "dd6cd180a5d44574aad5b2b815f02af4",
            "14ef31e9a972466e8a1751f907a1c279",
            "8757f7e490224927a160986e2b5c118d",
            "8ee0d7e18f954a5f811484d3aaea85be",
            "72d03c383e7048efa6e3d6ae923a704c",
            "74dbcc77fd7243e59276bca107e8f319",
            "908fd1179c544b78b7ae32fa3b8f29ca",
            "30b1f6de1b6b49fd8f1850156adec582"
          ]
        }
      },
      "source": [
        "%%time\n",
        "dataset = vdata_loader.DenseDepth(root='data', source_zipfolder='/content/gdrive/My Drive/DepthProject/depth_dataset_zipped/',\n",
        "                     transform=T.Compose([T.ToTensor()]), target_transform=T.Compose([T.ToTensor()]))"
      ],
      "execution_count": 0,
      "outputs": [
        {
          "output_type": "stream",
          "text": [
            "Extracting the zip files\n"
          ],
          "name": "stdout"
        },
        {
          "output_type": "display_data",
          "data": {
            "application/vnd.jupyter.widget-view+json": {
              "model_id": "dd6cd180a5d44574aad5b2b815f02af4",
              "version_minor": 0,
              "version_major": 2
            },
            "text/plain": [
              "HBox(children=(FloatProgress(value=0.0, max=4.0), HTML(value='')))"
            ]
          },
          "metadata": {
            "tags": []
          }
        },
        {
          "output_type": "stream",
          "text": [
            "Extracting bg_small.zip ...\n",
            "Extracting fg_bg_small.zip ...\n",
            "Extracting fg_bg_mask_small.zip ...\n",
            "Extracting depth_fg_bg_small.zip ...\n",
            "\n",
            "found 100 bg images, 400000 fg_bg images, 400000 fg_bg_mask images, 400000 depth_fg_bg images\n",
            "CPU times: user 1min 30s, sys: 43.7 s, total: 2min 13s\n",
            "Wall time: 3min 9s\n"
          ],
          "name": "stdout"
        }
      ]
    },
    {
      "cell_type": "code",
      "metadata": {
        "id": "a9EBmhJPZzvt",
        "colab_type": "code",
        "outputId": "36fa99b0-c6bc-435f-cd63-13ee9428c3e2",
        "colab": {
          "base_uri": "https://localhost:8080/",
          "height": 54
        }
      },
      "source": [
        "%%time\n",
        "# 70 - 30 split\n",
        "train_size = int(0.7 * len(dataset))\n",
        "test_size = len(dataset) - train_size\n",
        "\n",
        "train_subset, test_subset = torch.utils.data.random_split(dataset, [train_size, test_size])"
      ],
      "execution_count": 0,
      "outputs": [
        {
          "output_type": "stream",
          "text": [
            "CPU times: user 23.3 ms, sys: 6.15 ms, total: 29.4 ms\n",
            "Wall time: 60.5 ms\n"
          ],
          "name": "stdout"
        }
      ]
    },
    {
      "cell_type": "code",
      "metadata": {
        "id": "-z81bYR6aQRj",
        "colab_type": "code",
        "colab": {}
      },
      "source": [
        "train_loader = torch.utils.data.DataLoader(train_subset, batch_size=128, shuffle=True, num_workers=2, pin_memory=True)"
      ],
      "execution_count": 0,
      "outputs": []
    },
    {
      "cell_type": "code",
      "metadata": {
        "id": "iiO7_7HaaVs-",
        "colab_type": "code",
        "colab": {}
      },
      "source": [
        "model = vmodel.ResUNet()"
      ],
      "execution_count": 0,
      "outputs": []
    },
    {
      "cell_type": "code",
      "metadata": {
        "id": "P8-XLKO2jZOs",
        "colab_type": "code",
        "colab": {}
      },
      "source": [
        "optimizer = optim.AdamW(model.parameters(), lr=1e-7, weight_decay=1e-2)"
      ],
      "execution_count": 0,
      "outputs": []
    },
    {
      "cell_type": "code",
      "metadata": {
        "id": "V7qG1LKcjmbL",
        "colab_type": "code",
        "colab": {}
      },
      "source": [
        "lr_finder = LRFinder(model, optimizer, device=\"cuda\")"
      ],
      "execution_count": 0,
      "outputs": []
    },
    {
      "cell_type": "code",
      "metadata": {
        "id": "4uKGGkH1jylk",
        "colab_type": "code",
        "outputId": "98a532fb-f5f4-4f7c-ae16-b5c9c5c3565c",
        "colab": {
          "base_uri": "https://localhost:8080/",
          "height": 85,
          "referenced_widgets": [
            "3bd835dfcd104575bebafdc488a602f2",
            "93315491f722403694032cca9db3462e",
            "7abcfab3274549d28bb6995c4543e8c2",
            "78bfd7a079e9401e91ae54e58c180bab",
            "62f6ff89d85e4f0486b87db7c2d72e96",
            "a50a583fea55421996e954ae2da77558",
            "ceadeab4443e451690b7d8b723e14215",
            "83510d048233402e9b9da77467fff083"
          ]
        }
      },
      "source": [
        "lr_finder.range_test(train_loader, end_lr=10, num_iter=200)"
      ],
      "execution_count": 0,
      "outputs": [
        {
          "output_type": "display_data",
          "data": {
            "application/vnd.jupyter.widget-view+json": {
              "model_id": "3bd835dfcd104575bebafdc488a602f2",
              "version_minor": 0,
              "version_major": 2
            },
            "text/plain": [
              "HBox(children=(FloatProgress(value=0.0, max=200.0), HTML(value='')))"
            ]
          },
          "metadata": {
            "tags": []
          }
        },
        {
          "output_type": "stream",
          "text": [
            "Stopping early, the loss has diverged\n",
            "Learning rate search finished. See the graph with {finder_name}.plot()\n"
          ],
          "name": "stdout"
        }
      ]
    },
    {
      "cell_type": "code",
      "metadata": {
        "id": "qEHvI81_jrLj",
        "colab_type": "code",
        "outputId": "966f70e7-e102-44d9-fe1b-578c1130bae9",
        "colab": {
          "base_uri": "https://localhost:8080/",
          "height": 291
        }
      },
      "source": [
        "lr_finder.plot() # to inspect the loss-learning rate graph\n",
        "plt.show()"
      ],
      "execution_count": 0,
      "outputs": [
        {
          "output_type": "display_data",
          "data": {
            "image/png": "[encoded data removed]",
            "text/plain": [
              "<Figure size 432x288 with 1 Axes>"
            ]
          },
          "metadata": {
            "tags": []
          }
        }
      ]
    },
    {
      "cell_type": "code",
      "metadata": {
        "id": "r_SnogW5lKad",
        "colab_type": "code",
        "colab": {}
      },
      "source": [
        "sorted_lr = [(lr, loss) for lr, loss in sorted(zip(lr_finder.history['loss'], lr_finder.history['lr'])) ]"
      ],
      "execution_count": 0,
      "outputs": []
    },
    {
      "cell_type": "code",
      "metadata": {
        "id": "GRg-ZZ7qlp5E",
        "colab_type": "code",
        "outputId": "292d8dc8-d76f-4022-999e-e4ba0f7b4cbb",
        "colab": {
          "base_uri": "https://localhost:8080/",
          "height": 745
        }
      },
      "source": [
        "sorted_lr[:40]"
      ],
      "execution_count": 0,
      "outputs": [
        {
          "output_type": "execute_result",
          "data": {
            "text/plain": [
              "[(0.9385480574505856, 0.3981071705534969),\n",
              " (0.9416598229802837, 0.36307805477010097),\n",
              " (0.9451743371437453, 0.43651583224016566),\n",
              " (0.9519436138969963, 0.3311311214825908),\n",
              " (0.9636485407333945, 0.3019951720402019),\n",
              " (0.9658887396341221, 0.2754228703338169),\n",
              " (0.976011964321728, 0.25118864315095824),\n",
              " (0.9824401203530206, 0.04365158322401656),\n",
              " (0.9871677125133919, 0.22908676527677746),\n",
              " (0.99486563119315, 0.03981071705534969),\n",
              " (0.9982885806851061, 0.2089296130854041),\n",
              " (1.0095215815297838, 0.19054607179632482),\n",
              " (1.010131191925238, 0.036307805477010104),\n",
              " (1.0165205469424583, 0.03311311214825908),\n",
              " (1.0169920940139918, 0.17378008287493762),\n",
              " (1.0249562910710541, 0.1584893192461114),\n",
              " (1.0282587995335781, 0.03019951720402019),\n",
              " (1.0326495161720293, 0.1445439770745928),\n",
              " (1.0372819251609782, 0.47863009232263803),\n",
              " (1.041811302154543, 0.13182567385564073),\n",
              " (1.043007790018103, 0.027542287033381692),\n",
              " (1.0452499168476326, 0.12022644346174131),\n",
              " (1.0472042738021272, 0.02511886431509582),\n",
              " (1.0533837349122932, 0.10964781961431849),\n",
              " (1.0575128952119044, 0.5248074602497723),\n",
              " (1.0591435040001262, 0.08317637711026708),\n",
              " (1.0592437795281588, 0.09999999999999999),\n",
              " (1.0610912903861183, 0.09120108393559095),\n",
              " (1.0637966487094874, 0.022908676527677745),\n",
              " (1.0644878175137535, 0.07585775750291834),\n",
              " (1.0701374495548803, 0.05248074602497723),\n",
              " (1.0721842766354794, 0.0478630092322638),\n",
              " (1.0727909018890716, 0.05754399373371566),\n",
              " (1.0733604709598155, 0.06918309709189363),\n",
              " (1.0748802214644178, 0.0630957344480193),\n",
              " (1.084857310462951, 0.02089296130854041),\n",
              " (1.1096593440718394, 0.019054607179632484),\n",
              " (1.1344490836740524, 0.017378008287493762),\n",
              " (1.1471900792400664, 0.5754399373371566),\n",
              " (1.1613055572887252, 0.01584893192461114)]"
            ]
          },
          "metadata": {
            "tags": []
          },
          "execution_count": 39
        }
      ]
    },
    {
      "cell_type": "markdown",
      "metadata": {
        "id": "sDEUGAQfl0MP",
        "colab_type": "text"
      },
      "source": [
        "# Conclusion\n",
        "\n",
        "### MAX LR = 0.2"
      ]
    },
    {
      "cell_type": "code",
      "metadata": {
        "id": "ZjVFoyjagdmQ",
        "colab_type": "code",
        "colab": {}
      },
      "source": [
        "def apply_on_batch(batch, apply_func):\n",
        "    batch['bg'] = apply_func(batch['bg'])\n",
        "    batch['fg_bg'] = apply_func(batch['fg_bg'])\n",
        "    batch['fg_bg_mask'] = apply_func(batch['fg_bg_mask'])\n",
        "    batch['depth_fg_bg'] = apply_func(batch['depth_fg_bg'])\n",
        "\n",
        "    return batch"
      ],
      "execution_count": 0,
      "outputs": []
    },
    {
      "cell_type": "code",
      "metadata": {
        "id": "7QPM9Sv4bC-9",
        "colab_type": "code",
        "outputId": "532991d1-c2b6-4b58-f210-cadd17216d60",
        "colab": {
          "base_uri": "https://localhost:8080/",
          "height": 54
        }
      },
      "source": [
        "import copy\n",
        "import os\n",
        "import torch\n",
        "from tqdm.autonotebook import tqdm\n",
        "from torch.optim.lr_scheduler import _LRScheduler\n",
        "import matplotlib.pyplot as plt\n",
        "\n",
        "try:\n",
        "    from apex import amp\n",
        "\n",
        "    IS_AMP_AVAILABLE = True\n",
        "except ImportError:\n",
        "    import logging\n",
        "\n",
        "    logging.basicConfig()\n",
        "    logger = logging.getLogger(__name__)\n",
        "    logger.warning(\n",
        "        \"To enable mixed precision training, please install `apex`. \"\n",
        "        \"Or you can re-install this package by the following command:\\n\"\n",
        "        '  pip install torch-lr-finder -v --global-option=\"amp\"'\n",
        "    )\n",
        "    IS_AMP_AVAILABLE = False\n",
        "    del logging\n",
        "\n",
        "\n",
        "class LRFinder(object):\n",
        "\n",
        "    def __init__(\n",
        "        self,\n",
        "        model,\n",
        "        optimizer,\n",
        "        device=None,\n",
        "        memory_cache=True,\n",
        "        cache_dir=None,\n",
        "    ):\n",
        "        # Check if the optimizer is already attached to a scheduler\n",
        "        self.optimizer = optimizer\n",
        "\n",
        "        self.model = model\n",
        "        self.history = {\"lr\": [], \"loss\": []}\n",
        "        self.best_loss = None\n",
        "        self.memory_cache = memory_cache\n",
        "        self.cache_dir = cache_dir\n",
        "\n",
        "        self.seg_loss = vloss.BCEDiceLoss()\n",
        "        self.depth_loss = vloss.RMSELoss()\n",
        "\n",
        "        # Save the original state of the model and optimizer so they can be restored if\n",
        "        # needed\n",
        "        self.model_device = next(self.model.parameters()).device\n",
        "\n",
        "        # If device is None, use the same as the model\n",
        "        if device:\n",
        "            self.device = device\n",
        "        else:\n",
        "            self.device = self.model_device\n",
        "\n",
        "    def range_test(\n",
        "        self,\n",
        "        train_loader,\n",
        "        start_lr=None,\n",
        "        end_lr=10,\n",
        "        num_iter=100,\n",
        "        step_mode=\"exp\",\n",
        "        smooth_f=0.05,\n",
        "        diverge_th=5,\n",
        "        accumulation_steps=1,\n",
        "        non_blocking_transfer=True,\n",
        "    ):\n",
        "\n",
        "        # Reset test results\n",
        "        self.history = {\"lr\": [], \"loss\": []}\n",
        "        self.best_loss = None\n",
        "\n",
        "        # Move the model to the proper device\n",
        "        self.model.to(self.device)\n",
        "\n",
        "        # Set the starting learning rate\n",
        "        if start_lr:\n",
        "            self._set_learning_rate(start_lr)\n",
        "\n",
        "        # Initialize the proper learning rate policy\n",
        "        if step_mode.lower() == \"exp\":\n",
        "            lr_schedule = ExponentialLR(self.optimizer, end_lr, num_iter)\n",
        "        elif step_mode.lower() == \"linear\":\n",
        "            lr_schedule = LinearLR(self.optimizer, end_lr, num_iter)\n",
        "        else:\n",
        "            raise ValueError(\"expected one of (exp, linear), got {}\".format(step_mode))\n",
        "\n",
        "        if smooth_f < 0 or smooth_f >= 1:\n",
        "            raise ValueError(\"smooth_f is outside the range [0, 1[\")\n",
        "\n",
        "        # Create an iterator to get data batch by batch\n",
        "        iter_wrapper = DataLoaderIterWrapper(train_loader)\n",
        "        for iteration in tqdm(range(num_iter)):\n",
        "            # Train on batch and retrieve loss\n",
        "            loss = self._train_batch(\n",
        "                iter_wrapper,\n",
        "                accumulation_steps,\n",
        "                non_blocking_transfer=non_blocking_transfer,\n",
        "            )\n",
        "\n",
        "            # Update the learning rate\n",
        "            lr_schedule.step()\n",
        "            self.history[\"lr\"].append(lr_schedule.get_lr()[0])\n",
        "\n",
        "            # Track the best loss and smooth it if smooth_f is specified\n",
        "            if iteration == 0:\n",
        "                self.best_loss = loss\n",
        "            else:\n",
        "                if smooth_f > 0:\n",
        "                    loss = smooth_f * loss + (1 - smooth_f) * self.history[\"loss\"][-1]\n",
        "                if loss < self.best_loss:\n",
        "                    self.best_loss = loss\n",
        "\n",
        "            # Check if the loss has diverged; if it has, stop the test\n",
        "            self.history[\"loss\"].append(loss)\n",
        "            if loss > diverge_th * self.best_loss:\n",
        "                print(\"Stopping early, the loss has diverged\")\n",
        "                break\n",
        "\n",
        "        print(\"Learning rate search finished. See the graph with {finder_name}.plot()\")\n",
        "\n",
        "    def _set_learning_rate(self, new_lrs):\n",
        "        if not isinstance(new_lrs, list):\n",
        "            new_lrs = [new_lrs] * len(self.optimizer.param_groups)\n",
        "        if len(new_lrs) != len(self.optimizer.param_groups):\n",
        "            raise ValueError(\n",
        "                \"Length of `new_lrs` is not equal to the number of parameter groups \"\n",
        "                + \"in the given optimizer\"\n",
        "            )\n",
        "\n",
        "        for param_group, new_lr in zip(self.optimizer.param_groups, new_lrs):\n",
        "            param_group[\"lr\"] = new_lr\n",
        "\n",
        "    def _train_batch(\n",
        "        self, iter_wrapper, accumulation_steps, non_blocking_transfer=True\n",
        "    ):\n",
        "        self.model.train()\n",
        "        total_loss = None  # for late initialization\n",
        "\n",
        "        self.optimizer.zero_grad()\n",
        "        for i in range(accumulation_steps):\n",
        "            data = next(iter_wrapper)\n",
        "            data = apply_on_batch(data, lambda x: x.to(self.device, non_blocking=True))\n",
        "\n",
        "            # Forward pass\n",
        "            x = torch.cat([data['bg'], data['fg_bg']], dim=1)\n",
        "            d_out, s_out = model(x)\n",
        "\n",
        "            l1 = self.seg_loss(s_out, data['fg_bg_mask'])\n",
        "            l2 = self.depth_loss(d_out, data['depth_fg_bg'])\n",
        "\n",
        "            loss = l1 + 2*l2\n",
        "\n",
        "            # Loss should be averaged in each step\n",
        "            loss /= accumulation_steps\n",
        "\n",
        "            # Backward pass\n",
        "            if IS_AMP_AVAILABLE and hasattr(self.optimizer, \"_amp_stash\"):\n",
        "                # For minor performance optimization, see also:\n",
        "                # https://nvidia.github.io/apex/advanced.html#gradient-accumulation-across-iterations\n",
        "                delay_unscale = ((i + 1) % accumulation_steps) != 0\n",
        "\n",
        "                with amp.scale_loss(\n",
        "                    loss, self.optimizer, delay_unscale=delay_unscale\n",
        "                ) as scaled_loss:\n",
        "                    scaled_loss.backward()\n",
        "            else:\n",
        "                loss.backward()\n",
        "\n",
        "            if total_loss is None:\n",
        "                total_loss = loss\n",
        "            else:\n",
        "                total_loss += loss\n",
        "\n",
        "        self.optimizer.step()\n",
        "\n",
        "        return total_loss.item()\n",
        "\n",
        "    def plot(self, skip_start=10, skip_end=5, log_lr=True, show_lr=None, ax=None):\n",
        "\n",
        "        if skip_start < 0:\n",
        "            raise ValueError(\"skip_start cannot be negative\")\n",
        "        if skip_end < 0:\n",
        "            raise ValueError(\"skip_end cannot be negative\")\n",
        "        if show_lr is not None and not isinstance(show_lr, float):\n",
        "            raise ValueError(\"show_lr must be float\")\n",
        "\n",
        "        # Get the data to plot from the history dictionary. Also, handle skip_end=0\n",
        "        # properly so the behaviour is the expected\n",
        "        lrs = self.history[\"lr\"]\n",
        "        losses = self.history[\"loss\"]\n",
        "        if skip_end == 0:\n",
        "            lrs = lrs[skip_start:]\n",
        "            losses = losses[skip_start:]\n",
        "        else:\n",
        "            lrs = lrs[skip_start:-skip_end]\n",
        "            losses = losses[skip_start:-skip_end]\n",
        "\n",
        "        # Create the figure and axes object if axes was not already given\n",
        "        fig = None\n",
        "        if ax is None:\n",
        "            fig, ax = plt.subplots()\n",
        "\n",
        "        # Plot loss as a function of the learning rate\n",
        "        ax.plot(lrs, losses)\n",
        "        if log_lr:\n",
        "            ax.set_xscale(\"log\")\n",
        "        ax.set_xlabel(\"Learning rate\")\n",
        "        ax.set_ylabel(\"Loss\")\n",
        "\n",
        "        if show_lr is not None:\n",
        "            ax.axvline(x=show_lr, color=\"red\")\n",
        "\n",
        "        # Show only if the figure was created internally\n",
        "        if fig is not None:\n",
        "            plt.show()\n",
        "\n",
        "        return ax\n",
        "\n",
        "\n",
        "class LinearLR(_LRScheduler):\n",
        "    def __init__(self, optimizer, end_lr, num_iter, last_epoch=-1):\n",
        "        self.end_lr = end_lr\n",
        "        self.num_iter = num_iter\n",
        "        super(LinearLR, self).__init__(optimizer, last_epoch)\n",
        "\n",
        "    def get_lr(self):\n",
        "        curr_iter = self.last_epoch + 1\n",
        "        r = curr_iter / self.num_iter\n",
        "        return [base_lr + r * (self.end_lr - base_lr) for base_lr in self.base_lrs]\n",
        "\n",
        "\n",
        "class ExponentialLR(_LRScheduler):\n",
        "    def __init__(self, optimizer, end_lr, num_iter, last_epoch=-1):\n",
        "        self.end_lr = end_lr\n",
        "        self.num_iter = num_iter\n",
        "        super(ExponentialLR, self).__init__(optimizer, last_epoch)\n",
        "\n",
        "    def get_lr(self):\n",
        "        curr_iter = self.last_epoch + 1\n",
        "        r = curr_iter / self.num_iter\n",
        "        return [base_lr * (self.end_lr / base_lr) ** r for base_lr in self.base_lrs]\n",
        "\n",
        "\n",
        "class StateCacher(object):\n",
        "    def __init__(self, in_memory, cache_dir=None):\n",
        "        self.in_memory = in_memory\n",
        "        self.cache_dir = cache_dir\n",
        "\n",
        "        if self.cache_dir is None:\n",
        "            import tempfile\n",
        "\n",
        "            self.cache_dir = tempfile.gettempdir()\n",
        "        else:\n",
        "            if not os.path.isdir(self.cache_dir):\n",
        "                raise ValueError(\"Given `cache_dir` is not a valid directory.\")\n",
        "\n",
        "        self.cached = {}\n",
        "\n",
        "    def store(self, key, state_dict):\n",
        "        if self.in_memory:\n",
        "            self.cached.update({key: copy.deepcopy(state_dict)})\n",
        "        else:\n",
        "            fn = os.path.join(self.cache_dir, \"state_{}_{}.pt\".format(key, id(self)))\n",
        "            self.cached.update({key: fn})\n",
        "            torch.save(state_dict, fn)\n",
        "\n",
        "    def retrieve(self, key):\n",
        "        if key not in self.cached:\n",
        "            raise KeyError(\"Target {} was not cached.\".format(key))\n",
        "\n",
        "        if self.in_memory:\n",
        "            return self.cached.get(key)\n",
        "        else:\n",
        "            fn = self.cached.get(key)\n",
        "            if not os.path.exists(fn):\n",
        "                raise RuntimeError(\n",
        "                    \"Failed to load state in {}. File doesn't exist anymore.\".format(fn)\n",
        "                )\n",
        "            state_dict = torch.load(fn, map_location=lambda storage, location: storage)\n",
        "            return state_dict\n",
        "\n",
        "    def __del__(self):\n",
        "        \"\"\"Check whether there are unused cached files existing in `cache_dir` before\n",
        "        this instance being destroyed.\"\"\"\n",
        "\n",
        "        if self.in_memory:\n",
        "            return\n",
        "\n",
        "        for k in self.cached:\n",
        "            if os.path.exists(self.cached[k]):\n",
        "                os.remove(self.cached[k])\n",
        "\n",
        "\n",
        "class DataLoaderIterWrapper(object):\n",
        "    \"\"\"A wrapper for iterating `torch.utils.data.DataLoader` with the ability to reset\n",
        "    itself while `StopIteration` is raised.\"\"\"\n",
        "\n",
        "    def __init__(self, data_loader, auto_reset=True):\n",
        "        self.data_loader = data_loader\n",
        "        self.auto_reset = auto_reset\n",
        "        self._iterator = iter(data_loader)\n",
        "\n",
        "    def __next__(self):\n",
        "        # Get a new set of inputs and labels\n",
        "        try:\n",
        "            data = next(self._iterator)\n",
        "        except StopIteration:\n",
        "            if not self.auto_reset:\n",
        "                raise\n",
        "            self._iterator = iter(self.data_loader)\n",
        "            data = next(self._iterator)\n",
        "\n",
        "        return data"
      ],
      "execution_count": 0,
      "outputs": [
        {
          "output_type": "stream",
          "text": [
            "WARNING:__main__:To enable mixed precision training, please install `apex`. Or you can re-install this package by the following command:\n",
            "  pip install torch-lr-finder -v --global-option=\"amp\"\n"
          ],
          "name": "stderr"
        }
      ]
    },
    {
      "cell_type": "code",
      "metadata": {
        "id": "uCjiW5bKiu9S",
        "colab_type": "code",
        "colab": {}
      },
      "source": [
        ""
      ],
      "execution_count": 0,
      "outputs": []
    },
    {
      "cell_type": "code",
      "metadata": {
        "id": "eLi6l275soM1",
        "colab_type": "code",
        "outputId": "3ebfa450-23d1-45f0-c3d4-bf40a6496ecf",
        "colab": {
          "base_uri": "https://localhost:8080/",
          "height": 35
        }
      },
      "source": [
        "%%writefile small_data.yaml\n",
        "name: vathos_small_train\n",
        "log_dir: \"/content/gdrive/My Drive/Run/logs\"\n",
        "chkpt_dir: \"/content/gdrive/My Drive/Run/checkpoint\"\n",
        "\n",
        "model_init: \"models/model.pt\"\n",
        "\n",
        "device: GPU\n",
        "\n",
        "model: ResUNet\n",
        "\n",
        "augmentation: DepthLightAug\n",
        "\n",
        "dataset:\n",
        "    name: DenseDepth\n",
        "    root: vathos_data\n",
        "    zip_dir: \"/content/gdrive/My Drive/DepthProject/depth_dataset_zipped/\"\n",
        "    div_factor: 1\n",
        "    loader_args:\n",
        "        batch_size: 128\n",
        "        num_workers: 4\n",
        "        shuffle: True\n",
        "        pin_memory: True\n",
        "\n",
        "seg_loss: BCEDiceLoss\n",
        "\n",
        "depth_loss: RMSELoss\n",
        "\n",
        "lr_scheduler:\n",
        "    type: OneCycleLR\n",
        "    args:\n",
        "        max_lr: 0.6\n",
        "\n",
        "optimizer:\n",
        "    type: AdamW\n",
        "    args:\n",
        "        lr: 0.01\n",
        "\n",
        "training:\n",
        "    epochs: 3"
      ],
      "execution_count": 0,
      "outputs": [
        {
          "output_type": "stream",
          "text": [
            "Overwriting small_data.yaml\n"
          ],
          "name": "stdout"
        }
      ]
    },
    {
      "cell_type": "code",
      "metadata": {
        "id": "SmqOKZAIS_vb",
        "colab_type": "code",
        "outputId": "7486ba08-f13c-4892-911a-fe417cbc7a4f",
        "colab": {
          "base_uri": "https://localhost:8080/",
          "height": 54
        }
      },
      "source": [
        "import vathos\n",
        "import vathos.runner as vrunner\n",
        "import vathos.utils as vutils"
      ],
      "execution_count": 0,
      "outputs": [
        {
          "output_type": "stream",
          "text": [
            "/usr/local/lib/python3.6/dist-packages/statsmodels/tools/_testing.py:19: FutureWarning: pandas.util.testing is deprecated. Use the functions in the public API at pandas.testing instead.\n",
            "  import pandas.util.testing as tm\n"
          ],
          "name": "stderr"
        }
      ]
    },
    {
      "cell_type": "code",
      "metadata": {
        "id": "L_uJZMAKTcTD",
        "colab_type": "code",
        "colab": {}
      },
      "source": [
        "config = vutils.load_config('small_data.yaml')"
      ],
      "execution_count": 0,
      "outputs": []
    },
    {
      "cell_type": "code",
      "metadata": {
        "id": "IR7V5SlwJf9k",
        "colab_type": "code",
        "outputId": "4422e33f-2baa-4bf6-bf7a-d337df774bb8",
        "colab": {
          "base_uri": "https://localhost:8080/",
          "height": 363
        }
      },
      "source": [
        "runner = vrunner.Runner(config)"
      ],
      "execution_count": 0,
      "outputs": [
        {
          "output_type": "stream",
          "text": [
            "                                                                     \n",
            "                            ___      ,---,                           \n",
            "       ,---.              ,--.'|_  ,--.' |                           \n",
            "      /__./|              |  | :,' |  |  :       ,---.               \n",
            " ,---.;  ; |              :  : ' : :  :  :      '   ,'\\   .--.--.    \n",
            "/___/ \\  | |   ,--.--.  .;__,'  /  :  |  |,--. /   /   | /  /    '   \n",
            "\\   ;  \\ ' |  /       \\ |  |   |   |  :  '   |.   ; ,. :|  :  /`./   \n",
            " \\   \\  \\: | .--.  .-. |:__,'| :   |  |   /' :'   | |: :|  :  ;_     \n",
            "  ;   \\  ' .  \\__\\/: . .  '  : |__ '  :  | | |'   | .; : \\  \\    `.  \n",
            "   \\   \\   '  ,\" .--.; |  |  | '.'||  |  ' | :|   :    |  `----.   \\ \n",
            "    \\   `  ; /  /  ,.  |  ;  :    ;|  :  :_:,' \\   \\  /  /  /`--'  / \n",
            "     :   \\ |;  :   .'   \\ |  ,   / |  | ,'      `----'  '--'.     /  \n",
            "      '---\" |  ,     .-./  ---`-'  `--''                  `--'---'   \n",
            "             `--`---'                                                \n",
            "                                                                     \n",
            "Author: Satyajit Ghana\n",
            "Github: https://github.com/satyajitghana/ProjektDepth\n",
            "\n",
            "[ 2020-05-23 21:10:38,516 - vathos.vathos.runner.runner ] INFO: Now simply setup_train and then start_train your model\n"
          ],
          "name": "stdout"
        }
      ]
    },
    {
      "cell_type": "code",
      "metadata": {
        "id": "_EFpz0xLKHOA",
        "colab_type": "code",
        "outputId": "9b597bc1-48a4-4a86-ea22-bec226043e61",
        "colab": {
          "base_uri": "https://localhost:8080/",
          "height": 654
        }
      },
      "source": [
        "runner.setup_train()"
      ],
      "execution_count": 0,
      "outputs": [
        {
          "output_type": "stream",
          "text": [
            "[ 2020-05-23 21:10:40,171 - vathos.vathos.runner.runner ] INFO: Config\n",
            "[ 2020-05-23 21:10:40,173 - vathos.vathos.runner.runner ] INFO: {'augmentation': 'DepthLightAug',\n",
            "[ 2020-05-23 21:10:40,174 - vathos.vathos.runner.runner ] INFO:  'chkpt_dir': '/content/gdrive/My Drive/Run/checkpoint',\n",
            "[ 2020-05-23 21:10:40,176 - vathos.vathos.runner.runner ] INFO:  'dataset': {'div_factor': 1,\n",
            "[ 2020-05-23 21:10:40,176 - vathos.vathos.runner.runner ] INFO:              'loader_args': {'batch_size': 128,\n",
            "[ 2020-05-23 21:10:40,178 - vathos.vathos.runner.runner ] INFO:                              'num_workers': 4,\n",
            "[ 2020-05-23 21:10:40,179 - vathos.vathos.runner.runner ] INFO:                              'pin_memory': True,\n",
            "[ 2020-05-23 21:10:40,181 - vathos.vathos.runner.runner ] INFO:                              'shuffle': True},\n",
            "[ 2020-05-23 21:10:40,183 - vathos.vathos.runner.runner ] INFO:              'name': 'DenseDepth',\n",
            "[ 2020-05-23 21:10:40,184 - vathos.vathos.runner.runner ] INFO:              'root': 'vathos_data',\n",
            "[ 2020-05-23 21:10:40,186 - vathos.vathos.runner.runner ] INFO:              'zip_dir': '/content/gdrive/My '\n",
            "[ 2020-05-23 21:10:40,186 - vathos.vathos.runner.runner ] INFO:                         'Drive/DepthProject/depth_dataset_zipped/'},\n",
            "[ 2020-05-23 21:10:40,188 - vathos.vathos.runner.runner ] INFO:  'depth_loss': 'RMSELoss',\n",
            "[ 2020-05-23 21:10:40,189 - vathos.vathos.runner.runner ] INFO:  'device': 'GPU',\n",
            "[ 2020-05-23 21:10:40,190 - vathos.vathos.runner.runner ] INFO:  'log_dir': '/content/gdrive/My Drive/Run/logs',\n",
            "[ 2020-05-23 21:10:40,193 - vathos.vathos.runner.runner ] INFO:  'lr_scheduler': {'args': {'max_lr': 0.6}, 'type': 'OneCycleLR'},\n",
            "[ 2020-05-23 21:10:40,194 - vathos.vathos.runner.runner ] INFO:  'model': 'ResUNet',\n",
            "[ 2020-05-23 21:10:40,195 - vathos.vathos.runner.runner ] INFO:  'model_init': 'models/model.pt',\n",
            "[ 2020-05-23 21:10:40,196 - vathos.vathos.runner.runner ] INFO:  'name': 'vathos_small_train',\n",
            "[ 2020-05-23 21:10:40,197 - vathos.vathos.runner.runner ] INFO:  'optimizer': {'args': {'lr': 0.01}, 'type': 'AdamW'},\n",
            "[ 2020-05-23 21:10:40,198 - vathos.vathos.runner.runner ] INFO:  'seg_loss': 'BCEDiceLoss',\n",
            "[ 2020-05-23 21:10:40,198 - vathos.vathos.runner.runner ] INFO:  'training': {'epochs': 3}}\n",
            "[ 2020-05-23 21:10:40,199 - vathos.vathos.utils.config ] INFO: Building vathos.data_loader.DenseDepth\n",
            "dataset folders/files already exists in vathos_data/Vathos\n",
            "found 100 bg images, 400000 fg_bg images, 400000 fg_bg_mask images, 400000 depth_fg_bg images\n",
            "[ 2020-05-23 21:10:58,013 - vathos.vathos.runner.runner ] INFO: => Found subset.pt loading indices\n",
            "[ 2020-05-23 21:10:58,014 - vathos.vathos.utils.config ] INFO: Building vathos.model.ResUNet\n",
            "[ 2020-05-23 21:10:58,130 - vathos.vathos.utils.config ] INFO: Building torch.optim.AdamW\n",
            "[ 2020-05-23 21:10:58,132 - vathos.vathos.utils.config ] INFO: Building vathos.model.loss.BCEDiceLoss\n",
            "[ 2020-05-23 21:10:58,134 - vathos.vathos.utils.config ] INFO: Building vathos.model.loss.RMSELoss\n",
            "[ 2020-05-23 21:10:58,143 - vathos.vathos.runner.runner ] INFO: => No saved checkpoints found\n",
            "[ 2020-05-23 21:10:58,143 - vathos.vathos.utils.config ] INFO: Building vathos.trainer.GPUTrainer\n",
            "[ 2020-05-23 21:10:59,349 - vathos.vathos.utils.config ] INFO: Building torch.utils.data.DataLoader\n",
            "[ 2020-05-23 21:10:59,352 - vathos.vathos.utils.config ] INFO: Building torch.utils.data.DataLoader\n",
            "[ 2020-05-23 21:10:59,356 - vathos.vathos.utils.config ] INFO: Building torch.optim.lr_scheduler.OneCycleLR\n"
          ],
          "name": "stdout"
        }
      ]
    },
    {
      "cell_type": "code",
      "metadata": {
        "id": "ZvoQ2wu9OIb9",
        "colab_type": "code",
        "outputId": "92f2b4c7-05c0-4770-8691-285b0ce9d385",
        "colab": {
          "base_uri": "https://localhost:8080/",
          "height": 627,
          "referenced_widgets": [
            "d3d8c37de34a4d6ca99ff0913e6758f5",
            "d1685f36e4414b8db4e92153218cd835",
            "1ccc43aee9634db9a3e1a6295debf63c",
            "f59dfb3a005f4fdc97c2010af1851d4c",
            "4c150d54d2a4421ba2ef37f43fc31623",
            "046019a4fcce4d99a5c55ca3c59144a3",
            "eff672c573b749e0898ca075a962438e",
            "2cedae8096044db98e978f19eaff895c",
            "b5318b670f16474d9fc1f6b9da26dfcf",
            "d72d05780cf54e9ab5fd36c92a6003d9",
            "e5537d63a37c49b9aa02c9d718344095",
            "643976e14a3f409aa9aae2fffa152dcf",
            "e8f162f76cf5458589ceebcc288425f6",
            "a2c04cf29278455f9f9cbccbc77f7ca1",
            "6216a881b2d040c0804a17ccf8d31eb4",
            "6f24e310617e4365bf3d2fdbbb157e08",
            "57150ce5eb9e4cff9cb4a27e31d6228d",
            "18c94e44fcec4aa69328c6b2d2fafa8a",
            "2a3ef1e1303e467f9812c9d351860e41",
            "c489a0fc86f7499b9e0e0ae3463f2b30",
            "f6e14481fd4f481dabf88d23e972f54f",
            "3dd13aba01d24416b321d64e9573bb17",
            "bb4ddd81141747a496e987c7acb9f6af",
            "55aae705db854666b8e3ac989304cd49",
            "501575a2eebc4642a6b448e7e5db1f9a",
            "244cbdbf339d408490525b43194e7ca9",
            "4df627c8936e447cbdfb33940c77616b",
            "b4515c7366e14468b83730f8fc8893d6",
            "e3455d6d1a2d4406b4d8a359b6ca8806",
            "70908c76f39c4ecfa472f2ff20431f5c",
            "91c4082f778d48aaa9924ed3fd305cdd",
            "133d5867d75c48c0b059bc3087d5fee8",
            "f819bb8f0d04422a8894cfae9ffcedfa",
            "793afcaec3464f1984d92bc92ecbeb91",
            "d266c66736084a429d8cc78493b47bd1",
            "a311fa2b6c62438d998249960a4de6a5",
            "024ade4b2aa34b5780162736ff9f9615",
            "8dec2e5914084c4888980fa36d864c5c",
            "e4a82e15592b44eab0cf1c58b34094f7",
            "5cdad1e56b4b4ec3adc8c38d82bcc357",
            "103b85a00c5743aa90bf998e896ea6cb",
            "0d897ccf515841e08114b0ed5ec8f1bc",
            "420993d96a484b2ca103deac955d7fca",
            "05c7e572c0f343dfaa1eefd63e2fc78b",
            "2a3f77561eac4a2d899daf2c586a18dc",
            "01f3d087b72d43e7b64dbcfee06ce587",
            "e725a8cbbfbd430f9096640f7f669f3c",
            "9773e6da704040539197ddb0a975d0ed"
          ]
        }
      },
      "source": [
        "runner.trainer.start_train()"
      ],
      "execution_count": 0,
      "outputs": [
        {
          "output_type": "stream",
          "text": [
            "[ 2020-05-23 21:11:04,589 - vathos.vathos.trainer.gpu_trainer ] INFO: => Training Started\n",
            "[ 2020-05-23 21:11:04,591 - vathos.vathos.trainer.gpu_trainer ] INFO: Training the model for 3 epochs\n",
            "[ 2020-05-23 21:11:04,593 - vathos.vathos.trainer.gpu_trainer ] INFO: => LR was set to 0.02400000000000002\n",
            "[ 2020-05-23 21:11:04,594 - vathos.vathos.trainer.gpu_trainer ] INFO: Training Epoch 0\n"
          ],
          "name": "stdout"
        },
        {
          "output_type": "display_data",
          "data": {
            "application/vnd.jupyter.widget-view+json": {
              "model_id": "d3d8c37de34a4d6ca99ff0913e6758f5",
              "version_minor": 0,
              "version_major": 2
            },
            "text/plain": [
              "HBox(children=(FloatProgress(value=0.0, layout=Layout(flex='2'), max=137.0), HTML(value='')), layout=Layout(di…"
            ]
          },
          "metadata": {
            "tags": []
          }
        },
        {
          "output_type": "stream",
          "text": [
            "\n",
            "[ 2020-05-23 21:12:21,281 - vathos.vathos.trainer.gpu_trainer ] INFO: Testing Epoch 0\n"
          ],
          "name": "stdout"
        },
        {
          "output_type": "display_data",
          "data": {
            "application/vnd.jupyter.widget-view+json": {
              "model_id": "b5318b670f16474d9fc1f6b9da26dfcf",
              "version_minor": 0,
              "version_major": 2
            },
            "text/plain": [
              "HBox(children=(FloatProgress(value=0.0, layout=Layout(flex='2'), max=59.0), HTML(value='')), layout=Layout(dis…"
            ]
          },
          "metadata": {
            "tags": []
          }
        },
        {
          "output_type": "stream",
          "text": [
            "\n",
            "[ 2020-05-23 21:12:37,351 - vathos.vathos.trainer.gpu_trainer ] INFO: mIOU: 0.0 mRMSE: 0.6348937749862671\n",
            "[ 2020-05-23 21:12:40,587 - vathos.vathos.trainer.gpu_trainer ] INFO: => Accuracy improved, saving checkpoint ...\n",
            "[ 2020-05-23 21:12:42,075 - vathos.vathos.trainer.gpu_trainer ] INFO: => LR was set to 0.596143338756626\n",
            "[ 2020-05-23 21:12:42,075 - vathos.vathos.trainer.gpu_trainer ] INFO: Training Epoch 1\n"
          ],
          "name": "stdout"
        },
        {
          "output_type": "display_data",
          "data": {
            "application/vnd.jupyter.widget-view+json": {
              "model_id": "57150ce5eb9e4cff9cb4a27e31d6228d",
              "version_minor": 0,
              "version_major": 2
            },
            "text/plain": [
              "HBox(children=(FloatProgress(value=0.0, layout=Layout(flex='2'), max=137.0), HTML(value='')), layout=Layout(di…"
            ]
          },
          "metadata": {
            "tags": []
          }
        },
        {
          "output_type": "stream",
          "text": [
            "\n",
            "[ 2020-05-23 21:13:57,764 - vathos.vathos.trainer.gpu_trainer ] INFO: Testing Epoch 1\n"
          ],
          "name": "stdout"
        },
        {
          "output_type": "display_data",
          "data": {
            "application/vnd.jupyter.widget-view+json": {
              "model_id": "501575a2eebc4642a6b448e7e5db1f9a",
              "version_minor": 0,
              "version_major": 2
            },
            "text/plain": [
              "HBox(children=(FloatProgress(value=0.0, layout=Layout(flex='2'), max=59.0), HTML(value='')), layout=Layout(dis…"
            ]
          },
          "metadata": {
            "tags": []
          }
        },
        {
          "output_type": "stream",
          "text": [
            "\n",
            "[ 2020-05-23 21:14:14,042 - vathos.vathos.trainer.gpu_trainer ] INFO: mIOU: 0.14126457273960114 mRMSE: 0.3293454349040985\n",
            "[ 2020-05-23 21:14:17,468 - vathos.vathos.trainer.gpu_trainer ] INFO: => Accuracy improved, saving checkpoint ...\n",
            "[ 2020-05-23 21:14:18,894 - vathos.vathos.trainer.gpu_trainer ] INFO: => LR was set to 0.2743169315309916\n",
            "[ 2020-05-23 21:14:18,895 - vathos.vathos.trainer.gpu_trainer ] INFO: Training Epoch 2\n"
          ],
          "name": "stdout"
        },
        {
          "output_type": "display_data",
          "data": {
            "application/vnd.jupyter.widget-view+json": {
              "model_id": "f819bb8f0d04422a8894cfae9ffcedfa",
              "version_minor": 0,
              "version_major": 2
            },
            "text/plain": [
              "HBox(children=(FloatProgress(value=0.0, layout=Layout(flex='2'), max=137.0), HTML(value='')), layout=Layout(di…"
            ]
          },
          "metadata": {
            "tags": []
          }
        },
        {
          "output_type": "stream",
          "text": [
            "\n",
            "[ 2020-05-23 21:15:34,588 - vathos.vathos.trainer.gpu_trainer ] INFO: Testing Epoch 2\n"
          ],
          "name": "stdout"
        },
        {
          "output_type": "display_data",
          "data": {
            "application/vnd.jupyter.widget-view+json": {
              "model_id": "103b85a00c5743aa90bf998e896ea6cb",
              "version_minor": 0,
              "version_major": 2
            },
            "text/plain": [
              "HBox(children=(FloatProgress(value=0.0, layout=Layout(flex='2'), max=59.0), HTML(value='')), layout=Layout(dis…"
            ]
          },
          "metadata": {
            "tags": []
          }
        },
        {
          "output_type": "stream",
          "text": [
            "\n",
            "[ 2020-05-23 21:15:50,688 - vathos.vathos.trainer.gpu_trainer ] INFO: mIOU: 0.4117630124092102 mRMSE: 0.3292577266693115\n",
            "[ 2020-05-23 21:15:54,203 - vathos.vathos.trainer.gpu_trainer ] INFO: => Accuracy improved, saving checkpoint ...\n"
          ],
          "name": "stdout"
        }
      ]
    },
    {
      "cell_type": "code",
      "metadata": {
        "id": "wBZjNMVwbUaH",
        "colab_type": "code",
        "outputId": "b884a22a-3706-48a6-a6d0-2d509ee4cc11",
        "colab": {
          "base_uri": "https://localhost:8080/",
          "height": 54
        }
      },
      "source": [
        "%load_ext tensorboard"
      ],
      "execution_count": 0,
      "outputs": [
        {
          "output_type": "stream",
          "text": [
            "The tensorboard extension is already loaded. To reload it, use:\n",
            "  %reload_ext tensorboard\n"
          ],
          "name": "stdout"
        }
      ]
    },
    {
      "cell_type": "code",
      "metadata": {
        "id": "dawRulkVWwij",
        "colab_type": "code",
        "colab": {}
      },
      "source": [
        "%reload_ext tensorboard"
      ],
      "execution_count": 0,
      "outputs": []
    },
    {
      "cell_type": "code",
      "metadata": {
        "id": "8MwVYnuVV-Cj",
        "colab_type": "code",
        "outputId": "1b50ed01-8b71-407b-cf26-e52cad5cd73d",
        "colab": {
          "base_uri": "https://localhost:8080/",
          "height": 35
        }
      },
      "source": [
        "!kill 3047"
      ],
      "execution_count": 0,
      "outputs": [
        {
          "output_type": "stream",
          "text": [
            "/bin/bash: line 0: kill: (3047) - No such process\n"
          ],
          "name": "stdout"
        }
      ]
    },
    {
      "cell_type": "code",
      "metadata": {
        "id": "uG5Ci8gZbWpI",
        "colab_type": "code",
        "outputId": "c077ce53-da1d-4341-be44-a492d42ab2a0",
        "colab": {
          "base_uri": "https://localhost:8080/",
          "height": 821
        }
      },
      "source": [
        "%tensorboard --logdir /content/gdrive/My\\ Drive/Run/logs"
      ],
      "execution_count": 0,
      "outputs": []
    },
    {
      "cell_type": "code",
      "metadata": {
        "id": "caEIgwasEeyd",
        "colab_type": "code",
        "colab": {}
      },
      "source": [
        "! rm -r checkpoint"
      ],
      "execution_count": 0,
      "outputs": []
    },
    {
      "cell_type": "code",
      "metadata": {
        "id": "7eWRSA4_bZau",
        "colab_type": "code",
        "colab": {}
      },
      "source": [
        "! rm -r logs"
      ],
      "execution_count": 0,
      "outputs": []
    },
    {
      "cell_type": "code",
      "metadata": {
        "id": "27y3uM2Df6ko",
        "colab_type": "code",
        "outputId": "b59a2309-acb4-4e61-cc67-d00f29292018",
        "colab": {
          "base_uri": "https://localhost:8080/",
          "height": 326
        }
      },
      "source": [
        "! nvidia-smi"
      ],
      "execution_count": 0,
      "outputs": [
        {
          "output_type": "stream",
          "text": [
            "Sat May 23 19:07:23 2020       \n",
            "+-----------------------------------------------------------------------------+\n",
            "| NVIDIA-SMI 440.82       Driver Version: 418.67       CUDA Version: 10.1     |\n",
            "|-------------------------------+----------------------+----------------------+\n",
            "| GPU  Name        Persistence-M| Bus-Id        Disp.A | Volatile Uncorr. ECC |\n",
            "| Fan  Temp  Perf  Pwr:Usage/Cap|         Memory-Usage | GPU-Util  Compute M. |\n",
            "|===============================+======================+======================|\n",
            "|   0  Tesla P100-PCIE...  Off  | 00000000:00:04.0 Off |                    0 |\n",
            "| N/A   33C    P0    27W / 250W |      0MiB / 16280MiB |      0%      Default |\n",
            "+-------------------------------+----------------------+----------------------+\n",
            "                                                                               \n",
            "+-----------------------------------------------------------------------------+\n",
            "| Processes:                                                       GPU Memory |\n",
            "|  GPU       PID   Type   Process name                             Usage      |\n",
            "|=============================================================================|\n",
            "|  No running processes found                                                 |\n",
            "+-----------------------------------------------------------------------------+\n"
          ],
          "name": "stdout"
        }
      ]
    },
    {
      "cell_type": "code",
      "metadata": {
        "id": "9du973DO7rB8",
        "colab_type": "code",
        "colab": {}
      },
      "source": [
        ""
      ],
      "execution_count": 0,
      "outputs": []
    }
  ]
}