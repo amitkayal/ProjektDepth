{
  "nbformat": 4,
  "nbformat_minor": 0,
  "metadata": {
    "colab": {
      "name": "07-DepthModel-CreateDataloader.ipynb",
      "provenance": [],
      "collapsed_sections": [],
      "authorship_tag": "ABX9TyMn9JkbQJwbgVUNe93NfZ2U",
      "include_colab_link": true
    },
    "kernelspec": {
      "name": "python3",
      "display_name": "Python 3"
    }
  },
  "cells": [
    {
      "cell_type": "markdown",
      "metadata": {
        "id": "view-in-github",
        "colab_type": "text"
      },
      "source": [
        "<a href=\"https://colab.research.google.com/github/satyajitghana/ProjektDepth/blob/master/notebooks/07_DepthModel_CreateDataloader.ipynb\" target=\"_parent\"><img src=\"https://colab.research.google.com/assets/colab-badge.svg\" alt=\"Open In Colab\"/></a>"
      ]
    },
    {
      "cell_type": "code",
      "metadata": {
        "id": "EAgg7wK0QwPd",
        "colab_type": "code",
        "outputId": "1689f981-7e33-42d2-d0ee-9770101803ac",
        "colab": {
          "base_uri": "https://localhost:8080/",
          "height": 122
        }
      },
      "source": [
        "from google.colab import drive\n",
        "drive.mount('/content/gdrive')"
      ],
      "execution_count": 0,
      "outputs": [
        {
          "output_type": "stream",
          "text": [
            "Go to this URL in a browser: https://accounts.google.com/o/oauth2/auth?client_id=947318989803-6bn6qk8qdgf4n4g3pfee6491hc0brc4i.apps.googleusercontent.com&redirect_uri=urn%3aietf%3awg%3aoauth%3a2.0%3aoob&response_type=code&scope=email%20https%3a%2f%2fwww.googleapis.com%2fauth%2fdocs.test%20https%3a%2f%2fwww.googleapis.com%2fauth%2fdrive%20https%3a%2f%2fwww.googleapis.com%2fauth%2fdrive.photos.readonly%20https%3a%2f%2fwww.googleapis.com%2fauth%2fpeopleapi.readonly\n",
            "\n",
            "Enter your authorization code:\n",
            "··········\n",
            "Mounted at /content/gdrive\n"
          ],
          "name": "stdout"
        }
      ]
    },
    {
      "cell_type": "code",
      "metadata": {
        "id": "unZyRgHiSgTL",
        "colab_type": "code",
        "colab": {}
      },
      "source": [
        "import os\n",
        "from pathlib import Path\n",
        "from zipfile import ZipFile\n",
        "import zipfile\n",
        "from PIL import Image\n",
        "import numpy as np\n",
        "import matplotlib.pyplot as plt\n",
        "import seaborn as sns\n",
        "import io\n",
        "import gc\n",
        "from tqdm.auto import tqdm\n",
        "import torchvision\n",
        "from torchvision import datasets\n",
        "from torch.utils.data import DataLoader\n",
        "from torch.utils.data import Dataset\n",
        "from torch.utils.data import random_split\n",
        "import torchvision.transforms as T\n",
        "import glob\n",
        "import torch\n",
        "import sys\n",
        "sns.set()"
      ],
      "execution_count": 0,
      "outputs": []
    },
    {
      "cell_type": "code",
      "metadata": {
        "id": "s6AafDQ0SrPN",
        "colab_type": "code",
        "colab": {}
      },
      "source": [
        "dataset_path = Path('/content/gdrive/My Drive/DepthProject/depth_dataset_zipped/')"
      ],
      "execution_count": 0,
      "outputs": []
    },
    {
      "cell_type": "code",
      "metadata": {
        "id": "Bvztzxm4Syv2",
        "colab_type": "code",
        "outputId": "4fabd5cb-9458-4ca1-c778-2887b3c25d8c",
        "colab": {
          "base_uri": "https://localhost:8080/",
          "height": 204
        }
      },
      "source": [
        "os.listdir(dataset_path)"
      ],
      "execution_count": 0,
      "outputs": [
        {
          "output_type": "execute_result",
          "data": {
            "text/plain": [
              "['label_info.txt',\n",
              " 'fg_bg_mask.zip',\n",
              " 'fg.zip',\n",
              " 'bg.zip',\n",
              " 'depth_fg_bg.zip',\n",
              " 'fg_bg.zip',\n",
              " 'fg_bg_small.zip',\n",
              " 'fg_bg_mask_small.zip',\n",
              " 'bg_small.zip',\n",
              " 'bg_192.zip',\n",
              " 'depth_fg_bg_small.zip']"
            ]
          },
          "metadata": {
            "tags": []
          },
          "execution_count": 7
        }
      ]
    },
    {
      "cell_type": "code",
      "metadata": {
        "id": "GNXVPpRrdQ6_",
        "colab_type": "code",
        "colab": {}
      },
      "source": [
        "def plot_sample(sample):\n",
        "    '''\n",
        "    Plots a given sample of the dataset\n",
        "    '''\n",
        "    bg, fg_bg, fg_bg_mask, depth_fg_bg = sample['bg'].permute(1, 2, 0).numpy(), sample['fg_bg'].permute(1, 2, 0).numpy(), sample['fg_bg_mask'][0].numpy(), sample['depth_fg_bg'][0].numpy()\n",
        "    fig, ax = plt.subplots(2, 2, figsize=(4, 4), sharex=True, sharey=True)\n",
        "\n",
        "    ax[0, 0].imshow(bg) ; ax[0, 0].axis('off')\n",
        "\n",
        "    ax[0, 1].imshow(fg_bg) ; ax[0, 1].axis('off')\n",
        "\n",
        "    ax[1, 0].imshow(fg_bg_mask) ; ax[1, 0].axis('off')\n",
        "\n",
        "    ax[1, 1].imshow(depth_fg_bg) ; ax[1, 1].axis('off')\n",
        "\n",
        "    fig.tight_layout()\n",
        "\n",
        "    plt.show()\n"
      ],
      "execution_count": 0,
      "outputs": []
    },
    {
      "cell_type": "code",
      "metadata": {
        "id": "V-KhU1R9in9t",
        "colab_type": "code",
        "outputId": "8c3db87c-2fef-4f77-bf71-2a983a01dfa9",
        "colab": {
          "base_uri": "https://localhost:8080/",
          "height": 51
        }
      },
      "source": [
        "dataset = DenseDepth(root='data', source_zipfolder='/content/gdrive/My Drive/DepthProject/depth_dataset_zipped/',\n",
        "                     transform=T.Compose([T.ToTensor()]), target_transform=T.Compose([T.ToTensor()]))"
      ],
      "execution_count": 0,
      "outputs": [
        {
          "output_type": "stream",
          "text": [
            "dataset folders/files already exists in data/Vathos\n",
            "found 100 bg images, 400000 fg_bg images, 400000 fg_bg_mask images, 400000 depth_fg_bg images\n"
          ],
          "name": "stdout"
        }
      ]
    },
    {
      "cell_type": "code",
      "metadata": {
        "id": "3A5h85eMCwe1",
        "colab_type": "code",
        "colab": {}
      },
      "source": [
        "sample = dataset[340000]"
      ],
      "execution_count": 0,
      "outputs": []
    },
    {
      "cell_type": "code",
      "metadata": {
        "id": "DYezfSekOCVb",
        "colab_type": "code",
        "outputId": "19a16cc1-3e3a-4a22-c7b9-f1bfc3bd47c4",
        "colab": {
          "base_uri": "https://localhost:8080/",
          "height": 293
        }
      },
      "source": [
        "DenseDepth.plot_sample(sample)"
      ],
      "execution_count": 0,
      "outputs": [
        {
          "output_type": "display_data",
          "data": {
            "image/png": "[encoded data removed]",
            "text/plain": [
              "<Figure size 288x288 with 4 Axes>"
            ]
          },
          "metadata": {
            "tags": []
          }
        }
      ]
    },
    {
      "cell_type": "code",
      "metadata": {
        "id": "A0jCVLFG9HhL",
        "colab_type": "code",
        "colab": {}
      },
      "source": [
        "# 70 - 30 split\n",
        "train_size = int(0.7 * len(dataset))\n",
        "test_size = len(dataset) - train_size\n",
        "\n",
        "train_subset, test_subset = torch.utils.data.random_split(dataset, [train_size, test_size])"
      ],
      "execution_count": 0,
      "outputs": []
    },
    {
      "cell_type": "code",
      "metadata": {
        "id": "cpBVJ1Ie4Qul",
        "colab_type": "code",
        "outputId": "9b1e554a-62d4-42c8-849c-8cded571d55b",
        "colab": {
          "base_uri": "https://localhost:8080/",
          "height": 34
        }
      },
      "source": [
        "len(train_subset), len(test_subset)"
      ],
      "execution_count": 0,
      "outputs": [
        {
          "output_type": "execute_result",
          "data": {
            "text/plain": [
              "(280000, 120000)"
            ]
          },
          "metadata": {
            "tags": []
          },
          "execution_count": 183
        }
      ]
    },
    {
      "cell_type": "code",
      "metadata": {
        "id": "JIE9YLs8QutU",
        "colab_type": "code",
        "colab": {}
      },
      "source": [
        "train_loader = torch.utils.data.DataLoader(train_subset, batch_size=512, shuffle=True, num_workers=2)"
      ],
      "execution_count": 0,
      "outputs": []
    },
    {
      "cell_type": "code",
      "metadata": {
        "id": "Eg8TqkYieb2D",
        "colab_type": "code",
        "colab": {}
      },
      "source": [
        "import sys\n",
        "sys.path.insert(0, 'ProjektDepth')"
      ],
      "execution_count": 0,
      "outputs": []
    },
    {
      "cell_type": "code",
      "metadata": {
        "id": "VBK48vhZaRqE",
        "colab_type": "code",
        "outputId": "ad4cb847-a995-4de9-ee1b-a20ba6183c68",
        "colab": {
          "base_uri": "https://localhost:8080/",
          "height": 34
        }
      },
      "source": [
        "! git clone https://github.com/satyajitghana/ProjektDepth.git"
      ],
      "execution_count": 0,
      "outputs": [
        {
          "output_type": "stream",
          "text": [
            "fatal: destination path 'ProjektDepth' already exists and is not an empty directory.\n"
          ],
          "name": "stdout"
        }
      ]
    },
    {
      "cell_type": "code",
      "metadata": {
        "id": "3I02sGgnettu",
        "colab_type": "code",
        "outputId": "f8ea9fbb-5c77-4b5c-e0d3-36d22eb29231",
        "colab": {
          "base_uri": "https://localhost:8080/",
          "height": 85
        }
      },
      "source": [
        "%load_ext autoreload\n",
        "%autoreload 2\n",
        "\n",
        "import vathos.data_loader as vloader\n",
        "import vathos.model as vmodel"
      ],
      "execution_count": 0,
      "outputs": [
        {
          "output_type": "stream",
          "text": [
            "The autoreload extension is already loaded. To reload it, use:\n",
            "  %reload_ext autoreload\n"
          ],
          "name": "stdout"
        },
        {
          "output_type": "stream",
          "text": [
            "/usr/local/lib/python3.6/dist-packages/statsmodels/tools/_testing.py:19: FutureWarning: pandas.util.testing is deprecated. Use the functions in the public API at pandas.testing instead.\n",
            "  import pandas.util.testing as tm\n"
          ],
          "name": "stderr"
        }
      ]
    },
    {
      "cell_type": "code",
      "metadata": {
        "id": "YnFaqNmof7vX",
        "colab_type": "code",
        "outputId": "b54e7c4d-74b3-48fb-f7c6-c77984903b83",
        "colab": {
          "base_uri": "https://localhost:8080/",
          "height": 68
        }
      },
      "source": [
        "vloader.DenseDepth(root='data', source_zipfolder='/content/gdrive/My Drive/DepthProject/depth_dataset_zipped/',\n",
        "                     transform=T.Compose([T.ToTensor()]), target_transform=T.Compose([T.ToTensor()]))"
      ],
      "execution_count": 0,
      "outputs": [
        {
          "output_type": "stream",
          "text": [
            "dataset folders/files already exists in data/Vathos\n",
            "found 100 bg images, 400000 fg_bg images, 400000 fg_bg_mask images, 400000 depth_fg_bg images\n"
          ],
          "name": "stdout"
        },
        {
          "output_type": "execute_result",
          "data": {
            "text/plain": [
              "<vathos.data_loader.dense_depth.DenseDepth at 0x7fbf91d03b00>"
            ]
          },
          "metadata": {
            "tags": []
          },
          "execution_count": 213
        }
      ]
    },
    {
      "cell_type": "code",
      "metadata": {
        "id": "N0bh_3WEgPAJ",
        "colab_type": "code",
        "colab": {}
      },
      "source": [
        "from torchsummary import summary"
      ],
      "execution_count": 0,
      "outputs": []
    },
    {
      "cell_type": "code",
      "metadata": {
        "id": "BmrSL6mzgUav",
        "colab_type": "code",
        "outputId": "5fca9bfb-9b88-4880-e324-39de26e7918b",
        "colab": {
          "base_uri": "https://localhost:8080/",
          "height": 1000
        }
      },
      "source": [
        "summary(vmodel.ResUNeXt(), input_size=(6, 96, 96), device='cpu')"
      ],
      "execution_count": 0,
      "outputs": [
        {
          "output_type": "stream",
          "text": [
            "----------------------------------------------------------------\n",
            "        Layer (type)               Output Shape         Param #\n",
            "================================================================\n",
            "            Conv2d-1           [-1, 64, 96, 96]             384\n",
            "       BatchNorm2d-2           [-1, 64, 96, 96]             128\n",
            "       BatchNorm2d-3            [-1, 6, 96, 96]              12\n",
            "              ReLU-4            [-1, 6, 96, 96]               0\n",
            "            Conv2d-5          [-1, 320, 96, 96]           1,920\n",
            "       BatchNorm2d-6          [-1, 320, 96, 96]             640\n",
            "              ReLU-7          [-1, 320, 96, 96]               0\n",
            "            Conv2d-8          [-1, 320, 96, 96]          28,800\n",
            "       BatchNorm2d-9          [-1, 320, 96, 96]             640\n",
            "             ReLU-10          [-1, 320, 96, 96]               0\n",
            "           Conv2d-11           [-1, 64, 96, 96]          20,480\n",
            "    ResDoubleConv-12           [-1, 64, 96, 96]               0\n",
            "        MaxPool2d-13           [-1, 64, 48, 48]               0\n",
            "     ResDownBlock-14  [[-1, 64, 48, 48], [-1, 64, 96, 96]]               0\n",
            "           Conv2d-15          [-1, 128, 48, 48]           8,192\n",
            "      BatchNorm2d-16          [-1, 128, 48, 48]             256\n",
            "      BatchNorm2d-17           [-1, 64, 48, 48]             128\n",
            "             ReLU-18           [-1, 64, 48, 48]               0\n",
            "           Conv2d-19          [-1, 672, 48, 48]          43,008\n",
            "      BatchNorm2d-20          [-1, 672, 48, 48]           1,344\n",
            "             ReLU-21          [-1, 672, 48, 48]               0\n",
            "           Conv2d-22          [-1, 672, 48, 48]         127,008\n",
            "      BatchNorm2d-23          [-1, 672, 48, 48]           1,344\n",
            "             ReLU-24          [-1, 672, 48, 48]               0\n",
            "           Conv2d-25          [-1, 128, 48, 48]          86,016\n",
            "    ResDoubleConv-26          [-1, 128, 48, 48]               0\n",
            "        MaxPool2d-27          [-1, 128, 24, 24]               0\n",
            "     ResDownBlock-28  [[-1, 128, 24, 24], [-1, 128, 48, 48]]               0\n",
            "           Conv2d-29          [-1, 256, 24, 24]          32,768\n",
            "      BatchNorm2d-30          [-1, 256, 24, 24]             512\n",
            "      BatchNorm2d-31          [-1, 128, 24, 24]             256\n",
            "             ReLU-32          [-1, 128, 24, 24]               0\n",
            "           Conv2d-33         [-1, 1344, 24, 24]         172,032\n",
            "      BatchNorm2d-34         [-1, 1344, 24, 24]           2,688\n",
            "             ReLU-35         [-1, 1344, 24, 24]               0\n",
            "           Conv2d-36         [-1, 1344, 24, 24]         508,032\n",
            "      BatchNorm2d-37         [-1, 1344, 24, 24]           2,688\n",
            "             ReLU-38         [-1, 1344, 24, 24]               0\n",
            "           Conv2d-39          [-1, 256, 24, 24]         344,064\n",
            "    ResDoubleConv-40          [-1, 256, 24, 24]               0\n",
            "        MaxPool2d-41          [-1, 256, 12, 12]               0\n",
            "     ResDownBlock-42  [[-1, 256, 12, 12], [-1, 256, 24, 24]]               0\n",
            "           Conv2d-43          [-1, 512, 12, 12]         131,072\n",
            "      BatchNorm2d-44          [-1, 512, 12, 12]           1,024\n",
            "      BatchNorm2d-45          [-1, 256, 12, 12]             512\n",
            "             ReLU-46          [-1, 256, 12, 12]               0\n",
            "           Conv2d-47         [-1, 2720, 12, 12]         696,320\n",
            "      BatchNorm2d-48         [-1, 2720, 12, 12]           5,440\n",
            "             ReLU-49         [-1, 2720, 12, 12]               0\n",
            "           Conv2d-50         [-1, 2720, 12, 12]       2,080,800\n",
            "      BatchNorm2d-51         [-1, 2720, 12, 12]           5,440\n",
            "             ReLU-52         [-1, 2720, 12, 12]               0\n",
            "           Conv2d-53          [-1, 512, 12, 12]       1,392,640\n",
            "    ResDoubleConv-54          [-1, 512, 12, 12]               0\n",
            "        MaxPool2d-55            [-1, 512, 6, 6]               0\n",
            "     ResDownBlock-56  [[-1, 512, 6, 6], [-1, 512, 12, 12]]               0\n",
            "      BatchNorm2d-57            [-1, 512, 6, 6]           1,024\n",
            "             ReLU-58            [-1, 512, 6, 6]               0\n",
            "           Conv2d-59           [-1, 2720, 6, 6]       1,392,640\n",
            "      BatchNorm2d-60           [-1, 2720, 6, 6]           5,440\n",
            "             ReLU-61           [-1, 2720, 6, 6]               0\n",
            "           Conv2d-62           [-1, 2720, 6, 6]       2,080,800\n",
            "      BatchNorm2d-63           [-1, 2720, 6, 6]           5,440\n",
            "             ReLU-64           [-1, 2720, 6, 6]               0\n",
            "           Conv2d-65            [-1, 512, 6, 6]       1,392,640\n",
            "    ResDoubleConv-66            [-1, 512, 6, 6]               0\n",
            "     PixelShuffle-67          [-1, 128, 12, 12]               0\n",
            "     PixelShuffle-68          [-1, 128, 12, 12]               0\n",
            "     PixelShuffle-69          [-1, 128, 12, 12]               0\n",
            "     PixelShuffle-70          [-1, 128, 12, 12]               0\n",
            "           Conv2d-71          [-1, 512, 12, 12]         524,288\n",
            "      BatchNorm2d-72          [-1, 512, 12, 12]           1,024\n",
            "      BatchNorm2d-73         [-1, 1024, 12, 12]           2,048\n",
            "             ReLU-74         [-1, 1024, 12, 12]               0\n",
            "           Conv2d-75         [-1, 2720, 12, 12]       2,785,280\n",
            "      BatchNorm2d-76         [-1, 2720, 12, 12]           5,440\n",
            "             ReLU-77         [-1, 2720, 12, 12]               0\n",
            "           Conv2d-78         [-1, 2720, 12, 12]       2,080,800\n",
            "      BatchNorm2d-79         [-1, 2720, 12, 12]           5,440\n",
            "             ReLU-80         [-1, 2720, 12, 12]               0\n",
            "           Conv2d-81          [-1, 512, 12, 12]       1,392,640\n",
            "    ResDoubleConv-82          [-1, 512, 12, 12]               0\n",
            "       ResUpBlock-83          [-1, 512, 12, 12]               0\n",
            "     PixelShuffle-84          [-1, 128, 24, 24]               0\n",
            "     PixelShuffle-85          [-1, 128, 24, 24]               0\n",
            "     PixelShuffle-86          [-1, 128, 24, 24]               0\n",
            "     PixelShuffle-87          [-1, 128, 24, 24]               0\n",
            "           Conv2d-88          [-1, 256, 24, 24]         196,608\n",
            "      BatchNorm2d-89          [-1, 256, 24, 24]             512\n",
            "      BatchNorm2d-90          [-1, 768, 24, 24]           1,536\n",
            "             ReLU-91          [-1, 768, 24, 24]               0\n",
            "           Conv2d-92         [-1, 1344, 24, 24]       1,032,192\n",
            "      BatchNorm2d-93         [-1, 1344, 24, 24]           2,688\n",
            "             ReLU-94         [-1, 1344, 24, 24]               0\n",
            "           Conv2d-95         [-1, 1344, 24, 24]         508,032\n",
            "      BatchNorm2d-96         [-1, 1344, 24, 24]           2,688\n",
            "             ReLU-97         [-1, 1344, 24, 24]               0\n",
            "           Conv2d-98          [-1, 256, 24, 24]         344,064\n",
            "    ResDoubleConv-99          [-1, 256, 24, 24]               0\n",
            "      ResUpBlock-100          [-1, 256, 24, 24]               0\n",
            "    PixelShuffle-101           [-1, 64, 48, 48]               0\n",
            "    PixelShuffle-102           [-1, 64, 48, 48]               0\n",
            "    PixelShuffle-103           [-1, 64, 48, 48]               0\n",
            "    PixelShuffle-104           [-1, 64, 48, 48]               0\n",
            "          Conv2d-105          [-1, 128, 48, 48]          49,152\n",
            "     BatchNorm2d-106          [-1, 128, 48, 48]             256\n",
            "     BatchNorm2d-107          [-1, 384, 48, 48]             768\n",
            "            ReLU-108          [-1, 384, 48, 48]               0\n",
            "          Conv2d-109          [-1, 672, 48, 48]         258,048\n",
            "     BatchNorm2d-110          [-1, 672, 48, 48]           1,344\n",
            "            ReLU-111          [-1, 672, 48, 48]               0\n",
            "          Conv2d-112          [-1, 672, 48, 48]         127,008\n",
            "     BatchNorm2d-113          [-1, 672, 48, 48]           1,344\n",
            "            ReLU-114          [-1, 672, 48, 48]               0\n",
            "          Conv2d-115          [-1, 128, 48, 48]          86,016\n",
            "   ResDoubleConv-116          [-1, 128, 48, 48]               0\n",
            "      ResUpBlock-117          [-1, 128, 48, 48]               0\n",
            "    PixelShuffle-118           [-1, 32, 96, 96]               0\n",
            "    PixelShuffle-119           [-1, 32, 96, 96]               0\n",
            "    PixelShuffle-120           [-1, 32, 96, 96]               0\n",
            "    PixelShuffle-121           [-1, 32, 96, 96]               0\n",
            "          Conv2d-122           [-1, 64, 96, 96]          12,288\n",
            "     BatchNorm2d-123           [-1, 64, 96, 96]             128\n",
            "     BatchNorm2d-124          [-1, 192, 96, 96]             384\n",
            "            ReLU-125          [-1, 192, 96, 96]               0\n",
            "          Conv2d-126          [-1, 320, 96, 96]          61,440\n",
            "     BatchNorm2d-127          [-1, 320, 96, 96]             640\n",
            "            ReLU-128          [-1, 320, 96, 96]               0\n",
            "          Conv2d-129          [-1, 320, 96, 96]          28,800\n",
            "     BatchNorm2d-130          [-1, 320, 96, 96]             640\n",
            "            ReLU-131          [-1, 320, 96, 96]               0\n",
            "          Conv2d-132           [-1, 64, 96, 96]          20,480\n",
            "   ResDoubleConv-133           [-1, 64, 96, 96]               0\n",
            "      ResUpBlock-134           [-1, 64, 96, 96]               0\n",
            "          Conv2d-135            [-1, 1, 96, 96]              64\n",
            "    PixelShuffle-136          [-1, 128, 12, 12]               0\n",
            "    PixelShuffle-137          [-1, 128, 12, 12]               0\n",
            "    PixelShuffle-138          [-1, 128, 12, 12]               0\n",
            "    PixelShuffle-139          [-1, 128, 12, 12]               0\n",
            "          Conv2d-140          [-1, 512, 12, 12]         786,432\n",
            "     BatchNorm2d-141          [-1, 512, 12, 12]           1,024\n",
            "     BatchNorm2d-142         [-1, 1536, 12, 12]           3,072\n",
            "            ReLU-143         [-1, 1536, 12, 12]               0\n",
            "          Conv2d-144         [-1, 2720, 12, 12]       4,177,920\n",
            "     BatchNorm2d-145         [-1, 2720, 12, 12]           5,440\n",
            "            ReLU-146         [-1, 2720, 12, 12]               0\n",
            "          Conv2d-147         [-1, 2720, 12, 12]       2,080,800\n",
            "     BatchNorm2d-148         [-1, 2720, 12, 12]           5,440\n",
            "            ReLU-149         [-1, 2720, 12, 12]               0\n",
            "          Conv2d-150          [-1, 512, 12, 12]       1,392,640\n",
            "   ResDoubleConv-151          [-1, 512, 12, 12]               0\n",
            "      ResUpBlock-152          [-1, 512, 12, 12]               0\n",
            "    PixelShuffle-153          [-1, 128, 24, 24]               0\n",
            "    PixelShuffle-154          [-1, 128, 24, 24]               0\n",
            "    PixelShuffle-155          [-1, 128, 24, 24]               0\n",
            "    PixelShuffle-156          [-1, 128, 24, 24]               0\n",
            "          Conv2d-157          [-1, 256, 24, 24]         262,144\n",
            "     BatchNorm2d-158          [-1, 256, 24, 24]             512\n",
            "     BatchNorm2d-159         [-1, 1024, 24, 24]           2,048\n",
            "            ReLU-160         [-1, 1024, 24, 24]               0\n",
            "          Conv2d-161         [-1, 1344, 24, 24]       1,376,256\n",
            "     BatchNorm2d-162         [-1, 1344, 24, 24]           2,688\n",
            "            ReLU-163         [-1, 1344, 24, 24]               0\n",
            "          Conv2d-164         [-1, 1344, 24, 24]         508,032\n",
            "     BatchNorm2d-165         [-1, 1344, 24, 24]           2,688\n",
            "            ReLU-166         [-1, 1344, 24, 24]               0\n",
            "          Conv2d-167          [-1, 256, 24, 24]         344,064\n",
            "   ResDoubleConv-168          [-1, 256, 24, 24]               0\n",
            "      ResUpBlock-169          [-1, 256, 24, 24]               0\n",
            "    PixelShuffle-170           [-1, 64, 48, 48]               0\n",
            "    PixelShuffle-171           [-1, 64, 48, 48]               0\n",
            "    PixelShuffle-172           [-1, 64, 48, 48]               0\n",
            "    PixelShuffle-173           [-1, 64, 48, 48]               0\n",
            "          Conv2d-174          [-1, 128, 48, 48]          65,536\n",
            "     BatchNorm2d-175          [-1, 128, 48, 48]             256\n",
            "     BatchNorm2d-176          [-1, 512, 48, 48]           1,024\n",
            "            ReLU-177          [-1, 512, 48, 48]               0\n",
            "          Conv2d-178          [-1, 672, 48, 48]         344,064\n",
            "     BatchNorm2d-179          [-1, 672, 48, 48]           1,344\n",
            "            ReLU-180          [-1, 672, 48, 48]               0\n",
            "          Conv2d-181          [-1, 672, 48, 48]         127,008\n",
            "     BatchNorm2d-182          [-1, 672, 48, 48]           1,344\n",
            "            ReLU-183          [-1, 672, 48, 48]               0\n",
            "          Conv2d-184          [-1, 128, 48, 48]          86,016\n",
            "   ResDoubleConv-185          [-1, 128, 48, 48]               0\n",
            "      ResUpBlock-186          [-1, 128, 48, 48]               0\n",
            "    PixelShuffle-187           [-1, 32, 96, 96]               0\n",
            "    PixelShuffle-188           [-1, 32, 96, 96]               0\n",
            "    PixelShuffle-189           [-1, 32, 96, 96]               0\n",
            "    PixelShuffle-190           [-1, 32, 96, 96]               0\n",
            "          Conv2d-191           [-1, 64, 96, 96]          16,384\n",
            "     BatchNorm2d-192           [-1, 64, 96, 96]             128\n",
            "     BatchNorm2d-193          [-1, 256, 96, 96]             512\n",
            "            ReLU-194          [-1, 256, 96, 96]               0\n",
            "          Conv2d-195          [-1, 320, 96, 96]          81,920\n",
            "     BatchNorm2d-196          [-1, 320, 96, 96]             640\n",
            "            ReLU-197          [-1, 320, 96, 96]               0\n",
            "          Conv2d-198          [-1, 320, 96, 96]          28,800\n",
            "     BatchNorm2d-199          [-1, 320, 96, 96]             640\n",
            "            ReLU-200          [-1, 320, 96, 96]               0\n",
            "          Conv2d-201           [-1, 64, 96, 96]          20,480\n",
            "   ResDoubleConv-202           [-1, 64, 96, 96]               0\n",
            "      ResUpBlock-203           [-1, 64, 96, 96]               0\n",
            "          Conv2d-204            [-1, 1, 96, 96]              64\n",
            "================================================================\n",
            "Total params: 31,836,012\n",
            "Trainable params: 31,836,012\n",
            "Non-trainable params: 0\n",
            "----------------------------------------------------------------\n",
            "Input size (MB): 0.21\n",
            "Forward/backward pass size (MB): 880223.57\n",
            "Params size (MB): 121.44\n",
            "Estimated Total Size (MB): 880345.23\n",
            "----------------------------------------------------------------\n"
          ],
          "name": "stdout"
        }
      ]
    },
    {
      "cell_type": "code",
      "metadata": {
        "id": "rhfz_P0bhKtM",
        "colab_type": "code",
        "colab": {}
      },
      "source": [
        "\n"
      ],
      "execution_count": 0,
      "outputs": []
    }
  ]
}