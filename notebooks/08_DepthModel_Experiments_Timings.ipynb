{
  "nbformat": 4,
  "nbformat_minor": 0,
  "metadata": {
    "colab": {
      "name": "08-DepthModel-Experiments-Timings.ipynb",
      "provenance": [],
      "collapsed_sections": [],
      "authorship_tag": "ABX9TyPVj6RPA0xfLNZIo8T+Laai",
      "include_colab_link": true
    },
    "kernelspec": {
      "name": "python3",
      "display_name": "Python 3"
    },
    "accelerator": "GPU",
    "widgets": {
      "application/vnd.jupyter.widget-state+json": {
        "a6fdbe745375462f8b06173ac31bbd10": {
          "model_module": "@jupyter-widgets/controls",
          "model_name": "HBoxModel",
          "state": {
            "_view_name": "HBoxView",
            "_dom_classes": [],
            "_model_name": "HBoxModel",
            "_view_module": "@jupyter-widgets/controls",
            "_model_module_version": "1.5.0",
            "_view_count": null,
            "_view_module_version": "1.5.0",
            "box_style": "",
            "layout": "IPY_MODEL_62445e82a55d4d73b0ce3c9ce660912c",
            "_model_module": "@jupyter-widgets/controls",
            "children": [
              "IPY_MODEL_e4a127a0c2914dd9bf60f8ad97147145",
              "IPY_MODEL_b124dd1ea0da4f8d918c8b42b8901b2e"
            ]
          }
        },
        "62445e82a55d4d73b0ce3c9ce660912c": {
          "model_module": "@jupyter-widgets/base",
          "model_name": "LayoutModel",
          "state": {
            "_view_name": "LayoutView",
            "grid_template_rows": null,
            "right": null,
            "justify_content": null,
            "_view_module": "@jupyter-widgets/base",
            "overflow": null,
            "_model_module_version": "1.2.0",
            "_view_count": null,
            "flex_flow": "row wrap",
            "width": "100%",
            "min_width": null,
            "border": null,
            "align_items": null,
            "bottom": null,
            "_model_module": "@jupyter-widgets/base",
            "top": null,
            "grid_column": null,
            "overflow_y": null,
            "overflow_x": null,
            "grid_auto_flow": null,
            "grid_area": null,
            "grid_template_columns": null,
            "flex": null,
            "_model_name": "LayoutModel",
            "justify_items": null,
            "grid_row": null,
            "max_height": null,
            "align_content": null,
            "visibility": null,
            "align_self": null,
            "height": null,
            "min_height": null,
            "padding": null,
            "grid_auto_rows": null,
            "grid_gap": null,
            "max_width": null,
            "order": null,
            "_view_module_version": "1.2.0",
            "grid_template_areas": null,
            "object_position": null,
            "object_fit": null,
            "grid_auto_columns": null,
            "margin": null,
            "display": "inline-flex",
            "left": null
          }
        },
        "e4a127a0c2914dd9bf60f8ad97147145": {
          "model_module": "@jupyter-widgets/controls",
          "model_name": "FloatProgressModel",
          "state": {
            "_view_name": "ProgressView",
            "style": "IPY_MODEL_be3f0e1cdf274926a465487008283b2d",
            "_dom_classes": [],
            "description": "loss=1.2940568924 batch_id=68: 100%",
            "_model_name": "FloatProgressModel",
            "bar_style": "success",
            "max": 69,
            "_view_module": "@jupyter-widgets/controls",
            "_model_module_version": "1.5.0",
            "value": 69,
            "_view_count": null,
            "_view_module_version": "1.5.0",
            "orientation": "horizontal",
            "min": 0,
            "description_tooltip": null,
            "_model_module": "@jupyter-widgets/controls",
            "layout": "IPY_MODEL_742042e7df5d44ad9b0663758e55153a"
          }
        },
        "b124dd1ea0da4f8d918c8b42b8901b2e": {
          "model_module": "@jupyter-widgets/controls",
          "model_name": "HTMLModel",
          "state": {
            "_view_name": "HTMLView",
            "style": "IPY_MODEL_6380fae5abb84bc392529f6525d5156e",
            "_dom_classes": [],
            "description": "",
            "_model_name": "HTMLModel",
            "placeholder": "​",
            "_view_module": "@jupyter-widgets/controls",
            "_model_module_version": "1.5.0",
            "value": " 69/69 [35:50&lt;00:00, 31.17s/it]",
            "_view_count": null,
            "_view_module_version": "1.5.0",
            "description_tooltip": null,
            "_model_module": "@jupyter-widgets/controls",
            "layout": "IPY_MODEL_640a6bc66a1044279094d2a858eb99d1"
          }
        },
        "be3f0e1cdf274926a465487008283b2d": {
          "model_module": "@jupyter-widgets/controls",
          "model_name": "ProgressStyleModel",
          "state": {
            "_view_name": "StyleView",
            "_model_name": "ProgressStyleModel",
            "description_width": "initial",
            "_view_module": "@jupyter-widgets/base",
            "_model_module_version": "1.5.0",
            "_view_count": null,
            "_view_module_version": "1.2.0",
            "bar_color": null,
            "_model_module": "@jupyter-widgets/controls"
          }
        },
        "742042e7df5d44ad9b0663758e55153a": {
          "model_module": "@jupyter-widgets/base",
          "model_name": "LayoutModel",
          "state": {
            "_view_name": "LayoutView",
            "grid_template_rows": null,
            "right": null,
            "justify_content": null,
            "_view_module": "@jupyter-widgets/base",
            "overflow": null,
            "_model_module_version": "1.2.0",
            "_view_count": null,
            "flex_flow": null,
            "width": null,
            "min_width": null,
            "border": null,
            "align_items": null,
            "bottom": null,
            "_model_module": "@jupyter-widgets/base",
            "top": null,
            "grid_column": null,
            "overflow_y": null,
            "overflow_x": null,
            "grid_auto_flow": null,
            "grid_area": null,
            "grid_template_columns": null,
            "flex": "2",
            "_model_name": "LayoutModel",
            "justify_items": null,
            "grid_row": null,
            "max_height": null,
            "align_content": null,
            "visibility": null,
            "align_self": null,
            "height": null,
            "min_height": null,
            "padding": null,
            "grid_auto_rows": null,
            "grid_gap": null,
            "max_width": null,
            "order": null,
            "_view_module_version": "1.2.0",
            "grid_template_areas": null,
            "object_position": null,
            "object_fit": null,
            "grid_auto_columns": null,
            "margin": null,
            "display": null,
            "left": null
          }
        },
        "6380fae5abb84bc392529f6525d5156e": {
          "model_module": "@jupyter-widgets/controls",
          "model_name": "DescriptionStyleModel",
          "state": {
            "_view_name": "StyleView",
            "_model_name": "DescriptionStyleModel",
            "description_width": "",
            "_view_module": "@jupyter-widgets/base",
            "_model_module_version": "1.5.0",
            "_view_count": null,
            "_view_module_version": "1.2.0",
            "_model_module": "@jupyter-widgets/controls"
          }
        },
        "640a6bc66a1044279094d2a858eb99d1": {
          "model_module": "@jupyter-widgets/base",
          "model_name": "LayoutModel",
          "state": {
            "_view_name": "LayoutView",
            "grid_template_rows": null,
            "right": null,
            "justify_content": null,
            "_view_module": "@jupyter-widgets/base",
            "overflow": null,
            "_model_module_version": "1.2.0",
            "_view_count": null,
            "flex_flow": null,
            "width": null,
            "min_width": null,
            "border": null,
            "align_items": null,
            "bottom": null,
            "_model_module": "@jupyter-widgets/base",
            "top": null,
            "grid_column": null,
            "overflow_y": null,
            "overflow_x": null,
            "grid_auto_flow": null,
            "grid_area": null,
            "grid_template_columns": null,
            "flex": null,
            "_model_name": "LayoutModel",
            "justify_items": null,
            "grid_row": null,
            "max_height": null,
            "align_content": null,
            "visibility": null,
            "align_self": null,
            "height": null,
            "min_height": null,
            "padding": null,
            "grid_auto_rows": null,
            "grid_gap": null,
            "max_width": null,
            "order": null,
            "_view_module_version": "1.2.0",
            "grid_template_areas": null,
            "object_position": null,
            "object_fit": null,
            "grid_auto_columns": null,
            "margin": null,
            "display": null,
            "left": null
          }
        },
        "32dbf9e3b49b4d58839ba7136a8d468f": {
          "model_module": "@jupyter-widgets/controls",
          "model_name": "HBoxModel",
          "state": {
            "_view_name": "HBoxView",
            "_dom_classes": [],
            "_model_name": "HBoxModel",
            "_view_module": "@jupyter-widgets/controls",
            "_model_module_version": "1.5.0",
            "_view_count": null,
            "_view_module_version": "1.5.0",
            "box_style": "",
            "layout": "IPY_MODEL_6eee15a7169b4d8d95d7f81d1ce7d5ec",
            "_model_module": "@jupyter-widgets/controls",
            "children": [
              "IPY_MODEL_13227160c9684f0c869e3b86f29b5d43",
              "IPY_MODEL_cd6988bb1f624c2bbedf63d1fdcdc66a"
            ]
          }
        },
        "6eee15a7169b4d8d95d7f81d1ce7d5ec": {
          "model_module": "@jupyter-widgets/base",
          "model_name": "LayoutModel",
          "state": {
            "_view_name": "LayoutView",
            "grid_template_rows": null,
            "right": null,
            "justify_content": null,
            "_view_module": "@jupyter-widgets/base",
            "overflow": null,
            "_model_module_version": "1.2.0",
            "_view_count": null,
            "flex_flow": "row wrap",
            "width": "100%",
            "min_width": null,
            "border": null,
            "align_items": null,
            "bottom": null,
            "_model_module": "@jupyter-widgets/base",
            "top": null,
            "grid_column": null,
            "overflow_y": null,
            "overflow_x": null,
            "grid_auto_flow": null,
            "grid_area": null,
            "grid_template_columns": null,
            "flex": null,
            "_model_name": "LayoutModel",
            "justify_items": null,
            "grid_row": null,
            "max_height": null,
            "align_content": null,
            "visibility": null,
            "align_self": null,
            "height": null,
            "min_height": null,
            "padding": null,
            "grid_auto_rows": null,
            "grid_gap": null,
            "max_width": null,
            "order": null,
            "_view_module_version": "1.2.0",
            "grid_template_areas": null,
            "object_position": null,
            "object_fit": null,
            "grid_auto_columns": null,
            "margin": null,
            "display": "inline-flex",
            "left": null
          }
        },
        "13227160c9684f0c869e3b86f29b5d43": {
          "model_module": "@jupyter-widgets/controls",
          "model_name": "FloatProgressModel",
          "state": {
            "_view_name": "ProgressView",
            "style": "IPY_MODEL_45c045034c60495987d182a702dfe5e1",
            "_dom_classes": [],
            "description": "loss=1.2612378597 batch_id=136: 100%",
            "_model_name": "FloatProgressModel",
            "bar_style": "success",
            "max": 137,
            "_view_module": "@jupyter-widgets/controls",
            "_model_module_version": "1.5.0",
            "value": 137,
            "_view_count": null,
            "_view_module_version": "1.5.0",
            "orientation": "horizontal",
            "min": 0,
            "description_tooltip": null,
            "_model_module": "@jupyter-widgets/controls",
            "layout": "IPY_MODEL_7035dddcea2c4af3aba489d9714569eb"
          }
        },
        "cd6988bb1f624c2bbedf63d1fdcdc66a": {
          "model_module": "@jupyter-widgets/controls",
          "model_name": "HTMLModel",
          "state": {
            "_view_name": "HTMLView",
            "style": "IPY_MODEL_d2a449eb39ff46c995c24153613d14f2",
            "_dom_classes": [],
            "description": "",
            "_model_name": "HTMLModel",
            "placeholder": "​",
            "_view_module": "@jupyter-widgets/controls",
            "_model_module_version": "1.5.0",
            "value": " 137/137 [06:01&lt;00:00,  2.64s/it]",
            "_view_count": null,
            "_view_module_version": "1.5.0",
            "description_tooltip": null,
            "_model_module": "@jupyter-widgets/controls",
            "layout": "IPY_MODEL_8ea93d19f2d04f02bd854ae8bbb13584"
          }
        },
        "45c045034c60495987d182a702dfe5e1": {
          "model_module": "@jupyter-widgets/controls",
          "model_name": "ProgressStyleModel",
          "state": {
            "_view_name": "StyleView",
            "_model_name": "ProgressStyleModel",
            "description_width": "initial",
            "_view_module": "@jupyter-widgets/base",
            "_model_module_version": "1.5.0",
            "_view_count": null,
            "_view_module_version": "1.2.0",
            "bar_color": null,
            "_model_module": "@jupyter-widgets/controls"
          }
        },
        "7035dddcea2c4af3aba489d9714569eb": {
          "model_module": "@jupyter-widgets/base",
          "model_name": "LayoutModel",
          "state": {
            "_view_name": "LayoutView",
            "grid_template_rows": null,
            "right": null,
            "justify_content": null,
            "_view_module": "@jupyter-widgets/base",
            "overflow": null,
            "_model_module_version": "1.2.0",
            "_view_count": null,
            "flex_flow": null,
            "width": null,
            "min_width": null,
            "border": null,
            "align_items": null,
            "bottom": null,
            "_model_module": "@jupyter-widgets/base",
            "top": null,
            "grid_column": null,
            "overflow_y": null,
            "overflow_x": null,
            "grid_auto_flow": null,
            "grid_area": null,
            "grid_template_columns": null,
            "flex": "2",
            "_model_name": "LayoutModel",
            "justify_items": null,
            "grid_row": null,
            "max_height": null,
            "align_content": null,
            "visibility": null,
            "align_self": null,
            "height": null,
            "min_height": null,
            "padding": null,
            "grid_auto_rows": null,
            "grid_gap": null,
            "max_width": null,
            "order": null,
            "_view_module_version": "1.2.0",
            "grid_template_areas": null,
            "object_position": null,
            "object_fit": null,
            "grid_auto_columns": null,
            "margin": null,
            "display": null,
            "left": null
          }
        },
        "d2a449eb39ff46c995c24153613d14f2": {
          "model_module": "@jupyter-widgets/controls",
          "model_name": "DescriptionStyleModel",
          "state": {
            "_view_name": "StyleView",
            "_model_name": "DescriptionStyleModel",
            "description_width": "",
            "_view_module": "@jupyter-widgets/base",
            "_model_module_version": "1.5.0",
            "_view_count": null,
            "_view_module_version": "1.2.0",
            "_model_module": "@jupyter-widgets/controls"
          }
        },
        "8ea93d19f2d04f02bd854ae8bbb13584": {
          "model_module": "@jupyter-widgets/base",
          "model_name": "LayoutModel",
          "state": {
            "_view_name": "LayoutView",
            "grid_template_rows": null,
            "right": null,
            "justify_content": null,
            "_view_module": "@jupyter-widgets/base",
            "overflow": null,
            "_model_module_version": "1.2.0",
            "_view_count": null,
            "flex_flow": null,
            "width": null,
            "min_width": null,
            "border": null,
            "align_items": null,
            "bottom": null,
            "_model_module": "@jupyter-widgets/base",
            "top": null,
            "grid_column": null,
            "overflow_y": null,
            "overflow_x": null,
            "grid_auto_flow": null,
            "grid_area": null,
            "grid_template_columns": null,
            "flex": null,
            "_model_name": "LayoutModel",
            "justify_items": null,
            "grid_row": null,
            "max_height": null,
            "align_content": null,
            "visibility": null,
            "align_self": null,
            "height": null,
            "min_height": null,
            "padding": null,
            "grid_auto_rows": null,
            "grid_gap": null,
            "max_width": null,
            "order": null,
            "_view_module_version": "1.2.0",
            "grid_template_areas": null,
            "object_position": null,
            "object_fit": null,
            "grid_auto_columns": null,
            "margin": null,
            "display": null,
            "left": null
          }
        },
        "183ba0c2366c436780c64a79bcf3443b": {
          "model_module": "@jupyter-widgets/controls",
          "model_name": "HBoxModel",
          "state": {
            "_view_name": "HBoxView",
            "_dom_classes": [],
            "_model_name": "HBoxModel",
            "_view_module": "@jupyter-widgets/controls",
            "_model_module_version": "1.5.0",
            "_view_count": null,
            "_view_module_version": "1.5.0",
            "box_style": "",
            "layout": "IPY_MODEL_3815f0151b024bbeb3bc07b200e7ede6",
            "_model_module": "@jupyter-widgets/controls",
            "children": [
              "IPY_MODEL_855391a9f268463b835f4c923e62ab8d",
              "IPY_MODEL_c2384a1ae35f44ada237f5aef95e943c"
            ]
          }
        },
        "3815f0151b024bbeb3bc07b200e7ede6": {
          "model_module": "@jupyter-widgets/base",
          "model_name": "LayoutModel",
          "state": {
            "_view_name": "LayoutView",
            "grid_template_rows": null,
            "right": null,
            "justify_content": null,
            "_view_module": "@jupyter-widgets/base",
            "overflow": null,
            "_model_module_version": "1.2.0",
            "_view_count": null,
            "flex_flow": "row wrap",
            "width": "100%",
            "min_width": null,
            "border": null,
            "align_items": null,
            "bottom": null,
            "_model_module": "@jupyter-widgets/base",
            "top": null,
            "grid_column": null,
            "overflow_y": null,
            "overflow_x": null,
            "grid_auto_flow": null,
            "grid_area": null,
            "grid_template_columns": null,
            "flex": null,
            "_model_name": "LayoutModel",
            "justify_items": null,
            "grid_row": null,
            "max_height": null,
            "align_content": null,
            "visibility": null,
            "align_self": null,
            "height": null,
            "min_height": null,
            "padding": null,
            "grid_auto_rows": null,
            "grid_gap": null,
            "max_width": null,
            "order": null,
            "_view_module_version": "1.2.0",
            "grid_template_areas": null,
            "object_position": null,
            "object_fit": null,
            "grid_auto_columns": null,
            "margin": null,
            "display": "inline-flex",
            "left": null
          }
        },
        "855391a9f268463b835f4c923e62ab8d": {
          "model_module": "@jupyter-widgets/controls",
          "model_name": "FloatProgressModel",
          "state": {
            "_view_name": "ProgressView",
            "style": "IPY_MODEL_68382d942a4341b9b4f9e65268e6ff51",
            "_dom_classes": [],
            "description": "loss=1.2410526276 batch_id=1093: 100%",
            "_model_name": "FloatProgressModel",
            "bar_style": "success",
            "max": 1094,
            "_view_module": "@jupyter-widgets/controls",
            "_model_module_version": "1.5.0",
            "value": 1094,
            "_view_count": null,
            "_view_module_version": "1.5.0",
            "orientation": "horizontal",
            "min": 0,
            "description_tooltip": null,
            "_model_module": "@jupyter-widgets/controls",
            "layout": "IPY_MODEL_33bf21cc29e94db7aa589645786cb3b9"
          }
        },
        "c2384a1ae35f44ada237f5aef95e943c": {
          "model_module": "@jupyter-widgets/controls",
          "model_name": "HTMLModel",
          "state": {
            "_view_name": "HTMLView",
            "style": "IPY_MODEL_71d47402d6534bd786611967bc1bdcb0",
            "_dom_classes": [],
            "description": "",
            "_model_name": "HTMLModel",
            "placeholder": "​",
            "_view_module": "@jupyter-widgets/controls",
            "_model_module_version": "1.5.0",
            "value": " 1094/1094 [26:24&lt;00:00,  1.45s/it]",
            "_view_count": null,
            "_view_module_version": "1.5.0",
            "description_tooltip": null,
            "_model_module": "@jupyter-widgets/controls",
            "layout": "IPY_MODEL_657eb73d43a64300962b8aa75a2fc107"
          }
        },
        "68382d942a4341b9b4f9e65268e6ff51": {
          "model_module": "@jupyter-widgets/controls",
          "model_name": "ProgressStyleModel",
          "state": {
            "_view_name": "StyleView",
            "_model_name": "ProgressStyleModel",
            "description_width": "initial",
            "_view_module": "@jupyter-widgets/base",
            "_model_module_version": "1.5.0",
            "_view_count": null,
            "_view_module_version": "1.2.0",
            "bar_color": null,
            "_model_module": "@jupyter-widgets/controls"
          }
        },
        "33bf21cc29e94db7aa589645786cb3b9": {
          "model_module": "@jupyter-widgets/base",
          "model_name": "LayoutModel",
          "state": {
            "_view_name": "LayoutView",
            "grid_template_rows": null,
            "right": null,
            "justify_content": null,
            "_view_module": "@jupyter-widgets/base",
            "overflow": null,
            "_model_module_version": "1.2.0",
            "_view_count": null,
            "flex_flow": null,
            "width": null,
            "min_width": null,
            "border": null,
            "align_items": null,
            "bottom": null,
            "_model_module": "@jupyter-widgets/base",
            "top": null,
            "grid_column": null,
            "overflow_y": null,
            "overflow_x": null,
            "grid_auto_flow": null,
            "grid_area": null,
            "grid_template_columns": null,
            "flex": "2",
            "_model_name": "LayoutModel",
            "justify_items": null,
            "grid_row": null,
            "max_height": null,
            "align_content": null,
            "visibility": null,
            "align_self": null,
            "height": null,
            "min_height": null,
            "padding": null,
            "grid_auto_rows": null,
            "grid_gap": null,
            "max_width": null,
            "order": null,
            "_view_module_version": "1.2.0",
            "grid_template_areas": null,
            "object_position": null,
            "object_fit": null,
            "grid_auto_columns": null,
            "margin": null,
            "display": null,
            "left": null
          }
        },
        "71d47402d6534bd786611967bc1bdcb0": {
          "model_module": "@jupyter-widgets/controls",
          "model_name": "DescriptionStyleModel",
          "state": {
            "_view_name": "StyleView",
            "_model_name": "DescriptionStyleModel",
            "description_width": "",
            "_view_module": "@jupyter-widgets/base",
            "_model_module_version": "1.5.0",
            "_view_count": null,
            "_view_module_version": "1.2.0",
            "_model_module": "@jupyter-widgets/controls"
          }
        },
        "657eb73d43a64300962b8aa75a2fc107": {
          "model_module": "@jupyter-widgets/base",
          "model_name": "LayoutModel",
          "state": {
            "_view_name": "LayoutView",
            "grid_template_rows": null,
            "right": null,
            "justify_content": null,
            "_view_module": "@jupyter-widgets/base",
            "overflow": null,
            "_model_module_version": "1.2.0",
            "_view_count": null,
            "flex_flow": null,
            "width": null,
            "min_width": null,
            "border": null,
            "align_items": null,
            "bottom": null,
            "_model_module": "@jupyter-widgets/base",
            "top": null,
            "grid_column": null,
            "overflow_y": null,
            "overflow_x": null,
            "grid_auto_flow": null,
            "grid_area": null,
            "grid_template_columns": null,
            "flex": null,
            "_model_name": "LayoutModel",
            "justify_items": null,
            "grid_row": null,
            "max_height": null,
            "align_content": null,
            "visibility": null,
            "align_self": null,
            "height": null,
            "min_height": null,
            "padding": null,
            "grid_auto_rows": null,
            "grid_gap": null,
            "max_width": null,
            "order": null,
            "_view_module_version": "1.2.0",
            "grid_template_areas": null,
            "object_position": null,
            "object_fit": null,
            "grid_auto_columns": null,
            "margin": null,
            "display": null,
            "left": null
          }
        },
        "d25f8904d6f7450280ae067411f1cbca": {
          "model_module": "@jupyter-widgets/controls",
          "model_name": "HBoxModel",
          "state": {
            "_view_name": "HBoxView",
            "_dom_classes": [],
            "_model_name": "HBoxModel",
            "_view_module": "@jupyter-widgets/controls",
            "_model_module_version": "1.5.0",
            "_view_count": null,
            "_view_module_version": "1.5.0",
            "box_style": "",
            "layout": "IPY_MODEL_26a1dab9767b4e43bbbeeddcc4e293ee",
            "_model_module": "@jupyter-widgets/controls",
            "children": [
              "IPY_MODEL_8089ab9d1b0443fc84a8763e1bac971a",
              "IPY_MODEL_c4f970e5c4dd40818c8642771367b87b"
            ]
          }
        },
        "26a1dab9767b4e43bbbeeddcc4e293ee": {
          "model_module": "@jupyter-widgets/base",
          "model_name": "LayoutModel",
          "state": {
            "_view_name": "LayoutView",
            "grid_template_rows": null,
            "right": null,
            "justify_content": null,
            "_view_module": "@jupyter-widgets/base",
            "overflow": null,
            "_model_module_version": "1.2.0",
            "_view_count": null,
            "flex_flow": "row wrap",
            "width": "100%",
            "min_width": null,
            "border": null,
            "align_items": null,
            "bottom": null,
            "_model_module": "@jupyter-widgets/base",
            "top": null,
            "grid_column": null,
            "overflow_y": null,
            "overflow_x": null,
            "grid_auto_flow": null,
            "grid_area": null,
            "grid_template_columns": null,
            "flex": null,
            "_model_name": "LayoutModel",
            "justify_items": null,
            "grid_row": null,
            "max_height": null,
            "align_content": null,
            "visibility": null,
            "align_self": null,
            "height": null,
            "min_height": null,
            "padding": null,
            "grid_auto_rows": null,
            "grid_gap": null,
            "max_width": null,
            "order": null,
            "_view_module_version": "1.2.0",
            "grid_template_areas": null,
            "object_position": null,
            "object_fit": null,
            "grid_auto_columns": null,
            "margin": null,
            "display": "inline-flex",
            "left": null
          }
        },
        "8089ab9d1b0443fc84a8763e1bac971a": {
          "model_module": "@jupyter-widgets/controls",
          "model_name": "FloatProgressModel",
          "state": {
            "_view_name": "ProgressView",
            "style": "IPY_MODEL_d283e53454964daa99388b37dfe82b36",
            "_dom_classes": [],
            "description": "loss=1.2190608978 batch_id=1093: 100%",
            "_model_name": "FloatProgressModel",
            "bar_style": "success",
            "max": 1094,
            "_view_module": "@jupyter-widgets/controls",
            "_model_module_version": "1.5.0",
            "value": 1094,
            "_view_count": null,
            "_view_module_version": "1.5.0",
            "orientation": "horizontal",
            "min": 0,
            "description_tooltip": null,
            "_model_module": "@jupyter-widgets/controls",
            "layout": "IPY_MODEL_063aa68facf8465b86bbe7fb2cb6e9bf"
          }
        },
        "c4f970e5c4dd40818c8642771367b87b": {
          "model_module": "@jupyter-widgets/controls",
          "model_name": "HTMLModel",
          "state": {
            "_view_name": "HTMLView",
            "style": "IPY_MODEL_85dbe140648d445089d91f67429a7173",
            "_dom_classes": [],
            "description": "",
            "_model_name": "HTMLModel",
            "placeholder": "​",
            "_view_module": "@jupyter-widgets/controls",
            "_model_module_version": "1.5.0",
            "value": " 1094/1094 [03:17&lt;00:00,  5.55it/s]",
            "_view_count": null,
            "_view_module_version": "1.5.0",
            "description_tooltip": null,
            "_model_module": "@jupyter-widgets/controls",
            "layout": "IPY_MODEL_9ac75c476a6a41afb65b79631a273a5e"
          }
        },
        "d283e53454964daa99388b37dfe82b36": {
          "model_module": "@jupyter-widgets/controls",
          "model_name": "ProgressStyleModel",
          "state": {
            "_view_name": "StyleView",
            "_model_name": "ProgressStyleModel",
            "description_width": "initial",
            "_view_module": "@jupyter-widgets/base",
            "_model_module_version": "1.5.0",
            "_view_count": null,
            "_view_module_version": "1.2.0",
            "bar_color": null,
            "_model_module": "@jupyter-widgets/controls"
          }
        },
        "063aa68facf8465b86bbe7fb2cb6e9bf": {
          "model_module": "@jupyter-widgets/base",
          "model_name": "LayoutModel",
          "state": {
            "_view_name": "LayoutView",
            "grid_template_rows": null,
            "right": null,
            "justify_content": null,
            "_view_module": "@jupyter-widgets/base",
            "overflow": null,
            "_model_module_version": "1.2.0",
            "_view_count": null,
            "flex_flow": null,
            "width": null,
            "min_width": null,
            "border": null,
            "align_items": null,
            "bottom": null,
            "_model_module": "@jupyter-widgets/base",
            "top": null,
            "grid_column": null,
            "overflow_y": null,
            "overflow_x": null,
            "grid_auto_flow": null,
            "grid_area": null,
            "grid_template_columns": null,
            "flex": "2",
            "_model_name": "LayoutModel",
            "justify_items": null,
            "grid_row": null,
            "max_height": null,
            "align_content": null,
            "visibility": null,
            "align_self": null,
            "height": null,
            "min_height": null,
            "padding": null,
            "grid_auto_rows": null,
            "grid_gap": null,
            "max_width": null,
            "order": null,
            "_view_module_version": "1.2.0",
            "grid_template_areas": null,
            "object_position": null,
            "object_fit": null,
            "grid_auto_columns": null,
            "margin": null,
            "display": null,
            "left": null
          }
        },
        "85dbe140648d445089d91f67429a7173": {
          "model_module": "@jupyter-widgets/controls",
          "model_name": "DescriptionStyleModel",
          "state": {
            "_view_name": "StyleView",
            "_model_name": "DescriptionStyleModel",
            "description_width": "",
            "_view_module": "@jupyter-widgets/base",
            "_model_module_version": "1.5.0",
            "_view_count": null,
            "_view_module_version": "1.2.0",
            "_model_module": "@jupyter-widgets/controls"
          }
        },
        "9ac75c476a6a41afb65b79631a273a5e": {
          "model_module": "@jupyter-widgets/base",
          "model_name": "LayoutModel",
          "state": {
            "_view_name": "LayoutView",
            "grid_template_rows": null,
            "right": null,
            "justify_content": null,
            "_view_module": "@jupyter-widgets/base",
            "overflow": null,
            "_model_module_version": "1.2.0",
            "_view_count": null,
            "flex_flow": null,
            "width": null,
            "min_width": null,
            "border": null,
            "align_items": null,
            "bottom": null,
            "_model_module": "@jupyter-widgets/base",
            "top": null,
            "grid_column": null,
            "overflow_y": null,
            "overflow_x": null,
            "grid_auto_flow": null,
            "grid_area": null,
            "grid_template_columns": null,
            "flex": null,
            "_model_name": "LayoutModel",
            "justify_items": null,
            "grid_row": null,
            "max_height": null,
            "align_content": null,
            "visibility": null,
            "align_self": null,
            "height": null,
            "min_height": null,
            "padding": null,
            "grid_auto_rows": null,
            "grid_gap": null,
            "max_width": null,
            "order": null,
            "_view_module_version": "1.2.0",
            "grid_template_areas": null,
            "object_position": null,
            "object_fit": null,
            "grid_auto_columns": null,
            "margin": null,
            "display": null,
            "left": null
          }
        },
        "46695e4a4d674fbbb602af36622d4fe1": {
          "model_module": "@jupyter-widgets/controls",
          "model_name": "HBoxModel",
          "state": {
            "_view_name": "HBoxView",
            "_dom_classes": [],
            "_model_name": "HBoxModel",
            "_view_module": "@jupyter-widgets/controls",
            "_model_module_version": "1.5.0",
            "_view_count": null,
            "_view_module_version": "1.5.0",
            "box_style": "",
            "layout": "IPY_MODEL_60dc7ee1d0a54a9bb30f46ab4d0822b3",
            "_model_module": "@jupyter-widgets/controls",
            "children": [
              "IPY_MODEL_8ba87c13248e4c6681feab6fc8f6f384",
              "IPY_MODEL_e630caab61194d9c83c442af4a4387f8"
            ]
          }
        },
        "60dc7ee1d0a54a9bb30f46ab4d0822b3": {
          "model_module": "@jupyter-widgets/base",
          "model_name": "LayoutModel",
          "state": {
            "_view_name": "LayoutView",
            "grid_template_rows": null,
            "right": null,
            "justify_content": null,
            "_view_module": "@jupyter-widgets/base",
            "overflow": null,
            "_model_module_version": "1.2.0",
            "_view_count": null,
            "flex_flow": "row wrap",
            "width": "100%",
            "min_width": null,
            "border": null,
            "align_items": null,
            "bottom": null,
            "_model_module": "@jupyter-widgets/base",
            "top": null,
            "grid_column": null,
            "overflow_y": null,
            "overflow_x": null,
            "grid_auto_flow": null,
            "grid_area": null,
            "grid_template_columns": null,
            "flex": null,
            "_model_name": "LayoutModel",
            "justify_items": null,
            "grid_row": null,
            "max_height": null,
            "align_content": null,
            "visibility": null,
            "align_self": null,
            "height": null,
            "min_height": null,
            "padding": null,
            "grid_auto_rows": null,
            "grid_gap": null,
            "max_width": null,
            "order": null,
            "_view_module_version": "1.2.0",
            "grid_template_areas": null,
            "object_position": null,
            "object_fit": null,
            "grid_auto_columns": null,
            "margin": null,
            "display": "inline-flex",
            "left": null
          }
        },
        "8ba87c13248e4c6681feab6fc8f6f384": {
          "model_module": "@jupyter-widgets/controls",
          "model_name": "FloatProgressModel",
          "state": {
            "_view_name": "ProgressView",
            "style": "IPY_MODEL_a19f486bca1f4ed99a2bd8fe24ea26ad",
            "_dom_classes": [],
            "description": "loss=1.2531149387 batch_id=546: 100%",
            "_model_name": "FloatProgressModel",
            "bar_style": "success",
            "max": 547,
            "_view_module": "@jupyter-widgets/controls",
            "_model_module_version": "1.5.0",
            "value": 547,
            "_view_count": null,
            "_view_module_version": "1.5.0",
            "orientation": "horizontal",
            "min": 0,
            "description_tooltip": null,
            "_model_module": "@jupyter-widgets/controls",
            "layout": "IPY_MODEL_f0410f922df94b2e92a5d7c2a7044456"
          }
        },
        "e630caab61194d9c83c442af4a4387f8": {
          "model_module": "@jupyter-widgets/controls",
          "model_name": "HTMLModel",
          "state": {
            "_view_name": "HTMLView",
            "style": "IPY_MODEL_e5408385197a4dfdb447c7cb853e54fe",
            "_dom_classes": [],
            "description": "",
            "_model_name": "HTMLModel",
            "placeholder": "​",
            "_view_module": "@jupyter-widgets/controls",
            "_model_module_version": "1.5.0",
            "value": " 547/547 [09:07&lt;00:00,  1.00s/it]",
            "_view_count": null,
            "_view_module_version": "1.5.0",
            "description_tooltip": null,
            "_model_module": "@jupyter-widgets/controls",
            "layout": "IPY_MODEL_cc02262e2f0346408b7b98dc8d8d5643"
          }
        },
        "a19f486bca1f4ed99a2bd8fe24ea26ad": {
          "model_module": "@jupyter-widgets/controls",
          "model_name": "ProgressStyleModel",
          "state": {
            "_view_name": "StyleView",
            "_model_name": "ProgressStyleModel",
            "description_width": "initial",
            "_view_module": "@jupyter-widgets/base",
            "_model_module_version": "1.5.0",
            "_view_count": null,
            "_view_module_version": "1.2.0",
            "bar_color": null,
            "_model_module": "@jupyter-widgets/controls"
          }
        },
        "f0410f922df94b2e92a5d7c2a7044456": {
          "model_module": "@jupyter-widgets/base",
          "model_name": "LayoutModel",
          "state": {
            "_view_name": "LayoutView",
            "grid_template_rows": null,
            "right": null,
            "justify_content": null,
            "_view_module": "@jupyter-widgets/base",
            "overflow": null,
            "_model_module_version": "1.2.0",
            "_view_count": null,
            "flex_flow": null,
            "width": null,
            "min_width": null,
            "border": null,
            "align_items": null,
            "bottom": null,
            "_model_module": "@jupyter-widgets/base",
            "top": null,
            "grid_column": null,
            "overflow_y": null,
            "overflow_x": null,
            "grid_auto_flow": null,
            "grid_area": null,
            "grid_template_columns": null,
            "flex": "2",
            "_model_name": "LayoutModel",
            "justify_items": null,
            "grid_row": null,
            "max_height": null,
            "align_content": null,
            "visibility": null,
            "align_self": null,
            "height": null,
            "min_height": null,
            "padding": null,
            "grid_auto_rows": null,
            "grid_gap": null,
            "max_width": null,
            "order": null,
            "_view_module_version": "1.2.0",
            "grid_template_areas": null,
            "object_position": null,
            "object_fit": null,
            "grid_auto_columns": null,
            "margin": null,
            "display": null,
            "left": null
          }
        },
        "e5408385197a4dfdb447c7cb853e54fe": {
          "model_module": "@jupyter-widgets/controls",
          "model_name": "DescriptionStyleModel",
          "state": {
            "_view_name": "StyleView",
            "_model_name": "DescriptionStyleModel",
            "description_width": "",
            "_view_module": "@jupyter-widgets/base",
            "_model_module_version": "1.5.0",
            "_view_count": null,
            "_view_module_version": "1.2.0",
            "_model_module": "@jupyter-widgets/controls"
          }
        },
        "cc02262e2f0346408b7b98dc8d8d5643": {
          "model_module": "@jupyter-widgets/base",
          "model_name": "LayoutModel",
          "state": {
            "_view_name": "LayoutView",
            "grid_template_rows": null,
            "right": null,
            "justify_content": null,
            "_view_module": "@jupyter-widgets/base",
            "overflow": null,
            "_model_module_version": "1.2.0",
            "_view_count": null,
            "flex_flow": null,
            "width": null,
            "min_width": null,
            "border": null,
            "align_items": null,
            "bottom": null,
            "_model_module": "@jupyter-widgets/base",
            "top": null,
            "grid_column": null,
            "overflow_y": null,
            "overflow_x": null,
            "grid_auto_flow": null,
            "grid_area": null,
            "grid_template_columns": null,
            "flex": null,
            "_model_name": "LayoutModel",
            "justify_items": null,
            "grid_row": null,
            "max_height": null,
            "align_content": null,
            "visibility": null,
            "align_self": null,
            "height": null,
            "min_height": null,
            "padding": null,
            "grid_auto_rows": null,
            "grid_gap": null,
            "max_width": null,
            "order": null,
            "_view_module_version": "1.2.0",
            "grid_template_areas": null,
            "object_position": null,
            "object_fit": null,
            "grid_auto_columns": null,
            "margin": null,
            "display": null,
            "left": null
          }
        },
        "d3a9c9551c3d4543bf6e2b3a9810b4e6": {
          "model_module": "@jupyter-widgets/controls",
          "model_name": "HBoxModel",
          "state": {
            "_view_name": "HBoxView",
            "_dom_classes": [],
            "_model_name": "HBoxModel",
            "_view_module": "@jupyter-widgets/controls",
            "_model_module_version": "1.5.0",
            "_view_count": null,
            "_view_module_version": "1.5.0",
            "box_style": "",
            "layout": "IPY_MODEL_bfb34dd5df084eebabf54be0b521854d",
            "_model_module": "@jupyter-widgets/controls",
            "children": [
              "IPY_MODEL_fdd7a087c78540ef97c4d1ab072997c4",
              "IPY_MODEL_e93d2cf19cae4ac58befc3386c3befff"
            ]
          }
        },
        "bfb34dd5df084eebabf54be0b521854d": {
          "model_module": "@jupyter-widgets/base",
          "model_name": "LayoutModel",
          "state": {
            "_view_name": "LayoutView",
            "grid_template_rows": null,
            "right": null,
            "justify_content": null,
            "_view_module": "@jupyter-widgets/base",
            "overflow": null,
            "_model_module_version": "1.2.0",
            "_view_count": null,
            "flex_flow": "row wrap",
            "width": "100%",
            "min_width": null,
            "border": null,
            "align_items": null,
            "bottom": null,
            "_model_module": "@jupyter-widgets/base",
            "top": null,
            "grid_column": null,
            "overflow_y": null,
            "overflow_x": null,
            "grid_auto_flow": null,
            "grid_area": null,
            "grid_template_columns": null,
            "flex": null,
            "_model_name": "LayoutModel",
            "justify_items": null,
            "grid_row": null,
            "max_height": null,
            "align_content": null,
            "visibility": null,
            "align_self": null,
            "height": null,
            "min_height": null,
            "padding": null,
            "grid_auto_rows": null,
            "grid_gap": null,
            "max_width": null,
            "order": null,
            "_view_module_version": "1.2.0",
            "grid_template_areas": null,
            "object_position": null,
            "object_fit": null,
            "grid_auto_columns": null,
            "margin": null,
            "display": "inline-flex",
            "left": null
          }
        },
        "fdd7a087c78540ef97c4d1ab072997c4": {
          "model_module": "@jupyter-widgets/controls",
          "model_name": "FloatProgressModel",
          "state": {
            "_view_name": "ProgressView",
            "style": "IPY_MODEL_59c95ed6f5634dca8f608cabcb280226",
            "_dom_classes": [],
            "description": "loss=1.2340198755 batch_id=273: 100%",
            "_model_name": "FloatProgressModel",
            "bar_style": "success",
            "max": 274,
            "_view_module": "@jupyter-widgets/controls",
            "_model_module_version": "1.5.0",
            "value": 274,
            "_view_count": null,
            "_view_module_version": "1.5.0",
            "orientation": "horizontal",
            "min": 0,
            "description_tooltip": null,
            "_model_module": "@jupyter-widgets/controls",
            "layout": "IPY_MODEL_05ce1e6dd80f4cd294b455ee574c6595"
          }
        },
        "e93d2cf19cae4ac58befc3386c3befff": {
          "model_module": "@jupyter-widgets/controls",
          "model_name": "HTMLModel",
          "state": {
            "_view_name": "HTMLView",
            "style": "IPY_MODEL_927982809de64889955e97914c3f6179",
            "_dom_classes": [],
            "description": "",
            "_model_name": "HTMLModel",
            "placeholder": "​",
            "_view_module": "@jupyter-widgets/controls",
            "_model_module_version": "1.5.0",
            "value": " 274/274 [06:12&lt;00:00,  1.36s/it]",
            "_view_count": null,
            "_view_module_version": "1.5.0",
            "description_tooltip": null,
            "_model_module": "@jupyter-widgets/controls",
            "layout": "IPY_MODEL_4a3d53c347d940feb3b0ac7b32a02488"
          }
        },
        "59c95ed6f5634dca8f608cabcb280226": {
          "model_module": "@jupyter-widgets/controls",
          "model_name": "ProgressStyleModel",
          "state": {
            "_view_name": "StyleView",
            "_model_name": "ProgressStyleModel",
            "description_width": "initial",
            "_view_module": "@jupyter-widgets/base",
            "_model_module_version": "1.5.0",
            "_view_count": null,
            "_view_module_version": "1.2.0",
            "bar_color": null,
            "_model_module": "@jupyter-widgets/controls"
          }
        },
        "05ce1e6dd80f4cd294b455ee574c6595": {
          "model_module": "@jupyter-widgets/base",
          "model_name": "LayoutModel",
          "state": {
            "_view_name": "LayoutView",
            "grid_template_rows": null,
            "right": null,
            "justify_content": null,
            "_view_module": "@jupyter-widgets/base",
            "overflow": null,
            "_model_module_version": "1.2.0",
            "_view_count": null,
            "flex_flow": null,
            "width": null,
            "min_width": null,
            "border": null,
            "align_items": null,
            "bottom": null,
            "_model_module": "@jupyter-widgets/base",
            "top": null,
            "grid_column": null,
            "overflow_y": null,
            "overflow_x": null,
            "grid_auto_flow": null,
            "grid_area": null,
            "grid_template_columns": null,
            "flex": "2",
            "_model_name": "LayoutModel",
            "justify_items": null,
            "grid_row": null,
            "max_height": null,
            "align_content": null,
            "visibility": null,
            "align_self": null,
            "height": null,
            "min_height": null,
            "padding": null,
            "grid_auto_rows": null,
            "grid_gap": null,
            "max_width": null,
            "order": null,
            "_view_module_version": "1.2.0",
            "grid_template_areas": null,
            "object_position": null,
            "object_fit": null,
            "grid_auto_columns": null,
            "margin": null,
            "display": null,
            "left": null
          }
        },
        "927982809de64889955e97914c3f6179": {
          "model_module": "@jupyter-widgets/controls",
          "model_name": "DescriptionStyleModel",
          "state": {
            "_view_name": "StyleView",
            "_model_name": "DescriptionStyleModel",
            "description_width": "",
            "_view_module": "@jupyter-widgets/base",
            "_model_module_version": "1.5.0",
            "_view_count": null,
            "_view_module_version": "1.2.0",
            "_model_module": "@jupyter-widgets/controls"
          }
        },
        "4a3d53c347d940feb3b0ac7b32a02488": {
          "model_module": "@jupyter-widgets/base",
          "model_name": "LayoutModel",
          "state": {
            "_view_name": "LayoutView",
            "grid_template_rows": null,
            "right": null,
            "justify_content": null,
            "_view_module": "@jupyter-widgets/base",
            "overflow": null,
            "_model_module_version": "1.2.0",
            "_view_count": null,
            "flex_flow": null,
            "width": null,
            "min_width": null,
            "border": null,
            "align_items": null,
            "bottom": null,
            "_model_module": "@jupyter-widgets/base",
            "top": null,
            "grid_column": null,
            "overflow_y": null,
            "overflow_x": null,
            "grid_auto_flow": null,
            "grid_area": null,
            "grid_template_columns": null,
            "flex": null,
            "_model_name": "LayoutModel",
            "justify_items": null,
            "grid_row": null,
            "max_height": null,
            "align_content": null,
            "visibility": null,
            "align_self": null,
            "height": null,
            "min_height": null,
            "padding": null,
            "grid_auto_rows": null,
            "grid_gap": null,
            "max_width": null,
            "order": null,
            "_view_module_version": "1.2.0",
            "grid_template_areas": null,
            "object_position": null,
            "object_fit": null,
            "grid_auto_columns": null,
            "margin": null,
            "display": null,
            "left": null
          }
        },
        "3cd82a24827d4cd4aaddda92954593f5": {
          "model_module": "@jupyter-widgets/controls",
          "model_name": "HBoxModel",
          "state": {
            "_view_name": "HBoxView",
            "_dom_classes": [],
            "_model_name": "HBoxModel",
            "_view_module": "@jupyter-widgets/controls",
            "_model_module_version": "1.5.0",
            "_view_count": null,
            "_view_module_version": "1.5.0",
            "box_style": "",
            "layout": "IPY_MODEL_9e013e2037b04573aea302ff384c8846",
            "_model_module": "@jupyter-widgets/controls",
            "children": [
              "IPY_MODEL_f7030366bfb9466c83bd7d1a357b4aa2",
              "IPY_MODEL_c4b1d71159c44978a00fc1eb3bbb946b"
            ]
          }
        },
        "9e013e2037b04573aea302ff384c8846": {
          "model_module": "@jupyter-widgets/base",
          "model_name": "LayoutModel",
          "state": {
            "_view_name": "LayoutView",
            "grid_template_rows": null,
            "right": null,
            "justify_content": null,
            "_view_module": "@jupyter-widgets/base",
            "overflow": null,
            "_model_module_version": "1.2.0",
            "_view_count": null,
            "flex_flow": "row wrap",
            "width": "100%",
            "min_width": null,
            "border": null,
            "align_items": null,
            "bottom": null,
            "_model_module": "@jupyter-widgets/base",
            "top": null,
            "grid_column": null,
            "overflow_y": null,
            "overflow_x": null,
            "grid_auto_flow": null,
            "grid_area": null,
            "grid_template_columns": null,
            "flex": null,
            "_model_name": "LayoutModel",
            "justify_items": null,
            "grid_row": null,
            "max_height": null,
            "align_content": null,
            "visibility": null,
            "align_self": null,
            "height": null,
            "min_height": null,
            "padding": null,
            "grid_auto_rows": null,
            "grid_gap": null,
            "max_width": null,
            "order": null,
            "_view_module_version": "1.2.0",
            "grid_template_areas": null,
            "object_position": null,
            "object_fit": null,
            "grid_auto_columns": null,
            "margin": null,
            "display": "inline-flex",
            "left": null
          }
        },
        "f7030366bfb9466c83bd7d1a357b4aa2": {
          "model_module": "@jupyter-widgets/controls",
          "model_name": "FloatProgressModel",
          "state": {
            "_view_name": "ProgressView",
            "style": "IPY_MODEL_0bab0c555d204a7399d93349625db8d2",
            "_dom_classes": [],
            "description": "loss=1.2497768402 batch_id=136: 100%",
            "_model_name": "FloatProgressModel",
            "bar_style": "success",
            "max": 137,
            "_view_module": "@jupyter-widgets/controls",
            "_model_module_version": "1.5.0",
            "value": 137,
            "_view_count": null,
            "_view_module_version": "1.5.0",
            "orientation": "horizontal",
            "min": 0,
            "description_tooltip": null,
            "_model_module": "@jupyter-widgets/controls",
            "layout": "IPY_MODEL_83d31753daed4310b9209542b07dc235"
          }
        },
        "c4b1d71159c44978a00fc1eb3bbb946b": {
          "model_module": "@jupyter-widgets/controls",
          "model_name": "HTMLModel",
          "state": {
            "_view_name": "HTMLView",
            "style": "IPY_MODEL_1e80a14ab9974f75a90062c9f58f7196",
            "_dom_classes": [],
            "description": "",
            "_model_name": "HTMLModel",
            "placeholder": "​",
            "_view_module": "@jupyter-widgets/controls",
            "_model_module_version": "1.5.0",
            "value": " 137/137 [03:41&lt;00:00,  1.62s/it]",
            "_view_count": null,
            "_view_module_version": "1.5.0",
            "description_tooltip": null,
            "_model_module": "@jupyter-widgets/controls",
            "layout": "IPY_MODEL_7e3958df72414520914ddaa75c90a236"
          }
        },
        "0bab0c555d204a7399d93349625db8d2": {
          "model_module": "@jupyter-widgets/controls",
          "model_name": "ProgressStyleModel",
          "state": {
            "_view_name": "StyleView",
            "_model_name": "ProgressStyleModel",
            "description_width": "initial",
            "_view_module": "@jupyter-widgets/base",
            "_model_module_version": "1.5.0",
            "_view_count": null,
            "_view_module_version": "1.2.0",
            "bar_color": null,
            "_model_module": "@jupyter-widgets/controls"
          }
        },
        "83d31753daed4310b9209542b07dc235": {
          "model_module": "@jupyter-widgets/base",
          "model_name": "LayoutModel",
          "state": {
            "_view_name": "LayoutView",
            "grid_template_rows": null,
            "right": null,
            "justify_content": null,
            "_view_module": "@jupyter-widgets/base",
            "overflow": null,
            "_model_module_version": "1.2.0",
            "_view_count": null,
            "flex_flow": null,
            "width": null,
            "min_width": null,
            "border": null,
            "align_items": null,
            "bottom": null,
            "_model_module": "@jupyter-widgets/base",
            "top": null,
            "grid_column": null,
            "overflow_y": null,
            "overflow_x": null,
            "grid_auto_flow": null,
            "grid_area": null,
            "grid_template_columns": null,
            "flex": "2",
            "_model_name": "LayoutModel",
            "justify_items": null,
            "grid_row": null,
            "max_height": null,
            "align_content": null,
            "visibility": null,
            "align_self": null,
            "height": null,
            "min_height": null,
            "padding": null,
            "grid_auto_rows": null,
            "grid_gap": null,
            "max_width": null,
            "order": null,
            "_view_module_version": "1.2.0",
            "grid_template_areas": null,
            "object_position": null,
            "object_fit": null,
            "grid_auto_columns": null,
            "margin": null,
            "display": null,
            "left": null
          }
        },
        "1e80a14ab9974f75a90062c9f58f7196": {
          "model_module": "@jupyter-widgets/controls",
          "model_name": "DescriptionStyleModel",
          "state": {
            "_view_name": "StyleView",
            "_model_name": "DescriptionStyleModel",
            "description_width": "",
            "_view_module": "@jupyter-widgets/base",
            "_model_module_version": "1.5.0",
            "_view_count": null,
            "_view_module_version": "1.2.0",
            "_model_module": "@jupyter-widgets/controls"
          }
        },
        "7e3958df72414520914ddaa75c90a236": {
          "model_module": "@jupyter-widgets/base",
          "model_name": "LayoutModel",
          "state": {
            "_view_name": "LayoutView",
            "grid_template_rows": null,
            "right": null,
            "justify_content": null,
            "_view_module": "@jupyter-widgets/base",
            "overflow": null,
            "_model_module_version": "1.2.0",
            "_view_count": null,
            "flex_flow": null,
            "width": null,
            "min_width": null,
            "border": null,
            "align_items": null,
            "bottom": null,
            "_model_module": "@jupyter-widgets/base",
            "top": null,
            "grid_column": null,
            "overflow_y": null,
            "overflow_x": null,
            "grid_auto_flow": null,
            "grid_area": null,
            "grid_template_columns": null,
            "flex": null,
            "_model_name": "LayoutModel",
            "justify_items": null,
            "grid_row": null,
            "max_height": null,
            "align_content": null,
            "visibility": null,
            "align_self": null,
            "height": null,
            "min_height": null,
            "padding": null,
            "grid_auto_rows": null,
            "grid_gap": null,
            "max_width": null,
            "order": null,
            "_view_module_version": "1.2.0",
            "grid_template_areas": null,
            "object_position": null,
            "object_fit": null,
            "grid_auto_columns": null,
            "margin": null,
            "display": null,
            "left": null
          }
        },
        "836f531cf8c94badb4f3c9894e1e3a2a": {
          "model_module": "@jupyter-widgets/controls",
          "model_name": "HBoxModel",
          "state": {
            "_view_name": "HBoxView",
            "_dom_classes": [],
            "_model_name": "HBoxModel",
            "_view_module": "@jupyter-widgets/controls",
            "_model_module_version": "1.5.0",
            "_view_count": null,
            "_view_module_version": "1.5.0",
            "box_style": "",
            "layout": "IPY_MODEL_e90d8e46779b452cbf379dd49ca1dcaf",
            "_model_module": "@jupyter-widgets/controls",
            "children": [
              "IPY_MODEL_5c1a1a41c224466c9ba6d469f7b6fc00",
              "IPY_MODEL_a358d72297b249dfb8f23473811bcbdf"
            ]
          }
        },
        "e90d8e46779b452cbf379dd49ca1dcaf": {
          "model_module": "@jupyter-widgets/base",
          "model_name": "LayoutModel",
          "state": {
            "_view_name": "LayoutView",
            "grid_template_rows": null,
            "right": null,
            "justify_content": null,
            "_view_module": "@jupyter-widgets/base",
            "overflow": null,
            "_model_module_version": "1.2.0",
            "_view_count": null,
            "flex_flow": "row wrap",
            "width": "100%",
            "min_width": null,
            "border": null,
            "align_items": null,
            "bottom": null,
            "_model_module": "@jupyter-widgets/base",
            "top": null,
            "grid_column": null,
            "overflow_y": null,
            "overflow_x": null,
            "grid_auto_flow": null,
            "grid_area": null,
            "grid_template_columns": null,
            "flex": null,
            "_model_name": "LayoutModel",
            "justify_items": null,
            "grid_row": null,
            "max_height": null,
            "align_content": null,
            "visibility": null,
            "align_self": null,
            "height": null,
            "min_height": null,
            "padding": null,
            "grid_auto_rows": null,
            "grid_gap": null,
            "max_width": null,
            "order": null,
            "_view_module_version": "1.2.0",
            "grid_template_areas": null,
            "object_position": null,
            "object_fit": null,
            "grid_auto_columns": null,
            "margin": null,
            "display": "inline-flex",
            "left": null
          }
        },
        "5c1a1a41c224466c9ba6d469f7b6fc00": {
          "model_module": "@jupyter-widgets/controls",
          "model_name": "FloatProgressModel",
          "state": {
            "_view_name": "ProgressView",
            "style": "IPY_MODEL_9286f24daae94b328ebd46dfa29efe56",
            "_dom_classes": [],
            "description": "  0%",
            "_model_name": "FloatProgressModel",
            "bar_style": "danger",
            "max": 69,
            "_view_module": "@jupyter-widgets/controls",
            "_model_module_version": "1.5.0",
            "value": 0,
            "_view_count": null,
            "_view_module_version": "1.5.0",
            "orientation": "horizontal",
            "min": 0,
            "description_tooltip": null,
            "_model_module": "@jupyter-widgets/controls",
            "layout": "IPY_MODEL_0f974508cb504a9d878e4fbce0cbbe24"
          }
        },
        "a358d72297b249dfb8f23473811bcbdf": {
          "model_module": "@jupyter-widgets/controls",
          "model_name": "HTMLModel",
          "state": {
            "_view_name": "HTMLView",
            "style": "IPY_MODEL_7257c5559f9a4363bbde9eb8ae308419",
            "_dom_classes": [],
            "description": "",
            "_model_name": "HTMLModel",
            "placeholder": "​",
            "_view_module": "@jupyter-widgets/controls",
            "_model_module_version": "1.5.0",
            "value": " 0/69 [00:02&lt;?, ?it/s]",
            "_view_count": null,
            "_view_module_version": "1.5.0",
            "description_tooltip": null,
            "_model_module": "@jupyter-widgets/controls",
            "layout": "IPY_MODEL_e99ab26f65f04591a2f0a7d48309b5b8"
          }
        },
        "9286f24daae94b328ebd46dfa29efe56": {
          "model_module": "@jupyter-widgets/controls",
          "model_name": "ProgressStyleModel",
          "state": {
            "_view_name": "StyleView",
            "_model_name": "ProgressStyleModel",
            "description_width": "initial",
            "_view_module": "@jupyter-widgets/base",
            "_model_module_version": "1.5.0",
            "_view_count": null,
            "_view_module_version": "1.2.0",
            "bar_color": null,
            "_model_module": "@jupyter-widgets/controls"
          }
        },
        "0f974508cb504a9d878e4fbce0cbbe24": {
          "model_module": "@jupyter-widgets/base",
          "model_name": "LayoutModel",
          "state": {
            "_view_name": "LayoutView",
            "grid_template_rows": null,
            "right": null,
            "justify_content": null,
            "_view_module": "@jupyter-widgets/base",
            "overflow": null,
            "_model_module_version": "1.2.0",
            "_view_count": null,
            "flex_flow": null,
            "width": null,
            "min_width": null,
            "border": null,
            "align_items": null,
            "bottom": null,
            "_model_module": "@jupyter-widgets/base",
            "top": null,
            "grid_column": null,
            "overflow_y": null,
            "overflow_x": null,
            "grid_auto_flow": null,
            "grid_area": null,
            "grid_template_columns": null,
            "flex": "2",
            "_model_name": "LayoutModel",
            "justify_items": null,
            "grid_row": null,
            "max_height": null,
            "align_content": null,
            "visibility": null,
            "align_self": null,
            "height": null,
            "min_height": null,
            "padding": null,
            "grid_auto_rows": null,
            "grid_gap": null,
            "max_width": null,
            "order": null,
            "_view_module_version": "1.2.0",
            "grid_template_areas": null,
            "object_position": null,
            "object_fit": null,
            "grid_auto_columns": null,
            "margin": null,
            "display": null,
            "left": null
          }
        },
        "7257c5559f9a4363bbde9eb8ae308419": {
          "model_module": "@jupyter-widgets/controls",
          "model_name": "DescriptionStyleModel",
          "state": {
            "_view_name": "StyleView",
            "_model_name": "DescriptionStyleModel",
            "description_width": "",
            "_view_module": "@jupyter-widgets/base",
            "_model_module_version": "1.5.0",
            "_view_count": null,
            "_view_module_version": "1.2.0",
            "_model_module": "@jupyter-widgets/controls"
          }
        },
        "e99ab26f65f04591a2f0a7d48309b5b8": {
          "model_module": "@jupyter-widgets/base",
          "model_name": "LayoutModel",
          "state": {
            "_view_name": "LayoutView",
            "grid_template_rows": null,
            "right": null,
            "justify_content": null,
            "_view_module": "@jupyter-widgets/base",
            "overflow": null,
            "_model_module_version": "1.2.0",
            "_view_count": null,
            "flex_flow": null,
            "width": null,
            "min_width": null,
            "border": null,
            "align_items": null,
            "bottom": null,
            "_model_module": "@jupyter-widgets/base",
            "top": null,
            "grid_column": null,
            "overflow_y": null,
            "overflow_x": null,
            "grid_auto_flow": null,
            "grid_area": null,
            "grid_template_columns": null,
            "flex": null,
            "_model_name": "LayoutModel",
            "justify_items": null,
            "grid_row": null,
            "max_height": null,
            "align_content": null,
            "visibility": null,
            "align_self": null,
            "height": null,
            "min_height": null,
            "padding": null,
            "grid_auto_rows": null,
            "grid_gap": null,
            "max_width": null,
            "order": null,
            "_view_module_version": "1.2.0",
            "grid_template_areas": null,
            "object_position": null,
            "object_fit": null,
            "grid_auto_columns": null,
            "margin": null,
            "display": null,
            "left": null
          }
        },
        "c4f663f3d5194e12885743814458203e": {
          "model_module": "@jupyter-widgets/controls",
          "model_name": "HBoxModel",
          "state": {
            "_view_name": "HBoxView",
            "_dom_classes": [],
            "_model_name": "HBoxModel",
            "_view_module": "@jupyter-widgets/controls",
            "_model_module_version": "1.5.0",
            "_view_count": null,
            "_view_module_version": "1.5.0",
            "box_style": "",
            "layout": "IPY_MODEL_28fd2d8b0a0d42b78abe309bd99c81fd",
            "_model_module": "@jupyter-widgets/controls",
            "children": [
              "IPY_MODEL_7d7dbfbc59604b9a8d7af63952337aad",
              "IPY_MODEL_bf118b7175d445e78212351cb60f85a7"
            ]
          }
        },
        "28fd2d8b0a0d42b78abe309bd99c81fd": {
          "model_module": "@jupyter-widgets/base",
          "model_name": "LayoutModel",
          "state": {
            "_view_name": "LayoutView",
            "grid_template_rows": null,
            "right": null,
            "justify_content": null,
            "_view_module": "@jupyter-widgets/base",
            "overflow": null,
            "_model_module_version": "1.2.0",
            "_view_count": null,
            "flex_flow": "row wrap",
            "width": "100%",
            "min_width": null,
            "border": null,
            "align_items": null,
            "bottom": null,
            "_model_module": "@jupyter-widgets/base",
            "top": null,
            "grid_column": null,
            "overflow_y": null,
            "overflow_x": null,
            "grid_auto_flow": null,
            "grid_area": null,
            "grid_template_columns": null,
            "flex": null,
            "_model_name": "LayoutModel",
            "justify_items": null,
            "grid_row": null,
            "max_height": null,
            "align_content": null,
            "visibility": null,
            "align_self": null,
            "height": null,
            "min_height": null,
            "padding": null,
            "grid_auto_rows": null,
            "grid_gap": null,
            "max_width": null,
            "order": null,
            "_view_module_version": "1.2.0",
            "grid_template_areas": null,
            "object_position": null,
            "object_fit": null,
            "grid_auto_columns": null,
            "margin": null,
            "display": "inline-flex",
            "left": null
          }
        },
        "7d7dbfbc59604b9a8d7af63952337aad": {
          "model_module": "@jupyter-widgets/controls",
          "model_name": "FloatProgressModel",
          "state": {
            "_view_name": "ProgressView",
            "style": "IPY_MODEL_9560e42adf3f48cfb44db9d06478bb04",
            "_dom_classes": [],
            "description": "loss=1.2633731365 batch_id=136: 100%",
            "_model_name": "FloatProgressModel",
            "bar_style": "success",
            "max": 137,
            "_view_module": "@jupyter-widgets/controls",
            "_model_module_version": "1.5.0",
            "value": 137,
            "_view_count": null,
            "_view_module_version": "1.5.0",
            "orientation": "horizontal",
            "min": 0,
            "description_tooltip": null,
            "_model_module": "@jupyter-widgets/controls",
            "layout": "IPY_MODEL_8ced2ae9ce5242d193e8602617bd14c5"
          }
        },
        "bf118b7175d445e78212351cb60f85a7": {
          "model_module": "@jupyter-widgets/controls",
          "model_name": "HTMLModel",
          "state": {
            "_view_name": "HTMLView",
            "style": "IPY_MODEL_0e53bacf2d82431e96c419832287688a",
            "_dom_classes": [],
            "description": "",
            "_model_name": "HTMLModel",
            "placeholder": "​",
            "_view_module": "@jupyter-widgets/controls",
            "_model_module_version": "1.5.0",
            "value": " 137/137 [05:40&lt;00:00,  2.49s/it]",
            "_view_count": null,
            "_view_module_version": "1.5.0",
            "description_tooltip": null,
            "_model_module": "@jupyter-widgets/controls",
            "layout": "IPY_MODEL_517521752eae40018c3f104dcb147c38"
          }
        },
        "9560e42adf3f48cfb44db9d06478bb04": {
          "model_module": "@jupyter-widgets/controls",
          "model_name": "ProgressStyleModel",
          "state": {
            "_view_name": "StyleView",
            "_model_name": "ProgressStyleModel",
            "description_width": "initial",
            "_view_module": "@jupyter-widgets/base",
            "_model_module_version": "1.5.0",
            "_view_count": null,
            "_view_module_version": "1.2.0",
            "bar_color": null,
            "_model_module": "@jupyter-widgets/controls"
          }
        },
        "8ced2ae9ce5242d193e8602617bd14c5": {
          "model_module": "@jupyter-widgets/base",
          "model_name": "LayoutModel",
          "state": {
            "_view_name": "LayoutView",
            "grid_template_rows": null,
            "right": null,
            "justify_content": null,
            "_view_module": "@jupyter-widgets/base",
            "overflow": null,
            "_model_module_version": "1.2.0",
            "_view_count": null,
            "flex_flow": null,
            "width": null,
            "min_width": null,
            "border": null,
            "align_items": null,
            "bottom": null,
            "_model_module": "@jupyter-widgets/base",
            "top": null,
            "grid_column": null,
            "overflow_y": null,
            "overflow_x": null,
            "grid_auto_flow": null,
            "grid_area": null,
            "grid_template_columns": null,
            "flex": "2",
            "_model_name": "LayoutModel",
            "justify_items": null,
            "grid_row": null,
            "max_height": null,
            "align_content": null,
            "visibility": null,
            "align_self": null,
            "height": null,
            "min_height": null,
            "padding": null,
            "grid_auto_rows": null,
            "grid_gap": null,
            "max_width": null,
            "order": null,
            "_view_module_version": "1.2.0",
            "grid_template_areas": null,
            "object_position": null,
            "object_fit": null,
            "grid_auto_columns": null,
            "margin": null,
            "display": null,
            "left": null
          }
        },
        "0e53bacf2d82431e96c419832287688a": {
          "model_module": "@jupyter-widgets/controls",
          "model_name": "DescriptionStyleModel",
          "state": {
            "_view_name": "StyleView",
            "_model_name": "DescriptionStyleModel",
            "description_width": "",
            "_view_module": "@jupyter-widgets/base",
            "_model_module_version": "1.5.0",
            "_view_count": null,
            "_view_module_version": "1.2.0",
            "_model_module": "@jupyter-widgets/controls"
          }
        },
        "517521752eae40018c3f104dcb147c38": {
          "model_module": "@jupyter-widgets/base",
          "model_name": "LayoutModel",
          "state": {
            "_view_name": "LayoutView",
            "grid_template_rows": null,
            "right": null,
            "justify_content": null,
            "_view_module": "@jupyter-widgets/base",
            "overflow": null,
            "_model_module_version": "1.2.0",
            "_view_count": null,
            "flex_flow": null,
            "width": null,
            "min_width": null,
            "border": null,
            "align_items": null,
            "bottom": null,
            "_model_module": "@jupyter-widgets/base",
            "top": null,
            "grid_column": null,
            "overflow_y": null,
            "overflow_x": null,
            "grid_auto_flow": null,
            "grid_area": null,
            "grid_template_columns": null,
            "flex": null,
            "_model_name": "LayoutModel",
            "justify_items": null,
            "grid_row": null,
            "max_height": null,
            "align_content": null,
            "visibility": null,
            "align_self": null,
            "height": null,
            "min_height": null,
            "padding": null,
            "grid_auto_rows": null,
            "grid_gap": null,
            "max_width": null,
            "order": null,
            "_view_module_version": "1.2.0",
            "grid_template_areas": null,
            "object_position": null,
            "object_fit": null,
            "grid_auto_columns": null,
            "margin": null,
            "display": null,
            "left": null
          }
        },
        "d0ec792b19df4b0f84049a7a2e76a322": {
          "model_module": "@jupyter-widgets/controls",
          "model_name": "HBoxModel",
          "state": {
            "_view_name": "HBoxView",
            "_dom_classes": [],
            "_model_name": "HBoxModel",
            "_view_module": "@jupyter-widgets/controls",
            "_model_module_version": "1.5.0",
            "_view_count": null,
            "_view_module_version": "1.5.0",
            "box_style": "",
            "layout": "IPY_MODEL_8845c349407a451dbc5cd6310ed340ed",
            "_model_module": "@jupyter-widgets/controls",
            "children": [
              "IPY_MODEL_a1f172f2d020472fb7005f94a05cb9a0",
              "IPY_MODEL_4aa536a4ffc942359540a4eaa73c30f0"
            ]
          }
        },
        "8845c349407a451dbc5cd6310ed340ed": {
          "model_module": "@jupyter-widgets/base",
          "model_name": "LayoutModel",
          "state": {
            "_view_name": "LayoutView",
            "grid_template_rows": null,
            "right": null,
            "justify_content": null,
            "_view_module": "@jupyter-widgets/base",
            "overflow": null,
            "_model_module_version": "1.2.0",
            "_view_count": null,
            "flex_flow": "row wrap",
            "width": "100%",
            "min_width": null,
            "border": null,
            "align_items": null,
            "bottom": null,
            "_model_module": "@jupyter-widgets/base",
            "top": null,
            "grid_column": null,
            "overflow_y": null,
            "overflow_x": null,
            "grid_auto_flow": null,
            "grid_area": null,
            "grid_template_columns": null,
            "flex": null,
            "_model_name": "LayoutModel",
            "justify_items": null,
            "grid_row": null,
            "max_height": null,
            "align_content": null,
            "visibility": null,
            "align_self": null,
            "height": null,
            "min_height": null,
            "padding": null,
            "grid_auto_rows": null,
            "grid_gap": null,
            "max_width": null,
            "order": null,
            "_view_module_version": "1.2.0",
            "grid_template_areas": null,
            "object_position": null,
            "object_fit": null,
            "grid_auto_columns": null,
            "margin": null,
            "display": "inline-flex",
            "left": null
          }
        },
        "a1f172f2d020472fb7005f94a05cb9a0": {
          "model_module": "@jupyter-widgets/controls",
          "model_name": "FloatProgressModel",
          "state": {
            "_view_name": "ProgressView",
            "style": "IPY_MODEL_7c5336f589424ae686c9a8df953c242f",
            "_dom_classes": [],
            "description": "loss=1.1941715479 batch_id=2187: 100%",
            "_model_name": "FloatProgressModel",
            "bar_style": "success",
            "max": 2188,
            "_view_module": "@jupyter-widgets/controls",
            "_model_module_version": "1.5.0",
            "value": 2188,
            "_view_count": null,
            "_view_module_version": "1.5.0",
            "orientation": "horizontal",
            "min": 0,
            "description_tooltip": null,
            "_model_module": "@jupyter-widgets/controls",
            "layout": "IPY_MODEL_95900e2b19c14ad48543595a0ac6bbed"
          }
        },
        "4aa536a4ffc942359540a4eaa73c30f0": {
          "model_module": "@jupyter-widgets/controls",
          "model_name": "HTMLModel",
          "state": {
            "_view_name": "HTMLView",
            "style": "IPY_MODEL_6d54a4e6504c4e23b32005f288255ee5",
            "_dom_classes": [],
            "description": "",
            "_model_name": "HTMLModel",
            "placeholder": "​",
            "_view_module": "@jupyter-widgets/controls",
            "_model_module_version": "1.5.0",
            "value": " 2188/2188 [38:51&lt;00:00,  1.07s/it]",
            "_view_count": null,
            "_view_module_version": "1.5.0",
            "description_tooltip": null,
            "_model_module": "@jupyter-widgets/controls",
            "layout": "IPY_MODEL_5d9040716ed241d9be4e88beea23136b"
          }
        },
        "7c5336f589424ae686c9a8df953c242f": {
          "model_module": "@jupyter-widgets/controls",
          "model_name": "ProgressStyleModel",
          "state": {
            "_view_name": "StyleView",
            "_model_name": "ProgressStyleModel",
            "description_width": "initial",
            "_view_module": "@jupyter-widgets/base",
            "_model_module_version": "1.5.0",
            "_view_count": null,
            "_view_module_version": "1.2.0",
            "bar_color": null,
            "_model_module": "@jupyter-widgets/controls"
          }
        },
        "95900e2b19c14ad48543595a0ac6bbed": {
          "model_module": "@jupyter-widgets/base",
          "model_name": "LayoutModel",
          "state": {
            "_view_name": "LayoutView",
            "grid_template_rows": null,
            "right": null,
            "justify_content": null,
            "_view_module": "@jupyter-widgets/base",
            "overflow": null,
            "_model_module_version": "1.2.0",
            "_view_count": null,
            "flex_flow": null,
            "width": null,
            "min_width": null,
            "border": null,
            "align_items": null,
            "bottom": null,
            "_model_module": "@jupyter-widgets/base",
            "top": null,
            "grid_column": null,
            "overflow_y": null,
            "overflow_x": null,
            "grid_auto_flow": null,
            "grid_area": null,
            "grid_template_columns": null,
            "flex": "2",
            "_model_name": "LayoutModel",
            "justify_items": null,
            "grid_row": null,
            "max_height": null,
            "align_content": null,
            "visibility": null,
            "align_self": null,
            "height": null,
            "min_height": null,
            "padding": null,
            "grid_auto_rows": null,
            "grid_gap": null,
            "max_width": null,
            "order": null,
            "_view_module_version": "1.2.0",
            "grid_template_areas": null,
            "object_position": null,
            "object_fit": null,
            "grid_auto_columns": null,
            "margin": null,
            "display": null,
            "left": null
          }
        },
        "6d54a4e6504c4e23b32005f288255ee5": {
          "model_module": "@jupyter-widgets/controls",
          "model_name": "DescriptionStyleModel",
          "state": {
            "_view_name": "StyleView",
            "_model_name": "DescriptionStyleModel",
            "description_width": "",
            "_view_module": "@jupyter-widgets/base",
            "_model_module_version": "1.5.0",
            "_view_count": null,
            "_view_module_version": "1.2.0",
            "_model_module": "@jupyter-widgets/controls"
          }
        },
        "5d9040716ed241d9be4e88beea23136b": {
          "model_module": "@jupyter-widgets/base",
          "model_name": "LayoutModel",
          "state": {
            "_view_name": "LayoutView",
            "grid_template_rows": null,
            "right": null,
            "justify_content": null,
            "_view_module": "@jupyter-widgets/base",
            "overflow": null,
            "_model_module_version": "1.2.0",
            "_view_count": null,
            "flex_flow": null,
            "width": null,
            "min_width": null,
            "border": null,
            "align_items": null,
            "bottom": null,
            "_model_module": "@jupyter-widgets/base",
            "top": null,
            "grid_column": null,
            "overflow_y": null,
            "overflow_x": null,
            "grid_auto_flow": null,
            "grid_area": null,
            "grid_template_columns": null,
            "flex": null,
            "_model_name": "LayoutModel",
            "justify_items": null,
            "grid_row": null,
            "max_height": null,
            "align_content": null,
            "visibility": null,
            "align_self": null,
            "height": null,
            "min_height": null,
            "padding": null,
            "grid_auto_rows": null,
            "grid_gap": null,
            "max_width": null,
            "order": null,
            "_view_module_version": "1.2.0",
            "grid_template_areas": null,
            "object_position": null,
            "object_fit": null,
            "grid_auto_columns": null,
            "margin": null,
            "display": null,
            "left": null
          }
        }
      }
    }
  },
  "cells": [
    {
      "cell_type": "markdown",
      "metadata": {
        "id": "view-in-github",
        "colab_type": "text"
      },
      "source": [
        "<a href=\"https://colab.research.google.com/github/satyajitghana/ProjektDepth/blob/master/notebooks/08_DepthModel_Experiments_Timings.ipynb\" target=\"_parent\"><img src=\"https://colab.research.google.com/assets/colab-badge.svg\" alt=\"Open In Colab\"/></a>"
      ]
    },
    {
      "cell_type": "markdown",
      "metadata": {
        "id": "JcJ9e_7wT39_",
        "colab_type": "text"
      },
      "source": [
        "# Experiments on batch_size, num_workers and plotting the results"
      ]
    },
    {
      "cell_type": "code",
      "metadata": {
        "id": "GZo5toCHTnPs",
        "colab_type": "code",
        "outputId": "37875961-a06b-4633-b71e-f3e9d08867ec",
        "colab": {
          "base_uri": "https://localhost:8080/",
          "height": 306
        }
      },
      "source": [
        "! nvidia-smi"
      ],
      "execution_count": 0,
      "outputs": [
        {
          "output_type": "stream",
          "text": [
            "Mon May 18 18:48:12 2020       \n",
            "+-----------------------------------------------------------------------------+\n",
            "| NVIDIA-SMI 440.82       Driver Version: 418.67       CUDA Version: 10.1     |\n",
            "|-------------------------------+----------------------+----------------------+\n",
            "| GPU  Name        Persistence-M| Bus-Id        Disp.A | Volatile Uncorr. ECC |\n",
            "| Fan  Temp  Perf  Pwr:Usage/Cap|         Memory-Usage | GPU-Util  Compute M. |\n",
            "|===============================+======================+======================|\n",
            "|   0  Tesla P100-PCIE...  Off  | 00000000:00:04.0 Off |                    0 |\n",
            "| N/A   38C    P0    37W / 250W |      0MiB / 16280MiB |      0%      Default |\n",
            "+-------------------------------+----------------------+----------------------+\n",
            "                                                                               \n",
            "+-----------------------------------------------------------------------------+\n",
            "| Processes:                                                       GPU Memory |\n",
            "|  GPU       PID   Type   Process name                             Usage      |\n",
            "|=============================================================================|\n",
            "|  No running processes found                                                 |\n",
            "+-----------------------------------------------------------------------------+\n"
          ],
          "name": "stdout"
        }
      ]
    },
    {
      "cell_type": "code",
      "metadata": {
        "id": "EAgg7wK0QwPd",
        "colab_type": "code",
        "outputId": "fa0d2c63-68fc-449b-94b1-ec96cdc2e885",
        "colab": {
          "base_uri": "https://localhost:8080/",
          "height": 122
        }
      },
      "source": [
        "from google.colab import drive\n",
        "drive.mount('/content/gdrive')"
      ],
      "execution_count": 0,
      "outputs": [
        {
          "output_type": "stream",
          "text": [
            "Go to this URL in a browser: https://accounts.google.com/o/oauth2/auth?client_id=947318989803-6bn6qk8qdgf4n4g3pfee6491hc0brc4i.apps.googleusercontent.com&redirect_uri=urn%3aietf%3awg%3aoauth%3a2.0%3aoob&response_type=code&scope=email%20https%3a%2f%2fwww.googleapis.com%2fauth%2fdocs.test%20https%3a%2f%2fwww.googleapis.com%2fauth%2fdrive%20https%3a%2f%2fwww.googleapis.com%2fauth%2fdrive.photos.readonly%20https%3a%2f%2fwww.googleapis.com%2fauth%2fpeopleapi.readonly\n",
            "\n",
            "Enter your authorization code:\n",
            "··········\n",
            "Mounted at /content/gdrive\n"
          ],
          "name": "stdout"
        }
      ]
    },
    {
      "cell_type": "code",
      "metadata": {
        "id": "unZyRgHiSgTL",
        "colab_type": "code",
        "outputId": "0ab02eab-d556-4a46-de66-752a277e78e5",
        "colab": {
          "base_uri": "https://localhost:8080/",
          "height": 51
        }
      },
      "source": [
        "import os\n",
        "from pathlib import Path\n",
        "from zipfile import ZipFile\n",
        "import zipfile\n",
        "from PIL import Image\n",
        "import numpy as np\n",
        "import matplotlib.pyplot as plt\n",
        "import seaborn as sns\n",
        "import io\n",
        "import gc\n",
        "from tqdm.auto import tqdm, trange\n",
        "import torchvision\n",
        "from torchvision import datasets\n",
        "from torch.utils.data import DataLoader\n",
        "from torch.utils.data import Dataset\n",
        "from torch.utils.data import random_split\n",
        "from torchsummary import summary\n",
        "import torch.nn as nn\n",
        "import torchvision.transforms as T\n",
        "import glob\n",
        "import torch\n",
        "import sys\n",
        "from typing import List, Tuple\n",
        "import yaml\n",
        "sns.set()"
      ],
      "execution_count": 0,
      "outputs": [
        {
          "output_type": "stream",
          "text": [
            "/usr/local/lib/python3.6/dist-packages/statsmodels/tools/_testing.py:19: FutureWarning: pandas.util.testing is deprecated. Use the functions in the public API at pandas.testing instead.\n",
            "  import pandas.util.testing as tm\n"
          ],
          "name": "stderr"
        }
      ]
    },
    {
      "cell_type": "code",
      "metadata": {
        "id": "Eg8TqkYieb2D",
        "colab_type": "code",
        "colab": {}
      },
      "source": [
        "import sys\n",
        "sys.path.insert(0, 'ProjektDepth')"
      ],
      "execution_count": 0,
      "outputs": []
    },
    {
      "cell_type": "code",
      "metadata": {
        "id": "VBK48vhZaRqE",
        "colab_type": "code",
        "outputId": "8d7e0435-ae7f-40ae-c9ba-544879e9285a",
        "colab": {
          "base_uri": "https://localhost:8080/",
          "height": 34
        }
      },
      "source": [
        "! git clone https://github.com/satyajitghana/ProjektDepth.git"
      ],
      "execution_count": 0,
      "outputs": [
        {
          "output_type": "stream",
          "text": [
            "fatal: destination path 'ProjektDepth' already exists and is not an empty directory.\n"
          ],
          "name": "stdout"
        }
      ]
    },
    {
      "cell_type": "code",
      "metadata": {
        "id": "3I02sGgnettu",
        "colab_type": "code",
        "colab": {}
      },
      "source": [
        "import vathos.data_loader as vloader\n",
        "import vathos.model as vmodel"
      ],
      "execution_count": 0,
      "outputs": []
    },
    {
      "cell_type": "code",
      "metadata": {
        "id": "YnFaqNmof7vX",
        "colab_type": "code",
        "outputId": "6295f3d0-e66d-471e-c931-e720e1fe21f5",
        "colab": {
          "base_uri": "https://localhost:8080/",
          "height": 85
        }
      },
      "source": [
        "%%time\n",
        "dataset = vloader.DenseDepth(root='data', source_zipfolder='/content/gdrive/My Drive/DepthProject/depth_dataset_zipped/',\n",
        "                     transform=T.Compose([T.ToTensor()]), target_transform=T.Compose([T.ToTensor()]))"
      ],
      "execution_count": 0,
      "outputs": [
        {
          "output_type": "stream",
          "text": [
            "dataset folders/files already exists in data/Vathos\n",
            "found 100 bg images, 400000 fg_bg images, 400000 fg_bg_mask images, 400000 depth_fg_bg images\n",
            "CPU times: user 16.8 s, sys: 1.06 s, total: 17.8 s\n",
            "Wall time: 17.8 s\n"
          ],
          "name": "stdout"
        }
      ]
    },
    {
      "cell_type": "markdown",
      "metadata": {
        "id": "rFWlyxTEB4vW",
        "colab_type": "text"
      },
      "source": [
        "## Split the Data into Test and Train"
      ]
    },
    {
      "cell_type": "code",
      "metadata": {
        "id": "A0jCVLFG9HhL",
        "colab_type": "code",
        "colab": {}
      },
      "source": [
        "# 70 - 30 split\n",
        "train_size = int(0.7 * len(dataset))\n",
        "test_size = len(dataset) - train_size\n",
        "\n",
        "train_subset, test_subset = torch.utils.data.random_split(dataset, [train_size, test_size])"
      ],
      "execution_count": 0,
      "outputs": []
    },
    {
      "cell_type": "code",
      "metadata": {
        "id": "odcbf-hCNAy-",
        "colab_type": "code",
        "colab": {}
      },
      "source": [
        "device = torch.device(\"cuda\" if torch.cuda.is_available() else \"cpu\")"
      ],
      "execution_count": 0,
      "outputs": []
    },
    {
      "cell_type": "code",
      "metadata": {
        "id": "yUzqiH1bZ6Cm",
        "colab_type": "code",
        "colab": {}
      },
      "source": [
        "from tqdm.auto import tqdm\n",
        "import torch\n",
        "import torch.nn as nn\n",
        "\n",
        "\n",
        "class ResDoubleConv(nn.Module):\n",
        "    '''Basic DoubleConv of a ResNetV2'''\n",
        "\n",
        "    def __init__(self, in_channels, out_channels):\n",
        "        super(ResDoubleConv, self).__init__()\n",
        "\n",
        "        self.double_conv = nn.Sequential(\n",
        "            nn.BatchNorm2d(in_channels),\n",
        "            nn.ReLU(inplace=True),\n",
        "            nn.Conv2d(in_channels, out_channels,\n",
        "                      kernel_size=3, padding=1, bias=False),\n",
        "            nn.BatchNorm2d(out_channels),\n",
        "            nn.ReLU(inplace=True),\n",
        "            nn.Conv2d(out_channels, out_channels,\n",
        "                      kernel_size=3, padding=1, bias=False)\n",
        "        )\n",
        "\n",
        "    def forward(self, x):\n",
        "        out = self.double_conv(x)\n",
        "\n",
        "        return out\n",
        "\n",
        "\n",
        "class ResDownBlock(nn.Module):\n",
        "    '''Basic DownBlock of a ResNetV2'''\n",
        "\n",
        "    def __init__(self, in_channels, out_channels):\n",
        "        super(ResDownBlock, self).__init__()\n",
        "\n",
        "        self.double_conv = ResDoubleConv(in_channels, out_channels)\n",
        "\n",
        "        self.proj_layer = nn.Sequential(\n",
        "            nn.Conv2d(in_channels, out_channels,\n",
        "                      kernel_size=1, stride=1, bias=False),\n",
        "            nn.BatchNorm2d(out_channels)\n",
        "        )\n",
        "\n",
        "        self.down_sample = nn.MaxPool2d(2)\n",
        "\n",
        "    def forward(self, input):\n",
        "        identity = self.proj_layer(input)\n",
        "        out = self.double_conv(input)\n",
        "        out = out + identity\n",
        "\n",
        "        return self.down_sample(out), out\n",
        "\n",
        "\n",
        "class ResUpBlock(nn.Module):\n",
        "    '''Basic UpBlock of a ResNetV2'''\n",
        "\n",
        "    def __init__(self, in_channels, out_channels):\n",
        "        super(ResUpBlock, self).__init__()\n",
        "\n",
        "        self.pre_conv = nn.Conv2d(in_channels, in_channels*4, kernel_size=1, bias=False)\n",
        "\n",
        "        self.skip_conv = nn.Conv2d(out_channels, in_channels, kernel_size=1, bias=False)\n",
        "\n",
        "        self.upsample = nn.PixelShuffle(2)\n",
        "\n",
        "        self.double_conv = ResDoubleConv(in_channels, out_channels)\n",
        "\n",
        "        self.proj_layer = nn.Sequential(\n",
        "            nn.Conv2d(in_channels, out_channels,\n",
        "                      kernel_size=1, stride=1, bias=False),\n",
        "            nn.BatchNorm2d(out_channels)\n",
        "        )\n",
        "\n",
        "    def forward(self, down_input, skip_input):\n",
        "\n",
        "        x = self.pre_conv(down_input)\n",
        "\n",
        "        x = self.upsample(x) + self.skip_conv(skip_input)\n",
        "\n",
        "        identity = self.proj_layer(x)\n",
        "\n",
        "        out = self.double_conv(x) + identity\n",
        "\n",
        "        return out\n",
        "\n",
        "\n",
        "class ResUNet(nn.Module):\n",
        "    def __init__(self):\n",
        "        super(ResUNet, self).__init__()\n",
        "\n",
        "        # Encoder\n",
        "        # H / 2   ; input = 192x192x6 ; output = 96x96x64   ; skip1 = 192x192x64\n",
        "        self.res_down1 = ResDownBlock(6, 64)\n",
        "        # H / 4   ; input = 96x96x64  ; output = 48x48x128  ; skip2 = 96x96x128\n",
        "        self.res_down2 = ResDownBlock(64, 128)\n",
        "        # H / 8   ; input = 48x48x128 ; output = 24x24x256  ; skip3 = 48x48x256\n",
        "        self.res_down3 = ResDownBlock(128, 256)\n",
        "        # H / 16  ; input = 24x24x256 ; output = 12x12x512  ; skip4 = 24x24x512\n",
        "        self.res_down4 = ResDownBlock(256, 512)\n",
        "\n",
        "        # Bridge\n",
        "        self.bridge = ResDoubleConv(512, 512)\n",
        "\n",
        "        # Depth Decoder\n",
        "        # H / 8  ; input = 24x24x512(upscaled)   24x24x512(skip4)  ; output = 24x24x512(dskip4)\n",
        "        self.d_res_up4 = ResUpBlock(512, 512)\n",
        "        # H / 4  ; input = 48x48x512(upscaled)   48x48x256(skip3)  ; output = 48x48x256(dskip3)\n",
        "        self.d_res_up3 = ResUpBlock(512, 256)\n",
        "        # H / 2  ; input = 96x96x256(upscaled)   96x96x128(skip2)  ; output = 96x96x128(dskip2)\n",
        "        self.d_res_up2 = ResUpBlock(256, 128)\n",
        "        # H / 1  ; input = 192x192x128(upscaled) 192x192x64(skip1) ; output = 192x192x64(dskip1)\n",
        "        self.d_res_up1 = ResUpBlock(128, 64)\n",
        "\n",
        "        # Depth Output\n",
        "        self.depth_output = nn.Conv2d(\n",
        "            64, 1, kernel_size=1, stride=1, bias=False)  # output = 192x192x1\n",
        "\n",
        "        # Segmentation Decoder\n",
        "        # H / 8  ; input = 24x24x1024(upscaled)  24x24x512(dskip4)  24x24x512(skip4)  ; output = 24x24x512\n",
        "        self.s_res_up4 = ResUpBlock(512, 512)\n",
        "        # H / 4  ; input = 48x48x512(upscaled)   48x48x256(dskip3)  48x48x256(skip3)  ; output = 48x48x256\n",
        "        self.s_res_up3 = ResUpBlock(512, 256)\n",
        "        # H / 2  ; input = 96x96x256(upscaled)   96x96x128(dskip2)  96x96x128(skip2)  ; output = 96x96x128\n",
        "        self.s_res_up2 = ResUpBlock(256, 128)\n",
        "        # H / 1  ; input = 192x192x128(upscaled) 192x192x64(dskip1) 192x192x64(skip1) ; output = 192x192x64\n",
        "        self.s_res_up1 = ResUpBlock(128, 64)\n",
        "\n",
        "        # Segmentation Output\n",
        "        self.segment_output = nn.Conv2d(\n",
        "            64, 1, kernel_size=1, stride=1, bias=False)  # output = 192x192x1\n",
        "\n",
        "    def forward(self, input):\n",
        "\n",
        "        # Encoder\n",
        "        rd1, skip1_out = self.res_down1(input)\n",
        "        rd2, skip2_out = self.res_down2(rd1)\n",
        "        rd3, skip3_out = self.res_down3(rd2)\n",
        "        rd4, skip4_out = self.res_down4(rd3)\n",
        "\n",
        "        # Bridge\n",
        "        bridge = self.bridge(rd4)\n",
        "\n",
        "        # Depth Decoder\n",
        "        dru4 = self.d_res_up4(bridge, skip4_out)\n",
        "        dru3 = self.d_res_up3(dru4, skip3_out)\n",
        "        dru2 = self.d_res_up2(dru3, skip2_out)\n",
        "        dru1 = self.d_res_up1(dru2, skip1_out)\n",
        "\n",
        "        d_out = self.depth_output(dru1)\n",
        "\n",
        "        # Segmentation Decoder\n",
        "        sru4 = self.s_res_up4(bridge, skip4_out + dru4)\n",
        "        sru3 = self.s_res_up3(sru4, skip3_out + dru3)\n",
        "        sru2 = self.s_res_up2(sru3, skip2_out + dru2)\n",
        "        sru1 = self.s_res_up1(sru2, skip1_out + dru1)\n",
        "\n",
        "        s_out = self.segment_output(sru1)\n",
        "        return d_out, s_out"
      ],
      "execution_count": 0,
      "outputs": []
    },
    {
      "cell_type": "code",
      "metadata": {
        "id": "YDn0aDTHqKGi",
        "colab_type": "code",
        "outputId": "dfbb2f43-29dd-4de8-eaa9-a4b1a5cc5c02",
        "colab": {
          "base_uri": "https://localhost:8080/",
          "height": 1000
        }
      },
      "source": [
        "model = ResUNet()\n",
        "summary(model.to(device), input_size=(6, 96, 96))"
      ],
      "execution_count": 0,
      "outputs": [
        {
          "output_type": "stream",
          "text": [
            "----------------------------------------------------------------\n",
            "        Layer (type)               Output Shape         Param #\n",
            "================================================================\n",
            "            Conv2d-1           [-1, 64, 96, 96]             384\n",
            "       BatchNorm2d-2           [-1, 64, 96, 96]             128\n",
            "       BatchNorm2d-3            [-1, 6, 96, 96]              12\n",
            "              ReLU-4            [-1, 6, 96, 96]               0\n",
            "            Conv2d-5           [-1, 64, 96, 96]           3,456\n",
            "       BatchNorm2d-6           [-1, 64, 96, 96]             128\n",
            "              ReLU-7           [-1, 64, 96, 96]               0\n",
            "            Conv2d-8           [-1, 64, 96, 96]          36,864\n",
            "     ResDoubleConv-9           [-1, 64, 96, 96]               0\n",
            "        MaxPool2d-10           [-1, 64, 48, 48]               0\n",
            "     ResDownBlock-11  [[-1, 64, 48, 48], [-1, 64, 96, 96]]               0\n",
            "           Conv2d-12          [-1, 128, 48, 48]           8,192\n",
            "      BatchNorm2d-13          [-1, 128, 48, 48]             256\n",
            "      BatchNorm2d-14           [-1, 64, 48, 48]             128\n",
            "             ReLU-15           [-1, 64, 48, 48]               0\n",
            "           Conv2d-16          [-1, 128, 48, 48]          73,728\n",
            "      BatchNorm2d-17          [-1, 128, 48, 48]             256\n",
            "             ReLU-18          [-1, 128, 48, 48]               0\n",
            "           Conv2d-19          [-1, 128, 48, 48]         147,456\n",
            "    ResDoubleConv-20          [-1, 128, 48, 48]               0\n",
            "        MaxPool2d-21          [-1, 128, 24, 24]               0\n",
            "     ResDownBlock-22  [[-1, 128, 24, 24], [-1, 128, 48, 48]]               0\n",
            "           Conv2d-23          [-1, 256, 24, 24]          32,768\n",
            "      BatchNorm2d-24          [-1, 256, 24, 24]             512\n",
            "      BatchNorm2d-25          [-1, 128, 24, 24]             256\n",
            "             ReLU-26          [-1, 128, 24, 24]               0\n",
            "           Conv2d-27          [-1, 256, 24, 24]         294,912\n",
            "      BatchNorm2d-28          [-1, 256, 24, 24]             512\n",
            "             ReLU-29          [-1, 256, 24, 24]               0\n",
            "           Conv2d-30          [-1, 256, 24, 24]         589,824\n",
            "    ResDoubleConv-31          [-1, 256, 24, 24]               0\n",
            "        MaxPool2d-32          [-1, 256, 12, 12]               0\n",
            "     ResDownBlock-33  [[-1, 256, 12, 12], [-1, 256, 24, 24]]               0\n",
            "           Conv2d-34          [-1, 512, 12, 12]         131,072\n",
            "      BatchNorm2d-35          [-1, 512, 12, 12]           1,024\n",
            "      BatchNorm2d-36          [-1, 256, 12, 12]             512\n",
            "             ReLU-37          [-1, 256, 12, 12]               0\n",
            "           Conv2d-38          [-1, 512, 12, 12]       1,179,648\n",
            "      BatchNorm2d-39          [-1, 512, 12, 12]           1,024\n",
            "             ReLU-40          [-1, 512, 12, 12]               0\n",
            "           Conv2d-41          [-1, 512, 12, 12]       2,359,296\n",
            "    ResDoubleConv-42          [-1, 512, 12, 12]               0\n",
            "        MaxPool2d-43            [-1, 512, 6, 6]               0\n",
            "     ResDownBlock-44  [[-1, 512, 6, 6], [-1, 512, 12, 12]]               0\n",
            "      BatchNorm2d-45            [-1, 512, 6, 6]           1,024\n",
            "             ReLU-46            [-1, 512, 6, 6]               0\n",
            "           Conv2d-47            [-1, 512, 6, 6]       2,359,296\n",
            "      BatchNorm2d-48            [-1, 512, 6, 6]           1,024\n",
            "             ReLU-49            [-1, 512, 6, 6]               0\n",
            "           Conv2d-50            [-1, 512, 6, 6]       2,359,296\n",
            "    ResDoubleConv-51            [-1, 512, 6, 6]               0\n",
            "           Conv2d-52           [-1, 2048, 6, 6]       1,048,576\n",
            "     PixelShuffle-53          [-1, 512, 12, 12]               0\n",
            "           Conv2d-54          [-1, 512, 12, 12]         262,144\n",
            "           Conv2d-55          [-1, 512, 12, 12]         262,144\n",
            "      BatchNorm2d-56          [-1, 512, 12, 12]           1,024\n",
            "      BatchNorm2d-57          [-1, 512, 12, 12]           1,024\n",
            "             ReLU-58          [-1, 512, 12, 12]               0\n",
            "           Conv2d-59          [-1, 512, 12, 12]       2,359,296\n",
            "      BatchNorm2d-60          [-1, 512, 12, 12]           1,024\n",
            "             ReLU-61          [-1, 512, 12, 12]               0\n",
            "           Conv2d-62          [-1, 512, 12, 12]       2,359,296\n",
            "    ResDoubleConv-63          [-1, 512, 12, 12]               0\n",
            "       ResUpBlock-64          [-1, 512, 12, 12]               0\n",
            "           Conv2d-65         [-1, 2048, 12, 12]       1,048,576\n",
            "     PixelShuffle-66          [-1, 512, 24, 24]               0\n",
            "           Conv2d-67          [-1, 512, 24, 24]         131,072\n",
            "           Conv2d-68          [-1, 256, 24, 24]         131,072\n",
            "      BatchNorm2d-69          [-1, 256, 24, 24]             512\n",
            "      BatchNorm2d-70          [-1, 512, 24, 24]           1,024\n",
            "             ReLU-71          [-1, 512, 24, 24]               0\n",
            "           Conv2d-72          [-1, 256, 24, 24]       1,179,648\n",
            "      BatchNorm2d-73          [-1, 256, 24, 24]             512\n",
            "             ReLU-74          [-1, 256, 24, 24]               0\n",
            "           Conv2d-75          [-1, 256, 24, 24]         589,824\n",
            "    ResDoubleConv-76          [-1, 256, 24, 24]               0\n",
            "       ResUpBlock-77          [-1, 256, 24, 24]               0\n",
            "           Conv2d-78         [-1, 1024, 24, 24]         262,144\n",
            "     PixelShuffle-79          [-1, 256, 48, 48]               0\n",
            "           Conv2d-80          [-1, 256, 48, 48]          32,768\n",
            "           Conv2d-81          [-1, 128, 48, 48]          32,768\n",
            "      BatchNorm2d-82          [-1, 128, 48, 48]             256\n",
            "      BatchNorm2d-83          [-1, 256, 48, 48]             512\n",
            "             ReLU-84          [-1, 256, 48, 48]               0\n",
            "           Conv2d-85          [-1, 128, 48, 48]         294,912\n",
            "      BatchNorm2d-86          [-1, 128, 48, 48]             256\n",
            "             ReLU-87          [-1, 128, 48, 48]               0\n",
            "           Conv2d-88          [-1, 128, 48, 48]         147,456\n",
            "    ResDoubleConv-89          [-1, 128, 48, 48]               0\n",
            "       ResUpBlock-90          [-1, 128, 48, 48]               0\n",
            "           Conv2d-91          [-1, 512, 48, 48]          65,536\n",
            "     PixelShuffle-92          [-1, 128, 96, 96]               0\n",
            "           Conv2d-93          [-1, 128, 96, 96]           8,192\n",
            "           Conv2d-94           [-1, 64, 96, 96]           8,192\n",
            "      BatchNorm2d-95           [-1, 64, 96, 96]             128\n",
            "      BatchNorm2d-96          [-1, 128, 96, 96]             256\n",
            "             ReLU-97          [-1, 128, 96, 96]               0\n",
            "           Conv2d-98           [-1, 64, 96, 96]          73,728\n",
            "      BatchNorm2d-99           [-1, 64, 96, 96]             128\n",
            "            ReLU-100           [-1, 64, 96, 96]               0\n",
            "          Conv2d-101           [-1, 64, 96, 96]          36,864\n",
            "   ResDoubleConv-102           [-1, 64, 96, 96]               0\n",
            "      ResUpBlock-103           [-1, 64, 96, 96]               0\n",
            "          Conv2d-104            [-1, 1, 96, 96]              64\n",
            "          Conv2d-105           [-1, 2048, 6, 6]       1,048,576\n",
            "    PixelShuffle-106          [-1, 512, 12, 12]               0\n",
            "          Conv2d-107          [-1, 512, 12, 12]         262,144\n",
            "          Conv2d-108          [-1, 512, 12, 12]         262,144\n",
            "     BatchNorm2d-109          [-1, 512, 12, 12]           1,024\n",
            "     BatchNorm2d-110          [-1, 512, 12, 12]           1,024\n",
            "            ReLU-111          [-1, 512, 12, 12]               0\n",
            "          Conv2d-112          [-1, 512, 12, 12]       2,359,296\n",
            "     BatchNorm2d-113          [-1, 512, 12, 12]           1,024\n",
            "            ReLU-114          [-1, 512, 12, 12]               0\n",
            "          Conv2d-115          [-1, 512, 12, 12]       2,359,296\n",
            "   ResDoubleConv-116          [-1, 512, 12, 12]               0\n",
            "      ResUpBlock-117          [-1, 512, 12, 12]               0\n",
            "          Conv2d-118         [-1, 2048, 12, 12]       1,048,576\n",
            "    PixelShuffle-119          [-1, 512, 24, 24]               0\n",
            "          Conv2d-120          [-1, 512, 24, 24]         131,072\n",
            "          Conv2d-121          [-1, 256, 24, 24]         131,072\n",
            "     BatchNorm2d-122          [-1, 256, 24, 24]             512\n",
            "     BatchNorm2d-123          [-1, 512, 24, 24]           1,024\n",
            "            ReLU-124          [-1, 512, 24, 24]               0\n",
            "          Conv2d-125          [-1, 256, 24, 24]       1,179,648\n",
            "     BatchNorm2d-126          [-1, 256, 24, 24]             512\n",
            "            ReLU-127          [-1, 256, 24, 24]               0\n",
            "          Conv2d-128          [-1, 256, 24, 24]         589,824\n",
            "   ResDoubleConv-129          [-1, 256, 24, 24]               0\n",
            "      ResUpBlock-130          [-1, 256, 24, 24]               0\n",
            "          Conv2d-131         [-1, 1024, 24, 24]         262,144\n",
            "    PixelShuffle-132          [-1, 256, 48, 48]               0\n",
            "          Conv2d-133          [-1, 256, 48, 48]          32,768\n",
            "          Conv2d-134          [-1, 128, 48, 48]          32,768\n",
            "     BatchNorm2d-135          [-1, 128, 48, 48]             256\n",
            "     BatchNorm2d-136          [-1, 256, 48, 48]             512\n",
            "            ReLU-137          [-1, 256, 48, 48]               0\n",
            "          Conv2d-138          [-1, 128, 48, 48]         294,912\n",
            "     BatchNorm2d-139          [-1, 128, 48, 48]             256\n",
            "            ReLU-140          [-1, 128, 48, 48]               0\n",
            "          Conv2d-141          [-1, 128, 48, 48]         147,456\n",
            "   ResDoubleConv-142          [-1, 128, 48, 48]               0\n",
            "      ResUpBlock-143          [-1, 128, 48, 48]               0\n",
            "          Conv2d-144          [-1, 512, 48, 48]          65,536\n",
            "    PixelShuffle-145          [-1, 128, 96, 96]               0\n",
            "          Conv2d-146          [-1, 128, 96, 96]           8,192\n",
            "          Conv2d-147           [-1, 64, 96, 96]           8,192\n",
            "     BatchNorm2d-148           [-1, 64, 96, 96]             128\n",
            "     BatchNorm2d-149          [-1, 128, 96, 96]             256\n",
            "            ReLU-150          [-1, 128, 96, 96]               0\n",
            "          Conv2d-151           [-1, 64, 96, 96]          73,728\n",
            "     BatchNorm2d-152           [-1, 64, 96, 96]             128\n",
            "            ReLU-153           [-1, 64, 96, 96]               0\n",
            "          Conv2d-154           [-1, 64, 96, 96]          36,864\n",
            "   ResDoubleConv-155           [-1, 64, 96, 96]               0\n",
            "      ResUpBlock-156           [-1, 64, 96, 96]               0\n",
            "          Conv2d-157            [-1, 1, 96, 96]              64\n",
            "================================================================\n",
            "Total params: 30,264,844\n",
            "Trainable params: 30,264,844\n",
            "Non-trainable params: 0\n",
            "----------------------------------------------------------------\n",
            "Input size (MB): 0.21\n",
            "Forward/backward pass size (MB): 880914.80\n",
            "Params size (MB): 115.45\n",
            "Estimated Total Size (MB): 881030.46\n",
            "----------------------------------------------------------------\n"
          ],
          "name": "stdout"
        }
      ]
    },
    {
      "cell_type": "code",
      "metadata": {
        "id": "cjlpjMT-ZIVQ",
        "colab_type": "code",
        "colab": {}
      },
      "source": [
        "def apply_on_batch(batch, apply_func):\n",
        "    batch['bg'] = apply_func(batch['bg'])\n",
        "    batch['fg_bg'] = apply_func(batch['fg_bg'])\n",
        "    batch['fg_bg_mask'] = apply_func(batch['fg_bg_mask'])\n",
        "    batch['depth_fg_bg'] = apply_func(batch['depth_fg_bg'])\n",
        "\n",
        "    return batch"
      ],
      "execution_count": 0,
      "outputs": []
    },
    {
      "cell_type": "markdown",
      "metadata": {
        "id": "ue1supIbXVTc",
        "colab_type": "text"
      },
      "source": [
        "## Experiments on Batch Size"
      ]
    },
    {
      "cell_type": "code",
      "metadata": {
        "id": "e1QqLMapYo4B",
        "colab_type": "code",
        "outputId": "2ccfb869-c341-4f80-aba1-383ea76aa2c4",
        "colab": {
          "base_uri": "https://localhost:8080/",
          "height": 51
        }
      },
      "source": [
        "%%time\n",
        "train_loader = torch.utils.data.DataLoader(train_subset, batch_size=16, shuffle=True, num_workers=2, pin_memory=True)\n",
        "test_loader = torch.utils.data.DataLoader(test_subset, batch_size=64, shuffle=True, num_workers=2, pin_memory=True)"
      ],
      "execution_count": 0,
      "outputs": [
        {
          "output_type": "stream",
          "text": [
            "CPU times: user 94 µs, sys: 0 ns, total: 94 µs\n",
            "Wall time: 95.6 µs\n"
          ],
          "name": "stdout"
        }
      ]
    },
    {
      "cell_type": "code",
      "metadata": {
        "id": "jLrgyN27_3nZ",
        "colab_type": "code",
        "colab": {}
      },
      "source": [
        "from time import time\n",
        "def test_model_params_v2(div_factor, batch_size, num_workers):\n",
        "    print(f'Experiment, div_factor: {div_factor}, batch_size: {batch_size}, num_workers: {num_workers}')\n",
        "    \n",
        "    model = ResUNet()\n",
        "    model = model.to(device)\n",
        "    lossfn = nn.BCEWithLogitsLoss()\n",
        "\n",
        "    optimizer = torch.optim.Adam(model.parameters(), lr=1e-2)\n",
        "\n",
        "    meow = torch.utils.data.Subset(train_subset, range(0, len(train_subset)//div_factor))\n",
        "    meow_loader = torch.utils.data.DataLoader(meow, batch_size=batch_size, shuffle=True, num_workers=num_workers, pin_memory=True)\n",
        "\n",
        "    other_time = 0\n",
        "\n",
        "    start = time()\n",
        "\n",
        "    other_s = time()\n",
        "    model.train()\n",
        "    other_e = time()\n",
        "\n",
        "    other_time += other_e - other_s\n",
        "\n",
        "    data_load_time = 0\n",
        "    model_time = 0\n",
        "\n",
        "    for batch_idx, data in enumerate(meow_loader):\n",
        "\n",
        "        other_s = time()\n",
        "        optimizer.zero_grad()\n",
        "        other_e = time()\n",
        "\n",
        "        other_time += other_e - other_s\n",
        "\n",
        "        load_s = time()\n",
        "\n",
        "        data['bg'] = data['bg'].to(device)\n",
        "        data['fg_bg'] = data['fg_bg'].to(device)\n",
        "        data['depth_fg_bg'] = data['depth_fg_bg'].to(device)\n",
        "        data['fg_bg_mask'] = data['fg_bg_mask'].to(device)\n",
        "\n",
        "        load_e = time()\n",
        "\n",
        "        data_load_time += load_e - load_s\n",
        "\n",
        "        model_s = time() # model start\n",
        "\n",
        "        x = torch.cat([data['bg'], data['fg_bg']], dim=1)\n",
        "        d_out, s_out = model(x)\n",
        "\n",
        "        l1 = lossfn(d_out, data['depth_fg_bg'])\n",
        "        l2 = lossfn(s_out, data['fg_bg_mask'])\n",
        "\n",
        "        loss = 2*l1 + l2\n",
        "\n",
        "        loss.backward()\n",
        "        optimizer.step()\n",
        "        model_e = time() # model end\n",
        "\n",
        "        model_time += model_e - model_s\n",
        "    end = time()\n",
        "\n",
        "    print(f'total time : {end-start:.4f} s')\n",
        "    print(f'the model took : {model_time:.4f} s i.e. {(model_time / (end - start)):.4f} % of total execution')\n",
        "    print(f'data loading took : {data_load_time:.4f} s i.e. {(data_load_time / (end - start)):.4f} % of total execution')\n",
        "    print(f'others took : {other_time:.4f} s i.e. {(other_time / (end - start)):.4f} % of total execution')"
      ],
      "execution_count": 0,
      "outputs": []
    },
    {
      "cell_type": "code",
      "metadata": {
        "id": "JrQLpMarzW7A",
        "colab_type": "code",
        "colab": {}
      },
      "source": [
        "from time import time\n",
        "def test_model_params(div_factor, batch_size, num_workers):\n",
        "    print(f'Experiment, div_factor: {div_factor}, batch_size: {batch_size}, num_workers: {num_workers}')\n",
        "    \n",
        "    model = ResUNet()\n",
        "    model = model.to(device)\n",
        "    lossfn = nn.BCEWithLogitsLoss()\n",
        "\n",
        "    optimizer = torch.optim.Adam(model.parameters(), lr=1e-2)\n",
        "\n",
        "    meow = torch.utils.data.Subset(train_subset, range(0, len(train_subset)//div_factor))\n",
        "    meow_loader = torch.utils.data.DataLoader(meow, batch_size=batch_size, shuffle=True, num_workers=num_workers, pin_memory=True)\n",
        "    pbar = tqdm(meow_loader, dynamic_ncols=True)\n",
        "\n",
        "    other_time = 0\n",
        "\n",
        "    start = time()\n",
        "\n",
        "    other_s = time()\n",
        "    model.train()\n",
        "    other_e = time()\n",
        "\n",
        "    other_time += other_e - other_s\n",
        "\n",
        "    data_load_time = 0\n",
        "    model_time = 0\n",
        "\n",
        "    meow_time = 0\n",
        "\n",
        "    for batch_idx, data in enumerate(pbar):\n",
        "\n",
        "        other_s = time()\n",
        "        optimizer.zero_grad()\n",
        "        other_e = time()\n",
        "\n",
        "        other_time += other_e - other_s\n",
        "\n",
        "        load_s = time()\n",
        "\n",
        "        data['bg'] = data['bg'].to(device)\n",
        "        data['fg_bg'] = data['fg_bg'].to(device)\n",
        "        data['depth_fg_bg'] = data['depth_fg_bg'].to(device)\n",
        "        data['fg_bg_mask'] = data['fg_bg_mask'].to(device)\n",
        "\n",
        "        load_e = time()\n",
        "\n",
        "        data_load_time += load_e - load_s\n",
        "\n",
        "        model_s = time() # model start\n",
        "\n",
        "        x = torch.cat([data['bg'], data['fg_bg']], dim=1)\n",
        "        d_out, s_out = model(x)\n",
        "\n",
        "        l1 = lossfn(d_out, data['depth_fg_bg'])\n",
        "        l2 = lossfn(s_out, data['fg_bg_mask'])\n",
        "\n",
        "        loss = 2*l1 + l2\n",
        "\n",
        "        loss.backward()\n",
        "        optimizer.step()\n",
        "        model_e = time() # model end\n",
        "\n",
        "        model_time += model_e - model_s\n",
        "\n",
        "        other_s = time()\n",
        "\n",
        "        pbar.set_description(desc=f'loss={loss.item():.10f} batch_id={batch_idx}')\n",
        "\n",
        "\n",
        "        # del data # and this shit was taking 0.07% of mah time\n",
        "        # torch.cuda.empty_cache() # this shit takes 8% of my frikking time\n",
        "\n",
        "        other_e = time()\n",
        "\n",
        "        other_time += other_e - other_s\n",
        "    end = time()\n",
        "\n",
        "    print(f'total time : {end-start:.4f} s')\n",
        "    print(f'the model took : {model_time:.4f} s i.e. {(model_time / (end - start)):.4f} % of total execution')\n",
        "    print(f'data loading took : {data_load_time:.4f} s i.e. {(data_load_time / (end - start)):.4f} % of total execution')\n",
        "    print(f'others took : {other_time:.4f} s i.e. {(other_time / (end - start)):.4f} % of total execution')"
      ],
      "execution_count": 0,
      "outputs": []
    },
    {
      "cell_type": "markdown",
      "metadata": {
        "id": "H7qzizxE9S6o",
        "colab_type": "text"
      },
      "source": [
        "Let's check how much time our model spends training"
      ]
    },
    {
      "cell_type": "code",
      "metadata": {
        "id": "-2A_0wKczgEA",
        "colab_type": "code",
        "outputId": "de131a22-1f17-4e4d-8639-0aa2d2e9e8c4",
        "colab": {
          "base_uri": "https://localhost:8080/",
          "height": 185,
          "referenced_widgets": [
            "a6fdbe745375462f8b06173ac31bbd10",
            "62445e82a55d4d73b0ce3c9ce660912c",
            "e4a127a0c2914dd9bf60f8ad97147145",
            "b124dd1ea0da4f8d918c8b42b8901b2e",
            "be3f0e1cdf274926a465487008283b2d",
            "742042e7df5d44ad9b0663758e55153a",
            "6380fae5abb84bc392529f6525d5156e",
            "640a6bc66a1044279094d2a858eb99d1"
          ]
        }
      },
      "source": [
        "%%time\n",
        "test_model_params(div_factor=32, batch_size=128, num_workers=2)"
      ],
      "execution_count": 0,
      "outputs": [
        {
          "output_type": "stream",
          "text": [
            "Experiment, div_factor: 32, batch_size: 128, num_workers: 2\n"
          ],
          "name": "stdout"
        },
        {
          "output_type": "display_data",
          "data": {
            "application/vnd.jupyter.widget-view+json": {
              "model_id": "a6fdbe745375462f8b06173ac31bbd10",
              "version_minor": 0,
              "version_major": 2
            },
            "text/plain": [
              "HBox(children=(FloatProgress(value=0.0, layout=Layout(flex='2'), max=69.0), HTML(value='')), layout=Layout(dis…"
            ]
          },
          "metadata": {
            "tags": []
          }
        },
        {
          "output_type": "stream",
          "text": [
            "\n",
            "total time : 73.2574 s\n",
            "the model took : 71.2442 s i.e. 0.9725 % of total execution\n",
            "data loading took : 0.3219 s i.e. 0.0044 % of total execution\n",
            "others took : 0.9027 s i.e. 0.0123 % of total execution\n",
            "CPU times: user 39.8 s, sys: 33 s, total: 1min 12s\n",
            "Wall time: 1min 13s\n"
          ],
          "name": "stdout"
        }
      ]
    },
    {
      "cell_type": "code",
      "metadata": {
        "id": "OqvMLlrkWPE_",
        "colab_type": "code",
        "outputId": "7cc2d2c3-f83a-461f-b5b4-91f335f0f28a",
        "colab": {
          "base_uri": "https://localhost:8080/",
          "height": 185,
          "referenced_widgets": [
            "32dbf9e3b49b4d58839ba7136a8d468f",
            "6eee15a7169b4d8d95d7f81d1ce7d5ec",
            "13227160c9684f0c869e3b86f29b5d43",
            "cd6988bb1f624c2bbedf63d1fdcdc66a",
            "45c045034c60495987d182a702dfe5e1",
            "7035dddcea2c4af3aba489d9714569eb",
            "d2a449eb39ff46c995c24153613d14f2",
            "8ea93d19f2d04f02bd854ae8bbb13584"
          ]
        }
      },
      "source": [
        "%%time\n",
        "test_model_params(div_factor=16, batch_size=128, num_workers=2)"
      ],
      "execution_count": 0,
      "outputs": [
        {
          "output_type": "stream",
          "text": [
            "Experiment, div_factor: 16, batch_size: 128, num_workers: 2\n"
          ],
          "name": "stdout"
        },
        {
          "output_type": "display_data",
          "data": {
            "application/vnd.jupyter.widget-view+json": {
              "model_id": "32dbf9e3b49b4d58839ba7136a8d468f",
              "version_minor": 0,
              "version_major": 2
            },
            "text/plain": [
              "HBox(children=(FloatProgress(value=0.0, layout=Layout(flex='2'), max=137.0), HTML(value='')), layout=Layout(di…"
            ]
          },
          "metadata": {
            "tags": []
          }
        },
        {
          "output_type": "stream",
          "text": [
            "\n",
            "total time : 145.5745 s\n",
            "the model took : 142.2546 s i.e. 0.9772 % of total execution\n",
            "data loading took : 0.5900 s i.e. 0.0041 % of total execution\n",
            "others took : 1.8308 s i.e. 0.0126 % of total execution\n",
            "CPU times: user 1min 19s, sys: 1min 6s, total: 2min 25s\n",
            "Wall time: 2min 25s\n"
          ],
          "name": "stdout"
        }
      ]
    },
    {
      "cell_type": "markdown",
      "metadata": {
        "id": "MFBcEVvDBeGI",
        "colab_type": "text"
      },
      "source": [
        "was testing how much time `del` takes"
      ]
    },
    {
      "cell_type": "code",
      "metadata": {
        "id": "TW2o78p19Nx6",
        "colab_type": "code",
        "outputId": "dfc569ed-6bb2-4d4b-b1c8-a6c51048ccc3",
        "colab": {
          "base_uri": "https://localhost:8080/",
          "height": 185,
          "referenced_widgets": [
            "183ba0c2366c436780c64a79bcf3443b",
            "3815f0151b024bbeb3bc07b200e7ede6",
            "855391a9f268463b835f4c923e62ab8d",
            "c2384a1ae35f44ada237f5aef95e943c",
            "68382d942a4341b9b4f9e65268e6ff51",
            "33bf21cc29e94db7aa589645786cb3b9",
            "71d47402d6534bd786611967bc1bdcb0",
            "657eb73d43a64300962b8aa75a2fc107"
          ]
        }
      },
      "source": [
        "%%time\n",
        "test_model_params(div_factor=16, batch_size=16, num_workers=2)"
      ],
      "execution_count": 0,
      "outputs": [
        {
          "output_type": "stream",
          "text": [
            "Experiment, div_factor: 16, batch_size: 16, num_workers: 2\n"
          ],
          "name": "stdout"
        },
        {
          "output_type": "display_data",
          "data": {
            "application/vnd.jupyter.widget-view+json": {
              "model_id": "183ba0c2366c436780c64a79bcf3443b",
              "version_minor": 0,
              "version_major": 2
            },
            "text/plain": [
              "HBox(children=(FloatProgress(value=0.0, layout=Layout(flex='2'), max=1094.0), HTML(value='')), layout=Layout(d…"
            ]
          },
          "metadata": {
            "tags": []
          }
        },
        {
          "output_type": "stream",
          "text": [
            "\n",
            "total time : 170.4404 s\n",
            "the model took : 154.6464 s i.e. 0.9073 % of total execution\n",
            "data loading took : 0.9950 s i.e. 0.0058 % of total execution\n",
            "others took : 13.3111 s i.e. 0.0781 % of total execution\n",
            "CPU times: user 1min 54s, sys: 53.3 s, total: 2min 47s\n",
            "Wall time: 2min 50s\n"
          ],
          "name": "stdout"
        }
      ]
    },
    {
      "cell_type": "code",
      "metadata": {
        "id": "KHjHENX5AN33",
        "colab_type": "code",
        "outputId": "3ecc4ea3-91bd-426e-df75-857aaf5f2346",
        "colab": {
          "base_uri": "https://localhost:8080/",
          "height": 136
        }
      },
      "source": [
        "%%time\n",
        "test_model_params_v2(div_factor=16, batch_size=16, num_workers=2)"
      ],
      "execution_count": 0,
      "outputs": [
        {
          "output_type": "stream",
          "text": [
            "Experiment, div_factor: 16, batch_size: 16, num_workers: 2\n",
            "total time : 162.0635 s\n",
            "the model took : 154.2964 s i.e. 0.9521 % of total execution\n",
            "data loading took : 4.4526 s i.e. 0.0275 % of total execution\n",
            "others took : 2.9609 s i.e. 0.0183 % of total execution\n",
            "CPU times: user 1min 50s, sys: 52.5 s, total: 2min 43s\n",
            "Wall time: 2min 42s\n"
          ],
          "name": "stdout"
        }
      ]
    },
    {
      "cell_type": "markdown",
      "metadata": {
        "id": "qebG67Ui9PjP",
        "colab_type": "text"
      },
      "source": [
        "### Now let's test the batch size and num_workers"
      ]
    },
    {
      "cell_type": "code",
      "metadata": {
        "id": "OdzfMLd9Bo0e",
        "colab_type": "code",
        "outputId": "6de3e328-76a6-4238-d94e-8fc9c5a884b9",
        "colab": {
          "base_uri": "https://localhost:8080/",
          "height": 185,
          "referenced_widgets": [
            "d25f8904d6f7450280ae067411f1cbca",
            "26a1dab9767b4e43bbbeeddcc4e293ee",
            "8089ab9d1b0443fc84a8763e1bac971a",
            "c4f970e5c4dd40818c8642771367b87b",
            "d283e53454964daa99388b37dfe82b36",
            "063aa68facf8465b86bbe7fb2cb6e9bf",
            "85dbe140648d445089d91f67429a7173",
            "9ac75c476a6a41afb65b79631a273a5e"
          ]
        }
      },
      "source": [
        "%%time\n",
        "test_model_params(div_factor=16, batch_size=16, num_workers=2)"
      ],
      "execution_count": 0,
      "outputs": [
        {
          "output_type": "stream",
          "text": [
            "Experiment, div_factor: 16, batch_size: 16, num_workers: 2\n"
          ],
          "name": "stdout"
        },
        {
          "output_type": "display_data",
          "data": {
            "application/vnd.jupyter.widget-view+json": {
              "model_id": "d25f8904d6f7450280ae067411f1cbca",
              "version_minor": 0,
              "version_major": 2
            },
            "text/plain": [
              "HBox(children=(FloatProgress(value=0.0, layout=Layout(flex='2'), max=1094.0), HTML(value='')), layout=Layout(d…"
            ]
          },
          "metadata": {
            "tags": []
          }
        },
        {
          "output_type": "stream",
          "text": [
            "\n",
            "total time : 170.1182 s\n",
            "the model took : 154.6660 s i.e. 0.9092 % of total execution\n",
            "data loading took : 0.9110 s i.e. 0.0054 % of total execution\n",
            "others took : 13.0727 s i.e. 0.0768 % of total execution\n",
            "CPU times: user 1min 53s, sys: 53.5 s, total: 2min 47s\n",
            "Wall time: 2min 50s\n"
          ],
          "name": "stdout"
        }
      ]
    },
    {
      "cell_type": "code",
      "metadata": {
        "id": "dz-AzMFe90Hm",
        "colab_type": "code",
        "outputId": "7cc4d942-1ccd-48d8-b7f9-03ee1597bd0c",
        "colab": {
          "base_uri": "https://localhost:8080/",
          "height": 185,
          "referenced_widgets": [
            "46695e4a4d674fbbb602af36622d4fe1",
            "60dc7ee1d0a54a9bb30f46ab4d0822b3",
            "8ba87c13248e4c6681feab6fc8f6f384",
            "e630caab61194d9c83c442af4a4387f8",
            "a19f486bca1f4ed99a2bd8fe24ea26ad",
            "f0410f922df94b2e92a5d7c2a7044456",
            "e5408385197a4dfdb447c7cb853e54fe",
            "cc02262e2f0346408b7b98dc8d8d5643"
          ]
        }
      },
      "source": [
        "%%time\n",
        "test_model_params(div_factor=16, batch_size=32, num_workers=2)"
      ],
      "execution_count": 0,
      "outputs": [
        {
          "output_type": "stream",
          "text": [
            "Experiment, div_factor: 16, batch_size: 32, num_workers: 2\n"
          ],
          "name": "stdout"
        },
        {
          "output_type": "display_data",
          "data": {
            "application/vnd.jupyter.widget-view+json": {
              "model_id": "46695e4a4d674fbbb602af36622d4fe1",
              "version_minor": 0,
              "version_major": 2
            },
            "text/plain": [
              "HBox(children=(FloatProgress(value=0.0, layout=Layout(flex='2'), max=547.0), HTML(value='')), layout=Layout(di…"
            ]
          },
          "metadata": {
            "tags": []
          }
        },
        {
          "output_type": "stream",
          "text": [
            "\n",
            "total time : 157.4680 s\n",
            "the model took : 149.0861 s i.e. 0.9468 % of total execution\n",
            "data loading took : 0.7408 s i.e. 0.0047 % of total execution\n",
            "others took : 6.7184 s i.e. 0.0427 % of total execution\n",
            "CPU times: user 1min 35s, sys: 1min 1s, total: 2min 36s\n",
            "Wall time: 2min 37s\n"
          ],
          "name": "stdout"
        }
      ]
    },
    {
      "cell_type": "code",
      "metadata": {
        "id": "QUYX5Cb6-CBW",
        "colab_type": "code",
        "outputId": "b19d4195-00f0-421b-fe56-e67bbbf0f156",
        "colab": {
          "base_uri": "https://localhost:8080/",
          "height": 185,
          "referenced_widgets": [
            "d3a9c9551c3d4543bf6e2b3a9810b4e6",
            "bfb34dd5df084eebabf54be0b521854d",
            "fdd7a087c78540ef97c4d1ab072997c4",
            "e93d2cf19cae4ac58befc3386c3befff",
            "59c95ed6f5634dca8f608cabcb280226",
            "05ce1e6dd80f4cd294b455ee574c6595",
            "927982809de64889955e97914c3f6179",
            "4a3d53c347d940feb3b0ac7b32a02488"
          ]
        }
      },
      "source": [
        "%%time\n",
        "test_model_params(div_factor=16, batch_size=64, num_workers=2)"
      ],
      "execution_count": 0,
      "outputs": [
        {
          "output_type": "stream",
          "text": [
            "Experiment, div_factor: 16, batch_size: 64, num_workers: 2\n"
          ],
          "name": "stdout"
        },
        {
          "output_type": "display_data",
          "data": {
            "application/vnd.jupyter.widget-view+json": {
              "model_id": "d3a9c9551c3d4543bf6e2b3a9810b4e6",
              "version_minor": 0,
              "version_major": 2
            },
            "text/plain": [
              "HBox(children=(FloatProgress(value=0.0, layout=Layout(flex='2'), max=274.0), HTML(value='')), layout=Layout(di…"
            ]
          },
          "metadata": {
            "tags": []
          }
        },
        {
          "output_type": "stream",
          "text": [
            "\n",
            "total time : 149.5570 s\n",
            "the model took : 144.6822 s i.e. 0.9674 % of total execution\n",
            "data loading took : 0.6090 s i.e. 0.0041 % of total execution\n",
            "others took : 3.5036 s i.e. 0.0234 % of total execution\n",
            "CPU times: user 1min 24s, sys: 1min 4s, total: 2min 29s\n",
            "Wall time: 2min 29s\n"
          ],
          "name": "stdout"
        }
      ]
    },
    {
      "cell_type": "code",
      "metadata": {
        "id": "VfZ2zJpa-K-C",
        "colab_type": "code",
        "outputId": "fd1144bc-04b0-4c3b-c7e3-87f90f35ed2d",
        "colab": {
          "base_uri": "https://localhost:8080/",
          "height": 185,
          "referenced_widgets": [
            "3cd82a24827d4cd4aaddda92954593f5",
            "9e013e2037b04573aea302ff384c8846",
            "f7030366bfb9466c83bd7d1a357b4aa2",
            "c4b1d71159c44978a00fc1eb3bbb946b",
            "0bab0c555d204a7399d93349625db8d2",
            "83d31753daed4310b9209542b07dc235",
            "1e80a14ab9974f75a90062c9f58f7196",
            "7e3958df72414520914ddaa75c90a236"
          ]
        }
      },
      "source": [
        "%%time\n",
        "test_model_params(div_factor=16, batch_size=128, num_workers=2)"
      ],
      "execution_count": 0,
      "outputs": [
        {
          "output_type": "stream",
          "text": [
            "Experiment, div_factor: 16, batch_size: 128, num_workers: 2\n"
          ],
          "name": "stdout"
        },
        {
          "output_type": "display_data",
          "data": {
            "application/vnd.jupyter.widget-view+json": {
              "model_id": "3cd82a24827d4cd4aaddda92954593f5",
              "version_minor": 0,
              "version_major": 2
            },
            "text/plain": [
              "HBox(children=(FloatProgress(value=0.0, layout=Layout(flex='2'), max=137.0), HTML(value='')), layout=Layout(di…"
            ]
          },
          "metadata": {
            "tags": []
          }
        },
        {
          "output_type": "stream",
          "text": [
            "\n",
            "total time : 145.5428 s\n",
            "the model took : 142.3578 s i.e. 0.9781 % of total execution\n",
            "data loading took : 0.6151 s i.e. 0.0042 % of total execution\n",
            "others took : 1.7069 s i.e. 0.0117 % of total execution\n",
            "CPU times: user 1min 18s, sys: 1min 6s, total: 2min 25s\n",
            "Wall time: 2min 25s\n"
          ],
          "name": "stdout"
        }
      ]
    },
    {
      "cell_type": "code",
      "metadata": {
        "id": "9Cq7TIbcxssg",
        "colab_type": "code",
        "outputId": "1ce1ef2e-b630-45db-982f-4356a06649c7",
        "colab": {
          "base_uri": "https://localhost:8080/",
          "height": 423,
          "referenced_widgets": [
            "836f531cf8c94badb4f3c9894e1e3a2a",
            "e90d8e46779b452cbf379dd49ca1dcaf",
            "5c1a1a41c224466c9ba6d469f7b6fc00",
            "a358d72297b249dfb8f23473811bcbdf",
            "9286f24daae94b328ebd46dfa29efe56",
            "0f974508cb504a9d878e4fbce0cbbe24",
            "7257c5559f9a4363bbde9eb8ae308419",
            "e99ab26f65f04591a2f0a7d48309b5b8"
          ]
        }
      },
      "source": [
        "%%time\n",
        "test_model_params(div_factor=16, batch_size=256, num_workers=2)"
      ],
      "execution_count": 0,
      "outputs": [
        {
          "output_type": "stream",
          "text": [
            "Experiment, div_factor: 16, batch_size: 256, num_workers: 2\n"
          ],
          "name": "stdout"
        },
        {
          "output_type": "display_data",
          "data": {
            "application/vnd.jupyter.widget-view+json": {
              "model_id": "836f531cf8c94badb4f3c9894e1e3a2a",
              "version_minor": 0,
              "version_major": 2
            },
            "text/plain": [
              "HBox(children=(FloatProgress(value=0.0, layout=Layout(flex='2'), max=69.0), HTML(value='')), layout=Layout(dis…"
            ]
          },
          "metadata": {
            "tags": []
          }
        },
        {
          "output_type": "error",
          "ename": "RuntimeError",
          "evalue": "ignored",
          "traceback": [
            "\u001b[0;31m---------------------------------------------------------------------------\u001b[0m",
            "\u001b[0;31mRuntimeError\u001b[0m                              Traceback (most recent call last)",
            "\u001b[0;32m<ipython-input-33-2f1942b88fcc>\u001b[0m in \u001b[0;36m<module>\u001b[0;34m()\u001b[0m\n\u001b[0;32m----> 1\u001b[0;31m \u001b[0mget_ipython\u001b[0m\u001b[0;34m(\u001b[0m\u001b[0;34m)\u001b[0m\u001b[0;34m.\u001b[0m\u001b[0mrun_cell_magic\u001b[0m\u001b[0;34m(\u001b[0m\u001b[0;34m'time'\u001b[0m\u001b[0;34m,\u001b[0m \u001b[0;34m''\u001b[0m\u001b[0;34m,\u001b[0m \u001b[0;34m'test_model_params(div_factor=16, batch_size=256, num_workers=2)'\u001b[0m\u001b[0;34m)\u001b[0m\u001b[0;34m\u001b[0m\u001b[0;34m\u001b[0m\u001b[0m\n\u001b[0m",
            "\u001b[0;32m/usr/local/lib/python3.6/dist-packages/IPython/core/interactiveshell.py\u001b[0m in \u001b[0;36mrun_cell_magic\u001b[0;34m(self, magic_name, line, cell)\u001b[0m\n\u001b[1;32m   2115\u001b[0m             \u001b[0mmagic_arg_s\u001b[0m \u001b[0;34m=\u001b[0m \u001b[0mself\u001b[0m\u001b[0;34m.\u001b[0m\u001b[0mvar_expand\u001b[0m\u001b[0;34m(\u001b[0m\u001b[0mline\u001b[0m\u001b[0;34m,\u001b[0m \u001b[0mstack_depth\u001b[0m\u001b[0;34m)\u001b[0m\u001b[0;34m\u001b[0m\u001b[0;34m\u001b[0m\u001b[0m\n\u001b[1;32m   2116\u001b[0m             \u001b[0;32mwith\u001b[0m \u001b[0mself\u001b[0m\u001b[0;34m.\u001b[0m\u001b[0mbuiltin_trap\u001b[0m\u001b[0;34m:\u001b[0m\u001b[0;34m\u001b[0m\u001b[0;34m\u001b[0m\u001b[0m\n\u001b[0;32m-> 2117\u001b[0;31m                 \u001b[0mresult\u001b[0m \u001b[0;34m=\u001b[0m \u001b[0mfn\u001b[0m\u001b[0;34m(\u001b[0m\u001b[0mmagic_arg_s\u001b[0m\u001b[0;34m,\u001b[0m \u001b[0mcell\u001b[0m\u001b[0;34m)\u001b[0m\u001b[0;34m\u001b[0m\u001b[0;34m\u001b[0m\u001b[0m\n\u001b[0m\u001b[1;32m   2118\u001b[0m             \u001b[0;32mreturn\u001b[0m \u001b[0mresult\u001b[0m\u001b[0;34m\u001b[0m\u001b[0;34m\u001b[0m\u001b[0m\n\u001b[1;32m   2119\u001b[0m \u001b[0;34m\u001b[0m\u001b[0m\n",
            "\u001b[0;32m<decorator-gen-60>\u001b[0m in \u001b[0;36mtime\u001b[0;34m(self, line, cell, local_ns)\u001b[0m\n",
            "\u001b[0;32m/usr/local/lib/python3.6/dist-packages/IPython/core/magic.py\u001b[0m in \u001b[0;36m<lambda>\u001b[0;34m(f, *a, **k)\u001b[0m\n\u001b[1;32m    186\u001b[0m     \u001b[0;31m# but it's overkill for just that one bit of state.\u001b[0m\u001b[0;34m\u001b[0m\u001b[0;34m\u001b[0m\u001b[0;34m\u001b[0m\u001b[0m\n\u001b[1;32m    187\u001b[0m     \u001b[0;32mdef\u001b[0m \u001b[0mmagic_deco\u001b[0m\u001b[0;34m(\u001b[0m\u001b[0marg\u001b[0m\u001b[0;34m)\u001b[0m\u001b[0;34m:\u001b[0m\u001b[0;34m\u001b[0m\u001b[0;34m\u001b[0m\u001b[0m\n\u001b[0;32m--> 188\u001b[0;31m         \u001b[0mcall\u001b[0m \u001b[0;34m=\u001b[0m \u001b[0;32mlambda\u001b[0m \u001b[0mf\u001b[0m\u001b[0;34m,\u001b[0m \u001b[0;34m*\u001b[0m\u001b[0ma\u001b[0m\u001b[0;34m,\u001b[0m \u001b[0;34m**\u001b[0m\u001b[0mk\u001b[0m\u001b[0;34m:\u001b[0m \u001b[0mf\u001b[0m\u001b[0;34m(\u001b[0m\u001b[0;34m*\u001b[0m\u001b[0ma\u001b[0m\u001b[0;34m,\u001b[0m \u001b[0;34m**\u001b[0m\u001b[0mk\u001b[0m\u001b[0;34m)\u001b[0m\u001b[0;34m\u001b[0m\u001b[0;34m\u001b[0m\u001b[0m\n\u001b[0m\u001b[1;32m    189\u001b[0m \u001b[0;34m\u001b[0m\u001b[0m\n\u001b[1;32m    190\u001b[0m         \u001b[0;32mif\u001b[0m \u001b[0mcallable\u001b[0m\u001b[0;34m(\u001b[0m\u001b[0marg\u001b[0m\u001b[0;34m)\u001b[0m\u001b[0;34m:\u001b[0m\u001b[0;34m\u001b[0m\u001b[0;34m\u001b[0m\u001b[0m\n",
            "\u001b[0;32m/usr/local/lib/python3.6/dist-packages/IPython/core/magics/execution.py\u001b[0m in \u001b[0;36mtime\u001b[0;34m(self, line, cell, local_ns)\u001b[0m\n\u001b[1;32m   1187\u001b[0m         \u001b[0;32mif\u001b[0m \u001b[0mmode\u001b[0m\u001b[0;34m==\u001b[0m\u001b[0;34m'eval'\u001b[0m\u001b[0;34m:\u001b[0m\u001b[0;34m\u001b[0m\u001b[0;34m\u001b[0m\u001b[0m\n\u001b[1;32m   1188\u001b[0m             \u001b[0mst\u001b[0m \u001b[0;34m=\u001b[0m \u001b[0mclock2\u001b[0m\u001b[0;34m(\u001b[0m\u001b[0;34m)\u001b[0m\u001b[0;34m\u001b[0m\u001b[0;34m\u001b[0m\u001b[0m\n\u001b[0;32m-> 1189\u001b[0;31m             \u001b[0mout\u001b[0m \u001b[0;34m=\u001b[0m \u001b[0meval\u001b[0m\u001b[0;34m(\u001b[0m\u001b[0mcode\u001b[0m\u001b[0;34m,\u001b[0m \u001b[0mglob\u001b[0m\u001b[0;34m,\u001b[0m \u001b[0mlocal_ns\u001b[0m\u001b[0;34m)\u001b[0m\u001b[0;34m\u001b[0m\u001b[0;34m\u001b[0m\u001b[0m\n\u001b[0m\u001b[1;32m   1190\u001b[0m             \u001b[0mend\u001b[0m \u001b[0;34m=\u001b[0m \u001b[0mclock2\u001b[0m\u001b[0;34m(\u001b[0m\u001b[0;34m)\u001b[0m\u001b[0;34m\u001b[0m\u001b[0;34m\u001b[0m\u001b[0m\n\u001b[1;32m   1191\u001b[0m         \u001b[0;32melse\u001b[0m\u001b[0;34m:\u001b[0m\u001b[0;34m\u001b[0m\u001b[0;34m\u001b[0m\u001b[0m\n",
            "\u001b[0;32m<timed eval>\u001b[0m in \u001b[0;36m<module>\u001b[0;34m()\u001b[0m\n",
            "\u001b[0;32m<ipython-input-31-2759e9f10e48>\u001b[0m in \u001b[0;36mtest_model_params\u001b[0;34m(div_factor, batch_size, num_workers)\u001b[0m\n\u001b[1;32m     50\u001b[0m \u001b[0;34m\u001b[0m\u001b[0m\n\u001b[1;32m     51\u001b[0m         \u001b[0mx\u001b[0m \u001b[0;34m=\u001b[0m \u001b[0mtorch\u001b[0m\u001b[0;34m.\u001b[0m\u001b[0mcat\u001b[0m\u001b[0;34m(\u001b[0m\u001b[0;34m[\u001b[0m\u001b[0mdata\u001b[0m\u001b[0;34m[\u001b[0m\u001b[0;34m'bg'\u001b[0m\u001b[0;34m]\u001b[0m\u001b[0;34m,\u001b[0m \u001b[0mdata\u001b[0m\u001b[0;34m[\u001b[0m\u001b[0;34m'fg_bg'\u001b[0m\u001b[0;34m]\u001b[0m\u001b[0;34m]\u001b[0m\u001b[0;34m,\u001b[0m \u001b[0mdim\u001b[0m\u001b[0;34m=\u001b[0m\u001b[0;36m1\u001b[0m\u001b[0;34m)\u001b[0m\u001b[0;34m\u001b[0m\u001b[0;34m\u001b[0m\u001b[0m\n\u001b[0;32m---> 52\u001b[0;31m         \u001b[0md_out\u001b[0m\u001b[0;34m,\u001b[0m \u001b[0ms_out\u001b[0m \u001b[0;34m=\u001b[0m \u001b[0mmodel\u001b[0m\u001b[0;34m(\u001b[0m\u001b[0mx\u001b[0m\u001b[0;34m)\u001b[0m\u001b[0;34m\u001b[0m\u001b[0;34m\u001b[0m\u001b[0m\n\u001b[0m\u001b[1;32m     53\u001b[0m \u001b[0;34m\u001b[0m\u001b[0m\n\u001b[1;32m     54\u001b[0m         \u001b[0ml1\u001b[0m \u001b[0;34m=\u001b[0m \u001b[0mlossfn\u001b[0m\u001b[0;34m(\u001b[0m\u001b[0md_out\u001b[0m\u001b[0;34m,\u001b[0m \u001b[0mdata\u001b[0m\u001b[0;34m[\u001b[0m\u001b[0;34m'depth_fg_bg'\u001b[0m\u001b[0;34m]\u001b[0m\u001b[0;34m)\u001b[0m\u001b[0;34m\u001b[0m\u001b[0;34m\u001b[0m\u001b[0m\n",
            "\u001b[0;32m/usr/local/lib/python3.6/dist-packages/torch/nn/modules/module.py\u001b[0m in \u001b[0;36m__call__\u001b[0;34m(self, *input, **kwargs)\u001b[0m\n\u001b[1;32m    548\u001b[0m             \u001b[0mresult\u001b[0m \u001b[0;34m=\u001b[0m \u001b[0mself\u001b[0m\u001b[0;34m.\u001b[0m\u001b[0m_slow_forward\u001b[0m\u001b[0;34m(\u001b[0m\u001b[0;34m*\u001b[0m\u001b[0minput\u001b[0m\u001b[0;34m,\u001b[0m \u001b[0;34m**\u001b[0m\u001b[0mkwargs\u001b[0m\u001b[0;34m)\u001b[0m\u001b[0;34m\u001b[0m\u001b[0;34m\u001b[0m\u001b[0m\n\u001b[1;32m    549\u001b[0m         \u001b[0;32melse\u001b[0m\u001b[0;34m:\u001b[0m\u001b[0;34m\u001b[0m\u001b[0;34m\u001b[0m\u001b[0m\n\u001b[0;32m--> 550\u001b[0;31m             \u001b[0mresult\u001b[0m \u001b[0;34m=\u001b[0m \u001b[0mself\u001b[0m\u001b[0;34m.\u001b[0m\u001b[0mforward\u001b[0m\u001b[0;34m(\u001b[0m\u001b[0;34m*\u001b[0m\u001b[0minput\u001b[0m\u001b[0;34m,\u001b[0m \u001b[0;34m**\u001b[0m\u001b[0mkwargs\u001b[0m\u001b[0;34m)\u001b[0m\u001b[0;34m\u001b[0m\u001b[0;34m\u001b[0m\u001b[0m\n\u001b[0m\u001b[1;32m    551\u001b[0m         \u001b[0;32mfor\u001b[0m \u001b[0mhook\u001b[0m \u001b[0;32min\u001b[0m \u001b[0mself\u001b[0m\u001b[0;34m.\u001b[0m\u001b[0m_forward_hooks\u001b[0m\u001b[0;34m.\u001b[0m\u001b[0mvalues\u001b[0m\u001b[0;34m(\u001b[0m\u001b[0;34m)\u001b[0m\u001b[0;34m:\u001b[0m\u001b[0;34m\u001b[0m\u001b[0;34m\u001b[0m\u001b[0m\n\u001b[1;32m    552\u001b[0m             \u001b[0mhook_result\u001b[0m \u001b[0;34m=\u001b[0m \u001b[0mhook\u001b[0m\u001b[0;34m(\u001b[0m\u001b[0mself\u001b[0m\u001b[0;34m,\u001b[0m \u001b[0minput\u001b[0m\u001b[0;34m,\u001b[0m \u001b[0mresult\u001b[0m\u001b[0;34m)\u001b[0m\u001b[0;34m\u001b[0m\u001b[0;34m\u001b[0m\u001b[0m\n",
            "\u001b[0;32m<ipython-input-9-5f9066b349d5>\u001b[0m in \u001b[0;36mforward\u001b[0;34m(self, input)\u001b[0m\n\u001b[1;32m    144\u001b[0m         \u001b[0mdru3\u001b[0m \u001b[0;34m=\u001b[0m \u001b[0mself\u001b[0m\u001b[0;34m.\u001b[0m\u001b[0md_res_up3\u001b[0m\u001b[0;34m(\u001b[0m\u001b[0mdru4\u001b[0m\u001b[0;34m,\u001b[0m \u001b[0mskip3_out\u001b[0m\u001b[0;34m)\u001b[0m\u001b[0;34m\u001b[0m\u001b[0;34m\u001b[0m\u001b[0m\n\u001b[1;32m    145\u001b[0m         \u001b[0mdru2\u001b[0m \u001b[0;34m=\u001b[0m \u001b[0mself\u001b[0m\u001b[0;34m.\u001b[0m\u001b[0md_res_up2\u001b[0m\u001b[0;34m(\u001b[0m\u001b[0mdru3\u001b[0m\u001b[0;34m,\u001b[0m \u001b[0mskip2_out\u001b[0m\u001b[0;34m)\u001b[0m\u001b[0;34m\u001b[0m\u001b[0;34m\u001b[0m\u001b[0m\n\u001b[0;32m--> 146\u001b[0;31m         \u001b[0mdru1\u001b[0m \u001b[0;34m=\u001b[0m \u001b[0mself\u001b[0m\u001b[0;34m.\u001b[0m\u001b[0md_res_up1\u001b[0m\u001b[0;34m(\u001b[0m\u001b[0mdru2\u001b[0m\u001b[0;34m,\u001b[0m \u001b[0mskip1_out\u001b[0m\u001b[0;34m)\u001b[0m\u001b[0;34m\u001b[0m\u001b[0;34m\u001b[0m\u001b[0m\n\u001b[0m\u001b[1;32m    147\u001b[0m \u001b[0;34m\u001b[0m\u001b[0m\n\u001b[1;32m    148\u001b[0m         \u001b[0md_out\u001b[0m \u001b[0;34m=\u001b[0m \u001b[0mself\u001b[0m\u001b[0;34m.\u001b[0m\u001b[0mdepth_output\u001b[0m\u001b[0;34m(\u001b[0m\u001b[0mdru1\u001b[0m\u001b[0;34m)\u001b[0m\u001b[0;34m\u001b[0m\u001b[0;34m\u001b[0m\u001b[0m\n",
            "\u001b[0;32m/usr/local/lib/python3.6/dist-packages/torch/nn/modules/module.py\u001b[0m in \u001b[0;36m__call__\u001b[0;34m(self, *input, **kwargs)\u001b[0m\n\u001b[1;32m    548\u001b[0m             \u001b[0mresult\u001b[0m \u001b[0;34m=\u001b[0m \u001b[0mself\u001b[0m\u001b[0;34m.\u001b[0m\u001b[0m_slow_forward\u001b[0m\u001b[0;34m(\u001b[0m\u001b[0;34m*\u001b[0m\u001b[0minput\u001b[0m\u001b[0;34m,\u001b[0m \u001b[0;34m**\u001b[0m\u001b[0mkwargs\u001b[0m\u001b[0;34m)\u001b[0m\u001b[0;34m\u001b[0m\u001b[0;34m\u001b[0m\u001b[0m\n\u001b[1;32m    549\u001b[0m         \u001b[0;32melse\u001b[0m\u001b[0;34m:\u001b[0m\u001b[0;34m\u001b[0m\u001b[0;34m\u001b[0m\u001b[0m\n\u001b[0;32m--> 550\u001b[0;31m             \u001b[0mresult\u001b[0m \u001b[0;34m=\u001b[0m \u001b[0mself\u001b[0m\u001b[0;34m.\u001b[0m\u001b[0mforward\u001b[0m\u001b[0;34m(\u001b[0m\u001b[0;34m*\u001b[0m\u001b[0minput\u001b[0m\u001b[0;34m,\u001b[0m \u001b[0;34m**\u001b[0m\u001b[0mkwargs\u001b[0m\u001b[0;34m)\u001b[0m\u001b[0;34m\u001b[0m\u001b[0;34m\u001b[0m\u001b[0m\n\u001b[0m\u001b[1;32m    551\u001b[0m         \u001b[0;32mfor\u001b[0m \u001b[0mhook\u001b[0m \u001b[0;32min\u001b[0m \u001b[0mself\u001b[0m\u001b[0;34m.\u001b[0m\u001b[0m_forward_hooks\u001b[0m\u001b[0;34m.\u001b[0m\u001b[0mvalues\u001b[0m\u001b[0;34m(\u001b[0m\u001b[0;34m)\u001b[0m\u001b[0;34m:\u001b[0m\u001b[0;34m\u001b[0m\u001b[0;34m\u001b[0m\u001b[0m\n\u001b[1;32m    552\u001b[0m             \u001b[0mhook_result\u001b[0m \u001b[0;34m=\u001b[0m \u001b[0mhook\u001b[0m\u001b[0;34m(\u001b[0m\u001b[0mself\u001b[0m\u001b[0;34m,\u001b[0m \u001b[0minput\u001b[0m\u001b[0;34m,\u001b[0m \u001b[0mresult\u001b[0m\u001b[0;34m)\u001b[0m\u001b[0;34m\u001b[0m\u001b[0;34m\u001b[0m\u001b[0m\n",
            "\u001b[0;32m<ipython-input-9-5f9066b349d5>\u001b[0m in \u001b[0;36mforward\u001b[0;34m(self, down_input, skip_input)\u001b[0m\n\u001b[1;32m     75\u001b[0m         \u001b[0mx\u001b[0m \u001b[0;34m=\u001b[0m \u001b[0mself\u001b[0m\u001b[0;34m.\u001b[0m\u001b[0mpre_conv\u001b[0m\u001b[0;34m(\u001b[0m\u001b[0mdown_input\u001b[0m\u001b[0;34m)\u001b[0m\u001b[0;34m\u001b[0m\u001b[0;34m\u001b[0m\u001b[0m\n\u001b[1;32m     76\u001b[0m \u001b[0;34m\u001b[0m\u001b[0m\n\u001b[0;32m---> 77\u001b[0;31m         \u001b[0mx\u001b[0m \u001b[0;34m=\u001b[0m \u001b[0mself\u001b[0m\u001b[0;34m.\u001b[0m\u001b[0mupsample\u001b[0m\u001b[0;34m(\u001b[0m\u001b[0mx\u001b[0m\u001b[0;34m)\u001b[0m \u001b[0;34m+\u001b[0m \u001b[0mself\u001b[0m\u001b[0;34m.\u001b[0m\u001b[0mskip_conv\u001b[0m\u001b[0;34m(\u001b[0m\u001b[0mskip_input\u001b[0m\u001b[0;34m)\u001b[0m\u001b[0;34m\u001b[0m\u001b[0;34m\u001b[0m\u001b[0m\n\u001b[0m\u001b[1;32m     78\u001b[0m \u001b[0;34m\u001b[0m\u001b[0m\n\u001b[1;32m     79\u001b[0m         \u001b[0midentity\u001b[0m \u001b[0;34m=\u001b[0m \u001b[0mself\u001b[0m\u001b[0;34m.\u001b[0m\u001b[0mproj_layer\u001b[0m\u001b[0;34m(\u001b[0m\u001b[0mx\u001b[0m\u001b[0;34m)\u001b[0m\u001b[0;34m\u001b[0m\u001b[0;34m\u001b[0m\u001b[0m\n",
            "\u001b[0;32m/usr/local/lib/python3.6/dist-packages/torch/nn/modules/module.py\u001b[0m in \u001b[0;36m__call__\u001b[0;34m(self, *input, **kwargs)\u001b[0m\n\u001b[1;32m    548\u001b[0m             \u001b[0mresult\u001b[0m \u001b[0;34m=\u001b[0m \u001b[0mself\u001b[0m\u001b[0;34m.\u001b[0m\u001b[0m_slow_forward\u001b[0m\u001b[0;34m(\u001b[0m\u001b[0;34m*\u001b[0m\u001b[0minput\u001b[0m\u001b[0;34m,\u001b[0m \u001b[0;34m**\u001b[0m\u001b[0mkwargs\u001b[0m\u001b[0;34m)\u001b[0m\u001b[0;34m\u001b[0m\u001b[0;34m\u001b[0m\u001b[0m\n\u001b[1;32m    549\u001b[0m         \u001b[0;32melse\u001b[0m\u001b[0;34m:\u001b[0m\u001b[0;34m\u001b[0m\u001b[0;34m\u001b[0m\u001b[0m\n\u001b[0;32m--> 550\u001b[0;31m             \u001b[0mresult\u001b[0m \u001b[0;34m=\u001b[0m \u001b[0mself\u001b[0m\u001b[0;34m.\u001b[0m\u001b[0mforward\u001b[0m\u001b[0;34m(\u001b[0m\u001b[0;34m*\u001b[0m\u001b[0minput\u001b[0m\u001b[0;34m,\u001b[0m \u001b[0;34m**\u001b[0m\u001b[0mkwargs\u001b[0m\u001b[0;34m)\u001b[0m\u001b[0;34m\u001b[0m\u001b[0;34m\u001b[0m\u001b[0m\n\u001b[0m\u001b[1;32m    551\u001b[0m         \u001b[0;32mfor\u001b[0m \u001b[0mhook\u001b[0m \u001b[0;32min\u001b[0m \u001b[0mself\u001b[0m\u001b[0;34m.\u001b[0m\u001b[0m_forward_hooks\u001b[0m\u001b[0;34m.\u001b[0m\u001b[0mvalues\u001b[0m\u001b[0;34m(\u001b[0m\u001b[0;34m)\u001b[0m\u001b[0;34m:\u001b[0m\u001b[0;34m\u001b[0m\u001b[0;34m\u001b[0m\u001b[0m\n\u001b[1;32m    552\u001b[0m             \u001b[0mhook_result\u001b[0m \u001b[0;34m=\u001b[0m \u001b[0mhook\u001b[0m\u001b[0;34m(\u001b[0m\u001b[0mself\u001b[0m\u001b[0;34m,\u001b[0m \u001b[0minput\u001b[0m\u001b[0;34m,\u001b[0m \u001b[0mresult\u001b[0m\u001b[0;34m)\u001b[0m\u001b[0;34m\u001b[0m\u001b[0;34m\u001b[0m\u001b[0m\n",
            "\u001b[0;32m/usr/local/lib/python3.6/dist-packages/torch/nn/modules/conv.py\u001b[0m in \u001b[0;36mforward\u001b[0;34m(self, input)\u001b[0m\n\u001b[1;32m    347\u001b[0m \u001b[0;34m\u001b[0m\u001b[0m\n\u001b[1;32m    348\u001b[0m     \u001b[0;32mdef\u001b[0m \u001b[0mforward\u001b[0m\u001b[0;34m(\u001b[0m\u001b[0mself\u001b[0m\u001b[0;34m,\u001b[0m \u001b[0minput\u001b[0m\u001b[0;34m)\u001b[0m\u001b[0;34m:\u001b[0m\u001b[0;34m\u001b[0m\u001b[0;34m\u001b[0m\u001b[0m\n\u001b[0;32m--> 349\u001b[0;31m         \u001b[0;32mreturn\u001b[0m \u001b[0mself\u001b[0m\u001b[0;34m.\u001b[0m\u001b[0m_conv_forward\u001b[0m\u001b[0;34m(\u001b[0m\u001b[0minput\u001b[0m\u001b[0;34m,\u001b[0m \u001b[0mself\u001b[0m\u001b[0;34m.\u001b[0m\u001b[0mweight\u001b[0m\u001b[0;34m)\u001b[0m\u001b[0;34m\u001b[0m\u001b[0;34m\u001b[0m\u001b[0m\n\u001b[0m\u001b[1;32m    350\u001b[0m \u001b[0;34m\u001b[0m\u001b[0m\n\u001b[1;32m    351\u001b[0m \u001b[0;32mclass\u001b[0m \u001b[0mConv3d\u001b[0m\u001b[0;34m(\u001b[0m\u001b[0m_ConvNd\u001b[0m\u001b[0;34m)\u001b[0m\u001b[0;34m:\u001b[0m\u001b[0;34m\u001b[0m\u001b[0;34m\u001b[0m\u001b[0m\n",
            "\u001b[0;32m/usr/local/lib/python3.6/dist-packages/torch/nn/modules/conv.py\u001b[0m in \u001b[0;36m_conv_forward\u001b[0;34m(self, input, weight)\u001b[0m\n\u001b[1;32m    344\u001b[0m                             _pair(0), self.dilation, self.groups)\n\u001b[1;32m    345\u001b[0m         return F.conv2d(input, weight, self.bias, self.stride,\n\u001b[0;32m--> 346\u001b[0;31m                         self.padding, self.dilation, self.groups)\n\u001b[0m\u001b[1;32m    347\u001b[0m \u001b[0;34m\u001b[0m\u001b[0m\n\u001b[1;32m    348\u001b[0m     \u001b[0;32mdef\u001b[0m \u001b[0mforward\u001b[0m\u001b[0;34m(\u001b[0m\u001b[0mself\u001b[0m\u001b[0;34m,\u001b[0m \u001b[0minput\u001b[0m\u001b[0;34m)\u001b[0m\u001b[0;34m:\u001b[0m\u001b[0;34m\u001b[0m\u001b[0;34m\u001b[0m\u001b[0m\n",
            "\u001b[0;31mRuntimeError\u001b[0m: CUDA out of memory. Tried to allocate 1.12 GiB (GPU 0; 15.90 GiB total capacity; 12.72 GiB already allocated; 1023.81 MiB free; 14.20 GiB reserved in total by PyTorch)"
          ]
        }
      ]
    },
    {
      "cell_type": "markdown",
      "metadata": {
        "id": "dHdJHhcKITQf",
        "colab_type": "text"
      },
      "source": [
        "### Tests on num_workers"
      ]
    },
    {
      "cell_type": "code",
      "metadata": {
        "id": "G9hxjhFAIWu-",
        "colab_type": "code",
        "outputId": "1e3122d4-1f57-43e0-ae84-0a947b05b68f",
        "colab": {
          "base_uri": "https://localhost:8080/",
          "height": 185,
          "referenced_widgets": [
            "c4f663f3d5194e12885743814458203e",
            "28fd2d8b0a0d42b78abe309bd99c81fd",
            "7d7dbfbc59604b9a8d7af63952337aad",
            "bf118b7175d445e78212351cb60f85a7",
            "9560e42adf3f48cfb44db9d06478bb04",
            "8ced2ae9ce5242d193e8602617bd14c5",
            "0e53bacf2d82431e96c419832287688a",
            "517521752eae40018c3f104dcb147c38"
          ]
        }
      },
      "source": [
        "%%time\n",
        "test_model_params(div_factor=16, batch_size=128, num_workers=4)"
      ],
      "execution_count": 0,
      "outputs": [
        {
          "output_type": "stream",
          "text": [
            "Experiment, div_factor: 16, batch_size: 128, num_workers: 4\n"
          ],
          "name": "stdout"
        },
        {
          "output_type": "display_data",
          "data": {
            "application/vnd.jupyter.widget-view+json": {
              "model_id": "c4f663f3d5194e12885743814458203e",
              "version_minor": 0,
              "version_major": 2
            },
            "text/plain": [
              "HBox(children=(FloatProgress(value=0.0, layout=Layout(flex='2'), max=137.0), HTML(value='')), layout=Layout(di…"
            ]
          },
          "metadata": {
            "tags": []
          }
        },
        {
          "output_type": "stream",
          "text": [
            "\n",
            "total time : 146.9939 s\n",
            "the model took : 143.1144 s i.e. 0.9736 % of total execution\n",
            "data loading took : 0.6445 s i.e. 0.0044 % of total execution\n",
            "others took : 1.7618 s i.e. 0.0120 % of total execution\n",
            "CPU times: user 1min 19s, sys: 1min 5s, total: 2min 25s\n",
            "Wall time: 2min 27s\n"
          ],
          "name": "stdout"
        }
      ]
    },
    {
      "cell_type": "markdown",
      "metadata": {
        "id": "oDWCBvZTJZ9w",
        "colab_type": "text"
      },
      "source": [
        "## Full train loop"
      ]
    },
    {
      "cell_type": "code",
      "metadata": {
        "id": "qnMRVWcEJb4q",
        "colab_type": "code",
        "outputId": "1bd42668-d62f-4f9c-c602-8f562fa0bc9e",
        "colab": {
          "base_uri": "https://localhost:8080/",
          "height": 134,
          "referenced_widgets": [
            "d0ec792b19df4b0f84049a7a2e76a322",
            "8845c349407a451dbc5cd6310ed340ed",
            "a1f172f2d020472fb7005f94a05cb9a0",
            "4aa536a4ffc942359540a4eaa73c30f0",
            "7c5336f589424ae686c9a8df953c242f",
            "95900e2b19c14ad48543595a0ac6bbed",
            "6d54a4e6504c4e23b32005f288255ee5",
            "5d9040716ed241d9be4e88beea23136b"
          ]
        }
      },
      "source": [
        "model = ResUNet()\n",
        "model = model.to(device)\n",
        "lossfn = nn.BCEWithLogitsLoss()\n",
        "\n",
        "optimizer = torch.optim.Adam(model.parameters(), lr=1e-2)\n",
        "\n",
        "meow = torch.utils.data.Subset(train_subset, range(0, len(train_subset)//1))\n",
        "meow_loader = torch.utils.data.DataLoader(meow, batch_size=128, shuffle=True, num_workers=2, pin_memory=True)\n",
        "pbar = tqdm(meow_loader, dynamic_ncols=True)\n",
        "\n",
        "other_time = 0\n",
        "\n",
        "start = time()\n",
        "\n",
        "other_s = time()\n",
        "model.train()\n",
        "other_e = time()\n",
        "\n",
        "other_time += other_e - other_s\n",
        "\n",
        "data_load_time = 0\n",
        "model_time = 0\n",
        "\n",
        "meow_time = 0\n",
        "\n",
        "for batch_idx, data in enumerate(pbar):\n",
        "\n",
        "    other_s = time()\n",
        "    optimizer.zero_grad()\n",
        "    other_e = time()\n",
        "\n",
        "    other_time += other_e - other_s\n",
        "\n",
        "    load_s = time()\n",
        "\n",
        "    data['bg'] = data['bg'].to(device)\n",
        "    data['fg_bg'] = data['fg_bg'].to(device)\n",
        "    data['depth_fg_bg'] = data['depth_fg_bg'].to(device)\n",
        "    data['fg_bg_mask'] = data['fg_bg_mask'].to(device)\n",
        "\n",
        "    load_e = time()\n",
        "\n",
        "    data_load_time += load_e - load_s\n",
        "\n",
        "    model_s = time() # model start\n",
        "\n",
        "    x = torch.cat([data['bg'], data['fg_bg']], dim=1)\n",
        "    d_out, s_out = model(x)\n",
        "\n",
        "    l1 = lossfn(d_out, data['depth_fg_bg'])\n",
        "    l2 = lossfn(s_out, data['fg_bg_mask'])\n",
        "\n",
        "    loss = 2*l1 + l2\n",
        "\n",
        "    loss.backward()\n",
        "    optimizer.step()\n",
        "    model_e = time() # model end\n",
        "\n",
        "    model_time += model_e - model_s\n",
        "\n",
        "    other_s = time()\n",
        "\n",
        "    pbar.set_description(desc=f'loss={loss.item():.10f} batch_id={batch_idx}')\n",
        "\n",
        "\n",
        "    # del data # and this shit was taking 0.07% of mah time\n",
        "    if batch_idx % 200 == 0:\n",
        "        torch.cuda.empty_cache() # this shit takes 8% of my frikking time\n",
        "\n",
        "    other_e = time()\n",
        "\n",
        "    other_time += other_e - other_s\n",
        "end = time()\n",
        "\n",
        "print(f'total time : {end-start:.4f} s')\n",
        "print(f'the model took : {model_time:.4f} s i.e. {(model_time / (end - start)):.4f} % of total execution')\n",
        "print(f'data loading took : {data_load_time:.4f} s i.e. {(data_load_time / (end - start)):.4f} % of total execution')\n",
        "print(f'others took : {other_time:.4f} s i.e. {(other_time / (end - start)):.4f} % of total execution')"
      ],
      "execution_count": 0,
      "outputs": [
        {
          "output_type": "display_data",
          "data": {
            "application/vnd.jupyter.widget-view+json": {
              "model_id": "d0ec792b19df4b0f84049a7a2e76a322",
              "version_minor": 0,
              "version_major": 2
            },
            "text/plain": [
              "HBox(children=(FloatProgress(value=0.0, layout=Layout(flex='2'), max=2188.0), HTML(value='')), layout=Layout(d…"
            ]
          },
          "metadata": {
            "tags": []
          }
        },
        {
          "output_type": "stream",
          "text": [
            "\n",
            "total time : 2331.8488 s\n",
            "the model took : 2289.7168 s i.e. 0.9819 % of total execution\n",
            "data loading took : 10.2884 s i.e. 0.0044 % of total execution\n",
            "others took : 28.5874 s i.e. 0.0123 % of total execution\n"
          ],
          "name": "stdout"
        }
      ]
    },
    {
      "cell_type": "code",
      "metadata": {
        "id": "sXJnI_MjbiYd",
        "colab_type": "code",
        "colab": {}
      },
      "source": [
        "model = model.to(device)\n",
        "model.eval()\n",
        "data = next(iter(test_loader))\n",
        "data['bg'] = data['bg'].to(device)\n",
        "data['fg_bg'] = data['fg_bg'].to(device)\n",
        "data['depth_fg_bg'] = data['depth_fg_bg'].to(device)\n",
        "data['fg_bg_mask'] = data['fg_bg_mask'].to(device)\n",
        "x = torch.cat([data['bg'], data['fg_bg']], dim=1)\n",
        "with torch.no_grad():\n",
        "    d_out, s_out = model(x)"
      ],
      "execution_count": 0,
      "outputs": []
    },
    {
      "cell_type": "code",
      "metadata": {
        "id": "M4FDEQAAv-1A",
        "colab_type": "code",
        "colab": {}
      },
      "source": [
        "def plot4_batch(batch):\n",
        "    '''\n",
        "    Plots 4 images for batch\n",
        "    '''\n",
        "    fig, ax = plt.subplots(4, 4, figsize=(6, 6), sharex=True, sharey=True)\n",
        "\n",
        "    # set the title\n",
        "    for axs, col in zip(ax[0], ['BG', 'FG_BG', 'FG_BG_MASK', 'DEPTH_FG_BG']):\n",
        "        axs.set_title(col)\n",
        "    \n",
        "    # plot the first 4 samples from the batch\n",
        "    for i in range(4):\n",
        "        bg, fg_bg, fg_bg_mask, depth_fg_bg = batch['bg'][i].permute(1, 2, 0).cpu().numpy(), batch['fg_bg'][i].permute(1, 2, 0).cpu().numpy(), batch['fg_bg_mask'][i][0].cpu().numpy(), batch['depth_fg_bg'][i][0].cpu().numpy()\n",
        "\n",
        "        ax[i, 0].imshow(bg) ; ax[i, 0].axis('off')\n",
        "\n",
        "        ax[i, 1].imshow(fg_bg) ; ax[i, 1].axis('off')\n",
        "\n",
        "        ax[i, 2].imshow(fg_bg_mask) ; ax[i, 2].axis('off')\n",
        "\n",
        "        ax[i, 3].imshow(depth_fg_bg) ; ax[i, 3].axis('off')\n",
        "\n",
        "    fig.tight_layout()\n",
        "\n",
        "    plt.show()"
      ],
      "execution_count": 0,
      "outputs": []
    },
    {
      "cell_type": "markdown",
      "metadata": {
        "id": "VxX7M0uKTvxS",
        "colab_type": "text"
      },
      "source": [
        "### After training for single epoch"
      ]
    },
    {
      "cell_type": "code",
      "metadata": {
        "id": "r6nEOWKab8kW",
        "colab_type": "code",
        "outputId": "3c689056-075b-4f0d-d90d-9baf60219cdd",
        "colab": {
          "base_uri": "https://localhost:8080/",
          "height": 432
        }
      },
      "source": [
        "plot4_batch({'fg_bg': data['fg_bg'], 'bg': data['bg'], 'depth_fg_bg': d_out, 'fg_bg_mask': s_out})"
      ],
      "execution_count": 0,
      "outputs": [
        {
          "output_type": "display_data",
          "data": {
            "image/png": "[encoded data removed]",
            "text/plain": [
              "<Figure size 432x432 with 16 Axes>"
            ]
          },
          "metadata": {
            "tags": []
          }
        }
      ]
    },
    {
      "cell_type": "code",
      "metadata": {
        "id": "fIOGobL5wNx2",
        "colab_type": "code",
        "outputId": "5b4ced31-dfb6-4ab2-943a-d16e5151662c",
        "colab": {
          "base_uri": "https://localhost:8080/",
          "height": 432
        }
      },
      "source": [
        "plot4_batch(data)"
      ],
      "execution_count": 0,
      "outputs": [
        {
          "output_type": "display_data",
          "data": {
            "image/png": "[encoded data removed]",
            "text/plain": [
              "<Figure size 432x432 with 16 Axes>"
            ]
          },
          "metadata": {
            "tags": []
          }
        }
      ]
    },
    {
      "cell_type": "code",
      "metadata": {
        "id": "KOZ2WwaXoYlW",
        "colab_type": "code",
        "outputId": "ad27bc12-0398-4376-805f-123f73a05a86",
        "colab": {
          "base_uri": "https://localhost:8080/",
          "height": 34
        }
      },
      "source": [
        "gc.collect()"
      ],
      "execution_count": 0,
      "outputs": [
        {
          "output_type": "execute_result",
          "data": {
            "text/plain": [
              "206"
            ]
          },
          "metadata": {
            "tags": []
          },
          "execution_count": 81
        }
      ]
    },
    {
      "cell_type": "code",
      "metadata": {
        "id": "VIhDMACRoZiW",
        "colab_type": "code",
        "colab": {}
      },
      "source": [
        "torch.cuda.empty_cache()"
      ],
      "execution_count": 0,
      "outputs": []
    },
    {
      "cell_type": "code",
      "metadata": {
        "id": "URZqK5bSockL",
        "colab_type": "code",
        "outputId": "8c2ff8c8-5d5d-4210-b60c-1ea76b56c465",
        "colab": {
          "base_uri": "https://localhost:8080/",
          "height": 34
        }
      },
      "source": [
        "torch.cuda.memory_allocated()"
      ],
      "execution_count": 0,
      "outputs": [
        {
          "output_type": "execute_result",
          "data": {
            "text/plain": [
              "527119872"
            ]
          },
          "metadata": {
            "tags": []
          },
          "execution_count": 87
        }
      ]
    },
    {
      "cell_type": "code",
      "metadata": {
        "id": "BC4VR2kyWrrw",
        "colab_type": "code",
        "colab": {}
      },
      "source": [
        ""
      ],
      "execution_count": 0,
      "outputs": []
    }
  ]
}