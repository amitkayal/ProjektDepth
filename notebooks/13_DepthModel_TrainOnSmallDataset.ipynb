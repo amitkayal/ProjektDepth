{
  "nbformat": 4,
  "nbformat_minor": 0,
  "metadata": {
    "colab": {
      "name": "13-DepthModel-TrainOnSmallDataset.ipynb",
      "provenance": [],
      "collapsed_sections": [],
      "machine_shape": "hm",
      "include_colab_link": true
    },
    "kernelspec": {
      "name": "python3",
      "display_name": "Python 3"
    },
    "accelerator": "GPU"
  },
  "cells": [
    {
      "cell_type": "markdown",
      "metadata": {
        "id": "view-in-github",
        "colab_type": "text"
      },
      "source": [
        "<a href=\"https://colab.research.google.com/github/satyajitghana/ProjektDepth/blob/master/notebooks/13_DepthModel_TrainOnSmallDataset.ipynb\" target=\"_parent\"><img src=\"https://colab.research.google.com/assets/colab-badge.svg\" alt=\"Open In Colab\"/></a>"
      ]
    },
    {
      "cell_type": "code",
      "metadata": {
        "id": "ya8ryKJUikLp",
        "colab_type": "code",
        "outputId": "4ec8bd8a-4a2c-44a6-b8be-885b06c55b04",
        "colab": {
          "base_uri": "https://localhost:8080/",
          "height": 326
        }
      },
      "source": [
        "! nvidia-smi"
      ],
      "execution_count": 0,
      "outputs": [
        {
          "output_type": "stream",
          "text": [
            "Sun May 24 08:18:38 2020       \n",
            "+-----------------------------------------------------------------------------+\n",
            "| NVIDIA-SMI 440.82       Driver Version: 418.67       CUDA Version: 10.1     |\n",
            "|-------------------------------+----------------------+----------------------+\n",
            "| GPU  Name        Persistence-M| Bus-Id        Disp.A | Volatile Uncorr. ECC |\n",
            "| Fan  Temp  Perf  Pwr:Usage/Cap|         Memory-Usage | GPU-Util  Compute M. |\n",
            "|===============================+======================+======================|\n",
            "|   0  Tesla P100-PCIE...  Off  | 00000000:00:04.0 Off |                    0 |\n",
            "| N/A   41C    P0    26W / 250W |      0MiB / 16280MiB |      0%      Default |\n",
            "+-------------------------------+----------------------+----------------------+\n",
            "                                                                               \n",
            "+-----------------------------------------------------------------------------+\n",
            "| Processes:                                                       GPU Memory |\n",
            "|  GPU       PID   Type   Process name                             Usage      |\n",
            "|=============================================================================|\n",
            "|  No running processes found                                                 |\n",
            "+-----------------------------------------------------------------------------+\n"
          ],
          "name": "stdout"
        }
      ]
    },
    {
      "cell_type": "code",
      "metadata": {
        "id": "eH3ycUUzqoVs",
        "colab_type": "code",
        "outputId": "09ac2905-f2c4-4409-b338-a5da74c4a844",
        "colab": {
          "base_uri": "https://localhost:8080/",
          "height": 128
        }
      },
      "source": [
        "from google.colab import drive\n",
        "drive.mount('/content/gdrive')"
      ],
      "execution_count": 0,
      "outputs": [
        {
          "output_type": "stream",
          "text": [
            "Go to this URL in a browser: https://accounts.google.com/o/oauth2/auth?client_id=947318989803-6bn6qk8qdgf4n4g3pfee6491hc0brc4i.apps.googleusercontent.com&redirect_uri=urn%3aietf%3awg%3aoauth%3a2.0%3aoob&response_type=code&scope=email%20https%3a%2f%2fwww.googleapis.com%2fauth%2fdocs.test%20https%3a%2f%2fwww.googleapis.com%2fauth%2fdrive%20https%3a%2f%2fwww.googleapis.com%2fauth%2fdrive.photos.readonly%20https%3a%2f%2fwww.googleapis.com%2fauth%2fpeopleapi.readonly\n",
            "\n",
            "Enter your authorization code:\n",
            "··········\n",
            "Mounted at /content/gdrive\n"
          ],
          "name": "stdout"
        }
      ]
    },
    {
      "cell_type": "code",
      "metadata": {
        "id": "w421KpyMqwUu",
        "colab_type": "code",
        "outputId": "ac3ab18f-dfee-4808-a55f-fd02314a62ce",
        "colab": {
          "base_uri": "https://localhost:8080/",
          "height": 855
        }
      },
      "source": [
        "! pip install git+https://github.com/satyajitghana/ProjektDepth --upgrade"
      ],
      "execution_count": 0,
      "outputs": [
        {
          "output_type": "stream",
          "text": [
            "Collecting git+https://github.com/satyajitghana/ProjektDepth\n",
            "  Cloning https://github.com/satyajitghana/ProjektDepth to /tmp/pip-req-build-deb_w1rj\n",
            "  Running command git clone -q https://github.com/satyajitghana/ProjektDepth /tmp/pip-req-build-deb_w1rj\n",
            "Requirement already satisfied, skipping upgrade: tqdm in /usr/local/lib/python3.6/dist-packages (from vathos==0.0.1) (4.41.1)\n",
            "Requirement already satisfied, skipping upgrade: numpy in /usr/local/lib/python3.6/dist-packages (from vathos==0.0.1) (1.18.4)\n",
            "Requirement already satisfied, skipping upgrade: torch in /usr/local/lib/python3.6/dist-packages (from vathos==0.0.1) (1.5.0+cu101)\n",
            "Requirement already satisfied, skipping upgrade: torchvision in /usr/local/lib/python3.6/dist-packages (from vathos==0.0.1) (0.6.0+cu101)\n",
            "Requirement already satisfied, skipping upgrade: torchsummary in /usr/local/lib/python3.6/dist-packages (from vathos==0.0.1) (1.5.1)\n",
            "Requirement already satisfied, skipping upgrade: albumentations in /usr/local/lib/python3.6/dist-packages (from vathos==0.0.1) (0.1.12)\n",
            "Collecting kornia\n",
            "\u001b[?25l  Downloading https://files.pythonhosted.org/packages/c2/60/f0c174c4a2a40b10b04b37c43f5afee3701cc145b48441a2dc5cf9286c3c/kornia-0.3.1-py2.py3-none-any.whl (158kB)\n",
            "\u001b[K     |████████████████████████████████| 163kB 2.8MB/s \n",
            "\u001b[?25hCollecting torch_lr_finder\n",
            "  Downloading https://files.pythonhosted.org/packages/f9/42/baaf4556393f8d23e81e522e1e3ed1ab407a1aa79350ecbce8df065d9e12/torch_lr_finder-0.1.5-py3-none-any.whl\n",
            "Requirement already satisfied, skipping upgrade: future in /usr/local/lib/python3.6/dist-packages (from torch->vathos==0.0.1) (0.16.0)\n",
            "Requirement already satisfied, skipping upgrade: pillow>=4.1.1 in /usr/local/lib/python3.6/dist-packages (from torchvision->vathos==0.0.1) (7.0.0)\n",
            "Requirement already satisfied, skipping upgrade: scipy in /usr/local/lib/python3.6/dist-packages (from albumentations->vathos==0.0.1) (1.4.1)\n",
            "Collecting imgaug<0.2.7,>=0.2.5\n",
            "\u001b[?25l  Downloading https://files.pythonhosted.org/packages/ad/2e/748dbb7bb52ec8667098bae9b585f448569ae520031932687761165419a2/imgaug-0.2.6.tar.gz (631kB)\n",
            "\u001b[K     |████████████████████████████████| 634kB 8.7MB/s \n",
            "\u001b[?25hRequirement already satisfied, skipping upgrade: opencv-python in /usr/local/lib/python3.6/dist-packages (from albumentations->vathos==0.0.1) (4.1.2.30)\n",
            "Requirement already satisfied, skipping upgrade: matplotlib in /usr/local/lib/python3.6/dist-packages (from torch_lr_finder->vathos==0.0.1) (3.2.1)\n",
            "Requirement already satisfied, skipping upgrade: scikit-image>=0.11.0 in /usr/local/lib/python3.6/dist-packages (from imgaug<0.2.7,>=0.2.5->albumentations->vathos==0.0.1) (0.16.2)\n",
            "Requirement already satisfied, skipping upgrade: six in /usr/local/lib/python3.6/dist-packages (from imgaug<0.2.7,>=0.2.5->albumentations->vathos==0.0.1) (1.12.0)\n",
            "Requirement already satisfied, skipping upgrade: python-dateutil>=2.1 in /usr/local/lib/python3.6/dist-packages (from matplotlib->torch_lr_finder->vathos==0.0.1) (2.8.1)\n",
            "Requirement already satisfied, skipping upgrade: kiwisolver>=1.0.1 in /usr/local/lib/python3.6/dist-packages (from matplotlib->torch_lr_finder->vathos==0.0.1) (1.2.0)\n",
            "Requirement already satisfied, skipping upgrade: pyparsing!=2.0.4,!=2.1.2,!=2.1.6,>=2.0.1 in /usr/local/lib/python3.6/dist-packages (from matplotlib->torch_lr_finder->vathos==0.0.1) (2.4.7)\n",
            "Requirement already satisfied, skipping upgrade: cycler>=0.10 in /usr/local/lib/python3.6/dist-packages (from matplotlib->torch_lr_finder->vathos==0.0.1) (0.10.0)\n",
            "Requirement already satisfied, skipping upgrade: PyWavelets>=0.4.0 in /usr/local/lib/python3.6/dist-packages (from scikit-image>=0.11.0->imgaug<0.2.7,>=0.2.5->albumentations->vathos==0.0.1) (1.1.1)\n",
            "Requirement already satisfied, skipping upgrade: imageio>=2.3.0 in /usr/local/lib/python3.6/dist-packages (from scikit-image>=0.11.0->imgaug<0.2.7,>=0.2.5->albumentations->vathos==0.0.1) (2.4.1)\n",
            "Requirement already satisfied, skipping upgrade: networkx>=2.0 in /usr/local/lib/python3.6/dist-packages (from scikit-image>=0.11.0->imgaug<0.2.7,>=0.2.5->albumentations->vathos==0.0.1) (2.4)\n",
            "Requirement already satisfied, skipping upgrade: decorator>=4.3.0 in /usr/local/lib/python3.6/dist-packages (from networkx>=2.0->scikit-image>=0.11.0->imgaug<0.2.7,>=0.2.5->albumentations->vathos==0.0.1) (4.4.2)\n",
            "Building wheels for collected packages: vathos, imgaug\n",
            "  Building wheel for vathos (setup.py) ... \u001b[?25l\u001b[?25hdone\n",
            "  Created wheel for vathos: filename=vathos-0.0.1-cp36-none-any.whl size=21265 sha256=7af9b11f7883a4d7a38710f785fce61717290de155b861aeb2b3d7c0ae570ead\n",
            "  Stored in directory: /tmp/pip-ephem-wheel-cache-wzk2akpc/wheels/d2/d5/4d/f81c8b5b555fb477f148552bf512e5e98404e63bd793ab920f\n",
            "  Building wheel for imgaug (setup.py) ... \u001b[?25l\u001b[?25hdone\n",
            "  Created wheel for imgaug: filename=imgaug-0.2.6-cp36-none-any.whl size=654020 sha256=44915837520281270b4f398c95c12b2f15e2c39ddbae91403aed6985d3cd0597\n",
            "  Stored in directory: /root/.cache/pip/wheels/97/ec/48/0d25896c417b715af6236dbcef8f0bed136a1a5e52972fc6d0\n",
            "Successfully built vathos imgaug\n",
            "Installing collected packages: kornia, torch-lr-finder, vathos, imgaug\n",
            "  Found existing installation: imgaug 0.2.9\n",
            "    Uninstalling imgaug-0.2.9:\n",
            "      Successfully uninstalled imgaug-0.2.9\n",
            "Successfully installed imgaug-0.2.6 kornia-0.3.1 torch-lr-finder-0.1.5 vathos-0.0.1\n"
          ],
          "name": "stdout"
        }
      ]
    },
    {
      "cell_type": "code",
      "metadata": {
        "id": "eLi6l275soM1",
        "colab_type": "code",
        "outputId": "4be1d487-6475-4261-d442-1729f14e75a5",
        "colab": {
          "base_uri": "https://localhost:8080/",
          "height": 35
        }
      },
      "source": [
        "%%writefile small_data.yaml\n",
        "name: vathos_small_train\n",
        "log_dir: \"/content/gdrive/My Drive/SmallRun/logs\"\n",
        "chkpt_dir: \"/content/gdrive/My Drive/SmallRun/checkpoint\"\n",
        "\n",
        "model_init: \"models/model.pt\"\n",
        "\n",
        "device: GPU\n",
        "\n",
        "model: ResUNet\n",
        "\n",
        "augmentation: DepthLightAug\n",
        "\n",
        "dataset:\n",
        "    name: DenseDepth\n",
        "    root: vathos_data\n",
        "    zip_dir: \"/content/gdrive/My Drive/DepthProject/depth_dataset_zipped/\"\n",
        "    div_factor: 1\n",
        "    loader_args:\n",
        "        batch_size: 128\n",
        "        num_workers: 4\n",
        "        shuffle: True\n",
        "        pin_memory: True\n",
        "\n",
        "seg_loss: BCEDiceLoss\n",
        "\n",
        "depth_loss: RMSELoss\n",
        "\n",
        "lr_scheduler:\n",
        "    type: OneCycleLR\n",
        "    args:\n",
        "        max_lr: 0.1\n",
        "\n",
        "optimizer:\n",
        "    type: AdamW\n",
        "    args:\n",
        "        lr: 0.01\n",
        "\n",
        "training:\n",
        "    epochs: 15"
      ],
      "execution_count": 0,
      "outputs": [
        {
          "output_type": "stream",
          "text": [
            "Overwriting small_data.yaml\n"
          ],
          "name": "stdout"
        }
      ]
    },
    {
      "cell_type": "code",
      "metadata": {
        "id": "SmqOKZAIS_vb",
        "colab_type": "code",
        "colab": {}
      },
      "source": [
        "import vathos\n",
        "import vathos.runner as vrunner\n",
        "import vathos.utils as vutils"
      ],
      "execution_count": 0,
      "outputs": []
    },
    {
      "cell_type": "code",
      "metadata": {
        "id": "L_uJZMAKTcTD",
        "colab_type": "code",
        "colab": {}
      },
      "source": [
        "config = vutils.load_config('small_data.yaml')"
      ],
      "execution_count": 0,
      "outputs": []
    },
    {
      "cell_type": "code",
      "metadata": {
        "id": "IR7V5SlwJf9k",
        "colab_type": "code",
        "outputId": "ef6393f6-81f6-4551-deee-e01606aa6f85",
        "colab": {
          "base_uri": "https://localhost:8080/",
          "height": 363
        }
      },
      "source": [
        "runner = vrunner.Runner(config)"
      ],
      "execution_count": 0,
      "outputs": [
        {
          "output_type": "stream",
          "text": [
            "                                                                     \n",
            "                            ___      ,---,                           \n",
            "       ,---.              ,--.'|_  ,--.' |                           \n",
            "      /__./|              |  | :,' |  |  :       ,---.               \n",
            " ,---.;  ; |              :  : ' : :  :  :      '   ,'\\   .--.--.    \n",
            "/___/ \\  | |   ,--.--.  .;__,'  /  :  |  |,--. /   /   | /  /    '   \n",
            "\\   ;  \\ ' |  /       \\ |  |   |   |  :  '   |.   ; ,. :|  :  /`./   \n",
            " \\   \\  \\: | .--.  .-. |:__,'| :   |  |   /' :'   | |: :|  :  ;_     \n",
            "  ;   \\  ' .  \\__\\/: . .  '  : |__ '  :  | | |'   | .; : \\  \\    `.  \n",
            "   \\   \\   '  ,\" .--.; |  |  | '.'||  |  ' | :|   :    |  `----.   \\ \n",
            "    \\   `  ; /  /  ,.  |  ;  :    ;|  :  :_:,' \\   \\  /  /  /`--'  / \n",
            "     :   \\ |;  :   .'   \\ |  ,   / |  | ,'      `----'  '--'.     /  \n",
            "      '---\" |  ,     .-./  ---`-'  `--''                  `--'---'   \n",
            "             `--`---'                                                \n",
            "                                                                     \n",
            "Author: Satyajit Ghana\n",
            "Github: https://github.com/satyajitghana/ProjektDepth\n",
            "\n",
            "[ 2020-05-24 08:23:28,215 - vathos.vathos.runner.runner ] INFO: Now simply setup_train and then start_train your model\n"
          ],
          "name": "stdout"
        }
      ]
    },
    {
      "cell_type": "code",
      "metadata": {
        "id": "_EFpz0xLKHOA",
        "colab_type": "code",
        "outputId": "9b670b46-3e5b-4161-cb45-f2e725017dee",
        "colab": {
          "base_uri": "https://localhost:8080/",
          "height": 654
        }
      },
      "source": [
        "runner.setup_train()"
      ],
      "execution_count": 0,
      "outputs": [
        {
          "output_type": "stream",
          "text": [
            "[ 2020-05-24 08:23:28,659 - vathos.vathos.runner.runner ] INFO: Config\n",
            "[ 2020-05-24 08:23:28,661 - vathos.vathos.runner.runner ] INFO: {'augmentation': 'DepthLightAug',\n",
            "[ 2020-05-24 08:23:28,662 - vathos.vathos.runner.runner ] INFO:  'chkpt_dir': '/content/gdrive/My Drive/SmallRun/checkpoint',\n",
            "[ 2020-05-24 08:23:28,663 - vathos.vathos.runner.runner ] INFO:  'dataset': {'div_factor': 1,\n",
            "[ 2020-05-24 08:23:28,664 - vathos.vathos.runner.runner ] INFO:              'loader_args': {'batch_size': 128,\n",
            "[ 2020-05-24 08:23:28,665 - vathos.vathos.runner.runner ] INFO:                              'num_workers': 4,\n",
            "[ 2020-05-24 08:23:28,666 - vathos.vathos.runner.runner ] INFO:                              'pin_memory': True,\n",
            "[ 2020-05-24 08:23:28,667 - vathos.vathos.runner.runner ] INFO:                              'shuffle': True},\n",
            "[ 2020-05-24 08:23:28,673 - vathos.vathos.runner.runner ] INFO:              'name': 'DenseDepth',\n",
            "[ 2020-05-24 08:23:28,675 - vathos.vathos.runner.runner ] INFO:              'root': 'vathos_data',\n",
            "[ 2020-05-24 08:23:28,677 - vathos.vathos.runner.runner ] INFO:              'zip_dir': '/content/gdrive/My '\n",
            "[ 2020-05-24 08:23:28,679 - vathos.vathos.runner.runner ] INFO:                         'Drive/DepthProject/depth_dataset_zipped/'},\n",
            "[ 2020-05-24 08:23:28,680 - vathos.vathos.runner.runner ] INFO:  'depth_loss': 'RMSELoss',\n",
            "[ 2020-05-24 08:23:28,682 - vathos.vathos.runner.runner ] INFO:  'device': 'GPU',\n",
            "[ 2020-05-24 08:23:28,683 - vathos.vathos.runner.runner ] INFO:  'log_dir': '/content/gdrive/My Drive/SmallRun/logs',\n",
            "[ 2020-05-24 08:23:28,685 - vathos.vathos.runner.runner ] INFO:  'lr_scheduler': {'args': {'max_lr': 0.1}, 'type': 'OneCycleLR'},\n",
            "[ 2020-05-24 08:23:28,685 - vathos.vathos.runner.runner ] INFO:  'model': 'ResUNet',\n",
            "[ 2020-05-24 08:23:28,687 - vathos.vathos.runner.runner ] INFO:  'model_init': 'models/model.pt',\n",
            "[ 2020-05-24 08:23:28,688 - vathos.vathos.runner.runner ] INFO:  'name': 'vathos_small_train',\n",
            "[ 2020-05-24 08:23:28,690 - vathos.vathos.runner.runner ] INFO:  'optimizer': {'args': {'lr': 0.01}, 'type': 'AdamW'},\n",
            "[ 2020-05-24 08:23:28,691 - vathos.vathos.runner.runner ] INFO:  'seg_loss': 'BCEDiceLoss',\n",
            "[ 2020-05-24 08:23:28,692 - vathos.vathos.runner.runner ] INFO:  'training': {'epochs': 15}}\n",
            "[ 2020-05-24 08:23:28,693 - vathos.vathos.utils.config ] INFO: Building vathos.data_loader.DenseDepth\n",
            "dataset folders/files already exists in vathos_data/Vathos\n",
            "found 100 bg images, 400000 fg_bg images, 400000 fg_bg_mask images, 400000 depth_fg_bg images\n",
            "[ 2020-05-24 08:23:49,054 - vathos.vathos.runner.runner ] INFO: => Found subset.pt loading indices\n",
            "[ 2020-05-24 08:23:49,057 - vathos.vathos.utils.config ] INFO: Building vathos.model.ResUNet\n",
            "[ 2020-05-24 08:23:49,200 - vathos.vathos.utils.config ] INFO: Building torch.optim.AdamW\n",
            "[ 2020-05-24 08:23:49,205 - vathos.vathos.utils.config ] INFO: Building vathos.model.loss.BCEDiceLoss\n",
            "[ 2020-05-24 08:23:49,206 - vathos.vathos.utils.config ] INFO: Building vathos.model.loss.RMSELoss\n",
            "[ 2020-05-24 08:23:49,208 - vathos.vathos.runner.runner ] INFO: => No saved checkpoints found\n",
            "[ 2020-05-24 08:23:49,210 - vathos.vathos.utils.config ] INFO: Building vathos.trainer.GPUTrainer\n",
            "[ 2020-05-24 08:23:49,220 - vathos.vathos.utils.config ] INFO: Building torch.utils.data.DataLoader\n",
            "[ 2020-05-24 08:23:49,221 - vathos.vathos.utils.config ] INFO: Building torch.utils.data.DataLoader\n",
            "[ 2020-05-24 08:23:49,222 - vathos.vathos.utils.config ] INFO: Building torch.optim.lr_scheduler.OneCycleLR\n"
          ],
          "name": "stdout"
        }
      ]
    },
    {
      "cell_type": "code",
      "metadata": {
        "id": "ZvoQ2wu9OIb9",
        "colab_type": "code",
        "outputId": "8da16f27-4d6e-45a3-bffb-882fc9230b29",
        "colab": {
          "base_uri": "https://localhost:8080/",
          "height": 1000
        }
      },
      "source": [
        "runner.start_train()"
      ],
      "execution_count": 0,
      "outputs": [
        {
          "output_type": "stream",
          "text": [
            "[ 2020-05-24 08:23:51,142 - vathos.vathos.trainer.gpu_trainer ] INFO: => Training Started\n",
            "[ 2020-05-24 08:23:51,143 - vathos.vathos.trainer.gpu_trainer ] INFO: Training the model for 15 epochs\n",
            "[ 2020-05-24 08:23:51,145 - vathos.vathos.trainer.gpu_trainer ] INFO: => LR was set to 0.0040000000000000036\n",
            "[ 2020-05-24 08:23:51,146 - vathos.vathos.trainer.gpu_trainer ] INFO: => Training Epoch 0\n",
            "[ 2020-05-24 08:42:58,869 - vathos.vathos.trainer.gpu_trainer ] INFO: seg_loss: 0.1615958943540806, depth_loss: 0.0443274032382441, mIOU: 0.46600645780563354, mRMSE: 0.044327426701784134\n",
            "[ 2020-05-24 08:42:58,873 - vathos.vathos.trainer.gpu_trainer ] INFO: => Testing Epoch 0\n",
            "[ 2020-05-24 08:45:28,716 - vathos.vathos.trainer.gpu_trainer ] INFO: mIOU: 0.47279423475265503 mRMSE: 0.0448279045522213\n",
            "[ 2020-05-24 08:45:33,419 - vathos.vathos.trainer.gpu_trainer ] INFO: => Accuracy improved, saving best checkpoint ...\n",
            "[ 2020-05-24 08:45:34,544 - vathos.vathos.trainer.gpu_trainer ] INFO: => Saving checkpoint ...\n",
            "[ 2020-05-24 08:45:35,690 - vathos.vathos.trainer.gpu_trainer ] INFO: => LR was set to 0.01523205473736891\n",
            "[ 2020-05-24 08:45:35,691 - vathos.vathos.trainer.gpu_trainer ] INFO: => Training Epoch 1\n",
            "[ 2020-05-24 09:04:44,111 - vathos.vathos.trainer.gpu_trainer ] INFO: seg_loss: 0.15525224775593502, depth_loss: 0.03479522804710912, mIOU: 0.46737322211265564, mRMSE: 0.03479524329304695\n",
            "[ 2020-05-24 09:04:44,115 - vathos.vathos.trainer.gpu_trainer ] INFO: => Testing Epoch 1\n",
            "[ 2020-05-24 09:07:14,210 - vathos.vathos.trainer.gpu_trainer ] INFO: mIOU: 0.46951788663864136 mRMSE: 0.038444481790065765\n",
            "[ 2020-05-24 09:07:18,984 - vathos.vathos.trainer.gpu_trainer ] INFO: => Accuracy improved, saving best checkpoint ...\n",
            "[ 2020-05-24 09:07:20,047 - vathos.vathos.trainer.gpu_trainer ] INFO: => Saving checkpoint ...\n",
            "[ 2020-05-24 09:07:21,230 - vathos.vathos.trainer.gpu_trainer ] INFO: => LR was set to 0.0436715917151735\n",
            "[ 2020-05-24 09:07:21,232 - vathos.vathos.trainer.gpu_trainer ] INFO: => Training Epoch 2\n",
            "[ 2020-05-24 09:26:28,694 - vathos.vathos.trainer.gpu_trainer ] INFO: seg_loss: 0.2160121065205205, depth_loss: 0.0436223441142405, mIOU: 0.45652109384536743, mRMSE: 0.043622273951768875\n",
            "[ 2020-05-24 09:26:28,698 - vathos.vathos.trainer.gpu_trainer ] INFO: => Testing Epoch 2\n",
            "[ 2020-05-24 09:28:58,562 - vathos.vathos.trainer.gpu_trainer ] INFO: mIOU: 0.46770021319389343 mRMSE: 0.035708315670490265\n",
            "[ 2020-05-24 09:29:03,434 - vathos.vathos.trainer.gpu_trainer ] INFO: => Accuracy improved, saving best checkpoint ...\n",
            "[ 2020-05-24 09:29:04,451 - vathos.vathos.trainer.gpu_trainer ] INFO: => Saving checkpoint ...\n",
            "[ 2020-05-24 09:29:05,428 - vathos.vathos.trainer.gpu_trainer ] INFO: => LR was set to 0.07600884276507508\n",
            "[ 2020-05-24 09:29:05,429 - vathos.vathos.trainer.gpu_trainer ] INFO: => Training Epoch 3\n",
            "[ 2020-05-24 09:48:12,977 - vathos.vathos.trainer.gpu_trainer ] INFO: seg_loss: 0.28783992968050176, depth_loss: 0.0483284388878255, mIOU: 0.4405255615711212, mRMSE: 0.04832844063639641\n",
            "[ 2020-05-24 09:48:12,981 - vathos.vathos.trainer.gpu_trainer ] INFO: => Testing Epoch 3\n",
            "[ 2020-05-24 09:50:42,356 - vathos.vathos.trainer.gpu_trainer ] INFO: mIOU: 0.4387331008911133 mRMSE: 0.06150289624929428\n",
            "[ 2020-05-24 09:50:47,384 - vathos.vathos.trainer.gpu_trainer ] INFO: => Saving checkpoint ...\n",
            "[ 2020-05-24 09:50:48,428 - vathos.vathos.trainer.gpu_trainer ] INFO: => LR was set to 0.09710990064338473\n",
            "[ 2020-05-24 09:50:48,430 - vathos.vathos.trainer.gpu_trainer ] INFO: => Training Epoch 4\n",
            "[ 2020-05-24 10:09:56,089 - vathos.vathos.trainer.gpu_trainer ] INFO: seg_loss: 0.2475804577784194, depth_loss: 0.04057105561510627, mIOU: 0.4485337436199188, mRMSE: 0.040571026504039764\n",
            "[ 2020-05-24 10:09:56,092 - vathos.vathos.trainer.gpu_trainer ] INFO: => Testing Epoch 4\n",
            "[ 2020-05-24 10:12:26,133 - vathos.vathos.trainer.gpu_trainer ] INFO: mIOU: 0.43718716502189636 mRMSE: 0.04937032610177994\n",
            "[ 2020-05-24 10:12:31,269 - vathos.vathos.trainer.gpu_trainer ] INFO: => Saving checkpoint ...\n",
            "[ 2020-05-24 10:12:32,280 - vathos.vathos.trainer.gpu_trainer ] INFO: => LR was set to 0.09944052404345115\n",
            "[ 2020-05-24 10:12:32,282 - vathos.vathos.trainer.gpu_trainer ] INFO: => Training Epoch 5\n",
            "[ 2020-05-24 10:31:39,973 - vathos.vathos.trainer.gpu_trainer ] INFO: seg_loss: 0.246177281162802, depth_loss: 0.043137575331155954, mIOU: 0.44863981008529663, mRMSE: 0.043137550354003906\n",
            "[ 2020-05-24 10:31:39,977 - vathos.vathos.trainer.gpu_trainer ] INFO: => Testing Epoch 5\n",
            "[ 2020-05-24 10:34:09,982 - vathos.vathos.trainer.gpu_trainer ] INFO: mIOU: 0.4466301202774048 mRMSE: 0.04310993477702141\n",
            "[ 2020-05-24 10:34:15,293 - vathos.vathos.trainer.gpu_trainer ] INFO: => Saving checkpoint ...\n",
            "[ 2020-05-24 10:34:16,304 - vathos.vathos.trainer.gpu_trainer ] INFO: => LR was set to 0.09504549620814297\n",
            "[ 2020-05-24 10:34:16,306 - vathos.vathos.trainer.gpu_trainer ] INFO: => Training Epoch 6\n",
            "[ 2020-05-24 10:53:23,734 - vathos.vathos.trainer.gpu_trainer ] INFO: seg_loss: 0.26276714904352994, depth_loss: 0.043598881818803614, mIOU: 0.4452518820762634, mRMSE: 0.04359889402985573\n",
            "[ 2020-05-24 10:53:23,737 - vathos.vathos.trainer.gpu_trainer ] INFO: => Testing Epoch 6\n",
            "[ 2020-05-24 10:55:53,302 - vathos.vathos.trainer.gpu_trainer ] INFO: mIOU: 0.05687510967254639 mRMSE: 0.3268730342388153\n",
            "[ 2020-05-24 10:55:58,648 - vathos.vathos.trainer.gpu_trainer ] INFO: => Saving checkpoint ...\n",
            "[ 2020-05-24 10:55:59,682 - vathos.vathos.trainer.gpu_trainer ] INFO: => LR was set to 0.08664799612671484\n",
            "[ 2020-05-24 10:55:59,684 - vathos.vathos.trainer.gpu_trainer ] INFO: => Training Epoch 7\n",
            "[ 2020-05-24 11:15:07,201 - vathos.vathos.trainer.gpu_trainer ] INFO: seg_loss: 0.24018359476431414, depth_loss: 0.05209496787577268, mIOU: 0.4499337077140808, mRMSE: 0.05209501087665558\n",
            "[ 2020-05-24 11:15:07,205 - vathos.vathos.trainer.gpu_trainer ] INFO: => Testing Epoch 7\n",
            "[ 2020-05-24 11:17:36,896 - vathos.vathos.trainer.gpu_trainer ] INFO: mIOU: 0.4517170488834381 mRMSE: 0.04900870472192764\n",
            "[ 2020-05-24 11:17:42,501 - vathos.vathos.trainer.gpu_trainer ] INFO: => Saving checkpoint ...\n",
            "[ 2020-05-24 11:17:45,649 - vathos.vathos.trainer.gpu_trainer ] INFO: => LR was set to 0.07499417853322372\n",
            "[ 2020-05-24 11:17:45,651 - vathos.vathos.trainer.gpu_trainer ] INFO: => Training Epoch 8\n",
            "[ 2020-05-24 11:36:53,176 - vathos.vathos.trainer.gpu_trainer ] INFO: seg_loss: 0.2806262790448487, depth_loss: 0.04227971580131507, mIOU: 0.44175881147384644, mRMSE: 0.04227965697646141\n",
            "[ 2020-05-24 11:36:53,180 - vathos.vathos.trainer.gpu_trainer ] INFO: => Testing Epoch 8\n",
            "[ 2020-05-24 11:39:23,229 - vathos.vathos.trainer.gpu_trainer ] INFO: mIOU: 0.4592406153678894 mRMSE: 0.041298240423202515\n",
            "[ 2020-05-24 11:39:28,939 - vathos.vathos.trainer.gpu_trainer ] INFO: => Saving checkpoint ...\n",
            "[ 2020-05-24 11:39:29,922 - vathos.vathos.trainer.gpu_trainer ] INFO: => LR was set to 0.06111953626278751\n",
            "[ 2020-05-24 11:39:29,924 - vathos.vathos.trainer.gpu_trainer ] INFO: => Training Epoch 9\n",
            "[ 2020-05-24 11:58:37,671 - vathos.vathos.trainer.gpu_trainer ] INFO: seg_loss: 0.19512111809397528, depth_loss: 0.037095175533329, mIOU: 0.45905789732933044, mRMSE: 0.037095122039318085\n",
            "[ 2020-05-24 11:58:37,674 - vathos.vathos.trainer.gpu_trainer ] INFO: => Testing Epoch 9\n",
            "[ 2020-05-24 12:01:07,722 - vathos.vathos.trainer.gpu_trainer ] INFO: mIOU: 0.463779479265213 mRMSE: 0.03588731586933136\n",
            "[ 2020-05-24 12:01:13,642 - vathos.vathos.trainer.gpu_trainer ] INFO: => Saving checkpoint ...\n",
            "[ 2020-05-24 12:01:14,629 - vathos.vathos.trainer.gpu_trainer ] INFO: => LR was set to 0.046256892168999156\n",
            "[ 2020-05-24 12:01:14,631 - vathos.vathos.trainer.gpu_trainer ] INFO: => Training Epoch 10\n",
            "[ 2020-05-24 12:20:22,523 - vathos.vathos.trainer.gpu_trainer ] INFO: seg_loss: 0.1744329224543227, depth_loss: 0.03479825142665444, mIOU: 0.4632965326309204, mRMSE: 0.0347982682287693\n",
            "[ 2020-05-24 12:20:22,527 - vathos.vathos.trainer.gpu_trainer ] INFO: => Testing Epoch 10\n",
            "[ 2020-05-24 12:22:53,494 - vathos.vathos.trainer.gpu_trainer ] INFO: mIOU: 0.45899298787117004 mRMSE: 0.034971270710229874\n",
            "[ 2020-05-24 12:22:59,879 - vathos.vathos.trainer.gpu_trainer ] INFO: => Accuracy improved, saving best checkpoint ...\n",
            "[ 2020-05-24 12:23:00,959 - vathos.vathos.trainer.gpu_trainer ] INFO: => Saving checkpoint ...\n",
            "[ 2020-05-24 12:23:02,083 - vathos.vathos.trainer.gpu_trainer ] INFO: => LR was set to 0.03172685740323106\n",
            "[ 2020-05-24 12:23:02,084 - vathos.vathos.trainer.gpu_trainer ] INFO: => Training Epoch 11\n",
            "[ 2020-05-24 12:42:12,984 - vathos.vathos.trainer.gpu_trainer ] INFO: seg_loss: 0.164228114440792, depth_loss: 0.03329669577418614, mIOU: 0.4653754234313965, mRMSE: 0.03329670429229736\n",
            "[ 2020-05-24 12:42:12,988 - vathos.vathos.trainer.gpu_trainer ] INFO: => Testing Epoch 11\n",
            "[ 2020-05-24 12:44:44,815 - vathos.vathos.trainer.gpu_trainer ] INFO: mIOU: 0.4680114686489105 mRMSE: 0.035551562905311584\n",
            "[ 2020-05-24 12:44:51,382 - vathos.vathos.trainer.gpu_trainer ] INFO: => Accuracy improved, saving best checkpoint ...\n",
            "[ 2020-05-24 12:44:52,476 - vathos.vathos.trainer.gpu_trainer ] INFO: => Saving checkpoint ...\n",
            "[ 2020-05-24 12:44:53,621 - vathos.vathos.trainer.gpu_trainer ] INFO: => LR was set to 0.018820489318429064\n",
            "[ 2020-05-24 12:44:53,623 - vathos.vathos.trainer.gpu_trainer ] INFO: => Training Epoch 12\n",
            "[ 2020-05-24 13:04:05,249 - vathos.vathos.trainer.gpu_trainer ] INFO: seg_loss: 0.14633430138066875, depth_loss: 0.03112862491724805, mIOU: 0.4690864384174347, mRMSE: 0.031128641217947006\n",
            "[ 2020-05-24 13:04:05,253 - vathos.vathos.trainer.gpu_trainer ] INFO: => Testing Epoch 12\n",
            "[ 2020-05-24 13:06:37,483 - vathos.vathos.trainer.gpu_trainer ] INFO: mIOU: 0.47016245126724243 mRMSE: 0.02886122278869152\n",
            "[ 2020-05-24 13:06:44,305 - vathos.vathos.trainer.gpu_trainer ] INFO: => Accuracy improved, saving best checkpoint ...\n",
            "[ 2020-05-24 13:06:45,392 - vathos.vathos.trainer.gpu_trainer ] INFO: => Saving checkpoint ...\n",
            "[ 2020-05-24 13:06:46,449 - vathos.vathos.trainer.gpu_trainer ] INFO: => LR was set to 0.008684575357591233\n",
            "[ 2020-05-24 13:06:46,450 - vathos.vathos.trainer.gpu_trainer ] INFO: => Training Epoch 13\n",
            "[ 2020-05-24 13:25:58,221 - vathos.vathos.trainer.gpu_trainer ] INFO: seg_loss: 0.13750874775187732, depth_loss: 0.029420608306436422, mIOU: 0.4709332287311554, mRMSE: 0.02942056395113468\n",
            "[ 2020-05-24 13:25:58,225 - vathos.vathos.trainer.gpu_trainer ] INFO: => Testing Epoch 13\n",
            "[ 2020-05-24 13:28:29,620 - vathos.vathos.trainer.gpu_trainer ] INFO: mIOU: 0.47158342599868774 mRMSE: 0.02756800502538681\n",
            "[ 2020-05-24 13:28:36,619 - vathos.vathos.trainer.gpu_trainer ] INFO: => Accuracy improved, saving best checkpoint ...\n",
            "[ 2020-05-24 13:28:37,697 - vathos.vathos.trainer.gpu_trainer ] INFO: => Saving checkpoint ...\n",
            "[ 2020-05-24 13:28:38,884 - vathos.vathos.trainer.gpu_trainer ] INFO: => LR was set to 0.0022197359568638273\n",
            "[ 2020-05-24 13:28:38,885 - vathos.vathos.trainer.gpu_trainer ] INFO: => Training Epoch 14\n",
            "[ 2020-05-24 13:47:49,941 - vathos.vathos.trainer.gpu_trainer ] INFO: seg_loss: 0.13210834344505065, depth_loss: 0.028270035803358885, mIOU: 0.4720689654350281, mRMSE: 0.028270050883293152\n",
            "[ 2020-05-24 13:47:49,945 - vathos.vathos.trainer.gpu_trainer ] INFO: => Testing Epoch 14\n",
            "[ 2020-05-24 13:50:20,649 - vathos.vathos.trainer.gpu_trainer ] INFO: mIOU: 0.47237759828567505 mRMSE: 0.027060143649578094\n",
            "[ 2020-05-24 13:50:27,750 - vathos.vathos.trainer.gpu_trainer ] INFO: => Accuracy improved, saving best checkpoint ...\n",
            "[ 2020-05-24 13:50:28,801 - vathos.vathos.trainer.gpu_trainer ] INFO: => Saving checkpoint ...\n"
          ],
          "name": "stdout"
        }
      ]
    },
    {
      "cell_type": "code",
      "metadata": {
        "id": "8MpCTvO96OEU",
        "colab_type": "code",
        "colab": {}
      },
      "source": [
        "%load_ext tensorboard"
      ],
      "execution_count": 0,
      "outputs": []
    },
    {
      "cell_type": "code",
      "metadata": {
        "id": "0oVVAcDx-NK8",
        "colab_type": "code",
        "colab": {}
      },
      "source": [
        "%tensorboard --logdir /content/gdrive/My\\ Drive/SmallRun/logs"
      ],
      "execution_count": 0,
      "outputs": []
    },
    {
      "cell_type": "markdown",
      "metadata": {
        "id": "byqFpH7w6Eh-",
        "colab_type": "text"
      },
      "source": [
        "```javascript\n",
        "function ClickConnect(){\n",
        "  console.log(\"Connnect Clicked - Start\"); \n",
        "  document.querySelector(\"#top-toolbar > colab-connect-button\").shadowRoot.querySelector(\"#connect\").click();\n",
        "  console.log(\"Connnect Clicked - End\"); \n",
        "};\n",
        "setInterval(ClickConnect, 60000)\n",
        "```"
      ]
    },
    {
      "cell_type": "code",
      "metadata": {
        "id": "Jn1WVbUa_7h5",
        "colab_type": "code",
        "colab": {}
      },
      "source": [
        ""
      ],
      "execution_count": 0,
      "outputs": []
    }
  ]
}