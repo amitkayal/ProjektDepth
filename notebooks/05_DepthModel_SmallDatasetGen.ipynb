{
  "nbformat": 4,
  "nbformat_minor": 0,
  "metadata": {
    "colab": {
      "name": "05-DepthModel-SmallDatasetGen.ipynb",
      "provenance": [],
      "collapsed_sections": [],
      "toc_visible": true,
      "authorship_tag": "ABX9TyMVChGjPsNL8dVkRDwJBriH",
      "include_colab_link": true
    },
    "kernelspec": {
      "name": "python3",
      "display_name": "Python 3"
    },
    "widgets": {
      "application/vnd.jupyter.widget-state+json": {
        "73c2de9586cb4643a005ae4577df151f": {
          "model_module": "@jupyter-widgets/controls",
          "model_name": "HBoxModel",
          "state": {
            "_view_name": "HBoxView",
            "_dom_classes": [],
            "_model_name": "HBoxModel",
            "_view_module": "@jupyter-widgets/controls",
            "_model_module_version": "1.5.0",
            "_view_count": null,
            "_view_module_version": "1.5.0",
            "box_style": "",
            "layout": "IPY_MODEL_fedb02ea75be46cfb15235e243a80208",
            "_model_module": "@jupyter-widgets/controls",
            "children": [
              "IPY_MODEL_04576068dbfd483cbce17fa36f30a24d",
              "IPY_MODEL_87e0b721bf8f46689e8bedc8d52a2fef"
            ]
          }
        },
        "fedb02ea75be46cfb15235e243a80208": {
          "model_module": "@jupyter-widgets/base",
          "model_name": "LayoutModel",
          "state": {
            "_view_name": "LayoutView",
            "grid_template_rows": null,
            "right": null,
            "justify_content": null,
            "_view_module": "@jupyter-widgets/base",
            "overflow": null,
            "_model_module_version": "1.2.0",
            "_view_count": null,
            "flex_flow": null,
            "width": null,
            "min_width": null,
            "border": null,
            "align_items": null,
            "bottom": null,
            "_model_module": "@jupyter-widgets/base",
            "top": null,
            "grid_column": null,
            "overflow_y": null,
            "overflow_x": null,
            "grid_auto_flow": null,
            "grid_area": null,
            "grid_template_columns": null,
            "flex": null,
            "_model_name": "LayoutModel",
            "justify_items": null,
            "grid_row": null,
            "max_height": null,
            "align_content": null,
            "visibility": null,
            "align_self": null,
            "height": null,
            "min_height": null,
            "padding": null,
            "grid_auto_rows": null,
            "grid_gap": null,
            "max_width": null,
            "order": null,
            "_view_module_version": "1.2.0",
            "grid_template_areas": null,
            "object_position": null,
            "object_fit": null,
            "grid_auto_columns": null,
            "margin": null,
            "display": null,
            "left": null
          }
        },
        "04576068dbfd483cbce17fa36f30a24d": {
          "model_module": "@jupyter-widgets/controls",
          "model_name": "FloatProgressModel",
          "state": {
            "_view_name": "ProgressView",
            "style": "IPY_MODEL_37d2f1ccfb524df5ac6531bc3a3304d0",
            "_dom_classes": [],
            "description": "100%",
            "_model_name": "FloatProgressModel",
            "bar_style": "success",
            "max": 400000,
            "_view_module": "@jupyter-widgets/controls",
            "_model_module_version": "1.5.0",
            "value": 400000,
            "_view_count": null,
            "_view_module_version": "1.5.0",
            "orientation": "horizontal",
            "min": 0,
            "description_tooltip": null,
            "_model_module": "@jupyter-widgets/controls",
            "layout": "IPY_MODEL_503aeb68599e42fb933e209a2398ee03"
          }
        },
        "87e0b721bf8f46689e8bedc8d52a2fef": {
          "model_module": "@jupyter-widgets/controls",
          "model_name": "HTMLModel",
          "state": {
            "_view_name": "HTMLView",
            "style": "IPY_MODEL_883dcf27641c423b92d6f9abbf8debca",
            "_dom_classes": [],
            "description": "",
            "_model_name": "HTMLModel",
            "placeholder": "​",
            "_view_module": "@jupyter-widgets/controls",
            "_model_module_version": "1.5.0",
            "value": " 400000/400000 [19:06&lt;00:00, 348.81it/s]",
            "_view_count": null,
            "_view_module_version": "1.5.0",
            "description_tooltip": null,
            "_model_module": "@jupyter-widgets/controls",
            "layout": "IPY_MODEL_65262ef60c1844dca2b48975e449303a"
          }
        },
        "37d2f1ccfb524df5ac6531bc3a3304d0": {
          "model_module": "@jupyter-widgets/controls",
          "model_name": "ProgressStyleModel",
          "state": {
            "_view_name": "StyleView",
            "_model_name": "ProgressStyleModel",
            "description_width": "initial",
            "_view_module": "@jupyter-widgets/base",
            "_model_module_version": "1.5.0",
            "_view_count": null,
            "_view_module_version": "1.2.0",
            "bar_color": null,
            "_model_module": "@jupyter-widgets/controls"
          }
        },
        "503aeb68599e42fb933e209a2398ee03": {
          "model_module": "@jupyter-widgets/base",
          "model_name": "LayoutModel",
          "state": {
            "_view_name": "LayoutView",
            "grid_template_rows": null,
            "right": null,
            "justify_content": null,
            "_view_module": "@jupyter-widgets/base",
            "overflow": null,
            "_model_module_version": "1.2.0",
            "_view_count": null,
            "flex_flow": null,
            "width": null,
            "min_width": null,
            "border": null,
            "align_items": null,
            "bottom": null,
            "_model_module": "@jupyter-widgets/base",
            "top": null,
            "grid_column": null,
            "overflow_y": null,
            "overflow_x": null,
            "grid_auto_flow": null,
            "grid_area": null,
            "grid_template_columns": null,
            "flex": null,
            "_model_name": "LayoutModel",
            "justify_items": null,
            "grid_row": null,
            "max_height": null,
            "align_content": null,
            "visibility": null,
            "align_self": null,
            "height": null,
            "min_height": null,
            "padding": null,
            "grid_auto_rows": null,
            "grid_gap": null,
            "max_width": null,
            "order": null,
            "_view_module_version": "1.2.0",
            "grid_template_areas": null,
            "object_position": null,
            "object_fit": null,
            "grid_auto_columns": null,
            "margin": null,
            "display": null,
            "left": null
          }
        },
        "883dcf27641c423b92d6f9abbf8debca": {
          "model_module": "@jupyter-widgets/controls",
          "model_name": "DescriptionStyleModel",
          "state": {
            "_view_name": "StyleView",
            "_model_name": "DescriptionStyleModel",
            "description_width": "",
            "_view_module": "@jupyter-widgets/base",
            "_model_module_version": "1.5.0",
            "_view_count": null,
            "_view_module_version": "1.2.0",
            "_model_module": "@jupyter-widgets/controls"
          }
        },
        "65262ef60c1844dca2b48975e449303a": {
          "model_module": "@jupyter-widgets/base",
          "model_name": "LayoutModel",
          "state": {
            "_view_name": "LayoutView",
            "grid_template_rows": null,
            "right": null,
            "justify_content": null,
            "_view_module": "@jupyter-widgets/base",
            "overflow": null,
            "_model_module_version": "1.2.0",
            "_view_count": null,
            "flex_flow": null,
            "width": null,
            "min_width": null,
            "border": null,
            "align_items": null,
            "bottom": null,
            "_model_module": "@jupyter-widgets/base",
            "top": null,
            "grid_column": null,
            "overflow_y": null,
            "overflow_x": null,
            "grid_auto_flow": null,
            "grid_area": null,
            "grid_template_columns": null,
            "flex": null,
            "_model_name": "LayoutModel",
            "justify_items": null,
            "grid_row": null,
            "max_height": null,
            "align_content": null,
            "visibility": null,
            "align_self": null,
            "height": null,
            "min_height": null,
            "padding": null,
            "grid_auto_rows": null,
            "grid_gap": null,
            "max_width": null,
            "order": null,
            "_view_module_version": "1.2.0",
            "grid_template_areas": null,
            "object_position": null,
            "object_fit": null,
            "grid_auto_columns": null,
            "margin": null,
            "display": null,
            "left": null
          }
        },
        "7bea321a58c2421f8cc6b862aef5bbaf": {
          "model_module": "@jupyter-widgets/controls",
          "model_name": "HBoxModel",
          "state": {
            "_view_name": "HBoxView",
            "_dom_classes": [],
            "_model_name": "HBoxModel",
            "_view_module": "@jupyter-widgets/controls",
            "_model_module_version": "1.5.0",
            "_view_count": null,
            "_view_module_version": "1.5.0",
            "box_style": "",
            "layout": "IPY_MODEL_e7344c4a9db64642847bc69481a65dae",
            "_model_module": "@jupyter-widgets/controls",
            "children": [
              "IPY_MODEL_ae2054a0c44e4367aba057550adc1cff",
              "IPY_MODEL_3ea602a358634f44b97a03946089ade5"
            ]
          }
        },
        "e7344c4a9db64642847bc69481a65dae": {
          "model_module": "@jupyter-widgets/base",
          "model_name": "LayoutModel",
          "state": {
            "_view_name": "LayoutView",
            "grid_template_rows": null,
            "right": null,
            "justify_content": null,
            "_view_module": "@jupyter-widgets/base",
            "overflow": null,
            "_model_module_version": "1.2.0",
            "_view_count": null,
            "flex_flow": null,
            "width": null,
            "min_width": null,
            "border": null,
            "align_items": null,
            "bottom": null,
            "_model_module": "@jupyter-widgets/base",
            "top": null,
            "grid_column": null,
            "overflow_y": null,
            "overflow_x": null,
            "grid_auto_flow": null,
            "grid_area": null,
            "grid_template_columns": null,
            "flex": null,
            "_model_name": "LayoutModel",
            "justify_items": null,
            "grid_row": null,
            "max_height": null,
            "align_content": null,
            "visibility": null,
            "align_self": null,
            "height": null,
            "min_height": null,
            "padding": null,
            "grid_auto_rows": null,
            "grid_gap": null,
            "max_width": null,
            "order": null,
            "_view_module_version": "1.2.0",
            "grid_template_areas": null,
            "object_position": null,
            "object_fit": null,
            "grid_auto_columns": null,
            "margin": null,
            "display": null,
            "left": null
          }
        },
        "ae2054a0c44e4367aba057550adc1cff": {
          "model_module": "@jupyter-widgets/controls",
          "model_name": "FloatProgressModel",
          "state": {
            "_view_name": "ProgressView",
            "style": "IPY_MODEL_891f126d8d044054801cfcab1232efc4",
            "_dom_classes": [],
            "description": "100%",
            "_model_name": "FloatProgressModel",
            "bar_style": "success",
            "max": 400000,
            "_view_module": "@jupyter-widgets/controls",
            "_model_module_version": "1.5.0",
            "value": 400000,
            "_view_count": null,
            "_view_module_version": "1.5.0",
            "orientation": "horizontal",
            "min": 0,
            "description_tooltip": null,
            "_model_module": "@jupyter-widgets/controls",
            "layout": "IPY_MODEL_507fbfd58019440999740124b2b93eb4"
          }
        },
        "3ea602a358634f44b97a03946089ade5": {
          "model_module": "@jupyter-widgets/controls",
          "model_name": "HTMLModel",
          "state": {
            "_view_name": "HTMLView",
            "style": "IPY_MODEL_0ce62a9fb8c4491382a12c0c75971653",
            "_dom_classes": [],
            "description": "",
            "_model_name": "HTMLModel",
            "placeholder": "​",
            "_view_module": "@jupyter-widgets/controls",
            "_model_module_version": "1.5.0",
            "value": " 400000/400000 [09:51&lt;00:00, 676.24it/s]",
            "_view_count": null,
            "_view_module_version": "1.5.0",
            "description_tooltip": null,
            "_model_module": "@jupyter-widgets/controls",
            "layout": "IPY_MODEL_2babddd6b555496bac82ee7156d99dd5"
          }
        },
        "891f126d8d044054801cfcab1232efc4": {
          "model_module": "@jupyter-widgets/controls",
          "model_name": "ProgressStyleModel",
          "state": {
            "_view_name": "StyleView",
            "_model_name": "ProgressStyleModel",
            "description_width": "initial",
            "_view_module": "@jupyter-widgets/base",
            "_model_module_version": "1.5.0",
            "_view_count": null,
            "_view_module_version": "1.2.0",
            "bar_color": null,
            "_model_module": "@jupyter-widgets/controls"
          }
        },
        "507fbfd58019440999740124b2b93eb4": {
          "model_module": "@jupyter-widgets/base",
          "model_name": "LayoutModel",
          "state": {
            "_view_name": "LayoutView",
            "grid_template_rows": null,
            "right": null,
            "justify_content": null,
            "_view_module": "@jupyter-widgets/base",
            "overflow": null,
            "_model_module_version": "1.2.0",
            "_view_count": null,
            "flex_flow": null,
            "width": null,
            "min_width": null,
            "border": null,
            "align_items": null,
            "bottom": null,
            "_model_module": "@jupyter-widgets/base",
            "top": null,
            "grid_column": null,
            "overflow_y": null,
            "overflow_x": null,
            "grid_auto_flow": null,
            "grid_area": null,
            "grid_template_columns": null,
            "flex": null,
            "_model_name": "LayoutModel",
            "justify_items": null,
            "grid_row": null,
            "max_height": null,
            "align_content": null,
            "visibility": null,
            "align_self": null,
            "height": null,
            "min_height": null,
            "padding": null,
            "grid_auto_rows": null,
            "grid_gap": null,
            "max_width": null,
            "order": null,
            "_view_module_version": "1.2.0",
            "grid_template_areas": null,
            "object_position": null,
            "object_fit": null,
            "grid_auto_columns": null,
            "margin": null,
            "display": null,
            "left": null
          }
        },
        "0ce62a9fb8c4491382a12c0c75971653": {
          "model_module": "@jupyter-widgets/controls",
          "model_name": "DescriptionStyleModel",
          "state": {
            "_view_name": "StyleView",
            "_model_name": "DescriptionStyleModel",
            "description_width": "",
            "_view_module": "@jupyter-widgets/base",
            "_model_module_version": "1.5.0",
            "_view_count": null,
            "_view_module_version": "1.2.0",
            "_model_module": "@jupyter-widgets/controls"
          }
        },
        "2babddd6b555496bac82ee7156d99dd5": {
          "model_module": "@jupyter-widgets/base",
          "model_name": "LayoutModel",
          "state": {
            "_view_name": "LayoutView",
            "grid_template_rows": null,
            "right": null,
            "justify_content": null,
            "_view_module": "@jupyter-widgets/base",
            "overflow": null,
            "_model_module_version": "1.2.0",
            "_view_count": null,
            "flex_flow": null,
            "width": null,
            "min_width": null,
            "border": null,
            "align_items": null,
            "bottom": null,
            "_model_module": "@jupyter-widgets/base",
            "top": null,
            "grid_column": null,
            "overflow_y": null,
            "overflow_x": null,
            "grid_auto_flow": null,
            "grid_area": null,
            "grid_template_columns": null,
            "flex": null,
            "_model_name": "LayoutModel",
            "justify_items": null,
            "grid_row": null,
            "max_height": null,
            "align_content": null,
            "visibility": null,
            "align_self": null,
            "height": null,
            "min_height": null,
            "padding": null,
            "grid_auto_rows": null,
            "grid_gap": null,
            "max_width": null,
            "order": null,
            "_view_module_version": "1.2.0",
            "grid_template_areas": null,
            "object_position": null,
            "object_fit": null,
            "grid_auto_columns": null,
            "margin": null,
            "display": null,
            "left": null
          }
        },
        "73395c3ec27b43d49cc64ea5dd65514e": {
          "model_module": "@jupyter-widgets/controls",
          "model_name": "HBoxModel",
          "state": {
            "_view_name": "HBoxView",
            "_dom_classes": [],
            "_model_name": "HBoxModel",
            "_view_module": "@jupyter-widgets/controls",
            "_model_module_version": "1.5.0",
            "_view_count": null,
            "_view_module_version": "1.5.0",
            "box_style": "",
            "layout": "IPY_MODEL_60905b02790e443fa9e565e4980dc221",
            "_model_module": "@jupyter-widgets/controls",
            "children": [
              "IPY_MODEL_b9a2884327534644bced5058761a5fce",
              "IPY_MODEL_557e1fd082694f209d577a06d55fc8c3"
            ]
          }
        },
        "60905b02790e443fa9e565e4980dc221": {
          "model_module": "@jupyter-widgets/base",
          "model_name": "LayoutModel",
          "state": {
            "_view_name": "LayoutView",
            "grid_template_rows": null,
            "right": null,
            "justify_content": null,
            "_view_module": "@jupyter-widgets/base",
            "overflow": null,
            "_model_module_version": "1.2.0",
            "_view_count": null,
            "flex_flow": null,
            "width": null,
            "min_width": null,
            "border": null,
            "align_items": null,
            "bottom": null,
            "_model_module": "@jupyter-widgets/base",
            "top": null,
            "grid_column": null,
            "overflow_y": null,
            "overflow_x": null,
            "grid_auto_flow": null,
            "grid_area": null,
            "grid_template_columns": null,
            "flex": null,
            "_model_name": "LayoutModel",
            "justify_items": null,
            "grid_row": null,
            "max_height": null,
            "align_content": null,
            "visibility": null,
            "align_self": null,
            "height": null,
            "min_height": null,
            "padding": null,
            "grid_auto_rows": null,
            "grid_gap": null,
            "max_width": null,
            "order": null,
            "_view_module_version": "1.2.0",
            "grid_template_areas": null,
            "object_position": null,
            "object_fit": null,
            "grid_auto_columns": null,
            "margin": null,
            "display": null,
            "left": null
          }
        },
        "b9a2884327534644bced5058761a5fce": {
          "model_module": "@jupyter-widgets/controls",
          "model_name": "FloatProgressModel",
          "state": {
            "_view_name": "ProgressView",
            "style": "IPY_MODEL_39da14d9efca4f17809e8114efedbb19",
            "_dom_classes": [],
            "description": "100%",
            "_model_name": "FloatProgressModel",
            "bar_style": "success",
            "max": 400000,
            "_view_module": "@jupyter-widgets/controls",
            "_model_module_version": "1.5.0",
            "value": 400000,
            "_view_count": null,
            "_view_module_version": "1.5.0",
            "orientation": "horizontal",
            "min": 0,
            "description_tooltip": null,
            "_model_module": "@jupyter-widgets/controls",
            "layout": "IPY_MODEL_5a13b3656f5e4de8839d49ed5bcdfe3b"
          }
        },
        "557e1fd082694f209d577a06d55fc8c3": {
          "model_module": "@jupyter-widgets/controls",
          "model_name": "HTMLModel",
          "state": {
            "_view_name": "HTMLView",
            "style": "IPY_MODEL_242a249f1c2946a98eded59d8e8fb43c",
            "_dom_classes": [],
            "description": "",
            "_model_name": "HTMLModel",
            "placeholder": "​",
            "_view_module": "@jupyter-widgets/controls",
            "_model_module_version": "1.5.0",
            "value": " 400000/400000 [18:32&lt;00:00, 359.63it/s]",
            "_view_count": null,
            "_view_module_version": "1.5.0",
            "description_tooltip": null,
            "_model_module": "@jupyter-widgets/controls",
            "layout": "IPY_MODEL_a7c9d482dd7b448ab7559c969a501db4"
          }
        },
        "39da14d9efca4f17809e8114efedbb19": {
          "model_module": "@jupyter-widgets/controls",
          "model_name": "ProgressStyleModel",
          "state": {
            "_view_name": "StyleView",
            "_model_name": "ProgressStyleModel",
            "description_width": "initial",
            "_view_module": "@jupyter-widgets/base",
            "_model_module_version": "1.5.0",
            "_view_count": null,
            "_view_module_version": "1.2.0",
            "bar_color": null,
            "_model_module": "@jupyter-widgets/controls"
          }
        },
        "5a13b3656f5e4de8839d49ed5bcdfe3b": {
          "model_module": "@jupyter-widgets/base",
          "model_name": "LayoutModel",
          "state": {
            "_view_name": "LayoutView",
            "grid_template_rows": null,
            "right": null,
            "justify_content": null,
            "_view_module": "@jupyter-widgets/base",
            "overflow": null,
            "_model_module_version": "1.2.0",
            "_view_count": null,
            "flex_flow": null,
            "width": null,
            "min_width": null,
            "border": null,
            "align_items": null,
            "bottom": null,
            "_model_module": "@jupyter-widgets/base",
            "top": null,
            "grid_column": null,
            "overflow_y": null,
            "overflow_x": null,
            "grid_auto_flow": null,
            "grid_area": null,
            "grid_template_columns": null,
            "flex": null,
            "_model_name": "LayoutModel",
            "justify_items": null,
            "grid_row": null,
            "max_height": null,
            "align_content": null,
            "visibility": null,
            "align_self": null,
            "height": null,
            "min_height": null,
            "padding": null,
            "grid_auto_rows": null,
            "grid_gap": null,
            "max_width": null,
            "order": null,
            "_view_module_version": "1.2.0",
            "grid_template_areas": null,
            "object_position": null,
            "object_fit": null,
            "grid_auto_columns": null,
            "margin": null,
            "display": null,
            "left": null
          }
        },
        "242a249f1c2946a98eded59d8e8fb43c": {
          "model_module": "@jupyter-widgets/controls",
          "model_name": "DescriptionStyleModel",
          "state": {
            "_view_name": "StyleView",
            "_model_name": "DescriptionStyleModel",
            "description_width": "",
            "_view_module": "@jupyter-widgets/base",
            "_model_module_version": "1.5.0",
            "_view_count": null,
            "_view_module_version": "1.2.0",
            "_model_module": "@jupyter-widgets/controls"
          }
        },
        "a7c9d482dd7b448ab7559c969a501db4": {
          "model_module": "@jupyter-widgets/base",
          "model_name": "LayoutModel",
          "state": {
            "_view_name": "LayoutView",
            "grid_template_rows": null,
            "right": null,
            "justify_content": null,
            "_view_module": "@jupyter-widgets/base",
            "overflow": null,
            "_model_module_version": "1.2.0",
            "_view_count": null,
            "flex_flow": null,
            "width": null,
            "min_width": null,
            "border": null,
            "align_items": null,
            "bottom": null,
            "_model_module": "@jupyter-widgets/base",
            "top": null,
            "grid_column": null,
            "overflow_y": null,
            "overflow_x": null,
            "grid_auto_flow": null,
            "grid_area": null,
            "grid_template_columns": null,
            "flex": null,
            "_model_name": "LayoutModel",
            "justify_items": null,
            "grid_row": null,
            "max_height": null,
            "align_content": null,
            "visibility": null,
            "align_self": null,
            "height": null,
            "min_height": null,
            "padding": null,
            "grid_auto_rows": null,
            "grid_gap": null,
            "max_width": null,
            "order": null,
            "_view_module_version": "1.2.0",
            "grid_template_areas": null,
            "object_position": null,
            "object_fit": null,
            "grid_auto_columns": null,
            "margin": null,
            "display": null,
            "left": null
          }
        }
      }
    }
  },
  "cells": [
    {
      "cell_type": "markdown",
      "metadata": {
        "id": "view-in-github",
        "colab_type": "text"
      },
      "source": [
        "<a href=\"https://colab.research.google.com/github/satyajitghana/ProjektDepth/blob/master/notebooks/05_DepthModel_SmallDatasetGen.ipynb\" target=\"_parent\"><img src=\"https://colab.research.google.com/assets/colab-badge.svg\" alt=\"Open In Colab\"/></a>"
      ]
    },
    {
      "cell_type": "markdown",
      "metadata": {
        "id": "4RLuMVxAne80",
        "colab_type": "text"
      },
      "source": [
        "# DepthModel - Small Dataset Creation"
      ]
    },
    {
      "cell_type": "code",
      "metadata": {
        "id": "ry-k4Lzwfvzz",
        "colab_type": "code",
        "outputId": "a3826050-5f97-4524-cd1c-1a47f2490eed",
        "colab": {
          "base_uri": "https://localhost:8080/",
          "height": 34
        }
      },
      "source": [
        "! pip install googledrivedownloader"
      ],
      "execution_count": 0,
      "outputs": [
        {
          "output_type": "stream",
          "text": [
            "Requirement already satisfied: googledrivedownloader in /usr/local/lib/python3.6/dist-packages (0.4)\n"
          ],
          "name": "stdout"
        }
      ]
    },
    {
      "cell_type": "code",
      "metadata": {
        "id": "9iB4DOoFj_3r",
        "colab_type": "code",
        "colab": {}
      },
      "source": [
        "from google_drive_downloader import GoogleDriveDownloader as gdd"
      ],
      "execution_count": 0,
      "outputs": []
    },
    {
      "cell_type": "markdown",
      "metadata": {
        "id": "BcabE0-ukNnR",
        "colab_type": "text"
      },
      "source": [
        "bg.zip: 1MOoVAtsVqQ4MFFHMJ1pwM5HaMUT7znsk\n",
        "\n",
        "depth_fg_bg.zip: 1VC1JwVMRxw7IxZIrAHgEXpK9Hp63H4oz\n",
        "\n",
        "fg_bg_mask.zip: 1eQl31VtIw_QEm9u5kpJjxL14cFJPWme2\n",
        "\n",
        "fg_bg.zip: 1EeZ6detKBNhb_qzd98nbKdN5waol5kCg"
      ]
    },
    {
      "cell_type": "code",
      "metadata": {
        "id": "Hce-LYFAkhpx",
        "colab_type": "code",
        "colab": {}
      },
      "source": [
        "gdrive_dset = { 'bg.zip': '1MOoVAtsVqQ4MFFHMJ1pwM5HaMUT7znsk', 'depth_fg_bg.zip': '1VC1JwVMRxw7IxZIrAHgEXpK9Hp63H4oz', 'fg_bg_mask.zip': '1eQl31VtIw_QEm9u5kpJjxL14cFJPWme2', 'fg_bg.zip': '1EeZ6detKBNhb_qzd98nbKdN5waol5kCg' } "
      ],
      "execution_count": 0,
      "outputs": []
    },
    {
      "cell_type": "markdown",
      "metadata": {
        "id": "NX5KV-BknQPC",
        "colab_type": "text"
      },
      "source": [
        "## **🚨 PROCEED CAREFULLY**"
      ]
    },
    {
      "cell_type": "code",
      "metadata": {
        "id": "JfMUVQawlGc7",
        "colab_type": "code",
        "colab": {}
      },
      "source": [
        "! rm -r data\n",
        "! mkdir data"
      ],
      "execution_count": 0,
      "outputs": []
    },
    {
      "cell_type": "code",
      "metadata": {
        "id": "pGWSgMtgkxAM",
        "colab_type": "code",
        "outputId": "19edd286-61b9-4f1c-ed1b-3e0f9e7d9c11",
        "colab": {
          "base_uri": "https://localhost:8080/",
          "height": 153
        }
      },
      "source": [
        "for fname, fid in gdrive_dset.items():\n",
        "    gdd.download_file_from_google_drive(file_id=fid, dest_path=f'data/{fname}', overwrite=True, unzip=False, showsize=True)"
      ],
      "execution_count": 0,
      "outputs": [
        {
          "output_type": "stream",
          "text": [
            "Downloading 1MOoVAtsVqQ4MFFHMJ1pwM5HaMUT7znsk into data/bg.zip... \n",
            "640.0 KiB Done.\n",
            "Downloading 1VC1JwVMRxw7IxZIrAHgEXpK9Hp63H4oz into data/depth_fg_bg.zip... \n",
            "2.9 GiB Done.\n",
            "Downloading 1eQl31VtIw_QEm9u5kpJjxL14cFJPWme2 into data/fg_bg_mask.zip... \n",
            "494.9 MiB Done.\n",
            "Downloading 1EeZ6detKBNhb_qzd98nbKdN5waol5kCg into data/fg_bg.zip... \n",
            "1.6 GiB Done.\n"
          ],
          "name": "stdout"
        }
      ]
    },
    {
      "cell_type": "markdown",
      "metadata": {
        "id": "P5wfH1prou3e",
        "colab_type": "text"
      },
      "source": [
        "Mount Google Drive"
      ]
    },
    {
      "cell_type": "code",
      "metadata": {
        "id": "wW9pJ8Zdk24s",
        "colab_type": "code",
        "outputId": "3afd161b-385a-49c8-b91f-8fc9b59c4dc7",
        "colab": {
          "base_uri": "https://localhost:8080/",
          "height": 122
        }
      },
      "source": [
        "from google.colab import drive\n",
        "drive.mount('/content/gdrive')"
      ],
      "execution_count": 0,
      "outputs": [
        {
          "output_type": "stream",
          "text": [
            "Go to this URL in a browser: https://accounts.google.com/o/oauth2/auth?client_id=947318989803-6bn6qk8qdgf4n4g3pfee6491hc0brc4i.apps.googleusercontent.com&redirect_uri=urn%3aietf%3awg%3aoauth%3a2.0%3aoob&response_type=code&scope=email%20https%3a%2f%2fwww.googleapis.com%2fauth%2fdocs.test%20https%3a%2f%2fwww.googleapis.com%2fauth%2fdrive%20https%3a%2f%2fwww.googleapis.com%2fauth%2fdrive.photos.readonly%20https%3a%2f%2fwww.googleapis.com%2fauth%2fpeopleapi.readonly\n",
            "\n",
            "Enter your authorization code:\n",
            "··········\n",
            "Mounted at /content/gdrive\n"
          ],
          "name": "stdout"
        }
      ]
    },
    {
      "cell_type": "markdown",
      "metadata": {
        "id": "B0ahIJ0wrFik",
        "colab_type": "text"
      },
      "source": [
        "# Create the smaller `96x96` dataset"
      ]
    },
    {
      "cell_type": "code",
      "metadata": {
        "id": "6orgcFnzN_FZ",
        "colab_type": "code",
        "outputId": "238b1e56-534c-4809-a5be-c66bb1877c81",
        "colab": {
          "base_uri": "https://localhost:8080/",
          "height": 51
        }
      },
      "source": [
        "import os\n",
        "from pathlib import Path\n",
        "from zipfile import ZipFile\n",
        "import zipfile\n",
        "from PIL import Image\n",
        "import numpy as np\n",
        "import matplotlib.pyplot as plt\n",
        "import seaborn as sns\n",
        "import io\n",
        "import gc\n",
        "from tqdm.auto import tqdm\n",
        "sns.set()"
      ],
      "execution_count": 0,
      "outputs": [
        {
          "output_type": "stream",
          "text": [
            "/usr/local/lib/python3.6/dist-packages/statsmodels/tools/_testing.py:19: FutureWarning: pandas.util.testing is deprecated. Use the functions in the public API at pandas.testing instead.\n",
            "  import pandas.util.testing as tm\n"
          ],
          "name": "stderr"
        }
      ]
    },
    {
      "cell_type": "code",
      "metadata": {
        "id": "szwl2498p2wf",
        "colab_type": "code",
        "colab": {}
      },
      "source": [
        "dataset_path = Path('/content/gdrive/My Drive/ProjektDepth/data/')"
      ],
      "execution_count": 0,
      "outputs": []
    },
    {
      "cell_type": "code",
      "metadata": {
        "id": "Ga7iOmmaros2",
        "colab_type": "code",
        "outputId": "50867448-6003-4f90-a6a8-1f39ab11f8cb",
        "colab": {
          "base_uri": "https://localhost:8080/",
          "height": 153
        }
      },
      "source": [
        "os.listdir(dataset_path)"
      ],
      "execution_count": 0,
      "outputs": [
        {
          "output_type": "execute_result",
          "data": {
            "text/plain": [
              "['bg.zip',\n",
              " 'depth_fg_bg.zip',\n",
              " 'fg_bg_mask.zip',\n",
              " 'fg_bg.zip',\n",
              " 'bg_small.zip',\n",
              " 'fg_bg_small.zip',\n",
              " 'fg_bg_mask_small.zip',\n",
              " 'bg_192.zip']"
            ]
          },
          "metadata": {
            "tags": []
          },
          "execution_count": 4
        }
      ]
    },
    {
      "cell_type": "code",
      "metadata": {
        "id": "bza7ykiDOa3B",
        "colab_type": "code",
        "colab": {}
      },
      "source": [
        "bgzip = ZipFile(dataset_path / 'bg.zip', 'r')\n",
        "depth_fg_bgzip = ZipFile(dataset_path / 'depth_fg_bg.zip', 'r')\n",
        "fg_bg_maskzip = ZipFile(dataset_path / 'fg_bg_mask.zip', 'r')\n",
        "fg_bgzip = ZipFile(dataset_path / 'fg_bg.zip', 'r')"
      ],
      "execution_count": 0,
      "outputs": []
    },
    {
      "cell_type": "code",
      "metadata": {
        "id": "y0ephMmMr5y-",
        "colab_type": "code",
        "colab": {}
      },
      "source": [
        "all_files = [info.filename for info in fg_bgzip.infolist() if not info.is_dir()]"
      ],
      "execution_count": 0,
      "outputs": []
    },
    {
      "cell_type": "code",
      "metadata": {
        "id": "m1hE-HEyPavH",
        "colab_type": "code",
        "outputId": "cc4093ae-275c-4732-b808-4a19228db059",
        "colab": {
          "base_uri": "https://localhost:8080/",
          "height": 34
        }
      },
      "source": [
        "len(all_files)"
      ],
      "execution_count": 0,
      "outputs": [
        {
          "output_type": "execute_result",
          "data": {
            "text/plain": [
              "400000"
            ]
          },
          "metadata": {
            "tags": []
          },
          "execution_count": 10
        }
      ]
    },
    {
      "cell_type": "code",
      "metadata": {
        "id": "LSt8Xi2oPbsn",
        "colab_type": "code",
        "colab": {}
      },
      "source": [
        "imgdata = fg_bgzip.read(all_files[12333])\n",
        "img = Image.open(io.BytesIO(imgdata))"
      ],
      "execution_count": 0,
      "outputs": []
    },
    {
      "cell_type": "code",
      "metadata": {
        "id": "6GT0L5mHP3gM",
        "colab_type": "code",
        "colab": {}
      },
      "source": [
        "img.thumbnail((96, 96),Image.ANTIALIAS)"
      ],
      "execution_count": 0,
      "outputs": []
    },
    {
      "cell_type": "code",
      "metadata": {
        "id": "NIYX9vkUQEkg",
        "colab_type": "code",
        "outputId": "fabf8d21-16ab-4425-a997-14b64defb242",
        "colab": {
          "base_uri": "https://localhost:8080/",
          "height": 113
        }
      },
      "source": [
        "img"
      ],
      "execution_count": 0,
      "outputs": [
        {
          "output_type": "execute_result",
          "data": {
            "image/png": "[encoded data removed]",
            "text/plain": [
              "<PIL.JpegImagePlugin.JpegImageFile image mode=RGB size=96x96 at 0x7FAF86D624E0>"
            ]
          },
          "metadata": {
            "tags": []
          },
          "execution_count": 23
        }
      ]
    },
    {
      "cell_type": "code",
      "metadata": {
        "id": "sPXlCE6nQvSv",
        "colab_type": "code",
        "outputId": "bd1c2a57-4518-46bc-9d35-6a1b2109b9bd",
        "colab": {
          "base_uri": "https://localhost:8080/",
          "height": 180
        }
      },
      "source": [
        "del bgzip, depth_fg_bgzip, fg_bg_maskzip, fg_bgzip\n",
        "gc.collect()"
      ],
      "execution_count": 0,
      "outputs": [
        {
          "output_type": "error",
          "ename": "NameError",
          "evalue": "ignored",
          "traceback": [
            "\u001b[0;31m---------------------------------------------------------------------------\u001b[0m",
            "\u001b[0;31mNameError\u001b[0m                                 Traceback (most recent call last)",
            "\u001b[0;32m<ipython-input-29-e5bac3c89f4c>\u001b[0m in \u001b[0;36m<module>\u001b[0;34m()\u001b[0m\n\u001b[0;32m----> 1\u001b[0;31m \u001b[0;32mdel\u001b[0m \u001b[0mbgzip\u001b[0m\u001b[0;34m,\u001b[0m \u001b[0mdepth_fg_bgzip\u001b[0m\u001b[0;34m,\u001b[0m \u001b[0mfg_bg_maskzip\u001b[0m\u001b[0;34m,\u001b[0m \u001b[0mfg_bgzip\u001b[0m\u001b[0;34m\u001b[0m\u001b[0;34m\u001b[0m\u001b[0m\n\u001b[0m\u001b[1;32m      2\u001b[0m \u001b[0mgc\u001b[0m\u001b[0;34m.\u001b[0m\u001b[0mcollect\u001b[0m\u001b[0;34m(\u001b[0m\u001b[0;34m)\u001b[0m\u001b[0;34m\u001b[0m\u001b[0;34m\u001b[0m\u001b[0m\n",
            "\u001b[0;31mNameError\u001b[0m: name 'depth_fg_bgzip' is not defined"
          ]
        }
      ]
    },
    {
      "cell_type": "markdown",
      "metadata": {
        "id": "vXA02IH1Qejm",
        "colab_type": "text"
      },
      "source": [
        "Process BG Images"
      ]
    },
    {
      "cell_type": "code",
      "metadata": {
        "id": "MRoIjnIcQaDM",
        "colab_type": "code",
        "colab": {}
      },
      "source": [
        "bgzip = ZipFile(dataset_path / 'bg.zip', 'r')\n",
        "bg_files = [info.filename for info in bgzip.infolist() if not info.is_dir()]"
      ],
      "execution_count": 0,
      "outputs": []
    },
    {
      "cell_type": "code",
      "metadata": {
        "id": "5FshSdJzQ7EY",
        "colab_type": "code",
        "outputId": "5bb9513d-84c0-466c-a9ce-84d8b8eaa18f",
        "colab": {
          "base_uri": "https://localhost:8080/",
          "height": 34
        }
      },
      "source": [
        "len(bg_files)"
      ],
      "execution_count": 0,
      "outputs": [
        {
          "output_type": "execute_result",
          "data": {
            "text/plain": [
              "100"
            ]
          },
          "metadata": {
            "tags": []
          },
          "execution_count": 27
        }
      ]
    },
    {
      "cell_type": "code",
      "metadata": {
        "id": "ocqv2nhIQ8W2",
        "colab_type": "code",
        "colab": {}
      },
      "source": [
        "out_zip = ZipFile('bg_small.zip', mode='w', compression=zipfile.ZIP_STORED)\n",
        "for bg_file in tqdm(bg_files):\n",
        "\n",
        "    imgdata = bgzip.read(bg_file)\n",
        "    img = Image.open(io.BytesIO(imgdata))\n",
        "    img.thumbnail((96, 96), Image.ANTIALIAS)\n",
        "\n",
        "    img.save('temp.jpg', optimize=True, quality=30)\n",
        "    out_zip.write('temp.jpg', bg_file)\n",
        "\n",
        "out_zip.close()"
      ],
      "execution_count": 0,
      "outputs": []
    },
    {
      "cell_type": "code",
      "metadata": {
        "id": "m18nxMmOXGY9",
        "colab_type": "code",
        "colab": {}
      },
      "source": [
        "! cp bg_small.zip /content/gdrive/My\\ Drive/ProjektDepth/data/"
      ],
      "execution_count": 0,
      "outputs": []
    },
    {
      "cell_type": "markdown",
      "metadata": {
        "id": "eQFMGHOiSlEo",
        "colab_type": "text"
      },
      "source": [
        "Process FG_BG Images"
      ]
    },
    {
      "cell_type": "code",
      "metadata": {
        "colab_type": "code",
        "id": "rHX8n78nSp2Q",
        "colab": {}
      },
      "source": [
        "fg_bgzip = ZipFile(dataset_path / 'fg_bg.zip', 'r')\n",
        "fg_bg_files = [info.filename for info in fg_bgzip.infolist() if not info.is_dir()]"
      ],
      "execution_count": 0,
      "outputs": []
    },
    {
      "cell_type": "code",
      "metadata": {
        "colab_type": "code",
        "outputId": "10302694-c252-4753-f262-723eeec0121c",
        "id": "14FLEfO3Sp2W",
        "colab": {
          "base_uri": "https://localhost:8080/",
          "height": 34
        }
      },
      "source": [
        "len(fg_bg_files)"
      ],
      "execution_count": 0,
      "outputs": [
        {
          "output_type": "execute_result",
          "data": {
            "text/plain": [
              "400000"
            ]
          },
          "metadata": {
            "tags": []
          },
          "execution_count": 31
        }
      ]
    },
    {
      "cell_type": "code",
      "metadata": {
        "colab_type": "code",
        "id": "IaexX_uMSp2a",
        "outputId": "c19d5f35-9d1c-4148-8626-ecc87e099405",
        "colab": {
          "base_uri": "https://localhost:8080/",
          "height": 66,
          "referenced_widgets": [
            "73c2de9586cb4643a005ae4577df151f",
            "fedb02ea75be46cfb15235e243a80208",
            "04576068dbfd483cbce17fa36f30a24d",
            "87e0b721bf8f46689e8bedc8d52a2fef",
            "37d2f1ccfb524df5ac6531bc3a3304d0",
            "503aeb68599e42fb933e209a2398ee03",
            "883dcf27641c423b92d6f9abbf8debca",
            "65262ef60c1844dca2b48975e449303a"
          ]
        }
      },
      "source": [
        "out_zip = ZipFile('fg_bg_small.zip', mode='w', compression=zipfile.ZIP_STORED)\n",
        "for img_file in tqdm(fg_bg_files):\n",
        "\n",
        "    imgdata = fg_bgzip.read(img_file)\n",
        "    img = Image.open(io.BytesIO(imgdata))\n",
        "    img.thumbnail((96, 96), Image.ANTIALIAS)\n",
        "\n",
        "    img.save('temp.jpg', optimize=True, quality=30)\n",
        "    out_zip.write('temp.jpg', img_file)\n",
        "    \n",
        "out_zip.close()"
      ],
      "execution_count": 0,
      "outputs": [
        {
          "output_type": "display_data",
          "data": {
            "application/vnd.jupyter.widget-view+json": {
              "model_id": "73c2de9586cb4643a005ae4577df151f",
              "version_minor": 0,
              "version_major": 2
            },
            "text/plain": [
              "HBox(children=(FloatProgress(value=0.0, max=400000.0), HTML(value='')))"
            ]
          },
          "metadata": {
            "tags": []
          }
        },
        {
          "output_type": "stream",
          "text": [
            "\n"
          ],
          "name": "stdout"
        }
      ]
    },
    {
      "cell_type": "code",
      "metadata": {
        "id": "BHjrrMDbXOME",
        "colab_type": "code",
        "colab": {}
      },
      "source": [
        "! cp fg_bg_small.zip /content/gdrive/My\\ Drive/ProjektDepth/data/"
      ],
      "execution_count": 0,
      "outputs": []
    },
    {
      "cell_type": "markdown",
      "metadata": {
        "id": "MzLjZdZ8TrGO",
        "colab_type": "text"
      },
      "source": [
        "Process FG_BG_MASK Images"
      ]
    },
    {
      "cell_type": "code",
      "metadata": {
        "colab_type": "code",
        "id": "hJF4f_GXTvBy",
        "colab": {}
      },
      "source": [
        "fg_bg_maskzip = ZipFile(dataset_path / 'fg_bg_mask.zip', 'r')\n",
        "fg_bg_maskfiles = [info.filename for info in fg_bg_maskzip.infolist() if not info.is_dir()]"
      ],
      "execution_count": 0,
      "outputs": []
    },
    {
      "cell_type": "code",
      "metadata": {
        "colab_type": "code",
        "outputId": "a3e1b3c3-8cf0-4bf8-a9c2-0ad5808c3083",
        "id": "5KTEfwYUTvB5",
        "colab": {
          "base_uri": "https://localhost:8080/",
          "height": 34
        }
      },
      "source": [
        "len(fg_bg_maskfiles)"
      ],
      "execution_count": 0,
      "outputs": [
        {
          "output_type": "execute_result",
          "data": {
            "text/plain": [
              "400000"
            ]
          },
          "metadata": {
            "tags": []
          },
          "execution_count": 38
        }
      ]
    },
    {
      "cell_type": "code",
      "metadata": {
        "colab_type": "code",
        "outputId": "433affb4-eada-472c-b724-55ba7e226ae4",
        "id": "uVPh60TNTvB8",
        "colab": {
          "base_uri": "https://localhost:8080/",
          "height": 66,
          "referenced_widgets": [
            "7bea321a58c2421f8cc6b862aef5bbaf",
            "e7344c4a9db64642847bc69481a65dae",
            "ae2054a0c44e4367aba057550adc1cff",
            "3ea602a358634f44b97a03946089ade5",
            "891f126d8d044054801cfcab1232efc4",
            "507fbfd58019440999740124b2b93eb4",
            "0ce62a9fb8c4491382a12c0c75971653",
            "2babddd6b555496bac82ee7156d99dd5"
          ]
        }
      },
      "source": [
        "out_zip = ZipFile('fg_bg_mask_small.zip', mode='w', compression=zipfile.ZIP_STORED)\n",
        "for img_file in tqdm(fg_bg_maskfiles):\n",
        "\n",
        "    imgdata = fg_bg_maskzip.read(img_file)\n",
        "    img = Image.open(io.BytesIO(imgdata))\n",
        "    img.thumbnail((96, 96), Image.ANTIALIAS)\n",
        "\n",
        "    img.save('temp.jpg', optimize=True, quality=30)\n",
        "    out_zip.write('temp.jpg', img_file)\n",
        "    \n",
        "out_zip.close()"
      ],
      "execution_count": 0,
      "outputs": [
        {
          "output_type": "display_data",
          "data": {
            "application/vnd.jupyter.widget-view+json": {
              "model_id": "7bea321a58c2421f8cc6b862aef5bbaf",
              "version_minor": 0,
              "version_major": 2
            },
            "text/plain": [
              "HBox(children=(FloatProgress(value=0.0, max=400000.0), HTML(value='')))"
            ]
          },
          "metadata": {
            "tags": []
          }
        },
        {
          "output_type": "stream",
          "text": [
            "\n"
          ],
          "name": "stdout"
        }
      ]
    },
    {
      "cell_type": "code",
      "metadata": {
        "id": "D9dKbRbsZ28e",
        "colab_type": "code",
        "colab": {}
      },
      "source": [
        "! cp fg_bg_mask_small.zip /content/gdrive/My\\ Drive/ProjektDepth/data/"
      ],
      "execution_count": 0,
      "outputs": []
    },
    {
      "cell_type": "markdown",
      "metadata": {
        "colab_type": "text",
        "id": "e6iXHcbhUNDy"
      },
      "source": [
        "Process DEPTH_FG_BG Images"
      ]
    },
    {
      "cell_type": "code",
      "metadata": {
        "id": "MyjON-Lc8qjH",
        "colab_type": "code",
        "colab": {}
      },
      "source": [
        "! cp /content/gdrive/My\\ Drive/DepthProject/depth_dataset_zipped/depth_fg_bg.zip ./"
      ],
      "execution_count": 0,
      "outputs": []
    },
    {
      "cell_type": "code",
      "metadata": {
        "id": "-lBhJLnE8uXP",
        "colab_type": "code",
        "colab": {}
      },
      "source": [
        "dataset_path = Path('./')"
      ],
      "execution_count": 0,
      "outputs": []
    },
    {
      "cell_type": "code",
      "metadata": {
        "colab_type": "code",
        "id": "LxNFVHFrUND5",
        "colab": {}
      },
      "source": [
        "depth_fg_bgzip = ZipFile(dataset_path / 'depth_fg_bg.zip', 'r')\n",
        "depth_fg_bgfiles = [info.filename for info in depth_fg_bgzip.infolist() if not info.is_dir()]"
      ],
      "execution_count": 0,
      "outputs": []
    },
    {
      "cell_type": "code",
      "metadata": {
        "colab_type": "code",
        "outputId": "0e4ec0ea-7947-430b-a62e-40a73c168fb9",
        "id": "AmENXCLOUND9",
        "colab": {
          "base_uri": "https://localhost:8080/",
          "height": 34
        }
      },
      "source": [
        "len(depth_fg_bgfiles)"
      ],
      "execution_count": 0,
      "outputs": [
        {
          "output_type": "execute_result",
          "data": {
            "text/plain": [
              "400000"
            ]
          },
          "metadata": {
            "tags": []
          },
          "execution_count": 6
        }
      ]
    },
    {
      "cell_type": "code",
      "metadata": {
        "colab_type": "code",
        "outputId": "8d3509c7-7473-49fd-f801-b7ea7c8d599b",
        "id": "Pc8ofYToUNEB",
        "colab": {
          "base_uri": "https://localhost:8080/",
          "height": 66,
          "referenced_widgets": [
            "73395c3ec27b43d49cc64ea5dd65514e",
            "60905b02790e443fa9e565e4980dc221",
            "b9a2884327534644bced5058761a5fce",
            "557e1fd082694f209d577a06d55fc8c3",
            "39da14d9efca4f17809e8114efedbb19",
            "5a13b3656f5e4de8839d49ed5bcdfe3b",
            "242a249f1c2946a98eded59d8e8fb43c",
            "a7c9d482dd7b448ab7559c969a501db4"
          ]
        }
      },
      "source": [
        "out_zip = ZipFile('depth_fg_bg_small.zip', mode='w', compression=zipfile.ZIP_STORED)\n",
        "for img_file in tqdm(depth_fg_bgfiles):\n",
        "\n",
        "    imgdata = depth_fg_bgzip.read(img_file)\n",
        "    img = Image.open(io.BytesIO(imgdata)).convert('L')\n",
        "    img.thumbnail((96, 96), Image.ANTIALIAS)\n",
        "\n",
        "    img.save('temp.png')\n",
        "    out_zip.write('temp.png', img_file)\n",
        "    \n",
        "out_zip.close()"
      ],
      "execution_count": 0,
      "outputs": [
        {
          "output_type": "display_data",
          "data": {
            "application/vnd.jupyter.widget-view+json": {
              "model_id": "73395c3ec27b43d49cc64ea5dd65514e",
              "version_minor": 0,
              "version_major": 2
            },
            "text/plain": [
              "HBox(children=(FloatProgress(value=0.0, max=400000.0), HTML(value='')))"
            ]
          },
          "metadata": {
            "tags": []
          }
        },
        {
          "output_type": "stream",
          "text": [
            "\n"
          ],
          "name": "stdout"
        }
      ]
    },
    {
      "cell_type": "code",
      "metadata": {
        "id": "2Dkvy4RER8Vt",
        "colab_type": "code",
        "colab": {}
      },
      "source": [
        "! cp depth_fg_bg_small.zip /content/gdrive/My\\ Drive/DepthProject/depth_dataset_zipped/"
      ],
      "execution_count": 0,
      "outputs": []
    },
    {
      "cell_type": "code",
      "metadata": {
        "id": "KzJaWr1FDi24",
        "colab_type": "code",
        "colab": {}
      },
      "source": [
        ""
      ],
      "execution_count": 0,
      "outputs": []
    }
  ]
}